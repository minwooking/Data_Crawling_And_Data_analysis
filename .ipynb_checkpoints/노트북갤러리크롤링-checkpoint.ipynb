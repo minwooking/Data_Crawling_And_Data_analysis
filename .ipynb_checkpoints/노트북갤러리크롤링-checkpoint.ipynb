{
 "cells": [
  {
   "cell_type": "code",
   "execution_count": 1,
   "id": "cc56a9fc-1854-4344-8e86-e671a6733016",
   "metadata": {
    "execution": {
     "iopub.execute_input": "2022-04-02T12:04:03.791302Z",
     "iopub.status.busy": "2022-04-02T12:04:03.791099Z",
     "iopub.status.idle": "2022-04-02T12:04:04.324363Z",
     "shell.execute_reply": "2022-04-02T12:04:04.323655Z",
     "shell.execute_reply.started": "2022-04-02T12:04:03.791253Z"
    },
    "tags": []
   },
   "outputs": [],
   "source": [
    "import  numpy as np\n",
    "import  pandas as pd\n",
    "import  matplotlib.pyplot as plt\n",
    "import  os\n",
    "import  copy\n",
    "from  tqdm import  tqdm\n",
    "from bs4 import BeautifulSoup\n",
    "from  urllib.parse import quote\n",
    "import urllib.request\n",
    "import requests\n",
    "import urllib.parse\n",
    "from  urllib import parse\n",
    "import  ssl\n",
    "from  selenium import webdriver\n",
    "from  webdriver_manager.chrome import ChromeDriverManager\n",
    "context = ssl._create_unverified_context()"
   ]
  },
  {
   "cell_type": "code",
   "execution_count": 8,
   "id": "e38baa07-5929-4d19-9f5d-690ac01bc452",
   "metadata": {
    "execution": {
     "iopub.execute_input": "2022-04-02T08:35:04.270514Z",
     "iopub.status.busy": "2022-04-02T08:35:04.270325Z",
     "iopub.status.idle": "2022-04-02T08:35:08.587712Z",
     "shell.execute_reply": "2022-04-02T08:35:08.587063Z",
     "shell.execute_reply.started": "2022-04-02T08:35:04.270473Z"
    },
    "tags": []
   },
   "outputs": [
    {
     "name": "stderr",
     "output_type": "stream",
     "text": [
      "\n",
      "\n",
      "====== WebDriver manager ======\n",
      "Current google-chrome version is 100.0.4896\n",
      "Get LATEST chromedriver version for 100.0.4896 google-chrome\n",
      "There is no [linux64] chromedriver for browser 100.0.4896 in cache\n",
      "Trying to download new driver from https://chromedriver.storage.googleapis.com/100.0.4896.60/chromedriver_linux64.zip\n",
      "Driver has been saved in cache [/home/miwoos/.wdm/drivers/chromedriver/linux64/100.0.4896.60]\n",
      "/tmp/ipykernel_48548/1503906442.py:1: DeprecationWarning: executable_path has been deprecated, please pass in a Service object\n",
      "  driver = webdriver.Chrome(ChromeDriverManager().install())\n"
     ]
    }
   ],
   "source": [
    "driver = webdriver.Chrome(ChromeDriverManager().install())"
   ]
  },
  {
   "cell_type": "code",
   "execution_count": 32,
   "id": "f9e3f507-cf92-4a8a-9e44-7b38bcf13697",
   "metadata": {
    "execution": {
     "iopub.execute_input": "2022-04-02T12:09:55.013248Z",
     "iopub.status.busy": "2022-04-02T12:09:55.012747Z",
     "iopub.status.idle": "2022-04-02T12:09:55.020845Z",
     "shell.execute_reply": "2022-04-02T12:09:55.019308Z",
     "shell.execute_reply.started": "2022-04-02T12:09:55.013177Z"
    }
   },
   "outputs": [],
   "source": [
    "headers = {\"User-Agent\":\"Mozilla/5.0 (Windows NT 10.0; Win64; x64) AppleWebKit/537.36 (KHTML, like Gecko) Chrome/90.0.4430.93 Safari/537.36\"}"
   ]
  },
  {
   "cell_type": "code",
   "execution_count": 2,
   "id": "0260ef46-91e8-4569-bd60-e6bd4a3b521c",
   "metadata": {
    "execution": {
     "iopub.execute_input": "2022-04-02T12:04:16.607675Z",
     "iopub.status.busy": "2022-04-02T12:04:16.607334Z",
     "iopub.status.idle": "2022-04-02T12:04:16.614274Z",
     "shell.execute_reply": "2022-04-02T12:04:16.613725Z",
     "shell.execute_reply.started": "2022-04-02T12:04:16.607649Z"
    },
    "tags": []
   },
   "outputs": [],
   "source": [
    "def delete_iframe(url):\n",
    "    headers = {\"User-Agent\":\"Mozilla/5.0 (Windows NT 10.0; Win64; x64) AppleWebKit/537.36 (KHTML, like Gecko) Chrome/90.0.4430.93 Safari/537.36\"}\n",
    "    res = requests.get(url, headers=headers)\n",
    "    res.raise_for_status() # 문제시 프로그램 종료\n",
    "    soup = BeautifulSoup(res.text, \"lxml\") \n",
    "\n",
    "#     src_url = \"https://gall.dcinside.com/\" + soup.iframe[\"src\"]\n",
    "    \n",
    "    return soup"
   ]
  },
  {
   "cell_type": "code",
   "execution_count": 3,
   "id": "092b5e9a-d4d2-4401-892d-e84943cbac07",
   "metadata": {
    "execution": {
     "iopub.execute_input": "2022-04-02T12:04:18.367383Z",
     "iopub.status.busy": "2022-04-02T12:04:18.366866Z",
     "iopub.status.idle": "2022-04-02T12:04:18.373714Z",
     "shell.execute_reply": "2022-04-02T12:04:18.373050Z",
     "shell.execute_reply.started": "2022-04-02T12:04:18.367315Z"
    },
    "tags": []
   },
   "outputs": [],
   "source": [
    "urls = []\n",
    "number = range(1,100)\n",
    "for num in number:\n",
    "    urls.append(f'https://gall.dcinside.com/mgallery/board/lists/?id=laptop&page={num}')"
   ]
  },
  {
   "cell_type": "code",
   "execution_count": 4,
   "id": "11414b42-2d30-4c37-8d22-1b2986d4015e",
   "metadata": {
    "execution": {
     "iopub.execute_input": "2022-04-02T12:04:19.409699Z",
     "iopub.status.busy": "2022-04-02T12:04:19.409217Z",
     "iopub.status.idle": "2022-04-02T12:04:19.833506Z",
     "shell.execute_reply": "2022-04-02T12:04:19.832596Z",
     "shell.execute_reply.started": "2022-04-02T12:04:19.409620Z"
    },
    "tags": []
   },
   "outputs": [],
   "source": [
    "newnrl = delete_iframe(urls[0])"
   ]
  },
  {
   "cell_type": "code",
   "execution_count": 29,
   "id": "cb38f6cb-43c1-4a71-878c-8d5c712d8775",
   "metadata": {
    "execution": {
     "iopub.execute_input": "2022-04-02T12:07:25.789647Z",
     "iopub.status.busy": "2022-04-02T12:07:25.789008Z",
     "iopub.status.idle": "2022-04-02T12:07:25.805547Z",
     "shell.execute_reply": "2022-04-02T12:07:25.804703Z",
     "shell.execute_reply.started": "2022-04-02T12:07:25.789568Z"
    },
    "tags": []
   },
   "outputs": [],
   "source": [
    "urll = newnrl.find_all('td',class_='gall_tit ub-word')[2].find('a')['href']"
   ]
  },
  {
   "cell_type": "code",
   "execution_count": 31,
   "id": "1539d9a0-768d-4174-9a66-e908c2aed08a",
   "metadata": {
    "execution": {
     "iopub.execute_input": "2022-04-02T12:07:50.435903Z",
     "iopub.status.busy": "2022-04-02T12:07:50.435482Z",
     "iopub.status.idle": "2022-04-02T12:07:50.443564Z",
     "shell.execute_reply": "2022-04-02T12:07:50.443164Z",
     "shell.execute_reply.started": "2022-04-02T12:07:50.435839Z"
    },
    "tags": []
   },
   "outputs": [
    {
     "data": {
      "text/plain": [
       "'https://gall.dcinside.com//mgallery/board/view/?id=laptop&no=1321596&page=1'"
      ]
     },
     "execution_count": 31,
     "metadata": {},
     "output_type": "execute_result"
    }
   ],
   "source": [
    "f'https://gall.dcinside.com/{urll}'"
   ]
  },
  {
   "cell_type": "code",
   "execution_count": 33,
   "id": "c1dfb386-10f0-4356-97dd-ce4586959316",
   "metadata": {
    "execution": {
     "iopub.execute_input": "2022-04-02T12:10:22.451902Z",
     "iopub.status.busy": "2022-04-02T12:10:22.451521Z",
     "iopub.status.idle": "2022-04-02T12:10:22.754621Z",
     "shell.execute_reply": "2022-04-02T12:10:22.753780Z",
     "shell.execute_reply.started": "2022-04-02T12:10:22.451866Z"
    }
   },
   "outputs": [],
   "source": [
    "res = requests.get(f'https://gall.dcinside.com/{urll}', headers=headers)\n",
    "res.raise_for_status() # 문제시 프로그램 종료\n",
    "soup = BeautifulSoup(res.text, \"lxml\") \n"
   ]
  },
  {
   "cell_type": "code",
   "execution_count": 70,
   "id": "b224cc82-513d-4ee4-be26-7fc0696bdd35",
   "metadata": {
    "execution": {
     "iopub.execute_input": "2022-04-02T12:15:56.623996Z",
     "iopub.status.busy": "2022-04-02T12:15:56.623577Z",
     "iopub.status.idle": "2022-04-02T12:15:56.641469Z",
     "shell.execute_reply": "2022-04-02T12:15:56.640356Z",
     "shell.execute_reply.started": "2022-04-02T12:15:56.623932Z"
    },
    "tags": []
   },
   "outputs": [
    {
     "data": {
      "text/plain": [
       "[<div align=\"justify\" style=\"text-align: justify; \"><br/></div>,\n",
       " <div align=\"justify\" style=\"text-align: justify; \">[게임메카=김미희 기자] 끝이 안 보이는 그래픽카드 대란으로, 기존에 조명받지 못했던 게이밍 노트북이 대체품으로 떠올랐다. 기존에 게이밍 노트북은 데스크탑보다 성능, 가격 경쟁력, 업그레이드 등에서 다소 밀리는 경향을 보였다. 그러나 게이밍 PC를 맞출 때 가장 중요한 고성능 그래픽카드를 구하는 것이 하늘의 별따기가 됐다. 물량 자체가 턱없이 부족하고, 이로 인해 소매가가 정가를 아득히 뛰어넘었다. 이에 데스크탑 업그레이드를 생각했던 게이머 중 일부는 가격이 부풀려진 그래픽카드를 사느니 쓸만한 게이밍 노트북을 마련하겠다는 방향으로 선회하기도 했다.</div>,\n",
       " <div align=\"justify\" style=\"text-align: justify; \"><br/></div>,\n",
       " <div align=\"justify\" style=\"text-align: justify; \">미국 최대 가전제품 전시회로 손꼽히는 CES에서 게이밍 노트북 다수가 경쟁적으로 등장한 배경도 급증한 수요가 영향을 준 것으로 보인다. 인텔, 엔비디아, AMD는 경쟁사보다 고성능을 보유했음을 강조한 게이밍 노트북용 CPU, GPU 등을 앞다퉈 선보였고, 앞서 소개한 세 회사가 발표한 제품이 탑재되는 노트북 다수도 베일을 벗었다. 그렇다면 올해 CES에서 공개된 제품 중 주목할만한 게이밍 노트북은 어떤 것이 있을까?</div>,\n",
       " <div align=\"justify\" style=\"text-align: justify; \"><b>인텔∙AMD∙엔비디아, 데스크탑에서 노트북까지 확장된 3자구도</b></div>,\n",
       " <div align=\"justify\" style=\"text-align: justify; \"><br/></div>,\n",
       " <div align=\"justify\" style=\"text-align: justify; \">AMD는 노트북 전용 프로세서인 라이젠 6000 시리즈 20종과 노트북용 GPU 라데온 RX 6000 시리즈 신제품을 선보였다. 먼저 라이젠 6000은 6nm 기반 젠 3 코어 아키텍쳐와 RDNA 2 기반 내장형 그래픽카드를 토대로 이전 모델보다 단일 코어에서 최대 11%, 멀티 코어는 최대 28% 빨라진다. 이어서 라데온 RX 6000S 시리즈는 경량화된 슬림 노트북을 겨냥한 제품으로, 얇은 노트북에서도 최적화된 전력 효율과 높은 성능을 바탕으로 안정적인 게임 플레이를 지원한다고 소개했다. AMD는 연내 자사 CPU, GPU를 탑재한 노트북 200종이 시장에 출시될 예정이라 밝혔다.</div>,\n",
       " <div align=\"justify\" style=\"text-align: justify; \">에이서 게이밍 노트북 신제품 니트로 5는 인텔과 AMD 프로세서 두 가지 버전이 소개됐다. 인텔은 12세대 인텔 코어 i7 프로세서가, AMD 버전에는 라이젠 6000시리즈가 탑재된다. 모두 인텔과 AMD의 최신형 프로세서가 장착되며, RAM은 32GB다. 인텔은 썬더볼드 4, AMD는 USB 4.0을 지원해 비슷한 수준의 연결성을 지녔다고 평가됐다. GPU는 RTX 30 시리즈가 장착되며, 특히 AMD 버전에는 RTX 3070 Ti가 탑재된다. 이 외에도 3D 오디오가 지원되며, 게임 중 많이 쓰는 WASD 키와 방향키를 강조해주는 RGB 키보드도 특징으로 앞세웠다.</div>,\n",
       " <div align=\"justify\" style=\"text-align: justify; \"><br/></div>,\n",
       " <div align=\"justify\" style=\"text-align: justify; \"><br/></div>]"
      ]
     },
     "execution_count": 70,
     "metadata": {},
     "output_type": "execute_result"
    }
   ],
   "source": [
    "soup.find_all('div',style='text-align: justify; ').f"
   ]
  },
  {
   "cell_type": "code",
   "execution_count": null,
   "id": "52a7802c-b237-42f8-9796-c586e0ebbc38",
   "metadata": {},
   "outputs": [],
   "source": []
  },
  {
   "cell_type": "code",
   "execution_count": null,
   "id": "02e1b1a2-52d4-43d2-9ff1-60b1a280feb6",
   "metadata": {},
   "outputs": [],
   "source": []
  }
 ],
 "metadata": {
  "kernelspec": {
   "display_name": "Python 3 (ipykernel)",
   "language": "python",
   "name": "python3"
  },
  "language_info": {
   "codemirror_mode": {
    "name": "ipython",
    "version": 3
   },
   "file_extension": ".py",
   "mimetype": "text/x-python",
   "name": "python",
   "nbconvert_exporter": "python",
   "pygments_lexer": "ipython3",
   "version": "3.9.7"
  }
 },
 "nbformat": 4,
 "nbformat_minor": 5
}
