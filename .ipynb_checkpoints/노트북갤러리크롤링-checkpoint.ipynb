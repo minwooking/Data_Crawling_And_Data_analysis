{
 "cells": [
  {
   "cell_type": "markdown",
   "id": "3028ec34-106d-46c1-96e9-c522480338cc",
   "metadata": {},
   "source": [
    "# 노트북 갤러리 감성 파악 "
   ]
  },
  {
   "cell_type": "markdown",
   "id": "76a5a7a9-c2b6-4ed5-8490-809cbe72b5d5",
   "metadata": {},
   "source": [
    "## Use lib"
   ]
  },
  {
   "cell_type": "code",
   "execution_count": 42,
   "id": "cc56a9fc-1854-4344-8e86-e671a6733016",
   "metadata": {
    "execution": {
     "iopub.execute_input": "2022-04-02T12:24:44.140346Z",
     "iopub.status.busy": "2022-04-02T12:24:44.139753Z",
     "iopub.status.idle": "2022-04-02T12:24:44.150494Z",
     "shell.execute_reply": "2022-04-02T12:24:44.149523Z",
     "shell.execute_reply.started": "2022-04-02T12:24:44.140273Z"
    },
    "tags": []
   },
   "outputs": [],
   "source": [
    "import  numpy as np\n",
    "import  pandas as pd\n",
    "import  matplotlib.pyplot as plt\n",
    "import  os\n",
    "import  copy\n",
    "from  tqdm import  tqdm\n",
    "from bs4 import BeautifulSoup\n",
    "from  urllib.parse import quote\n",
    "import urllib.request\n",
    "import requests\n",
    "import urllib.parse\n",
    "from  urllib import parse\n",
    "import  ssl\n",
    "from  selenium import webdriver\n",
    "from  webdriver_manager.chrome import ChromeDriverManager\n",
    "context = ssl._create_unverified_context()"
   ]
  },
  {
   "cell_type": "markdown",
   "id": "54061594-741c-472f-92ae-1c7ded2ed5e9",
   "metadata": {},
   "source": [
    "## 함수 및 정의 "
   ]
  },
  {
   "cell_type": "code",
   "execution_count": 8,
   "id": "e38baa07-5929-4d19-9f5d-690ac01bc452",
   "metadata": {
    "execution": {
     "iopub.execute_input": "2022-04-02T08:35:04.270514Z",
     "iopub.status.busy": "2022-04-02T08:35:04.270325Z",
     "iopub.status.idle": "2022-04-02T08:35:08.587712Z",
     "shell.execute_reply": "2022-04-02T08:35:08.587063Z",
     "shell.execute_reply.started": "2022-04-02T08:35:04.270473Z"
    },
    "tags": []
   },
   "outputs": [
    {
     "name": "stderr",
     "output_type": "stream",
     "text": [
      "\n",
      "\n",
      "====== WebDriver manager ======\n",
      "Current google-chrome version is 100.0.4896\n",
      "Get LATEST chromedriver version for 100.0.4896 google-chrome\n",
      "There is no [linux64] chromedriver for browser 100.0.4896 in cache\n",
      "Trying to download new driver from https://chromedriver.storage.googleapis.com/100.0.4896.60/chromedriver_linux64.zip\n",
      "Driver has been saved in cache [/home/miwoos/.wdm/drivers/chromedriver/linux64/100.0.4896.60]\n",
      "/tmp/ipykernel_48548/1503906442.py:1: DeprecationWarning: executable_path has been deprecated, please pass in a Service object\n",
      "  driver = webdriver.Chrome(ChromeDriverManager().install())\n"
     ]
    }
   ],
   "source": [
    "driver = webdriver.Chrome(ChromeDriverManager().install())"
   ]
  },
  {
   "cell_type": "code",
   "execution_count": 43,
   "id": "f9e3f507-cf92-4a8a-9e44-7b38bcf13697",
   "metadata": {
    "execution": {
     "iopub.execute_input": "2022-04-02T12:24:45.594661Z",
     "iopub.status.busy": "2022-04-02T12:24:45.594414Z",
     "iopub.status.idle": "2022-04-02T12:24:45.598745Z",
     "shell.execute_reply": "2022-04-02T12:24:45.598110Z",
     "shell.execute_reply.started": "2022-04-02T12:24:45.594609Z"
    },
    "tags": []
   },
   "outputs": [],
   "source": [
    "headers = {\"User-Agent\":\"Mozilla/5.0 (Windows NT 10.0; Win64; x64) AppleWebKit/537.36 (KHTML, like Gecko) Chrome/90.0.4430.93 Safari/537.36\"}"
   ]
  },
  {
   "cell_type": "code",
   "execution_count": 44,
   "id": "0260ef46-91e8-4569-bd60-e6bd4a3b521c",
   "metadata": {
    "execution": {
     "iopub.execute_input": "2022-04-02T12:24:46.601814Z",
     "iopub.status.busy": "2022-04-02T12:24:46.601411Z",
     "iopub.status.idle": "2022-04-02T12:24:46.606414Z",
     "shell.execute_reply": "2022-04-02T12:24:46.605370Z",
     "shell.execute_reply.started": "2022-04-02T12:24:46.601724Z"
    },
    "tags": []
   },
   "outputs": [],
   "source": [
    "def delete_iframe(url):\n",
    "    headers = {\"User-Agent\":\"Mozilla/5.0 (Windows NT 10.0; Win64; x64) AppleWebKit/537.36 (KHTML, like Gecko) Chrome/90.0.4430.93 Safari/537.36\"}\n",
    "    res = requests.get(url, headers=headers)\n",
    "    res.raise_for_status() # 문제시 프로그램 종료\n",
    "    soup = BeautifulSoup(res.text, \"lxml\") \n",
    "\n",
    "#     src_url = \"https://gall.dcinside.com/\" + soup.iframe[\"src\"]\n",
    "    \n",
    "    return soup"
   ]
  },
  {
   "cell_type": "markdown",
   "id": "b22d17a8-4e4d-4975-9dc4-07f8ae0fa303",
   "metadata": {},
   "source": [
    "## 게시글 링크 얻기"
   ]
  },
  {
   "cell_type": "code",
   "execution_count": 46,
   "id": "092b5e9a-d4d2-4401-892d-e84943cbac07",
   "metadata": {
    "execution": {
     "iopub.execute_input": "2022-04-02T12:25:01.070337Z",
     "iopub.status.busy": "2022-04-02T12:25:01.069906Z",
     "iopub.status.idle": "2022-04-02T12:25:01.078166Z",
     "shell.execute_reply": "2022-04-02T12:25:01.076906Z",
     "shell.execute_reply.started": "2022-04-02T12:25:01.070257Z"
    },
    "tags": []
   },
   "outputs": [],
   "source": [
    "urlss = []\n",
    "number = range(1,100)\n",
    "for num in number:\n",
    "    urlss.append(f'https://gall.dcinside.com/mgallery/board/lists/?id=laptop&list_num=100&sort_type=N&search_head=&page={num}')"
   ]
  },
  {
   "cell_type": "code",
   "execution_count": 47,
   "id": "11414b42-2d30-4c37-8d22-1b2986d4015e",
   "metadata": {
    "execution": {
     "iopub.execute_input": "2022-04-02T12:25:05.631304Z",
     "iopub.status.busy": "2022-04-02T12:25:05.630666Z",
     "iopub.status.idle": "2022-04-02T12:25:06.161515Z",
     "shell.execute_reply": "2022-04-02T12:25:06.160708Z",
     "shell.execute_reply.started": "2022-04-02T12:25:05.631227Z"
    },
    "tags": []
   },
   "outputs": [],
   "source": [
    "newnrl = delete_iframe(urlss[0])"
   ]
  },
  {
   "cell_type": "code",
   "execution_count": 35,
   "id": "cb38f6cb-43c1-4a71-878c-8d5c712d8775",
   "metadata": {
    "execution": {
     "iopub.execute_input": "2022-04-02T12:23:46.113966Z",
     "iopub.status.busy": "2022-04-02T12:23:46.113479Z",
     "iopub.status.idle": "2022-04-02T12:23:46.125673Z",
     "shell.execute_reply": "2022-04-02T12:23:46.125253Z",
     "shell.execute_reply.started": "2022-04-02T12:23:46.113877Z"
    },
    "tags": []
   },
   "outputs": [],
   "source": [
    "urll = newnrl.find_all('td',class_='gall_tit ub-word')[2].find('a')['href']"
   ]
  },
  {
   "cell_type": "code",
   "execution_count": 53,
   "id": "8c078ea7-dcc5-4e1d-8bbd-b3237bd2f8af",
   "metadata": {
    "execution": {
     "iopub.execute_input": "2022-04-02T12:26:03.147747Z",
     "iopub.status.busy": "2022-04-02T12:26:03.147320Z",
     "iopub.status.idle": "2022-04-02T12:26:03.163261Z",
     "shell.execute_reply": "2022-04-02T12:26:03.162912Z",
     "shell.execute_reply.started": "2022-04-02T12:26:03.147711Z"
    },
    "tags": []
   },
   "outputs": [
    {
     "data": {
      "text/plain": [
       "'/mgallery/board/view/?id=laptop&no=1443685&list_num=100&search_head=&page=1'"
      ]
     },
     "execution_count": 53,
     "metadata": {},
     "output_type": "execute_result"
    }
   ],
   "source": [
    "newnrl.find_all('td',class_='gall_tit ub-word')[3].find('a')['href']"
   ]
  },
  {
   "cell_type": "code",
   "execution_count": 36,
   "id": "1539d9a0-768d-4174-9a66-e908c2aed08a",
   "metadata": {
    "execution": {
     "iopub.execute_input": "2022-04-02T12:23:50.077875Z",
     "iopub.status.busy": "2022-04-02T12:23:50.077228Z",
     "iopub.status.idle": "2022-04-02T12:23:50.084701Z",
     "shell.execute_reply": "2022-04-02T12:23:50.084147Z",
     "shell.execute_reply.started": "2022-04-02T12:23:50.077794Z"
    },
    "tags": []
   },
   "outputs": [
    {
     "data": {
      "text/plain": [
       "'https://gall.dcinside.com//mgallery/board/view/?id=laptop&no=1321596&list_num=100&search_head=&page=1'"
      ]
     },
     "execution_count": 36,
     "metadata": {},
     "output_type": "execute_result"
    }
   ],
   "source": [
    "f'https://gall.dcinside.com/{urll}'"
   ]
  },
  {
   "cell_type": "markdown",
   "id": "f163dd9f-c16e-4c80-ab60-d0f96670e4af",
   "metadata": {
    "tags": []
   },
   "source": [
    "## 게시글 내용 및 댓글 얻기 "
   ]
  },
  {
   "cell_type": "code",
   "execution_count": 37,
   "id": "c1dfb386-10f0-4356-97dd-ce4586959316",
   "metadata": {
    "execution": {
     "iopub.execute_input": "2022-04-02T12:23:51.561411Z",
     "iopub.status.busy": "2022-04-02T12:23:51.560939Z",
     "iopub.status.idle": "2022-04-02T12:23:51.845719Z",
     "shell.execute_reply": "2022-04-02T12:23:51.844813Z",
     "shell.execute_reply.started": "2022-04-02T12:23:51.561356Z"
    },
    "tags": []
   },
   "outputs": [],
   "source": [
    "res = requests.get(f'https://gall.dcinside.com/{urll}', headers=headers)\n",
    "res.raise_for_status() # 문제시 프로그램 종료\n",
    "soup = BeautifulSoup(res.text, \"lxml\") \n"
   ]
  },
  {
   "cell_type": "code",
   "execution_count": 41,
   "id": "b224cc82-513d-4ee4-be26-7fc0696bdd35",
   "metadata": {
    "execution": {
     "iopub.execute_input": "2022-04-02T12:24:04.736961Z",
     "iopub.status.busy": "2022-04-02T12:24:04.736697Z",
     "iopub.status.idle": "2022-04-02T12:24:04.757080Z",
     "shell.execute_reply": "2022-04-02T12:24:04.756118Z",
     "shell.execute_reply.started": "2022-04-02T12:24:04.736927Z"
    },
    "tags": []
   },
   "outputs": [
    {
     "data": {
      "text/plain": [
       "'에이서 게이밍 노트북 신제품 니트로 5는 인텔과 AMD 프로세서 두 가지 버전이 소개됐다. 인텔은 12세대 인텔 코어 i7 프로세서가, AMD 버전에는 라이젠 6000시리즈가 탑재된다. 모두 인텔과 AMD의 최신형 프로세서가 장착되며, RAM은 32GB다. 인텔은 썬더볼드 4, AMD는 USB 4.0을 지원해 비슷한 수준의 연결성을 지녔다고 평가됐다. GPU는 RTX 30 시리즈가 장착되며, 특히 AMD 버전에는 RTX 3070 Ti가 탑재된다. 이 외에도 3D 오디오가 지원되며, 게임 중 많이 쓰는 WASD 키와 방향키를 강조해주는 RGB 키보드도 특징으로 앞세웠다.'"
      ]
     },
     "execution_count": 41,
     "metadata": {},
     "output_type": "execute_result"
    }
   ],
   "source": [
    "soup.find_all('div',style='text-align: justify; ')[len(soup.find_all('div',style='text-align: justify; '))-3].text"
   ]
  },
  {
   "cell_type": "code",
   "execution_count": null,
   "id": "52a7802c-b237-42f8-9796-c586e0ebbc38",
   "metadata": {},
   "outputs": [],
   "source": []
  },
  {
   "cell_type": "code",
   "execution_count": null,
   "id": "02e1b1a2-52d4-43d2-9ff1-60b1a280feb6",
   "metadata": {},
   "outputs": [],
   "source": []
  }
 ],
 "metadata": {
  "kernelspec": {
   "display_name": "Python 3 (ipykernel)",
   "language": "python",
   "name": "python3"
  },
  "language_info": {
   "codemirror_mode": {
    "name": "ipython",
    "version": 3
   },
   "file_extension": ".py",
   "mimetype": "text/x-python",
   "name": "python",
   "nbconvert_exporter": "python",
   "pygments_lexer": "ipython3",
   "version": "3.9.7"
  }
 },
 "nbformat": 4,
 "nbformat_minor": 5
}
