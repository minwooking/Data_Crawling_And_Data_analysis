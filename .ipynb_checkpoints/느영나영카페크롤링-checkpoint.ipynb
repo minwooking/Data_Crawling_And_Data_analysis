{
 "cells": [
  {
   "cell_type": "code",
   "execution_count": 34,
   "id": "22c065d0-c7d6-466c-9c6e-bc3651839ed9",
   "metadata": {
    "execution": {
     "iopub.execute_input": "2022-04-05T13:56:21.176226Z",
     "iopub.status.busy": "2022-04-05T13:56:21.175912Z",
     "iopub.status.idle": "2022-04-05T13:56:21.182265Z",
     "shell.execute_reply": "2022-04-05T13:56:21.181796Z",
     "shell.execute_reply.started": "2022-04-05T13:56:21.176195Z"
    },
    "tags": []
   },
   "outputs": [],
   "source": [
    "import  numpy as np\n",
    "import  pandas as pd\n",
    "import  matplotlib.pyplot as plt\n",
    "import  os\n",
    "import  copy\n",
    "from  tqdm import  tqdm\n",
    "from bs4 import BeautifulSoup\n",
    "from  urllib.parse import quote\n",
    "import urllib.request\n",
    "import requests\n",
    "import urllib.parse\n",
    "from  urllib import parse\n",
    "import  ssl\n",
    "from  selenium import webdriver\n",
    "from  webdriver_manager.chrome import ChromeDriverManager\n",
    "context = ssl._create_unverified_context()\n",
    "import time"
   ]
  },
  {
   "cell_type": "code",
   "execution_count": 3,
   "id": "7025c24e-dc53-4705-8eca-1a89f84f95a9",
   "metadata": {
    "execution": {
     "iopub.execute_input": "2022-04-05T13:42:12.465252Z",
     "iopub.status.busy": "2022-04-05T13:42:12.464777Z",
     "iopub.status.idle": "2022-04-05T13:42:12.589313Z",
     "shell.execute_reply": "2022-04-05T13:42:12.588656Z",
     "shell.execute_reply.started": "2022-04-05T13:42:12.465205Z"
    },
    "tags": []
   },
   "outputs": [
    {
     "name": "stdout",
     "output_type": "stream",
     "text": [
      " 감성학습.ipynb             친환경관련의견분석.ipynb\n",
      " 노트북갤러리크롤링.ipynb  '크롤링미주미(네이버카페).ipynb'\n",
      " 느영나영카페크롤링.ipynb\n"
     ]
    }
   ],
   "source": [
    "ls"
   ]
  },
  {
   "cell_type": "code",
   "execution_count": 14,
   "id": "2469a7c2-ce4b-48ff-b678-a90608c7a8dc",
   "metadata": {
    "execution": {
     "iopub.execute_input": "2022-04-05T13:08:43.335525Z",
     "iopub.status.busy": "2022-04-05T13:08:43.335183Z",
     "iopub.status.idle": "2022-04-05T13:08:43.412585Z",
     "shell.execute_reply": "2022-04-05T13:08:43.411288Z",
     "shell.execute_reply.started": "2022-04-05T13:08:43.335493Z"
    }
   },
   "outputs": [],
   "source": [
    "driver.quit()"
   ]
  },
  {
   "cell_type": "code",
   "execution_count": 4,
   "id": "60755e03-3a29-443b-985b-9caf8419d362",
   "metadata": {
    "execution": {
     "iopub.execute_input": "2022-04-05T12:59:43.186846Z",
     "iopub.status.busy": "2022-04-05T12:59:43.186369Z",
     "iopub.status.idle": "2022-04-05T12:59:43.194695Z",
     "shell.execute_reply": "2022-04-05T12:59:43.192933Z",
     "shell.execute_reply.started": "2022-04-05T12:59:43.186758Z"
    }
   },
   "outputs": [],
   "source": [
    "headers = {\"User-Agent\":\"Mozilla/5.0 (Windows NT 10.0; Win64; x64) AppleWebKit/537.36 (KHTML, like Gecko) Chrome/90.0.4430.93 Safari/537.36\"}"
   ]
  },
  {
   "cell_type": "code",
   "execution_count": 5,
   "id": "af3ad42b-bf02-4c3a-a88d-159186c07f95",
   "metadata": {
    "execution": {
     "iopub.execute_input": "2022-04-05T13:03:48.883397Z",
     "iopub.status.busy": "2022-04-05T13:03:48.882874Z",
     "iopub.status.idle": "2022-04-05T13:03:48.889973Z",
     "shell.execute_reply": "2022-04-05T13:03:48.889299Z",
     "shell.execute_reply.started": "2022-04-05T13:03:48.883363Z"
    }
   },
   "outputs": [
    {
     "data": {
      "text/plain": [
       "'d:\\\\WorkSpace\\\\navercafecrawling'"
      ]
     },
     "execution_count": 5,
     "metadata": {},
     "output_type": "execute_result"
    }
   ],
   "source": [
    "pwd"
   ]
  },
  {
   "cell_type": "code",
   "execution_count": 9,
   "id": "d50a5865-5a31-4f95-a528-cd020dcd6c0a",
   "metadata": {
    "execution": {
     "iopub.execute_input": "2022-04-05T13:03:56.525730Z",
     "iopub.status.busy": "2022-04-05T13:03:56.525284Z",
     "iopub.status.idle": "2022-04-05T13:03:56.533140Z",
     "shell.execute_reply": "2022-04-05T13:03:56.532597Z",
     "shell.execute_reply.started": "2022-04-05T13:03:56.525655Z"
    },
    "tags": []
   },
   "outputs": [],
   "source": [
    "## 리눅스\n",
    "with open('/home/miwoos/WorkSpace/mykey/Naver_pw.txt') as file: \n",
    "    PASSWORD = file.read()\n",
    "with open('/home/miwoos/WorkSpace/mykey/Naver_ID.txt') as file:\n",
    "    ID = file.read()"
   ]
  },
  {
   "cell_type": "code",
   "execution_count": 10,
   "id": "f9b350d9-0f41-459c-a535-d360ae0d3cb9",
   "metadata": {
    "collapsed": true,
    "execution": {
     "iopub.execute_input": "2022-04-05T13:03:58.382767Z",
     "iopub.status.busy": "2022-04-05T13:03:58.382244Z",
     "iopub.status.idle": "2022-04-05T13:04:13.470222Z",
     "shell.execute_reply": "2022-04-05T13:04:13.469361Z",
     "shell.execute_reply.started": "2022-04-05T13:03:58.382674Z"
    },
    "jupyter": {
     "outputs_hidden": true
    },
    "tags": []
   },
   "outputs": [
    {
     "name": "stderr",
     "output_type": "stream",
     "text": [
      "/tmp/ipykernel_166505/2412163545.py:9: DeprecationWarning: find_element_by_name is deprecated. Please use find_element(by=By.NAME, value=name) instead\n",
      "  tag_id = driver.find_element_by_name('id')\n",
      "/tmp/ipykernel_166505/2412163545.py:11: DeprecationWarning: find_element_by_name is deprecated. Please use find_element(by=By.NAME, value=name) instead\n",
      "  tag_pw = driver.find_element_by_name('pw')\n"
     ]
    },
    {
     "ename": "WebDriverException",
     "evalue": "Message: chrome not reachable\n  (Session info: chrome=100.0.4896.60)\nStacktrace:\n#0 0x558954994ad3 <unknown>\n#1 0x5589546f43ff <unknown>\n#2 0x5589546e2b94 <unknown>\n#3 0x5589546e35a9 <unknown>\n#4 0x5589546e5302 <unknown>\n#5 0x5589546dd6f6 <unknown>\n#6 0x5589546f5972 <unknown>\n#7 0x55895475aea1 <unknown>\n#8 0x5589547484e3 <unknown>\n#9 0x55895471dd1a <unknown>\n#10 0x55895471ee75 <unknown>\n#11 0x5589549c2efd <unknown>\n#12 0x5589549dc19b <unknown>\n#13 0x5589549c4c65 <unknown>\n#14 0x5589549dcec8 <unknown>\n#15 0x5589549b8360 <unknown>\n#16 0x5589549f8a68 <unknown>\n#17 0x5589549f8be8 <unknown>\n#18 0x558954a127fd <unknown>\n#19 0x7f0d0be0c609 <unknown>\n",
     "output_type": "error",
     "traceback": [
      "\u001b[0;31m---------------------------------------------------------------------------\u001b[0m",
      "\u001b[0;31mWebDriverException\u001b[0m                        Traceback (most recent call last)",
      "\u001b[0;32m/tmp/ipykernel_166505/2412163545.py\u001b[0m in \u001b[0;36m<module>\u001b[0;34m\u001b[0m\n\u001b[1;32m     19\u001b[0m \u001b[0;34m\u001b[0m\u001b[0m\n\u001b[1;32m     20\u001b[0m \u001b[0;31m# pw 입력 # 입력폼 클릭 -> paperclip에 선언한 upw 내용 복사 -> 붙여넣기\u001b[0m\u001b[0;34m\u001b[0m\u001b[0;34m\u001b[0m\u001b[0m\n\u001b[0;32m---> 21\u001b[0;31m \u001b[0mtag_pw\u001b[0m\u001b[0;34m.\u001b[0m\u001b[0mclick\u001b[0m\u001b[0;34m(\u001b[0m\u001b[0;34m)\u001b[0m\u001b[0;34m\u001b[0m\u001b[0;34m\u001b[0m\u001b[0m\n\u001b[0m\u001b[1;32m     22\u001b[0m \u001b[0mpyperclip\u001b[0m\u001b[0;34m.\u001b[0m\u001b[0mcopy\u001b[0m\u001b[0;34m(\u001b[0m\u001b[0mupw\u001b[0m\u001b[0;34m)\u001b[0m\u001b[0;34m\u001b[0m\u001b[0;34m\u001b[0m\u001b[0m\n\u001b[1;32m     23\u001b[0m \u001b[0mtag_pw\u001b[0m\u001b[0;34m.\u001b[0m\u001b[0msend_keys\u001b[0m\u001b[0;34m(\u001b[0m\u001b[0mKeys\u001b[0m\u001b[0;34m.\u001b[0m\u001b[0mCONTROL\u001b[0m\u001b[0;34m,\u001b[0m \u001b[0;34m'v'\u001b[0m\u001b[0;34m)\u001b[0m\u001b[0;34m\u001b[0m\u001b[0;34m\u001b[0m\u001b[0m\n",
      "\u001b[0;32m~/anaconda3/lib/python3.9/site-packages/selenium/webdriver/remote/webelement.py\u001b[0m in \u001b[0;36mclick\u001b[0;34m(self)\u001b[0m\n\u001b[1;32m     79\u001b[0m     \u001b[0;32mdef\u001b[0m \u001b[0mclick\u001b[0m\u001b[0;34m(\u001b[0m\u001b[0mself\u001b[0m\u001b[0;34m)\u001b[0m \u001b[0;34m->\u001b[0m \u001b[0;32mNone\u001b[0m\u001b[0;34m:\u001b[0m\u001b[0;34m\u001b[0m\u001b[0;34m\u001b[0m\u001b[0m\n\u001b[1;32m     80\u001b[0m         \u001b[0;34m\"\"\"Clicks the element.\"\"\"\u001b[0m\u001b[0;34m\u001b[0m\u001b[0;34m\u001b[0m\u001b[0m\n\u001b[0;32m---> 81\u001b[0;31m         \u001b[0mself\u001b[0m\u001b[0;34m.\u001b[0m\u001b[0m_execute\u001b[0m\u001b[0;34m(\u001b[0m\u001b[0mCommand\u001b[0m\u001b[0;34m.\u001b[0m\u001b[0mCLICK_ELEMENT\u001b[0m\u001b[0;34m)\u001b[0m\u001b[0;34m\u001b[0m\u001b[0;34m\u001b[0m\u001b[0m\n\u001b[0m\u001b[1;32m     82\u001b[0m \u001b[0;34m\u001b[0m\u001b[0m\n\u001b[1;32m     83\u001b[0m     \u001b[0;32mdef\u001b[0m \u001b[0msubmit\u001b[0m\u001b[0;34m(\u001b[0m\u001b[0mself\u001b[0m\u001b[0;34m)\u001b[0m\u001b[0;34m:\u001b[0m\u001b[0;34m\u001b[0m\u001b[0;34m\u001b[0m\u001b[0m\n",
      "\u001b[0;32m~/anaconda3/lib/python3.9/site-packages/selenium/webdriver/remote/webelement.py\u001b[0m in \u001b[0;36m_execute\u001b[0;34m(self, command, params)\u001b[0m\n\u001b[1;32m    708\u001b[0m             \u001b[0mparams\u001b[0m \u001b[0;34m=\u001b[0m \u001b[0;34m{\u001b[0m\u001b[0;34m}\u001b[0m\u001b[0;34m\u001b[0m\u001b[0;34m\u001b[0m\u001b[0m\n\u001b[1;32m    709\u001b[0m         \u001b[0mparams\u001b[0m\u001b[0;34m[\u001b[0m\u001b[0;34m'id'\u001b[0m\u001b[0;34m]\u001b[0m \u001b[0;34m=\u001b[0m \u001b[0mself\u001b[0m\u001b[0;34m.\u001b[0m\u001b[0m_id\u001b[0m\u001b[0;34m\u001b[0m\u001b[0;34m\u001b[0m\u001b[0m\n\u001b[0;32m--> 710\u001b[0;31m         \u001b[0;32mreturn\u001b[0m \u001b[0mself\u001b[0m\u001b[0;34m.\u001b[0m\u001b[0m_parent\u001b[0m\u001b[0;34m.\u001b[0m\u001b[0mexecute\u001b[0m\u001b[0;34m(\u001b[0m\u001b[0mcommand\u001b[0m\u001b[0;34m,\u001b[0m \u001b[0mparams\u001b[0m\u001b[0;34m)\u001b[0m\u001b[0;34m\u001b[0m\u001b[0;34m\u001b[0m\u001b[0m\n\u001b[0m\u001b[1;32m    711\u001b[0m \u001b[0;34m\u001b[0m\u001b[0m\n\u001b[1;32m    712\u001b[0m     \u001b[0;32mdef\u001b[0m \u001b[0mfind_element\u001b[0m\u001b[0;34m(\u001b[0m\u001b[0mself\u001b[0m\u001b[0;34m,\u001b[0m \u001b[0mby\u001b[0m\u001b[0;34m=\u001b[0m\u001b[0mBy\u001b[0m\u001b[0;34m.\u001b[0m\u001b[0mID\u001b[0m\u001b[0;34m,\u001b[0m \u001b[0mvalue\u001b[0m\u001b[0;34m=\u001b[0m\u001b[0;32mNone\u001b[0m\u001b[0;34m)\u001b[0m\u001b[0;34m:\u001b[0m\u001b[0;34m\u001b[0m\u001b[0;34m\u001b[0m\u001b[0m\n",
      "\u001b[0;32m~/anaconda3/lib/python3.9/site-packages/selenium/webdriver/remote/webdriver.py\u001b[0m in \u001b[0;36mexecute\u001b[0;34m(self, driver_command, params)\u001b[0m\n\u001b[1;32m    423\u001b[0m         \u001b[0mresponse\u001b[0m \u001b[0;34m=\u001b[0m \u001b[0mself\u001b[0m\u001b[0;34m.\u001b[0m\u001b[0mcommand_executor\u001b[0m\u001b[0;34m.\u001b[0m\u001b[0mexecute\u001b[0m\u001b[0;34m(\u001b[0m\u001b[0mdriver_command\u001b[0m\u001b[0;34m,\u001b[0m \u001b[0mparams\u001b[0m\u001b[0;34m)\u001b[0m\u001b[0;34m\u001b[0m\u001b[0;34m\u001b[0m\u001b[0m\n\u001b[1;32m    424\u001b[0m         \u001b[0;32mif\u001b[0m \u001b[0mresponse\u001b[0m\u001b[0;34m:\u001b[0m\u001b[0;34m\u001b[0m\u001b[0;34m\u001b[0m\u001b[0m\n\u001b[0;32m--> 425\u001b[0;31m             \u001b[0mself\u001b[0m\u001b[0;34m.\u001b[0m\u001b[0merror_handler\u001b[0m\u001b[0;34m.\u001b[0m\u001b[0mcheck_response\u001b[0m\u001b[0;34m(\u001b[0m\u001b[0mresponse\u001b[0m\u001b[0;34m)\u001b[0m\u001b[0;34m\u001b[0m\u001b[0;34m\u001b[0m\u001b[0m\n\u001b[0m\u001b[1;32m    426\u001b[0m             response['value'] = self._unwrap_value(\n\u001b[1;32m    427\u001b[0m                 response.get('value', None))\n",
      "\u001b[0;32m~/anaconda3/lib/python3.9/site-packages/selenium/webdriver/remote/errorhandler.py\u001b[0m in \u001b[0;36mcheck_response\u001b[0;34m(self, response)\u001b[0m\n\u001b[1;32m    245\u001b[0m                 \u001b[0malert_text\u001b[0m \u001b[0;34m=\u001b[0m \u001b[0mvalue\u001b[0m\u001b[0;34m[\u001b[0m\u001b[0;34m'alert'\u001b[0m\u001b[0;34m]\u001b[0m\u001b[0;34m.\u001b[0m\u001b[0mget\u001b[0m\u001b[0;34m(\u001b[0m\u001b[0;34m'text'\u001b[0m\u001b[0;34m)\u001b[0m\u001b[0;34m\u001b[0m\u001b[0;34m\u001b[0m\u001b[0m\n\u001b[1;32m    246\u001b[0m             \u001b[0;32mraise\u001b[0m \u001b[0mexception_class\u001b[0m\u001b[0;34m(\u001b[0m\u001b[0mmessage\u001b[0m\u001b[0;34m,\u001b[0m \u001b[0mscreen\u001b[0m\u001b[0;34m,\u001b[0m \u001b[0mstacktrace\u001b[0m\u001b[0;34m,\u001b[0m \u001b[0malert_text\u001b[0m\u001b[0;34m)\u001b[0m  \u001b[0;31m# type: ignore[call-arg]  # mypy is not smart enough here\u001b[0m\u001b[0;34m\u001b[0m\u001b[0;34m\u001b[0m\u001b[0m\n\u001b[0;32m--> 247\u001b[0;31m         \u001b[0;32mraise\u001b[0m \u001b[0mexception_class\u001b[0m\u001b[0;34m(\u001b[0m\u001b[0mmessage\u001b[0m\u001b[0;34m,\u001b[0m \u001b[0mscreen\u001b[0m\u001b[0;34m,\u001b[0m \u001b[0mstacktrace\u001b[0m\u001b[0;34m)\u001b[0m\u001b[0;34m\u001b[0m\u001b[0;34m\u001b[0m\u001b[0m\n\u001b[0m\u001b[1;32m    248\u001b[0m \u001b[0;34m\u001b[0m\u001b[0m\n\u001b[1;32m    249\u001b[0m     \u001b[0;32mdef\u001b[0m \u001b[0m_value_or_default\u001b[0m\u001b[0;34m(\u001b[0m\u001b[0mself\u001b[0m\u001b[0;34m,\u001b[0m \u001b[0mobj\u001b[0m\u001b[0;34m:\u001b[0m \u001b[0mMapping\u001b[0m\u001b[0;34m[\u001b[0m\u001b[0m_KT\u001b[0m\u001b[0;34m,\u001b[0m \u001b[0m_VT\u001b[0m\u001b[0;34m]\u001b[0m\u001b[0;34m,\u001b[0m \u001b[0mkey\u001b[0m\u001b[0;34m:\u001b[0m \u001b[0m_KT\u001b[0m\u001b[0;34m,\u001b[0m \u001b[0mdefault\u001b[0m\u001b[0;34m:\u001b[0m \u001b[0m_VT\u001b[0m\u001b[0;34m)\u001b[0m \u001b[0;34m->\u001b[0m \u001b[0m_VT\u001b[0m\u001b[0;34m:\u001b[0m\u001b[0;34m\u001b[0m\u001b[0;34m\u001b[0m\u001b[0m\n",
      "\u001b[0;31mWebDriverException\u001b[0m: Message: chrome not reachable\n  (Session info: chrome=100.0.4896.60)\nStacktrace:\n#0 0x558954994ad3 <unknown>\n#1 0x5589546f43ff <unknown>\n#2 0x5589546e2b94 <unknown>\n#3 0x5589546e35a9 <unknown>\n#4 0x5589546e5302 <unknown>\n#5 0x5589546dd6f6 <unknown>\n#6 0x5589546f5972 <unknown>\n#7 0x55895475aea1 <unknown>\n#8 0x5589547484e3 <unknown>\n#9 0x55895471dd1a <unknown>\n#10 0x55895471ee75 <unknown>\n#11 0x5589549c2efd <unknown>\n#12 0x5589549dc19b <unknown>\n#13 0x5589549c4c65 <unknown>\n#14 0x5589549dcec8 <unknown>\n#15 0x5589549b8360 <unknown>\n#16 0x5589549f8a68 <unknown>\n#17 0x5589549f8be8 <unknown>\n#18 0x558954a127fd <unknown>\n#19 0x7f0d0be0c609 <unknown>\n"
     ]
    }
   ],
   "source": [
    "url = 'https://nid.naver.com/nidlogin.login?mode=form&url=https%3A%2F%2Fwww.naver.com' \n",
    "uid = ID\n",
    "upw = PASSWORD\n",
    "#네이버 로그인 페이지로 이동 \n",
    "driver.get(url) \n",
    "time.sleep(2) #로딩 대기 \n",
    "\n",
    "#아이디 입력폼 \n",
    "tag_id = driver.find_element_by_name('id') \n",
    "#패스워드 입력폼 \n",
    "tag_pw = driver.find_element_by_name('pw')\n",
    "\n",
    "# id 입력 \n",
    "# 입력폼 클릭 -> paperclip에 선언한 uid 내용 복사 -> 붙여넣기 \n",
    "tag_id.click() \n",
    "pyperclip.copy(uid) \n",
    "tag_id.send_keys(Keys.CONTROL, 'v') \n",
    "time.sleep(1) \n",
    "\n",
    "# pw 입력 # 입력폼 클릭 -> paperclip에 선언한 upw 내용 복사 -> 붙여넣기\n",
    "tag_pw.click() \n",
    "pyperclip.copy(upw) \n",
    "tag_pw.send_keys(Keys.CONTROL, 'v')\n",
    "time.sleep(1) \n",
    "\n",
    "#로그인 버튼 클릭 \n",
    "login_btn = driver.find_element_by_id('log.login') \n",
    "login_btn.click() \n",
    "time.sleep(2)\n",
    "\n"
   ]
  },
  {
   "cell_type": "code",
   "execution_count": 10,
   "id": "5c4cb0ab-ac07-4fbb-bab2-5547ff5d5540",
   "metadata": {
    "execution": {
     "iopub.execute_input": "2022-04-05T13:43:21.351612Z",
     "iopub.status.busy": "2022-04-05T13:43:21.351435Z",
     "iopub.status.idle": "2022-04-05T13:43:21.359486Z",
     "shell.execute_reply": "2022-04-05T13:43:21.358297Z",
     "shell.execute_reply.started": "2022-04-05T13:43:21.351578Z"
    }
   },
   "outputs": [
    {
     "data": {
      "text/plain": [
       "'/home/miwoos/WorkSpace/navercafecrawling'"
      ]
     },
     "execution_count": 10,
     "metadata": {},
     "output_type": "execute_result"
    }
   ],
   "source": [
    "pwd"
   ]
  },
  {
   "cell_type": "code",
   "execution_count": 11,
   "id": "b124e20a-fda2-4a27-a57f-47538bd07b15",
   "metadata": {
    "execution": {
     "iopub.execute_input": "2022-04-05T13:43:28.013372Z",
     "iopub.status.busy": "2022-04-05T13:43:28.011600Z",
     "iopub.status.idle": "2022-04-05T13:43:32.129706Z",
     "shell.execute_reply": "2022-04-05T13:43:32.129136Z",
     "shell.execute_reply.started": "2022-04-05T13:43:28.013304Z"
    },
    "tags": []
   },
   "outputs": [],
   "source": [
    "df = pd.read_csv('/home/miwoos/WorkSpace/GoogleDrive/Data/주소및조회수(느영나영).csv')"
   ]
  },
  {
   "cell_type": "code",
   "execution_count": 12,
   "id": "39491928-6e68-4c70-9753-121c25e574d1",
   "metadata": {
    "execution": {
     "iopub.execute_input": "2022-04-05T13:43:37.912628Z",
     "iopub.status.busy": "2022-04-05T13:43:37.912009Z",
     "iopub.status.idle": "2022-04-05T13:43:37.922493Z",
     "shell.execute_reply": "2022-04-05T13:43:37.922031Z",
     "shell.execute_reply.started": "2022-04-05T13:43:37.912545Z"
    }
   },
   "outputs": [
    {
     "data": {
      "text/html": [
       "<div>\n",
       "<style scoped>\n",
       "    .dataframe tbody tr th:only-of-type {\n",
       "        vertical-align: middle;\n",
       "    }\n",
       "\n",
       "    .dataframe tbody tr th {\n",
       "        vertical-align: top;\n",
       "    }\n",
       "\n",
       "    .dataframe thead th {\n",
       "        text-align: right;\n",
       "    }\n",
       "</style>\n",
       "<table border=\"1\" class=\"dataframe\">\n",
       "  <thead>\n",
       "    <tr style=\"text-align: right;\">\n",
       "      <th></th>\n",
       "      <th>address</th>\n",
       "      <th>pops</th>\n",
       "    </tr>\n",
       "  </thead>\n",
       "  <tbody>\n",
       "    <tr>\n",
       "      <th>0</th>\n",
       "      <td>https://cafe.naver.com/ca-fe/ArticleRead.nhn?c...</td>\n",
       "      <td>130</td>\n",
       "    </tr>\n",
       "    <tr>\n",
       "      <th>1</th>\n",
       "      <td>https://cafe.naver.com/ca-fe/ArticleRead.nhn?c...</td>\n",
       "      <td>149</td>\n",
       "    </tr>\n",
       "  </tbody>\n",
       "</table>\n",
       "</div>"
      ],
      "text/plain": [
       "                                             address pops\n",
       "0  https://cafe.naver.com/ca-fe/ArticleRead.nhn?c...  130\n",
       "1  https://cafe.naver.com/ca-fe/ArticleRead.nhn?c...  149"
      ]
     },
     "execution_count": 12,
     "metadata": {},
     "output_type": "execute_result"
    }
   ],
   "source": [
    "df.head(2)"
   ]
  },
  {
   "cell_type": "code",
   "execution_count": 41,
   "id": "c0bdacc1-7072-4d1f-a338-1639e2e2e212",
   "metadata": {
    "execution": {
     "iopub.execute_input": "2022-04-05T14:00:01.547787Z",
     "iopub.status.busy": "2022-04-05T14:00:01.547376Z",
     "iopub.status.idle": "2022-04-05T14:00:02.895722Z",
     "shell.execute_reply": "2022-04-05T14:00:02.894376Z",
     "shell.execute_reply.started": "2022-04-05T14:00:01.547701Z"
    },
    "tags": []
   },
   "outputs": [
    {
     "name": "stderr",
     "output_type": "stream",
     "text": [
      "\n",
      "\n",
      "====== WebDriver manager ======\n",
      "Current google-chrome version is 100.0.4896\n",
      "Get LATEST chromedriver version for 100.0.4896 google-chrome\n",
      "Driver [/home/miwoos/.wdm/drivers/chromedriver/linux64/100.0.4896.60/chromedriver] found in cache\n",
      "/tmp/ipykernel_172285/1222270756.py:1: DeprecationWarning: executable_path has been deprecated, please pass in a Service object\n",
      "  driver = webdriver.Chrome(ChromeDriverManager().install()) # 리눅스\n"
     ]
    }
   ],
   "source": [
    "driver = webdriver.Chrome(ChromeDriverManager().install()) # 리눅스\n",
    "# driver = webdriver.Chrome('C:\\\\Users\\\\alsdn\\\\Desktop\\\\chromedriver_win32\\\\chromedriver.exe')"
   ]
  },
  {
   "cell_type": "code",
   "execution_count": 21,
   "id": "bd80a041-860a-4f31-aa7b-5674cef9d8c3",
   "metadata": {
    "execution": {
     "iopub.execute_input": "2022-04-05T13:52:02.594422Z",
     "iopub.status.busy": "2022-04-05T13:52:02.594178Z",
     "iopub.status.idle": "2022-04-05T13:52:04.905590Z",
     "shell.execute_reply": "2022-04-05T13:52:04.905190Z",
     "shell.execute_reply.started": "2022-04-05T13:52:02.594391Z"
    },
    "tags": []
   },
   "outputs": [],
   "source": [
    "driver.get(df.address[0])"
   ]
  },
  {
   "cell_type": "code",
   "execution_count": 31,
   "id": "d1159eb5-53f0-4d93-a30d-87789f2f6ea5",
   "metadata": {
    "execution": {
     "iopub.execute_input": "2022-04-05T13:55:18.687656Z",
     "iopub.status.busy": "2022-04-05T13:55:18.687199Z",
     "iopub.status.idle": "2022-04-05T13:55:18.696015Z",
     "shell.execute_reply": "2022-04-05T13:55:18.693908Z",
     "shell.execute_reply.started": "2022-04-05T13:55:18.687578Z"
    },
    "tags": []
   },
   "outputs": [],
   "source": [
    "titles = []\n",
    "contentss = []\n",
    "link_boards = []\n",
    "commentss = []\n",
    "dates=[]"
   ]
  },
  {
   "cell_type": "code",
   "execution_count": 35,
   "id": "9d519885-4fa2-4be9-b5df-c60a49df090b",
   "metadata": {
    "execution": {
     "iopub.execute_input": "2022-04-05T13:56:25.064999Z",
     "iopub.status.busy": "2022-04-05T13:56:25.064441Z",
     "iopub.status.idle": "2022-04-05T13:56:28.074014Z",
     "shell.execute_reply": "2022-04-05T13:56:28.072522Z",
     "shell.execute_reply.started": "2022-04-05T13:56:25.064910Z"
    },
    "tags": []
   },
   "outputs": [],
   "source": [
    "time.sleep(3)"
   ]
  },
  {
   "cell_type": "code",
   "execution_count": 36,
   "id": "498edeb2-4f9f-4718-9a50-9af1f832ace6",
   "metadata": {
    "collapsed": true,
    "execution": {
     "iopub.execute_input": "2022-04-05T13:56:29.759692Z",
     "iopub.status.busy": "2022-04-05T13:56:29.759064Z",
     "iopub.status.idle": "2022-04-05T13:56:33.672987Z",
     "shell.execute_reply": "2022-04-05T13:56:33.671954Z",
     "shell.execute_reply.started": "2022-04-05T13:56:29.759590Z"
    },
    "jupyter": {
     "outputs_hidden": true
    },
    "tags": []
   },
   "outputs": [
    {
     "name": "stderr",
     "output_type": "stream",
     "text": [
      "/tmp/ipykernel_172285/2864288092.py:4: DeprecationWarning: find_element_by_class_name is deprecated. Please use find_element(by=By.CLASS_NAME, value=name) instead\n",
      "  if driver.find_element_by_class_name(\"nodata\").text == '삭제되었거나 없는 게시글입니다.':\n"
     ]
    },
    {
     "ename": "NoSuchElementException",
     "evalue": "Message: no such element: Unable to locate element: {\"method\":\"css selector\",\"selector\":\".nodata\"}\n  (Session info: chrome=100.0.4896.60)\nStacktrace:\n#0 0x55a032227ad3 <unknown>\n#1 0x55a031f87568 <unknown>\n#2 0x55a031fbdc46 <unknown>\n#3 0x55a031fbde01 <unknown>\n#4 0x55a031ff0a64 <unknown>\n#5 0x55a031fdb61d <unknown>\n#6 0x55a031fee824 <unknown>\n#7 0x55a031fdb4e3 <unknown>\n#8 0x55a031fb0d1a <unknown>\n#9 0x55a031fb1e75 <unknown>\n#10 0x55a032255efd <unknown>\n#11 0x55a03226f19b <unknown>\n#12 0x55a032257c65 <unknown>\n#13 0x55a03226fec8 <unknown>\n#14 0x55a03224b360 <unknown>\n#15 0x55a03228ba68 <unknown>\n#16 0x55a03228bbe8 <unknown>\n#17 0x55a0322a57fd <unknown>\n#18 0x7fd0c8ed7609 <unknown>\n",
     "output_type": "error",
     "traceback": [
      "\u001b[0;31m---------------------------------------------------------------------------\u001b[0m",
      "\u001b[0;31mNoSuchElementException\u001b[0m                    Traceback (most recent call last)",
      "\u001b[0;32m/tmp/ipykernel_172285/2864288092.py\u001b[0m in \u001b[0;36m<module>\u001b[0;34m\u001b[0m\n\u001b[1;32m      2\u001b[0m \u001b[0mtime\u001b[0m\u001b[0;34m.\u001b[0m\u001b[0msleep\u001b[0m\u001b[0;34m(\u001b[0m\u001b[0;36m3\u001b[0m\u001b[0;34m)\u001b[0m\u001b[0;34m\u001b[0m\u001b[0;34m\u001b[0m\u001b[0m\n\u001b[1;32m      3\u001b[0m \u001b[0mdriver\u001b[0m\u001b[0;34m.\u001b[0m\u001b[0mswitch_to\u001b[0m\u001b[0;34m.\u001b[0m\u001b[0mframe\u001b[0m\u001b[0;34m(\u001b[0m\u001b[0;34m'cafe_main'\u001b[0m\u001b[0;34m)\u001b[0m\u001b[0;34m\u001b[0m\u001b[0;34m\u001b[0m\u001b[0m\n\u001b[0;32m----> 4\u001b[0;31m \u001b[0;32mif\u001b[0m \u001b[0mdriver\u001b[0m\u001b[0;34m.\u001b[0m\u001b[0mfind_element_by_class_name\u001b[0m\u001b[0;34m(\u001b[0m\u001b[0;34m\"nodata\"\u001b[0m\u001b[0;34m)\u001b[0m\u001b[0;34m.\u001b[0m\u001b[0mtext\u001b[0m \u001b[0;34m==\u001b[0m \u001b[0;34m'삭제되었거나 없는 게시글입니다.'\u001b[0m\u001b[0;34m:\u001b[0m\u001b[0;34m\u001b[0m\u001b[0;34m\u001b[0m\u001b[0m\n\u001b[0m\u001b[1;32m      5\u001b[0m \u001b[0;31m### 제목\u001b[0m\u001b[0;34m\u001b[0m\u001b[0;34m\u001b[0m\u001b[0m\n\u001b[1;32m      6\u001b[0m     \u001b[0;32mif\u001b[0m \u001b[0mdriver\u001b[0m\u001b[0;34m.\u001b[0m\u001b[0mfind_element_by_class_name\u001b[0m\u001b[0;34m(\u001b[0m\u001b[0;34m\"title_text\"\u001b[0m\u001b[0;34m)\u001b[0m\u001b[0;34m.\u001b[0m\u001b[0mtext\u001b[0m \u001b[0;34m==\u001b[0m \u001b[0;32mNone\u001b[0m\u001b[0;34m:\u001b[0m\u001b[0;34m\u001b[0m\u001b[0;34m\u001b[0m\u001b[0m\n",
      "\u001b[0;32m~/anaconda3/lib/python3.9/site-packages/selenium/webdriver/remote/webdriver.py\u001b[0m in \u001b[0;36mfind_element_by_class_name\u001b[0;34m(self, name)\u001b[0m\n\u001b[1;32m    759\u001b[0m             \u001b[0mstacklevel\u001b[0m\u001b[0;34m=\u001b[0m\u001b[0;36m2\u001b[0m\u001b[0;34m,\u001b[0m\u001b[0;34m\u001b[0m\u001b[0;34m\u001b[0m\u001b[0m\n\u001b[1;32m    760\u001b[0m         )\n\u001b[0;32m--> 761\u001b[0;31m         \u001b[0;32mreturn\u001b[0m \u001b[0mself\u001b[0m\u001b[0;34m.\u001b[0m\u001b[0mfind_element\u001b[0m\u001b[0;34m(\u001b[0m\u001b[0mby\u001b[0m\u001b[0;34m=\u001b[0m\u001b[0mBy\u001b[0m\u001b[0;34m.\u001b[0m\u001b[0mCLASS_NAME\u001b[0m\u001b[0;34m,\u001b[0m \u001b[0mvalue\u001b[0m\u001b[0;34m=\u001b[0m\u001b[0mname\u001b[0m\u001b[0;34m)\u001b[0m\u001b[0;34m\u001b[0m\u001b[0;34m\u001b[0m\u001b[0m\n\u001b[0m\u001b[1;32m    762\u001b[0m \u001b[0;34m\u001b[0m\u001b[0m\n\u001b[1;32m    763\u001b[0m     \u001b[0;32mdef\u001b[0m \u001b[0mfind_elements_by_class_name\u001b[0m\u001b[0;34m(\u001b[0m\u001b[0mself\u001b[0m\u001b[0;34m,\u001b[0m \u001b[0mname\u001b[0m\u001b[0;34m)\u001b[0m \u001b[0;34m->\u001b[0m \u001b[0mList\u001b[0m\u001b[0;34m[\u001b[0m\u001b[0mWebElement\u001b[0m\u001b[0;34m]\u001b[0m\u001b[0;34m:\u001b[0m\u001b[0;34m\u001b[0m\u001b[0;34m\u001b[0m\u001b[0m\n",
      "\u001b[0;32m~/anaconda3/lib/python3.9/site-packages/selenium/webdriver/remote/webdriver.py\u001b[0m in \u001b[0;36mfind_element\u001b[0;34m(self, by, value)\u001b[0m\n\u001b[1;32m   1246\u001b[0m             \u001b[0mvalue\u001b[0m \u001b[0;34m=\u001b[0m \u001b[0;34m'[name=\"%s\"]'\u001b[0m \u001b[0;34m%\u001b[0m \u001b[0mvalue\u001b[0m\u001b[0;34m\u001b[0m\u001b[0;34m\u001b[0m\u001b[0m\n\u001b[1;32m   1247\u001b[0m \u001b[0;34m\u001b[0m\u001b[0m\n\u001b[0;32m-> 1248\u001b[0;31m         return self.execute(Command.FIND_ELEMENT, {\n\u001b[0m\u001b[1;32m   1249\u001b[0m             \u001b[0;34m'using'\u001b[0m\u001b[0;34m:\u001b[0m \u001b[0mby\u001b[0m\u001b[0;34m,\u001b[0m\u001b[0;34m\u001b[0m\u001b[0;34m\u001b[0m\u001b[0m\n\u001b[1;32m   1250\u001b[0m             'value': value})['value']\n",
      "\u001b[0;32m~/anaconda3/lib/python3.9/site-packages/selenium/webdriver/remote/webdriver.py\u001b[0m in \u001b[0;36mexecute\u001b[0;34m(self, driver_command, params)\u001b[0m\n\u001b[1;32m    423\u001b[0m         \u001b[0mresponse\u001b[0m \u001b[0;34m=\u001b[0m \u001b[0mself\u001b[0m\u001b[0;34m.\u001b[0m\u001b[0mcommand_executor\u001b[0m\u001b[0;34m.\u001b[0m\u001b[0mexecute\u001b[0m\u001b[0;34m(\u001b[0m\u001b[0mdriver_command\u001b[0m\u001b[0;34m,\u001b[0m \u001b[0mparams\u001b[0m\u001b[0;34m)\u001b[0m\u001b[0;34m\u001b[0m\u001b[0;34m\u001b[0m\u001b[0m\n\u001b[1;32m    424\u001b[0m         \u001b[0;32mif\u001b[0m \u001b[0mresponse\u001b[0m\u001b[0;34m:\u001b[0m\u001b[0;34m\u001b[0m\u001b[0;34m\u001b[0m\u001b[0m\n\u001b[0;32m--> 425\u001b[0;31m             \u001b[0mself\u001b[0m\u001b[0;34m.\u001b[0m\u001b[0merror_handler\u001b[0m\u001b[0;34m.\u001b[0m\u001b[0mcheck_response\u001b[0m\u001b[0;34m(\u001b[0m\u001b[0mresponse\u001b[0m\u001b[0;34m)\u001b[0m\u001b[0;34m\u001b[0m\u001b[0;34m\u001b[0m\u001b[0m\n\u001b[0m\u001b[1;32m    426\u001b[0m             response['value'] = self._unwrap_value(\n\u001b[1;32m    427\u001b[0m                 response.get('value', None))\n",
      "\u001b[0;32m~/anaconda3/lib/python3.9/site-packages/selenium/webdriver/remote/errorhandler.py\u001b[0m in \u001b[0;36mcheck_response\u001b[0;34m(self, response)\u001b[0m\n\u001b[1;32m    245\u001b[0m                 \u001b[0malert_text\u001b[0m \u001b[0;34m=\u001b[0m \u001b[0mvalue\u001b[0m\u001b[0;34m[\u001b[0m\u001b[0;34m'alert'\u001b[0m\u001b[0;34m]\u001b[0m\u001b[0;34m.\u001b[0m\u001b[0mget\u001b[0m\u001b[0;34m(\u001b[0m\u001b[0;34m'text'\u001b[0m\u001b[0;34m)\u001b[0m\u001b[0;34m\u001b[0m\u001b[0;34m\u001b[0m\u001b[0m\n\u001b[1;32m    246\u001b[0m             \u001b[0;32mraise\u001b[0m \u001b[0mexception_class\u001b[0m\u001b[0;34m(\u001b[0m\u001b[0mmessage\u001b[0m\u001b[0;34m,\u001b[0m \u001b[0mscreen\u001b[0m\u001b[0;34m,\u001b[0m \u001b[0mstacktrace\u001b[0m\u001b[0;34m,\u001b[0m \u001b[0malert_text\u001b[0m\u001b[0;34m)\u001b[0m  \u001b[0;31m# type: ignore[call-arg]  # mypy is not smart enough here\u001b[0m\u001b[0;34m\u001b[0m\u001b[0;34m\u001b[0m\u001b[0m\n\u001b[0;32m--> 247\u001b[0;31m         \u001b[0;32mraise\u001b[0m \u001b[0mexception_class\u001b[0m\u001b[0;34m(\u001b[0m\u001b[0mmessage\u001b[0m\u001b[0;34m,\u001b[0m \u001b[0mscreen\u001b[0m\u001b[0;34m,\u001b[0m \u001b[0mstacktrace\u001b[0m\u001b[0;34m)\u001b[0m\u001b[0;34m\u001b[0m\u001b[0;34m\u001b[0m\u001b[0m\n\u001b[0m\u001b[1;32m    248\u001b[0m \u001b[0;34m\u001b[0m\u001b[0m\n\u001b[1;32m    249\u001b[0m     \u001b[0;32mdef\u001b[0m \u001b[0m_value_or_default\u001b[0m\u001b[0;34m(\u001b[0m\u001b[0mself\u001b[0m\u001b[0;34m,\u001b[0m \u001b[0mobj\u001b[0m\u001b[0;34m:\u001b[0m \u001b[0mMapping\u001b[0m\u001b[0;34m[\u001b[0m\u001b[0m_KT\u001b[0m\u001b[0;34m,\u001b[0m \u001b[0m_VT\u001b[0m\u001b[0;34m]\u001b[0m\u001b[0;34m,\u001b[0m \u001b[0mkey\u001b[0m\u001b[0;34m:\u001b[0m \u001b[0m_KT\u001b[0m\u001b[0;34m,\u001b[0m \u001b[0mdefault\u001b[0m\u001b[0;34m:\u001b[0m \u001b[0m_VT\u001b[0m\u001b[0;34m)\u001b[0m \u001b[0;34m->\u001b[0m \u001b[0m_VT\u001b[0m\u001b[0;34m:\u001b[0m\u001b[0;34m\u001b[0m\u001b[0;34m\u001b[0m\u001b[0m\n",
      "\u001b[0;31mNoSuchElementException\u001b[0m: Message: no such element: Unable to locate element: {\"method\":\"css selector\",\"selector\":\".nodata\"}\n  (Session info: chrome=100.0.4896.60)\nStacktrace:\n#0 0x55a032227ad3 <unknown>\n#1 0x55a031f87568 <unknown>\n#2 0x55a031fbdc46 <unknown>\n#3 0x55a031fbde01 <unknown>\n#4 0x55a031ff0a64 <unknown>\n#5 0x55a031fdb61d <unknown>\n#6 0x55a031fee824 <unknown>\n#7 0x55a031fdb4e3 <unknown>\n#8 0x55a031fb0d1a <unknown>\n#9 0x55a031fb1e75 <unknown>\n#10 0x55a032255efd <unknown>\n#11 0x55a03226f19b <unknown>\n#12 0x55a032257c65 <unknown>\n#13 0x55a03226fec8 <unknown>\n#14 0x55a03224b360 <unknown>\n#15 0x55a03228ba68 <unknown>\n#16 0x55a03228bbe8 <unknown>\n#17 0x55a0322a57fd <unknown>\n#18 0x7fd0c8ed7609 <unknown>\n"
     ]
    }
   ],
   "source": [
    "        driver.get(element)\n",
    "        time.sleep(3)\n",
    "        driver.switch_to.frame('cafe_main')\n",
    "        if driver.find_element_by_class_name(\"nodata\").text == '삭제되었거나 없는 게시글입니다.':\n",
    "        ### 제목 \n",
    "            if driver.find_element_by_class_name(\"title_text\").text == None:\n",
    "                title = '제목이없습니다.'\n",
    "            else:\n",
    "                title =driver.find_element_by_class_name(\"title_text\").text\n",
    "\n",
    "        \n",
    "        ### 내용\n",
    "        if driver.find_elements_by_tag_name('p')[0].text == None:\n",
    "            contents =driver.find_element_by_xpath('/html/body/div/div/div/div[2]/div[2]/div[1]/div/div[1]/div/div').find_elements_by_tag_name('b')\n",
    "        else:\n",
    "            contents =driver.find_element_by_xpath('/html/body/div/div/div/div[2]/div[2]/div[1]/div/div[1]/div/div').find_elements_by_tag_name('p')\n",
    "        content = ''\n",
    "        for j,item in enumerate(contents):\n",
    "            content += contents[j].text+'\\n'\n",
    "        \n",
    "        \n",
    "        ### 댓글\n",
    "        comments=driver.find_elements_by_class_name('text_comment')\n",
    "        comment = ''\n",
    "        for k,com in enumerate(comments):\n",
    "            comment += comments[k].text+'\\n'\n",
    "        \n",
    "        if comment  == '':\n",
    "            comment = '댓글이없습니다.'\n",
    "        ### 추가\n",
    "        titles.append(title) ## 제목\n",
    "        contentss.append(content) ## 내용     \n",
    "        commentss.append(comment) ## 댓글 어펜드\n",
    "        link_boards.append(driver.find_element_by_class_name('link_board').text)### 필터링\n",
    "        dates.append(driver.find_element_by_class_name('date').text)"
   ]
  },
  {
   "cell_type": "code",
   "execution_count": 13,
   "id": "e619e214-8dca-4624-9e9f-464d91cfdc0f",
   "metadata": {
    "execution": {
     "iopub.execute_input": "2022-04-05T13:43:47.952402Z",
     "iopub.status.busy": "2022-04-05T13:43:47.951924Z",
     "iopub.status.idle": "2022-04-05T13:43:47.961435Z",
     "shell.execute_reply": "2022-04-05T13:43:47.960657Z",
     "shell.execute_reply.started": "2022-04-05T13:43:47.952328Z"
    },
    "tags": []
   },
   "outputs": [],
   "source": [
    "def delete_iframe(url):\n",
    "    headers = {\"User-Agent\":\"Mozilla/5.0 (Windows NT 10.0; Win64; x64) AppleWebKit/537.36 (KHTML, like Gecko) Chrome/90.0.4430.93 Safari/537.36\"}\n",
    "    res = requests.get(url, headers=headers)\n",
    "    res.raise_for_status() # 문제시 프로그램 종료\n",
    "    soup = BeautifulSoup(res.text, \"lxml\") \n",
    "\n",
    "#     src_url = \"https://gall.dcinside.com/\" + soup.iframe[\"src\"]\n",
    "    \n",
    "    return soup"
   ]
  },
  {
   "cell_type": "code",
   "execution_count": 14,
   "id": "e68e9f9e-152b-44f5-a434-4b2f3f056b41",
   "metadata": {
    "execution": {
     "iopub.execute_input": "2022-04-05T13:17:55.046886Z",
     "iopub.status.busy": "2022-04-05T13:17:55.046364Z",
     "iopub.status.idle": "2022-04-05T13:18:14.032730Z",
     "shell.execute_reply": "2022-04-05T13:18:14.032392Z",
     "shell.execute_reply.started": "2022-04-05T13:17:55.046820Z"
    },
    "tags": []
   },
   "outputs": [
    {
     "name": "stderr",
     "output_type": "stream",
     "text": [
      "C:\\Users\\alsdn\\AppData\\Local\\Temp/ipykernel_7224/4135062137.py:11: DeprecationWarning: find_element_by_class_name is deprecated. Please use find_element(by=By.CLASS_NAME, value=name) instead\n",
      "  if driver.find_element_by_class_name(\"nodata\").text == '등록된 게시글이 없습니다.':\n",
      "C:\\Users\\alsdn\\AppData\\Local\\Temp/ipykernel_7224/4135062137.py:17: DeprecationWarning: find_element_by_xpath is deprecated. Please use find_element(by=By.XPATH, value=xpath) instead\n",
      "  b = driver.find_element_by_xpath('/html/body/div[1]/div/div[5]/table/tbody')\n",
      "C:\\Users\\alsdn\\anaconda3\\lib\\site-packages\\selenium\\webdriver\\remote\\webelement.py:464: UserWarning: find_elements_by_class_name is deprecated. Please use find_elements(by=By.CLASS_NAME, value=name) instead\n",
      "  warnings.warn(\"find_elements_by_class_name is deprecated. Please use find_elements(by=By.CLASS_NAME, value=name) instead\")\n",
      "C:\\Users\\alsdn\\AppData\\Local\\Temp/ipykernel_7224/4135062137.py:20: DeprecationWarning: find_elements_by_class_name is deprecated. Please use find_elements(by=By.CLASS_NAME, value=name) instead\n",
      "  pops.append(driver.find_elements_by_class_name('td_view')[i].text)\n"
     ]
    }
   ],
   "source": [
    "address=[]\n",
    "pops=[]\n",
    "page= 0\n",
    "#while page < 0:\n",
    "while page < 100:\n",
    "    try:\n",
    "        page+=1\n",
    "        driver.get(f\"https://cafe.naver.com/jejutip?iframe_url=/ArticleSearchList.nhn%3Fsearch.clubid=10456178%26search.media=0%26search.searchdate=all%26search.exact=%26search.include=%26userDisplay=50%26search.exclude=%26search.option=0%26search.sortBy=date%26search.searchBy=0%26search.includeAll=%26search.query=%C1%A6%C1%D6+%BF%A9%C7%E0+%C8%C4%B1%E2%26search.viewtype=title%26search.page={page}\")\n",
    "        driver.switch_to.frame(\"cafe_main\")\n",
    "        try:\n",
    "            if driver.find_element_by_class_name(\"nodata\").text == '등록된 게시글이 없습니다.':\n",
    "            # 무한으로 다음페이지로 넘어가는데 만약에 등록된게시글이 없습니다가 나오면 다음페이지로 넘어가는것을 멈춤\n",
    "                break\n",
    "        except:\n",
    "            pass\n",
    "\n",
    "        b = driver.find_element_by_xpath('/html/body/div[1]/div/div[5]/table/tbody')\n",
    "        for i in range(0,100):\n",
    "            address.append(b.find_elements_by_class_name('article')[i].get_attribute('href'))\n",
    "            pops.append(driver.find_elements_by_class_name('td_view')[i].text)\n",
    "       \n",
    "    except:\n",
    "        pass"
   ]
  },
  {
   "cell_type": "code",
   "execution_count": 17,
   "id": "52d36eb3",
   "metadata": {},
   "outputs": [
    {
     "data": {
      "text/plain": [
       "(5000, 5000)"
      ]
     },
     "execution_count": 17,
     "metadata": {},
     "output_type": "execute_result"
    }
   ],
   "source": [
    "len(address),len(pops)"
   ]
  },
  {
   "cell_type": "code",
   "execution_count": 18,
   "id": "f3001de1",
   "metadata": {},
   "outputs": [],
   "source": [
    "df =pd.DataFrame({\n",
    "  'address' : address ,\n",
    "  'pops' : pops,  \n",
    "})"
   ]
  },
  {
   "cell_type": "code",
   "execution_count": 19,
   "id": "4ec600c3",
   "metadata": {},
   "outputs": [
    {
     "data": {
      "text/html": [
       "<div>\n",
       "<style scoped>\n",
       "    .dataframe tbody tr th:only-of-type {\n",
       "        vertical-align: middle;\n",
       "    }\n",
       "\n",
       "    .dataframe tbody tr th {\n",
       "        vertical-align: top;\n",
       "    }\n",
       "\n",
       "    .dataframe thead th {\n",
       "        text-align: right;\n",
       "    }\n",
       "</style>\n",
       "<table border=\"1\" class=\"dataframe\">\n",
       "  <thead>\n",
       "    <tr style=\"text-align: right;\">\n",
       "      <th></th>\n",
       "      <th>address</th>\n",
       "      <th>pops</th>\n",
       "    </tr>\n",
       "  </thead>\n",
       "  <tbody>\n",
       "    <tr>\n",
       "      <th>0</th>\n",
       "      <td>https://cafe.naver.com/ca-fe/ArticleRead.nhn?c...</td>\n",
       "      <td>130</td>\n",
       "    </tr>\n",
       "    <tr>\n",
       "      <th>1</th>\n",
       "      <td>https://cafe.naver.com/ca-fe/ArticleRead.nhn?c...</td>\n",
       "      <td>149</td>\n",
       "    </tr>\n",
       "  </tbody>\n",
       "</table>\n",
       "</div>"
      ],
      "text/plain": [
       "                                             address pops\n",
       "0  https://cafe.naver.com/ca-fe/ArticleRead.nhn?c...  130\n",
       "1  https://cafe.naver.com/ca-fe/ArticleRead.nhn?c...  149"
      ]
     },
     "execution_count": 19,
     "metadata": {},
     "output_type": "execute_result"
    }
   ],
   "source": [
    "df.head(2)"
   ]
  },
  {
   "cell_type": "code",
   "execution_count": 20,
   "id": "ca614cc6",
   "metadata": {},
   "outputs": [],
   "source": [
    "df.to_csv('G:\\내 드라이브\\Data/주소및조회수(느영나영).csv',index=False)"
   ]
  },
  {
   "cell_type": "code",
   "execution_count": 42,
   "id": "d20a5377-b0cc-4bef-87ba-5cb3c52f9cce",
   "metadata": {
    "execution": {
     "iopub.execute_input": "2022-04-05T14:00:30.470172Z",
     "iopub.status.busy": "2022-04-05T14:00:30.469693Z",
     "iopub.status.idle": "2022-04-05T18:03:49.188534Z",
     "shell.execute_reply": "2022-04-05T18:03:49.187669Z",
     "shell.execute_reply.started": "2022-04-05T14:00:30.470105Z"
    },
    "tags": []
   },
   "outputs": [
    {
     "name": "stderr",
     "output_type": "stream",
     "text": [
      "  0%|                                                  | 0/5000 [00:00<?, ?it/s]/tmp/ipykernel_172285/1239442208.py:12: DeprecationWarning: find_element_by_class_name is deprecated. Please use find_element(by=By.CLASS_NAME, value=name) instead\n",
      "  if driver.find_element_by_class_name(\"nodata\").text == '삭제되었거나 없는 게시글입니다.':\n",
      "/tmp/ipykernel_172285/1239442208.py:19: DeprecationWarning: find_element_by_class_name is deprecated. Please use find_element(by=By.CLASS_NAME, value=name) instead\n",
      "  if driver.find_element_by_class_name(\"title_text\").text == None:\n",
      "/tmp/ipykernel_172285/1239442208.py:23: DeprecationWarning: find_element_by_class_name is deprecated. Please use find_element(by=By.CLASS_NAME, value=name) instead\n",
      "  title =driver.find_element_by_class_name(\"title_text\").text\n",
      "/tmp/ipykernel_172285/1239442208.py:30: DeprecationWarning: find_elements_by_tag_name is deprecated. Please use find_elements(by=By.TAG_NAME, value=name) instead\n",
      "  if driver.find_elements_by_tag_name('p')[0].text == None:\n",
      "/tmp/ipykernel_172285/1239442208.py:33: DeprecationWarning: find_element_by_xpath is deprecated. Please use find_element(by=By.XPATH, value=xpath) instead\n",
      "  contents =driver.find_element_by_xpath('/html/body/div/div/div/div[2]/div[2]/div[1]/div/div[1]/div/div').find_elements_by_tag_name('p')\n",
      "/tmp/ipykernel_172285/1239442208.py:40: DeprecationWarning: find_elements_by_class_name is deprecated. Please use find_elements(by=By.CLASS_NAME, value=name) instead\n",
      "  comments=driver.find_elements_by_class_name('text_comment')\n",
      "/tmp/ipykernel_172285/1239442208.py:51: DeprecationWarning: find_element_by_class_name is deprecated. Please use find_element(by=By.CLASS_NAME, value=name) instead\n",
      "  link_boards.append(driver.find_element_by_class_name('link_board').text)### 필터링\n",
      "/tmp/ipykernel_172285/1239442208.py:52: DeprecationWarning: find_element_by_class_name is deprecated. Please use find_element(by=By.CLASS_NAME, value=name) instead\n",
      "  dates.append(driver.find_element_by_class_name('date').text)\n",
      "  0%|                                       | 12/5000 [00:42<4:39:51,  3.37s/it]"
     ]
    },
    {
     "name": "stdout",
     "output_type": "stream",
     "text": [
      "내용이없거나 댓글이없습니다.\n"
     ]
    },
    {
     "name": "stderr",
     "output_type": "stream",
     "text": [
      "  3%|█▏                                    | 155/5000 [10:26<4:48:37,  3.57s/it]"
     ]
    },
    {
     "name": "stdout",
     "output_type": "stream",
     "text": [
      "내용이없거나 댓글이없습니다.\n"
     ]
    },
    {
     "name": "stderr",
     "output_type": "stream",
     "text": [
      "  3%|█▏                                    | 162/5000 [10:50<4:11:24,  3.12s/it]"
     ]
    },
    {
     "name": "stdout",
     "output_type": "stream",
     "text": [
      "내용이없거나 댓글이없습니다.\n"
     ]
    },
    {
     "name": "stderr",
     "output_type": "stream",
     "text": [
      "  4%|█▍                                    | 196/5000 [13:13<5:03:03,  3.79s/it]"
     ]
    },
    {
     "name": "stdout",
     "output_type": "stream",
     "text": [
      "내용이없거나 댓글이없습니다.\n"
     ]
    },
    {
     "name": "stderr",
     "output_type": "stream",
     "text": [
      "  4%|█▌                                    | 199/5000 [13:24<4:43:25,  3.54s/it]"
     ]
    },
    {
     "name": "stdout",
     "output_type": "stream",
     "text": [
      "내용이없거나 댓글이없습니다.\n"
     ]
    },
    {
     "name": "stderr",
     "output_type": "stream",
     "text": [
      "  6%|██▏                                   | 289/5000 [19:08<4:43:22,  3.61s/it]"
     ]
    },
    {
     "name": "stdout",
     "output_type": "stream",
     "text": [
      "내용이없거나 댓글이없습니다.\n"
     ]
    },
    {
     "name": "stderr",
     "output_type": "stream",
     "text": [
      "  9%|███▍                                  | 455/5000 [29:44<4:29:41,  3.56s/it]"
     ]
    },
    {
     "name": "stdout",
     "output_type": "stream",
     "text": [
      "내용이없거나 댓글이없습니다.\n"
     ]
    },
    {
     "name": "stderr",
     "output_type": "stream",
     "text": [
      " 13%|████▊                                 | 641/5000 [42:36<4:23:09,  3.62s/it]"
     ]
    },
    {
     "name": "stdout",
     "output_type": "stream",
     "text": [
      "내용이없거나 댓글이없습니다.\n"
     ]
    },
    {
     "name": "stderr",
     "output_type": "stream",
     "text": [
      " 14%|█████▍                                | 720/5000 [47:47<3:38:10,  3.06s/it]"
     ]
    },
    {
     "name": "stdout",
     "output_type": "stream",
     "text": [
      "내용이없거나 댓글이없습니다.\n"
     ]
    },
    {
     "name": "stderr",
     "output_type": "stream",
     "text": [
      " 15%|█████▊                                | 761/5000 [50:07<3:34:44,  3.04s/it]"
     ]
    },
    {
     "name": "stdout",
     "output_type": "stream",
     "text": [
      "내용이없거나 댓글이없습니다.\n"
     ]
    },
    {
     "name": "stderr",
     "output_type": "stream",
     "text": [
      " 17%|██████▎                               | 829/5000 [53:17<3:06:15,  2.68s/it]"
     ]
    },
    {
     "name": "stdout",
     "output_type": "stream",
     "text": [
      "내용이없거나 댓글이없습니다.\n"
     ]
    },
    {
     "name": "stderr",
     "output_type": "stream",
     "text": [
      " 17%|██████▎                               | 836/5000 [53:36<3:02:55,  2.64s/it]"
     ]
    },
    {
     "name": "stdout",
     "output_type": "stream",
     "text": [
      "내용이없거나 댓글이없습니다.\n"
     ]
    },
    {
     "name": "stderr",
     "output_type": "stream",
     "text": [
      " 17%|██████▍                               | 845/5000 [53:59<2:58:17,  2.57s/it]"
     ]
    },
    {
     "name": "stdout",
     "output_type": "stream",
     "text": [
      "내용이없거나 댓글이없습니다.\n"
     ]
    },
    {
     "name": "stderr",
     "output_type": "stream",
     "text": [
      " 17%|██████▍                               | 854/5000 [54:23<3:03:12,  2.65s/it]"
     ]
    },
    {
     "name": "stdout",
     "output_type": "stream",
     "text": [
      "내용이없거나 댓글이없습니다.\n"
     ]
    },
    {
     "name": "stderr",
     "output_type": "stream",
     "text": [
      " 18%|██████▊                               | 890/5000 [56:02<2:58:21,  2.60s/it]"
     ]
    },
    {
     "name": "stdout",
     "output_type": "stream",
     "text": [
      "내용이없거나 댓글이없습니다.\n"
     ]
    },
    {
     "name": "stderr",
     "output_type": "stream",
     "text": [
      " 18%|██████▊                               | 891/5000 [56:04<2:56:59,  2.58s/it]"
     ]
    },
    {
     "name": "stdout",
     "output_type": "stream",
     "text": [
      "내용이없거나 댓글이없습니다.\n"
     ]
    },
    {
     "name": "stderr",
     "output_type": "stream",
     "text": [
      " 18%|██████▉                               | 916/5000 [57:16<3:37:28,  3.20s/it]"
     ]
    },
    {
     "name": "stdout",
     "output_type": "stream",
     "text": [
      "내용이없거나 댓글이없습니다.\n"
     ]
    },
    {
     "name": "stderr",
     "output_type": "stream",
     "text": [
      " 19%|███████                               | 926/5000 [57:42<2:52:09,  2.54s/it]"
     ]
    },
    {
     "name": "stdout",
     "output_type": "stream",
     "text": [
      "내용이없거나 댓글이없습니다.\n"
     ]
    },
    {
     "name": "stderr",
     "output_type": "stream",
     "text": [
      " 19%|███████▏                              | 947/5000 [58:39<3:01:13,  2.68s/it]"
     ]
    },
    {
     "name": "stdout",
     "output_type": "stream",
     "text": [
      "내용이없거나 댓글이없습니다.\n"
     ]
    },
    {
     "name": "stderr",
     "output_type": "stream",
     "text": [
      " 19%|███████▍                              | 974/5000 [59:52<2:55:28,  2.62s/it]"
     ]
    },
    {
     "name": "stdout",
     "output_type": "stream",
     "text": [
      "내용이없거나 댓글이없습니다.\n"
     ]
    },
    {
     "name": "stderr",
     "output_type": "stream",
     "text": [
      " 20%|███████▏                            | 993/5000 [1:00:43<2:53:34,  2.60s/it]"
     ]
    },
    {
     "name": "stdout",
     "output_type": "stream",
     "text": [
      "내용이없거나 댓글이없습니다.\n"
     ]
    },
    {
     "name": "stderr",
     "output_type": "stream",
     "text": [
      " 22%|███████▌                           | 1081/5000 [1:04:36<2:46:26,  2.55s/it]"
     ]
    },
    {
     "name": "stdout",
     "output_type": "stream",
     "text": [
      "내용이없거나 댓글이없습니다.\n"
     ]
    },
    {
     "name": "stderr",
     "output_type": "stream",
     "text": [
      " 23%|████████                           | 1159/5000 [1:08:07<2:40:50,  2.51s/it]"
     ]
    },
    {
     "name": "stdout",
     "output_type": "stream",
     "text": [
      "내용이없거나 댓글이없습니다.\n"
     ]
    },
    {
     "name": "stderr",
     "output_type": "stream",
     "text": [
      " 30%|██████████▌                        | 1510/5000 [1:23:50<2:38:03,  2.72s/it]"
     ]
    },
    {
     "name": "stdout",
     "output_type": "stream",
     "text": [
      "내용이없거나 댓글이없습니다.\n"
     ]
    },
    {
     "name": "stderr",
     "output_type": "stream",
     "text": [
      " 34%|███████████▋                       | 1675/5000 [1:31:28<2:26:17,  2.64s/it]"
     ]
    },
    {
     "name": "stdout",
     "output_type": "stream",
     "text": [
      "내용이없거나 댓글이없습니다.\n"
     ]
    },
    {
     "name": "stderr",
     "output_type": "stream",
     "text": [
      " 34%|███████████▊                       | 1684/5000 [1:31:51<2:19:28,  2.52s/it]"
     ]
    },
    {
     "name": "stdout",
     "output_type": "stream",
     "text": [
      "내용이없거나 댓글이없습니다.\n"
     ]
    },
    {
     "name": "stderr",
     "output_type": "stream",
     "text": [
      " 34%|███████████▊                       | 1685/5000 [1:31:53<2:18:25,  2.51s/it]"
     ]
    },
    {
     "name": "stdout",
     "output_type": "stream",
     "text": [
      "내용이없거나 댓글이없습니다.\n"
     ]
    },
    {
     "name": "stderr",
     "output_type": "stream",
     "text": [
      " 38%|█████████████▏                     | 1880/5000 [1:41:00<2:38:46,  3.05s/it]"
     ]
    },
    {
     "name": "stdout",
     "output_type": "stream",
     "text": [
      "내용이없거나 댓글이없습니다.\n"
     ]
    },
    {
     "name": "stderr",
     "output_type": "stream",
     "text": [
      " 38%|█████████████▎                     | 1893/5000 [1:41:36<2:18:55,  2.68s/it]"
     ]
    },
    {
     "name": "stdout",
     "output_type": "stream",
     "text": [
      "내용이없거나 댓글이없습니다.\n"
     ]
    },
    {
     "name": "stderr",
     "output_type": "stream",
     "text": [
      " 42%|██████████████▊                    | 2123/5000 [1:52:12<1:58:12,  2.47s/it]"
     ]
    },
    {
     "name": "stdout",
     "output_type": "stream",
     "text": [
      "내용이없거나 댓글이없습니다.\n"
     ]
    },
    {
     "name": "stderr",
     "output_type": "stream",
     "text": [
      " 65%|██████████████████████▉            | 3270/5000 [2:44:43<1:15:41,  2.63s/it]"
     ]
    },
    {
     "name": "stdout",
     "output_type": "stream",
     "text": [
      "내용이없거나 댓글이없습니다.\n"
     ]
    },
    {
     "name": "stderr",
     "output_type": "stream",
     "text": [
      " 69%|████████████████████████▎          | 3470/5000 [2:53:50<1:03:05,  2.47s/it]"
     ]
    },
    {
     "name": "stdout",
     "output_type": "stream",
     "text": [
      "내용이없거나 댓글이없습니다.\n"
     ]
    },
    {
     "name": "stderr",
     "output_type": "stream",
     "text": [
      " 78%|█████████████████████████████        | 3924/5000 [3:14:32<45:20,  2.53s/it]"
     ]
    },
    {
     "name": "stdout",
     "output_type": "stream",
     "text": [
      "내용이없거나 댓글이없습니다.\n"
     ]
    },
    {
     "name": "stderr",
     "output_type": "stream",
     "text": [
      " 80%|█████████████████████████████▋       | 4008/5000 [3:18:17<42:26,  2.57s/it]"
     ]
    },
    {
     "name": "stdout",
     "output_type": "stream",
     "text": [
      "내용이없거나 댓글이없습니다.\n"
     ]
    },
    {
     "name": "stderr",
     "output_type": "stream",
     "text": [
      " 93%|██████████████████████████████████▌  | 4673/5000 [3:48:28<13:16,  2.44s/it]"
     ]
    },
    {
     "name": "stdout",
     "output_type": "stream",
     "text": [
      "내용이없거나 댓글이없습니다.\n"
     ]
    },
    {
     "name": "stderr",
     "output_type": "stream",
     "text": [
      " 95%|███████████████████████████████████▏ | 4760/5000 [3:52:18<10:41,  2.67s/it]"
     ]
    },
    {
     "name": "stdout",
     "output_type": "stream",
     "text": [
      "내용이없거나 댓글이없습니다.\n"
     ]
    },
    {
     "name": "stderr",
     "output_type": "stream",
     "text": [
      " 98%|████████████████████████████████████ | 4876/5000 [3:57:36<05:31,  2.67s/it]"
     ]
    },
    {
     "name": "stdout",
     "output_type": "stream",
     "text": [
      "내용이없거나 댓글이없습니다.\n"
     ]
    },
    {
     "name": "stderr",
     "output_type": "stream",
     "text": [
      "100%|█████████████████████████████████████| 5000/5000 [4:03:18<00:00,  2.92s/it]\n"
     ]
    }
   ],
   "source": [
    "titles = []\n",
    "contentss = []\n",
    "link_boards = []\n",
    "commentss = []\n",
    "dates=[]\n",
    "for element in tqdm(df.address):\n",
    "    try:\n",
    "        driver.get(element)\n",
    "        time.sleep(2)\n",
    "        driver.switch_to.frame('cafe_main')\n",
    "        try: \n",
    "            if driver.find_element_by_class_name(\"nodata\").text == '삭제되었거나 없는 게시글입니다.':\n",
    "                    break\n",
    "        except:\n",
    "                pass\n",
    "            \n",
    "        ### 제목 \n",
    "        try :\n",
    "            if driver.find_element_by_class_name(\"title_text\").text == None:\n",
    "                title = '제목이없습니다.'\n",
    "                pass\n",
    "            else:\n",
    "                title =driver.find_element_by_class_name(\"title_text\").text\n",
    "        except:\n",
    "            print('내용이없거나 댓글이없습니다.')\n",
    "            pass\n",
    "        \n",
    "        \n",
    "        ### 내용\n",
    "        if driver.find_elements_by_tag_name('p')[0].text == None:\n",
    "            contents =driver.find_element_by_xpath('/html/body/div/div/div/div[2]/div[2]/div[1]/div/div[1]/div/div').find_elements_by_tag_name('b')\n",
    "        else:\n",
    "            contents =driver.find_element_by_xpath('/html/body/div/div/div/div[2]/div[2]/div[1]/div/div[1]/div/div').find_elements_by_tag_name('p')\n",
    "        content = ''\n",
    "        for j,item in enumerate(contents):\n",
    "            content += contents[j].text+'\\n'\n",
    "        \n",
    "        \n",
    "        ### 댓글\n",
    "        comments=driver.find_elements_by_class_name('text_comment')\n",
    "        comment = ''\n",
    "        for k,com in enumerate(comments):\n",
    "            comment += comments[k].text+'\\n'\n",
    "        \n",
    "        if comment  == '':\n",
    "            comment = '댓글이없습니다.'\n",
    "        ### 추가\n",
    "        titles.append(title) ## 제목\n",
    "        contentss.append(content) ## 내용     \n",
    "        commentss.append(comment) ## 댓글 어펜드\n",
    "        link_boards.append(driver.find_element_by_class_name('link_board').text)### 필터링\n",
    "        dates.append(driver.find_element_by_class_name('date').text)\n",
    "\n",
    "    except:\n",
    "        pass"
   ]
  },
  {
   "cell_type": "code",
   "execution_count": 47,
   "id": "48ec3020-945b-4436-88af-d1a0bddc3baf",
   "metadata": {
    "execution": {
     "iopub.execute_input": "2022-04-05T22:06:40.156219Z",
     "iopub.status.busy": "2022-04-05T22:06:40.155750Z",
     "iopub.status.idle": "2022-04-05T22:06:40.165119Z",
     "shell.execute_reply": "2022-04-05T22:06:40.164755Z",
     "shell.execute_reply.started": "2022-04-05T22:06:40.156144Z"
    },
    "tags": []
   },
   "outputs": [
    {
     "data": {
      "text/plain": [
       "1404"
      ]
     },
     "execution_count": 47,
     "metadata": {},
     "output_type": "execute_result"
    }
   ],
   "source": [
    "len(contentss)"
   ]
  },
  {
   "cell_type": "code",
   "execution_count": 48,
   "id": "5c5f92c8-201d-4be0-a234-029e0f544d06",
   "metadata": {
    "execution": {
     "iopub.execute_input": "2022-04-05T22:06:48.716534Z",
     "iopub.status.busy": "2022-04-05T22:06:48.716019Z",
     "iopub.status.idle": "2022-04-05T22:06:48.727119Z",
     "shell.execute_reply": "2022-04-05T22:06:48.725535Z",
     "shell.execute_reply.started": "2022-04-05T22:06:48.716463Z"
    }
   },
   "outputs": [
    {
     "data": {
      "text/plain": [
       "1404"
      ]
     },
     "execution_count": 48,
     "metadata": {},
     "output_type": "execute_result"
    }
   ],
   "source": [
    "len(commentss)"
   ]
  },
  {
   "cell_type": "code",
   "execution_count": 49,
   "id": "69b93c40-86fa-47b6-b424-4c96a8d2ec51",
   "metadata": {
    "execution": {
     "iopub.execute_input": "2022-04-05T22:07:00.579509Z",
     "iopub.status.busy": "2022-04-05T22:07:00.578803Z",
     "iopub.status.idle": "2022-04-05T22:07:00.588806Z",
     "shell.execute_reply": "2022-04-05T22:07:00.588143Z",
     "shell.execute_reply.started": "2022-04-05T22:07:00.579414Z"
    }
   },
   "outputs": [
    {
     "data": {
      "text/plain": [
       "1404"
      ]
     },
     "execution_count": 49,
     "metadata": {},
     "output_type": "execute_result"
    }
   ],
   "source": [
    "len(link_boards)"
   ]
  },
  {
   "cell_type": "code",
   "execution_count": 52,
   "id": "b69c97bf-25eb-480f-9a79-28b7e57ec747",
   "metadata": {
    "execution": {
     "iopub.execute_input": "2022-04-05T22:07:25.946772Z",
     "iopub.status.busy": "2022-04-05T22:07:25.946197Z",
     "iopub.status.idle": "2022-04-05T22:07:25.957172Z",
     "shell.execute_reply": "2022-04-05T22:07:25.955661Z",
     "shell.execute_reply.started": "2022-04-05T22:07:25.946713Z"
    },
    "tags": []
   },
   "outputs": [
    {
     "data": {
      "text/plain": [
       "1404"
      ]
     },
     "execution_count": 52,
     "metadata": {},
     "output_type": "execute_result"
    }
   ],
   "source": [
    "len(dates)"
   ]
  },
  {
   "cell_type": "code",
   "execution_count": null,
   "id": "618b51d1-f379-4f0c-a5d2-7f69cb8f5f47",
   "metadata": {},
   "outputs": [],
   "source": [
    "titles[1000]"
   ]
  },
  {
   "cell_type": "code",
   "execution_count": null,
   "id": "759c0c83-0541-4248-8a7d-f9e12630aafd",
   "metadata": {},
   "outputs": [],
   "source": []
  },
  {
   "cell_type": "code",
   "execution_count": 53,
   "id": "b57da918-51eb-4756-9e4b-e8decd48e38a",
   "metadata": {
    "execution": {
     "iopub.execute_input": "2022-04-05T22:07:50.175096Z",
     "iopub.status.busy": "2022-04-05T22:07:50.174627Z",
     "iopub.status.idle": "2022-04-05T22:07:50.193233Z",
     "shell.execute_reply": "2022-04-05T22:07:50.192671Z",
     "shell.execute_reply.started": "2022-04-05T22:07:50.175013Z"
    },
    "tags": []
   },
   "outputs": [
    {
     "data": {
      "text/html": [
       "<div>\n",
       "<style scoped>\n",
       "    .dataframe tbody tr th:only-of-type {\n",
       "        vertical-align: middle;\n",
       "    }\n",
       "\n",
       "    .dataframe tbody tr th {\n",
       "        vertical-align: top;\n",
       "    }\n",
       "\n",
       "    .dataframe thead th {\n",
       "        text-align: right;\n",
       "    }\n",
       "</style>\n",
       "<table border=\"1\" class=\"dataframe\">\n",
       "  <thead>\n",
       "    <tr style=\"text-align: right;\">\n",
       "      <th></th>\n",
       "      <th>제목</th>\n",
       "      <th>내용</th>\n",
       "      <th>댓글</th>\n",
       "      <th>필터링</th>\n",
       "      <th>작성날짜</th>\n",
       "    </tr>\n",
       "  </thead>\n",
       "  <tbody>\n",
       "    <tr>\n",
       "      <th>0</th>\n",
       "      <td>&lt;내돈내탄 31편&gt; 뚜벅이 필수템! 이브이패스 이용방법 후기</td>\n",
       "      <td>\\n\\n&lt;내돈내탄 31편&gt; 이브이패스 고객님 찐 후기\\n네이버 블로거 @옌니\\n\\n...</td>\n",
       "      <td>댓글이없습니다.</td>\n",
       "      <td>전동 킥보드 여행</td>\n",
       "      <td>2022.04.05. 15:48</td>\n",
       "    </tr>\n",
       "    <tr>\n",
       "      <th>1</th>\n",
       "      <td>남자 혼자 3박 4일 일정!</td>\n",
       "      <td>4. 8.~4. 11. 남자 혼자 가는 제주 여행 일정인데, 시계 또는 반시계로 한...</td>\n",
       "      <td>제가 혼자 지난주에\\n반시계 방향으로 돌았습니다\\n후기 가볍게 보세요 ^^\\n저도 ...</td>\n",
       "      <td>종합여행 질문</td>\n",
       "      <td>2022.04.05. 07:20</td>\n",
       "    </tr>\n",
       "    <tr>\n",
       "      <th>2</th>\n",
       "      <td>제주시 + 동쪽 추천코스 올려봐용 ~!! ㅎㅎ</td>\n",
       "      <td>\\n순서대로 \\n\\n1. 삼성혈 \\n줄서있는 포토존쪽에 문으로 입장해보세요. 사원이...</td>\n",
       "      <td>오 ㄹㄹ이 어딘가요?\\n록록!! ㅎㅎ\\n포토존천국이애용\\n감사합니다!\\n서우봉에서 ...</td>\n",
       "      <td>주간 추천여행지</td>\n",
       "      <td>2022.04.03. 22:55</td>\n",
       "    </tr>\n",
       "  </tbody>\n",
       "</table>\n",
       "</div>"
      ],
      "text/plain": [
       "                                  제목  \\\n",
       "0  <내돈내탄 31편> 뚜벅이 필수템! 이브이패스 이용방법 후기   \n",
       "1                    남자 혼자 3박 4일 일정!   \n",
       "2          제주시 + 동쪽 추천코스 올려봐용 ~!! ㅎㅎ   \n",
       "\n",
       "                                                  내용  \\\n",
       "0  \\n\\n<내돈내탄 31편> 이브이패스 고객님 찐 후기\\n네이버 블로거 @옌니\\n\\n...   \n",
       "1  4. 8.~4. 11. 남자 혼자 가는 제주 여행 일정인데, 시계 또는 반시계로 한...   \n",
       "2  \\n순서대로 \\n\\n1. 삼성혈 \\n줄서있는 포토존쪽에 문으로 입장해보세요. 사원이...   \n",
       "\n",
       "                                                  댓글        필터링  \\\n",
       "0                                           댓글이없습니다.  전동 킥보드 여행   \n",
       "1  제가 혼자 지난주에\\n반시계 방향으로 돌았습니다\\n후기 가볍게 보세요 ^^\\n저도 ...    종합여행 질문   \n",
       "2  오 ㄹㄹ이 어딘가요?\\n록록!! ㅎㅎ\\n포토존천국이애용\\n감사합니다!\\n서우봉에서 ...   주간 추천여행지   \n",
       "\n",
       "                작성날짜  \n",
       "0  2022.04.05. 15:48  \n",
       "1  2022.04.05. 07:20  \n",
       "2  2022.04.03. 22:55  "
      ]
     },
     "execution_count": 53,
     "metadata": {},
     "output_type": "execute_result"
    }
   ],
   "source": [
    "df2=pd.DataFrame({\"제목\":titles ,\n",
    "                  \"내용\":contentss,\n",
    "                  '댓글':commentss,\n",
    "                  '필터링':link_boards,\n",
    "                  '작성날짜':dates,\n",
    "                 })\n",
    "df2.head(3)"
   ]
  },
  {
   "cell_type": "code",
   "execution_count": 58,
   "id": "2e1ce2e1-ecef-467e-8378-b9779dcbad46",
   "metadata": {
    "execution": {
     "iopub.execute_input": "2022-04-05T22:09:07.629021Z",
     "iopub.status.busy": "2022-04-05T22:09:07.628520Z",
     "iopub.status.idle": "2022-04-05T22:09:07.638228Z",
     "shell.execute_reply": "2022-04-05T22:09:07.637415Z",
     "shell.execute_reply.started": "2022-04-05T22:09:07.628964Z"
    }
   },
   "outputs": [
    {
     "data": {
      "text/plain": [
       "'/home/miwoos/WorkSpace/navercafecrawling'"
      ]
     },
     "execution_count": 58,
     "metadata": {},
     "output_type": "execute_result"
    }
   ],
   "source": [
    "pwd"
   ]
  },
  {
   "cell_type": "code",
   "execution_count": 59,
   "id": "622c8918-904c-4739-b828-721f0eb20982",
   "metadata": {
    "execution": {
     "iopub.execute_input": "2022-04-05T22:09:11.328944Z",
     "iopub.status.busy": "2022-04-05T22:09:11.328506Z",
     "iopub.status.idle": "2022-04-05T22:09:16.851935Z",
     "shell.execute_reply": "2022-04-05T22:09:16.849956Z",
     "shell.execute_reply.started": "2022-04-05T22:09:11.328885Z"
    },
    "tags": []
   },
   "outputs": [],
   "source": [
    "df2.to_csv('/home/miwoos/WorkSpace/GoogleDrive/Data/느영나영_여행키워드조사.csv',index=False)"
   ]
  },
  {
   "cell_type": "markdown",
   "id": "d7b33c6e-3b23-4987-b82a-487a7a261cd3",
   "metadata": {
    "tags": []
   },
   "source": [
    "## 워드클라우드"
   ]
  },
  {
   "cell_type": "markdown",
   "id": "775effef-3a79-41e2-b407-21ce2173dc35",
   "metadata": {
    "execution": {
     "iopub.execute_input": "2022-04-06T00:03:55.780081Z",
     "iopub.status.busy": "2022-04-06T00:03:55.779580Z",
     "iopub.status.idle": "2022-04-06T00:03:55.788498Z",
     "shell.execute_reply": "2022-04-06T00:03:55.787073Z",
     "shell.execute_reply.started": "2022-04-06T00:03:55.780025Z"
    }
   },
   "source": [
    "펑츄에이션을 이용한 특수 문자 제거\n"
   ]
  },
  {
   "cell_type": "code",
   "execution_count": 78,
   "id": "df85229d-c2ec-440c-8977-d50870b691f7",
   "metadata": {
    "execution": {
     "iopub.execute_input": "2022-04-06T00:11:18.193817Z",
     "iopub.status.busy": "2022-04-06T00:11:18.193371Z",
     "iopub.status.idle": "2022-04-06T00:11:19.184709Z",
     "shell.execute_reply": "2022-04-06T00:11:19.182835Z",
     "shell.execute_reply.started": "2022-04-06T00:11:18.193744Z"
    },
    "tags": []
   },
   "outputs": [],
   "source": [
    "from konlpy.tag import Okt \n",
    "okt = Okt()\n",
    "import konlpy"
   ]
  },
  {
   "cell_type": "code",
   "execution_count": 65,
   "id": "8fbd88c9-1132-48cd-b9a5-78e2c96972b8",
   "metadata": {
    "execution": {
     "iopub.execute_input": "2022-04-06T00:06:52.295737Z",
     "iopub.status.busy": "2022-04-06T00:06:52.295177Z",
     "iopub.status.idle": "2022-04-06T00:06:52.310047Z",
     "shell.execute_reply": "2022-04-06T00:06:52.309141Z",
     "shell.execute_reply.started": "2022-04-06T00:06:52.295664Z"
    },
    "tags": []
   },
   "outputs": [
    {
     "data": {
      "text/html": [
       "<div>\n",
       "<style scoped>\n",
       "    .dataframe tbody tr th:only-of-type {\n",
       "        vertical-align: middle;\n",
       "    }\n",
       "\n",
       "    .dataframe tbody tr th {\n",
       "        vertical-align: top;\n",
       "    }\n",
       "\n",
       "    .dataframe thead th {\n",
       "        text-align: right;\n",
       "    }\n",
       "</style>\n",
       "<table border=\"1\" class=\"dataframe\">\n",
       "  <thead>\n",
       "    <tr style=\"text-align: right;\">\n",
       "      <th></th>\n",
       "      <th>제목</th>\n",
       "      <th>내용</th>\n",
       "      <th>댓글</th>\n",
       "      <th>필터링</th>\n",
       "      <th>작성날짜</th>\n",
       "    </tr>\n",
       "  </thead>\n",
       "  <tbody>\n",
       "    <tr>\n",
       "      <th>0</th>\n",
       "      <td>&lt;내돈내탄 31편&gt; 뚜벅이 필수템! 이브이패스 이용방법 후기</td>\n",
       "      <td>\\n\\n&lt;내돈내탄 31편&gt; 이브이패스 고객님 찐 후기\\n네이버 블로거 @옌니\\n\\n...</td>\n",
       "      <td>댓글이없습니다.</td>\n",
       "      <td>전동 킥보드 여행</td>\n",
       "      <td>2022.04.05. 15:48</td>\n",
       "    </tr>\n",
       "    <tr>\n",
       "      <th>1</th>\n",
       "      <td>남자 혼자 3박 4일 일정!</td>\n",
       "      <td>4. 8.~4. 11. 남자 혼자 가는 제주 여행 일정인데, 시계 또는 반시계로 한...</td>\n",
       "      <td>제가 혼자 지난주에\\n반시계 방향으로 돌았습니다\\n후기 가볍게 보세요 ^^\\n저도 ...</td>\n",
       "      <td>종합여행 질문</td>\n",
       "      <td>2022.04.05. 07:20</td>\n",
       "    </tr>\n",
       "  </tbody>\n",
       "</table>\n",
       "</div>"
      ],
      "text/plain": [
       "                                  제목  \\\n",
       "0  <내돈내탄 31편> 뚜벅이 필수템! 이브이패스 이용방법 후기   \n",
       "1                    남자 혼자 3박 4일 일정!   \n",
       "\n",
       "                                                  내용  \\\n",
       "0  \\n\\n<내돈내탄 31편> 이브이패스 고객님 찐 후기\\n네이버 블로거 @옌니\\n\\n...   \n",
       "1  4. 8.~4. 11. 남자 혼자 가는 제주 여행 일정인데, 시계 또는 반시계로 한...   \n",
       "\n",
       "                                                  댓글        필터링  \\\n",
       "0                                           댓글이없습니다.  전동 킥보드 여행   \n",
       "1  제가 혼자 지난주에\\n반시계 방향으로 돌았습니다\\n후기 가볍게 보세요 ^^\\n저도 ...    종합여행 질문   \n",
       "\n",
       "                작성날짜  \n",
       "0  2022.04.05. 15:48  \n",
       "1  2022.04.05. 07:20  "
      ]
     },
     "execution_count": 65,
     "metadata": {},
     "output_type": "execute_result"
    }
   ],
   "source": [
    "df2.head(2)"
   ]
  },
  {
   "cell_type": "code",
   "execution_count": 67,
   "id": "7c8b06b7-89ff-4e46-ac4e-c007cd187500",
   "metadata": {
    "execution": {
     "iopub.execute_input": "2022-04-06T00:07:12.927397Z",
     "iopub.status.busy": "2022-04-06T00:07:12.926835Z",
     "iopub.status.idle": "2022-04-06T00:07:12.971000Z",
     "shell.execute_reply": "2022-04-06T00:07:12.970101Z",
     "shell.execute_reply.started": "2022-04-06T00:07:12.927337Z"
    },
    "tags": []
   },
   "outputs": [],
   "source": [
    "import re\n",
    "new_tokens =[]\n",
    "for token in df2.내용:\n",
    "    new_token = re.sub('[^가-힣 ]', '', token)\n",
    "    if new_token:                       # ''는 포함시키지 말 것\n",
    "        new_tokens.append(new_token)"
   ]
  },
  {
   "cell_type": "code",
   "execution_count": 75,
   "id": "98f16551-9525-4281-bcbc-8fbd77143bf1",
   "metadata": {
    "execution": {
     "iopub.execute_input": "2022-04-06T00:10:20.734492Z",
     "iopub.status.busy": "2022-04-06T00:10:20.733978Z",
     "iopub.status.idle": "2022-04-06T00:10:20.741464Z",
     "shell.execute_reply": "2022-04-06T00:10:20.740894Z",
     "shell.execute_reply.started": "2022-04-06T00:10:20.734427Z"
    },
    "tags": []
   },
   "outputs": [],
   "source": [
    "import matplotlib as mpl\n",
    "import matplotlib.pyplot as plt\n",
    "mpl.rcParams['axes.unicode_minus'] = False\n",
    "plt.rcParams['font.family'] = 'NanumGothicCoding'"
   ]
  },
  {
   "cell_type": "code",
   "execution_count": 88,
   "id": "3568800a-a6cf-4e36-96c8-e8e15dec3b9e",
   "metadata": {
    "execution": {
     "iopub.execute_input": "2022-04-06T00:13:33.119966Z",
     "iopub.status.busy": "2022-04-06T00:13:33.119429Z",
     "iopub.status.idle": "2022-04-06T00:13:33.131038Z",
     "shell.execute_reply": "2022-04-06T00:13:33.129752Z",
     "shell.execute_reply.started": "2022-04-06T00:13:33.119907Z"
    },
    "tags": []
   },
   "outputs": [
    {
     "data": {
      "text/plain": [
       "1185"
      ]
     },
     "execution_count": 88,
     "metadata": {},
     "output_type": "execute_result"
    }
   ],
   "source": [
    "len(new_tokens)"
   ]
  },
  {
   "cell_type": "code",
   "execution_count": null,
   "id": "4dee74d3-fdf1-491c-82a6-fe62cfa41d34",
   "metadata": {},
   "outputs": [],
   "source": []
  },
  {
   "cell_type": "code",
   "execution_count": 89,
   "id": "af2e9732-feec-46c9-8309-6e8e7e807627",
   "metadata": {
    "execution": {
     "iopub.execute_input": "2022-04-06T00:13:53.054209Z",
     "iopub.status.busy": "2022-04-06T00:13:53.053765Z",
     "iopub.status.idle": "2022-04-06T00:14:44.815852Z",
     "shell.execute_reply": "2022-04-06T00:14:44.815002Z",
     "shell.execute_reply.started": "2022-04-06T00:13:53.054150Z"
    },
    "tags": []
   },
   "outputs": [],
   "source": [
    "new_tokenss = okt.nouns(str(new_tokens))\n"
   ]
  },
  {
   "cell_type": "code",
   "execution_count": 85,
   "id": "bd8d43c2-a707-437d-a617-89e76728e18b",
   "metadata": {
    "execution": {
     "iopub.execute_input": "2022-04-06T00:13:01.379679Z",
     "iopub.status.busy": "2022-04-06T00:13:01.379132Z",
     "iopub.status.idle": "2022-04-06T00:13:01.387469Z",
     "shell.execute_reply": "2022-04-06T00:13:01.386757Z",
     "shell.execute_reply.started": "2022-04-06T00:13:01.379615Z"
    },
    "tags": []
   },
   "outputs": [
    {
     "data": {
      "text/plain": [
       "66"
      ]
     },
     "execution_count": 85,
     "metadata": {},
     "output_type": "execute_result"
    }
   ],
   "source": [
    "len(tokens)"
   ]
  },
  {
   "cell_type": "code",
   "execution_count": 70,
   "id": "8f76cea2-e1a5-49a4-a3fa-57c9d6a4ae6e",
   "metadata": {
    "execution": {
     "iopub.execute_input": "2022-04-06T00:07:59.993664Z",
     "iopub.status.busy": "2022-04-06T00:07:59.993461Z",
     "iopub.status.idle": "2022-04-06T00:08:00.553137Z",
     "shell.execute_reply": "2022-04-06T00:08:00.552416Z",
     "shell.execute_reply.started": "2022-04-06T00:07:59.993633Z"
    }
   },
   "outputs": [],
   "source": [
    "import nltk"
   ]
  },
  {
   "cell_type": "code",
   "execution_count": 103,
   "id": "8f0cb8b1-f7a1-48cc-882c-1c6af08cab5f",
   "metadata": {
    "execution": {
     "iopub.execute_input": "2022-04-06T00:19:20.164444Z",
     "iopub.status.busy": "2022-04-06T00:19:20.163833Z",
     "iopub.status.idle": "2022-04-06T00:19:20.528007Z",
     "shell.execute_reply": "2022-04-06T00:19:20.526200Z",
     "shell.execute_reply.started": "2022-04-06T00:19:20.164384Z"
    },
    "tags": []
   },
   "outputs": [
    {
     "data": {
      "image/png": "[encoded data removed]",
      "text/plain": [
       "<Figure size 1080x432 with 1 Axes>"
      ]
     },
     "metadata": {
      "needs_background": "light"
     },
     "output_type": "display_data"
    }
   ],
   "source": [
    "travel = nltk.Text(new_tokensss, name='제주 여행 키워드')\n",
    "plt.figure(figsize=(15,6))\n",
    "travel.plot(50)\n",
    "plt.show()"
   ]
  },
  {
   "cell_type": "code",
   "execution_count": 101,
   "id": "011cd36d-6abb-4f47-8fcf-19892b79aa80",
   "metadata": {
    "execution": {
     "iopub.execute_input": "2022-04-06T00:19:11.192641Z",
     "iopub.status.busy": "2022-04-06T00:19:11.192237Z",
     "iopub.status.idle": "2022-04-06T00:19:11.269270Z",
     "shell.execute_reply": "2022-04-06T00:19:11.268405Z",
     "shell.execute_reply.started": "2022-04-06T00:19:11.192584Z"
    },
    "tags": []
   },
   "outputs": [],
   "source": [
    "stop_words = '제주 좀 전 비 위해 오늘 요 여행 곳 분 날 때 더 것 저 수 맛 후 거 제 시 느 젠 등 또 월 이'\n",
    "stop_list = stop_words.split()\n",
    "new_tokensss = [token for token in new_tokenss if token not in stop_list]"
   ]
  },
  {
   "cell_type": "code",
   "execution_count": 74,
   "id": "512401ab-6f63-404d-8594-abee952f8414",
   "metadata": {
    "execution": {
     "iopub.execute_input": "2022-04-06T00:09:55.904687Z",
     "iopub.status.busy": "2022-04-06T00:09:55.904260Z",
     "iopub.status.idle": "2022-04-06T00:09:55.915978Z",
     "shell.execute_reply": "2022-04-06T00:09:55.915467Z",
     "shell.execute_reply.started": "2022-04-06T00:09:55.904593Z"
    }
   },
   "outputs": [],
   "source": [
    "import numpy as np\n",
    "from PIL import Image\n",
    "from wordcloud import WordCloud"
   ]
  },
  {
   "cell_type": "code",
   "execution_count": 104,
   "id": "38717789-81bb-4b3d-8d67-182d28041ae0",
   "metadata": {
    "execution": {
     "iopub.execute_input": "2022-04-06T00:19:23.929958Z",
     "iopub.status.busy": "2022-04-06T00:19:23.929520Z",
     "iopub.status.idle": "2022-04-06T00:19:23.943981Z",
     "shell.execute_reply": "2022-04-06T00:19:23.943442Z",
     "shell.execute_reply.started": "2022-04-06T00:19:23.929898Z"
    },
    "tags": []
   },
   "outputs": [
    {
     "data": {
      "text/plain": [
       "[('숙소', 2248),\n",
       " ('아이', 1946),\n",
       " ('시간', 1880),\n",
       " ('사진', 1763),\n",
       " ('제주도', 1753),\n",
       " ('카페', 1343),\n",
       " ('후기', 1222),\n",
       " ('맛집', 1185),\n",
       " ('일정', 1085),\n",
       " ('예약', 1069),\n",
       " ('저희', 1051),\n",
       " ('다른', 1023),\n",
       " ('정도', 930),\n",
       " ('장님', 930),\n",
       " ('정보', 924),\n",
       " ('생각', 902),\n",
       " ('사람', 866),\n",
       " ('박팀', 866),\n",
       " ('정말', 863),\n",
       " ('코스', 775),\n",
       " ('식당', 764),\n",
       " ('추천', 760),\n",
       " ('아침', 748),\n",
       " ('이번', 720),\n",
       " ('도착', 692),\n",
       " ('여기', 685),\n",
       " ('나영', 685),\n",
       " ('스냅', 677),\n",
       " ('날씨', 672),\n",
       " ('바다', 657),\n",
       " ('패스', 650),\n",
       " ('가족', 648),\n",
       " ('집', 648),\n",
       " ('일', 647),\n",
       " ('그냥', 647),\n",
       " ('도움', 606),\n",
       " ('바로', 593),\n",
       " ('버스', 582),\n",
       " ('오름', 578),\n",
       " ('이용', 568),\n",
       " ('저녁', 568),\n",
       " ('호텔', 566),\n",
       " ('마지막', 562),\n",
       " ('공항', 549),\n",
       " ('할인', 543),\n",
       " ('차', 536),\n",
       " ('계획', 530),\n",
       " ('말', 526),\n",
       " ('근처', 523),\n",
       " ('체험', 521)]"
      ]
     },
     "execution_count": 104,
     "metadata": {},
     "output_type": "execute_result"
    }
   ],
   "source": [
    "data = travel.vocab().most_common(300)\n",
    "data[:50]"
   ]
  },
  {
   "cell_type": "code",
   "execution_count": 105,
   "id": "d7d6fd1b-b44e-42e7-b845-346058567ed3",
   "metadata": {
    "execution": {
     "iopub.execute_input": "2022-04-06T00:19:28.809029Z",
     "iopub.status.busy": "2022-04-06T00:19:28.807692Z",
     "iopub.status.idle": "2022-04-06T00:19:29.123563Z",
     "shell.execute_reply": "2022-04-06T00:19:29.122711Z",
     "shell.execute_reply.started": "2022-04-06T00:19:28.808958Z"
    },
    "tags": []
   },
   "outputs": [],
   "source": [
    "wc = WordCloud(\n",
    "    font_path='NanumGothicCoding.ttf',\n",
    "    relative_scaling=0.2,\n",
    "    background_color='white'\n",
    ").generate_from_frequencies(dict(data))"
   ]
  },
  {
   "cell_type": "code",
   "execution_count": 106,
   "id": "e38632f6-31d2-4c75-ab4b-e56a7a5a3a37",
   "metadata": {
    "execution": {
     "iopub.execute_input": "2022-04-06T00:19:30.246813Z",
     "iopub.status.busy": "2022-04-06T00:19:30.245129Z",
     "iopub.status.idle": "2022-04-06T00:19:30.423078Z",
     "shell.execute_reply": "2022-04-06T00:19:30.422115Z",
     "shell.execute_reply.started": "2022-04-06T00:19:30.246736Z"
    },
    "tags": []
   },
   "outputs": [
    {
     "data": {
      "image/png": "[encoded data removed]",
      "text/plain": [
       "<Figure size 864x432 with 1 Axes>"
      ]
     },
     "metadata": {
      "needs_background": "light"
     },
     "output_type": "display_data"
    }
   ],
   "source": [
    "plt.figure(figsize=(12,6))\n",
    "plt.imshow(wc)\n",
    "plt.axis('off')\n",
    "plt.show()"
   ]
  },
  {
   "cell_type": "code",
   "execution_count": null,
   "id": "46d677d3-2038-444d-8074-a038a128410d",
   "metadata": {},
   "outputs": [],
   "source": []
  }
 ],
 "metadata": {
  "kernelspec": {
   "display_name": "Python 3 (ipykernel)",
   "language": "python",
   "name": "python3"
  },
  "language_info": {
   "codemirror_mode": {
    "name": "ipython",
    "version": 3
   },
   "file_extension": ".py",
   "mimetype": "text/x-python",
   "name": "python",
   "nbconvert_exporter": "python",
   "pygments_lexer": "ipython3",
   "version": "3.9.7"
  }
 },
 "nbformat": 4,
 "nbformat_minor": 5
}
