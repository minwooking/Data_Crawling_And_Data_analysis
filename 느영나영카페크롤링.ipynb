{
 "cells": [
  {
   "cell_type": "code",
   "execution_count": 2,
   "id": "22c065d0-c7d6-466c-9c6e-bc3651839ed9",
   "metadata": {
    "execution": {
     "iopub.execute_input": "2022-04-05T13:08:47.641703Z",
     "iopub.status.busy": "2022-04-05T13:08:47.641126Z",
     "iopub.status.idle": "2022-04-05T13:08:47.651743Z",
     "shell.execute_reply": "2022-04-05T13:08:47.651140Z",
     "shell.execute_reply.started": "2022-04-05T13:08:47.641643Z"
    },
    "tags": []
   },
   "outputs": [],
   "source": [
    "import  numpy as np\n",
    "import  pandas as pd\n",
    "import  matplotlib.pyplot as plt\n",
    "import  os\n",
    "import  copy\n",
    "from  tqdm import  tqdm\n",
    "from bs4 import BeautifulSoup\n",
    "from  urllib.parse import quote\n",
    "import urllib.request\n",
    "import requests\n",
    "import urllib.parse\n",
    "from  urllib import parse\n",
    "import  ssl\n",
    "from  selenium import webdriver\n",
    "# from  webdriver_manager.chrome import ChromeDriverManager\n",
    "context = ssl._create_unverified_context()"
   ]
  },
  {
   "cell_type": "code",
   "execution_count": 3,
   "id": "7025c24e-dc53-4705-8eca-1a89f84f95a9",
   "metadata": {
    "execution": {
     "iopub.execute_input": "2022-04-05T12:58:53.502670Z",
     "iopub.status.busy": "2022-04-05T12:58:53.500775Z",
     "iopub.status.idle": "2022-04-05T12:58:53.620387Z",
     "shell.execute_reply": "2022-04-05T12:58:53.618536Z",
     "shell.execute_reply.started": "2022-04-05T12:58:53.502572Z"
    }
   },
   "outputs": [
    {
     "name": "stdout",
     "output_type": "stream",
     "text": [
      " D ����̺��� �������� �̸��� �����ϴ�.\n",
      " ���� �Ϸ� ��ȣ: 9C33-6BBD\n",
      "\n",
      " d:\\WorkSpace\\navercafecrawling ���͸�\n",
      "\n",
      "2022-04-02  ���� 02:46    <DIR>          .\n",
      "2022-04-02  ���� 02:46    <DIR>          ..\n",
      "2022-04-02  ���� 02:46    <DIR>          .ipynb_checkpoints\n",
      "2022-04-02  ���� 02:46    <DIR>          .vscode\n",
      "2022-04-05  ���� 10:22           634,608 �����н�.ipynb\n",
      "2022-04-05  ���� 10:22         2,373,269 ��Ʈ�ϰ�����ũ�Ѹ�.ipynb\n",
      "2022-04-05  ���� 10:22            24,413 ��������ī��ũ�Ѹ�.ipynb\n",
      "2022-04-02  ���� 02:46         7,218,789 ģȯ������ǰߺм�.ipynb\n",
      "2022-03-27  ���� 01:55            10,920 ũ�Ѹ����ֹ�(���̹�ī��).ipynb\n",
      "               5�� ����          10,261,999 ����Ʈ\n",
      "               4�� ���͸�  225,371,226,112 ����Ʈ ����\n"
     ]
    }
   ],
   "source": [
    "ls"
   ]
  },
  {
   "cell_type": "code",
   "execution_count": 14,
   "id": "2469a7c2-ce4b-48ff-b678-a90608c7a8dc",
   "metadata": {
    "execution": {
     "iopub.execute_input": "2022-04-05T13:08:43.335525Z",
     "iopub.status.busy": "2022-04-05T13:08:43.335183Z",
     "iopub.status.idle": "2022-04-05T13:08:43.412585Z",
     "shell.execute_reply": "2022-04-05T13:08:43.411288Z",
     "shell.execute_reply.started": "2022-04-05T13:08:43.335493Z"
    }
   },
   "outputs": [],
   "source": [
    "driver.quit()"
   ]
  },
  {
   "cell_type": "code",
   "execution_count": 4,
   "id": "60755e03-3a29-443b-985b-9caf8419d362",
   "metadata": {
    "execution": {
     "iopub.execute_input": "2022-04-05T12:59:43.186846Z",
     "iopub.status.busy": "2022-04-05T12:59:43.186369Z",
     "iopub.status.idle": "2022-04-05T12:59:43.194695Z",
     "shell.execute_reply": "2022-04-05T12:59:43.192933Z",
     "shell.execute_reply.started": "2022-04-05T12:59:43.186758Z"
    }
   },
   "outputs": [],
   "source": [
    "headers = {\"User-Agent\":\"Mozilla/5.0 (Windows NT 10.0; Win64; x64) AppleWebKit/537.36 (KHTML, like Gecko) Chrome/90.0.4430.93 Safari/537.36\"}"
   ]
  },
  {
   "cell_type": "code",
   "execution_count": 5,
   "id": "af3ad42b-bf02-4c3a-a88d-159186c07f95",
   "metadata": {
    "execution": {
     "iopub.execute_input": "2022-04-05T13:03:48.883397Z",
     "iopub.status.busy": "2022-04-05T13:03:48.882874Z",
     "iopub.status.idle": "2022-04-05T13:03:48.889973Z",
     "shell.execute_reply": "2022-04-05T13:03:48.889299Z",
     "shell.execute_reply.started": "2022-04-05T13:03:48.883363Z"
    }
   },
   "outputs": [
    {
     "data": {
      "text/plain": [
       "'d:\\\\WorkSpace\\\\navercafecrawling'"
      ]
     },
     "execution_count": 5,
     "metadata": {},
     "output_type": "execute_result"
    }
   ],
   "source": [
    "pwd"
   ]
  },
  {
   "cell_type": "code",
   "execution_count": 9,
   "id": "d50a5865-5a31-4f95-a528-cd020dcd6c0a",
   "metadata": {
    "execution": {
     "iopub.execute_input": "2022-04-05T13:03:56.525730Z",
     "iopub.status.busy": "2022-04-05T13:03:56.525284Z",
     "iopub.status.idle": "2022-04-05T13:03:56.533140Z",
     "shell.execute_reply": "2022-04-05T13:03:56.532597Z",
     "shell.execute_reply.started": "2022-04-05T13:03:56.525655Z"
    },
    "tags": []
   },
   "outputs": [],
   "source": [
    "## 리눅스\n",
    "with open('/home/miwoos/WorkSpace/mykey/Naver_pw.txt') as file: \n",
    "    PASSWORD = file.read()\n",
    "with open('/home/miwoos/WorkSpace/mykey/Naver_ID.txt') as file:\n",
    "    ID = file.read()"
   ]
  },
  {
   "cell_type": "code",
   "execution_count": 10,
   "id": "f9b350d9-0f41-459c-a535-d360ae0d3cb9",
   "metadata": {
    "collapsed": true,
    "execution": {
     "iopub.execute_input": "2022-04-05T13:03:58.382767Z",
     "iopub.status.busy": "2022-04-05T13:03:58.382244Z",
     "iopub.status.idle": "2022-04-05T13:04:13.470222Z",
     "shell.execute_reply": "2022-04-05T13:04:13.469361Z",
     "shell.execute_reply.started": "2022-04-05T13:03:58.382674Z"
    },
    "jupyter": {
     "outputs_hidden": true
    },
    "tags": []
   },
   "outputs": [
    {
     "name": "stderr",
     "output_type": "stream",
     "text": [
      "/tmp/ipykernel_166505/2412163545.py:9: DeprecationWarning: find_element_by_name is deprecated. Please use find_element(by=By.NAME, value=name) instead\n",
      "  tag_id = driver.find_element_by_name('id')\n",
      "/tmp/ipykernel_166505/2412163545.py:11: DeprecationWarning: find_element_by_name is deprecated. Please use find_element(by=By.NAME, value=name) instead\n",
      "  tag_pw = driver.find_element_by_name('pw')\n"
     ]
    },
    {
     "ename": "WebDriverException",
     "evalue": "Message: chrome not reachable\n  (Session info: chrome=100.0.4896.60)\nStacktrace:\n#0 0x558954994ad3 <unknown>\n#1 0x5589546f43ff <unknown>\n#2 0x5589546e2b94 <unknown>\n#3 0x5589546e35a9 <unknown>\n#4 0x5589546e5302 <unknown>\n#5 0x5589546dd6f6 <unknown>\n#6 0x5589546f5972 <unknown>\n#7 0x55895475aea1 <unknown>\n#8 0x5589547484e3 <unknown>\n#9 0x55895471dd1a <unknown>\n#10 0x55895471ee75 <unknown>\n#11 0x5589549c2efd <unknown>\n#12 0x5589549dc19b <unknown>\n#13 0x5589549c4c65 <unknown>\n#14 0x5589549dcec8 <unknown>\n#15 0x5589549b8360 <unknown>\n#16 0x5589549f8a68 <unknown>\n#17 0x5589549f8be8 <unknown>\n#18 0x558954a127fd <unknown>\n#19 0x7f0d0be0c609 <unknown>\n",
     "output_type": "error",
     "traceback": [
      "\u001b[0;31m---------------------------------------------------------------------------\u001b[0m",
      "\u001b[0;31mWebDriverException\u001b[0m                        Traceback (most recent call last)",
      "\u001b[0;32m/tmp/ipykernel_166505/2412163545.py\u001b[0m in \u001b[0;36m<module>\u001b[0;34m\u001b[0m\n\u001b[1;32m     19\u001b[0m \u001b[0;34m\u001b[0m\u001b[0m\n\u001b[1;32m     20\u001b[0m \u001b[0;31m# pw 입력 # 입력폼 클릭 -> paperclip에 선언한 upw 내용 복사 -> 붙여넣기\u001b[0m\u001b[0;34m\u001b[0m\u001b[0;34m\u001b[0m\u001b[0m\n\u001b[0;32m---> 21\u001b[0;31m \u001b[0mtag_pw\u001b[0m\u001b[0;34m.\u001b[0m\u001b[0mclick\u001b[0m\u001b[0;34m(\u001b[0m\u001b[0;34m)\u001b[0m\u001b[0;34m\u001b[0m\u001b[0;34m\u001b[0m\u001b[0m\n\u001b[0m\u001b[1;32m     22\u001b[0m \u001b[0mpyperclip\u001b[0m\u001b[0;34m.\u001b[0m\u001b[0mcopy\u001b[0m\u001b[0;34m(\u001b[0m\u001b[0mupw\u001b[0m\u001b[0;34m)\u001b[0m\u001b[0;34m\u001b[0m\u001b[0;34m\u001b[0m\u001b[0m\n\u001b[1;32m     23\u001b[0m \u001b[0mtag_pw\u001b[0m\u001b[0;34m.\u001b[0m\u001b[0msend_keys\u001b[0m\u001b[0;34m(\u001b[0m\u001b[0mKeys\u001b[0m\u001b[0;34m.\u001b[0m\u001b[0mCONTROL\u001b[0m\u001b[0;34m,\u001b[0m \u001b[0;34m'v'\u001b[0m\u001b[0;34m)\u001b[0m\u001b[0;34m\u001b[0m\u001b[0;34m\u001b[0m\u001b[0m\n",
      "\u001b[0;32m~/anaconda3/lib/python3.9/site-packages/selenium/webdriver/remote/webelement.py\u001b[0m in \u001b[0;36mclick\u001b[0;34m(self)\u001b[0m\n\u001b[1;32m     79\u001b[0m     \u001b[0;32mdef\u001b[0m \u001b[0mclick\u001b[0m\u001b[0;34m(\u001b[0m\u001b[0mself\u001b[0m\u001b[0;34m)\u001b[0m \u001b[0;34m->\u001b[0m \u001b[0;32mNone\u001b[0m\u001b[0;34m:\u001b[0m\u001b[0;34m\u001b[0m\u001b[0;34m\u001b[0m\u001b[0m\n\u001b[1;32m     80\u001b[0m         \u001b[0;34m\"\"\"Clicks the element.\"\"\"\u001b[0m\u001b[0;34m\u001b[0m\u001b[0;34m\u001b[0m\u001b[0m\n\u001b[0;32m---> 81\u001b[0;31m         \u001b[0mself\u001b[0m\u001b[0;34m.\u001b[0m\u001b[0m_execute\u001b[0m\u001b[0;34m(\u001b[0m\u001b[0mCommand\u001b[0m\u001b[0;34m.\u001b[0m\u001b[0mCLICK_ELEMENT\u001b[0m\u001b[0;34m)\u001b[0m\u001b[0;34m\u001b[0m\u001b[0;34m\u001b[0m\u001b[0m\n\u001b[0m\u001b[1;32m     82\u001b[0m \u001b[0;34m\u001b[0m\u001b[0m\n\u001b[1;32m     83\u001b[0m     \u001b[0;32mdef\u001b[0m \u001b[0msubmit\u001b[0m\u001b[0;34m(\u001b[0m\u001b[0mself\u001b[0m\u001b[0;34m)\u001b[0m\u001b[0;34m:\u001b[0m\u001b[0;34m\u001b[0m\u001b[0;34m\u001b[0m\u001b[0m\n",
      "\u001b[0;32m~/anaconda3/lib/python3.9/site-packages/selenium/webdriver/remote/webelement.py\u001b[0m in \u001b[0;36m_execute\u001b[0;34m(self, command, params)\u001b[0m\n\u001b[1;32m    708\u001b[0m             \u001b[0mparams\u001b[0m \u001b[0;34m=\u001b[0m \u001b[0;34m{\u001b[0m\u001b[0;34m}\u001b[0m\u001b[0;34m\u001b[0m\u001b[0;34m\u001b[0m\u001b[0m\n\u001b[1;32m    709\u001b[0m         \u001b[0mparams\u001b[0m\u001b[0;34m[\u001b[0m\u001b[0;34m'id'\u001b[0m\u001b[0;34m]\u001b[0m \u001b[0;34m=\u001b[0m \u001b[0mself\u001b[0m\u001b[0;34m.\u001b[0m\u001b[0m_id\u001b[0m\u001b[0;34m\u001b[0m\u001b[0;34m\u001b[0m\u001b[0m\n\u001b[0;32m--> 710\u001b[0;31m         \u001b[0;32mreturn\u001b[0m \u001b[0mself\u001b[0m\u001b[0;34m.\u001b[0m\u001b[0m_parent\u001b[0m\u001b[0;34m.\u001b[0m\u001b[0mexecute\u001b[0m\u001b[0;34m(\u001b[0m\u001b[0mcommand\u001b[0m\u001b[0;34m,\u001b[0m \u001b[0mparams\u001b[0m\u001b[0;34m)\u001b[0m\u001b[0;34m\u001b[0m\u001b[0;34m\u001b[0m\u001b[0m\n\u001b[0m\u001b[1;32m    711\u001b[0m \u001b[0;34m\u001b[0m\u001b[0m\n\u001b[1;32m    712\u001b[0m     \u001b[0;32mdef\u001b[0m \u001b[0mfind_element\u001b[0m\u001b[0;34m(\u001b[0m\u001b[0mself\u001b[0m\u001b[0;34m,\u001b[0m \u001b[0mby\u001b[0m\u001b[0;34m=\u001b[0m\u001b[0mBy\u001b[0m\u001b[0;34m.\u001b[0m\u001b[0mID\u001b[0m\u001b[0;34m,\u001b[0m \u001b[0mvalue\u001b[0m\u001b[0;34m=\u001b[0m\u001b[0;32mNone\u001b[0m\u001b[0;34m)\u001b[0m\u001b[0;34m:\u001b[0m\u001b[0;34m\u001b[0m\u001b[0;34m\u001b[0m\u001b[0m\n",
      "\u001b[0;32m~/anaconda3/lib/python3.9/site-packages/selenium/webdriver/remote/webdriver.py\u001b[0m in \u001b[0;36mexecute\u001b[0;34m(self, driver_command, params)\u001b[0m\n\u001b[1;32m    423\u001b[0m         \u001b[0mresponse\u001b[0m \u001b[0;34m=\u001b[0m \u001b[0mself\u001b[0m\u001b[0;34m.\u001b[0m\u001b[0mcommand_executor\u001b[0m\u001b[0;34m.\u001b[0m\u001b[0mexecute\u001b[0m\u001b[0;34m(\u001b[0m\u001b[0mdriver_command\u001b[0m\u001b[0;34m,\u001b[0m \u001b[0mparams\u001b[0m\u001b[0;34m)\u001b[0m\u001b[0;34m\u001b[0m\u001b[0;34m\u001b[0m\u001b[0m\n\u001b[1;32m    424\u001b[0m         \u001b[0;32mif\u001b[0m \u001b[0mresponse\u001b[0m\u001b[0;34m:\u001b[0m\u001b[0;34m\u001b[0m\u001b[0;34m\u001b[0m\u001b[0m\n\u001b[0;32m--> 425\u001b[0;31m             \u001b[0mself\u001b[0m\u001b[0;34m.\u001b[0m\u001b[0merror_handler\u001b[0m\u001b[0;34m.\u001b[0m\u001b[0mcheck_response\u001b[0m\u001b[0;34m(\u001b[0m\u001b[0mresponse\u001b[0m\u001b[0;34m)\u001b[0m\u001b[0;34m\u001b[0m\u001b[0;34m\u001b[0m\u001b[0m\n\u001b[0m\u001b[1;32m    426\u001b[0m             response['value'] = self._unwrap_value(\n\u001b[1;32m    427\u001b[0m                 response.get('value', None))\n",
      "\u001b[0;32m~/anaconda3/lib/python3.9/site-packages/selenium/webdriver/remote/errorhandler.py\u001b[0m in \u001b[0;36mcheck_response\u001b[0;34m(self, response)\u001b[0m\n\u001b[1;32m    245\u001b[0m                 \u001b[0malert_text\u001b[0m \u001b[0;34m=\u001b[0m \u001b[0mvalue\u001b[0m\u001b[0;34m[\u001b[0m\u001b[0;34m'alert'\u001b[0m\u001b[0;34m]\u001b[0m\u001b[0;34m.\u001b[0m\u001b[0mget\u001b[0m\u001b[0;34m(\u001b[0m\u001b[0;34m'text'\u001b[0m\u001b[0;34m)\u001b[0m\u001b[0;34m\u001b[0m\u001b[0;34m\u001b[0m\u001b[0m\n\u001b[1;32m    246\u001b[0m             \u001b[0;32mraise\u001b[0m \u001b[0mexception_class\u001b[0m\u001b[0;34m(\u001b[0m\u001b[0mmessage\u001b[0m\u001b[0;34m,\u001b[0m \u001b[0mscreen\u001b[0m\u001b[0;34m,\u001b[0m \u001b[0mstacktrace\u001b[0m\u001b[0;34m,\u001b[0m \u001b[0malert_text\u001b[0m\u001b[0;34m)\u001b[0m  \u001b[0;31m# type: ignore[call-arg]  # mypy is not smart enough here\u001b[0m\u001b[0;34m\u001b[0m\u001b[0;34m\u001b[0m\u001b[0m\n\u001b[0;32m--> 247\u001b[0;31m         \u001b[0;32mraise\u001b[0m \u001b[0mexception_class\u001b[0m\u001b[0;34m(\u001b[0m\u001b[0mmessage\u001b[0m\u001b[0;34m,\u001b[0m \u001b[0mscreen\u001b[0m\u001b[0;34m,\u001b[0m \u001b[0mstacktrace\u001b[0m\u001b[0;34m)\u001b[0m\u001b[0;34m\u001b[0m\u001b[0;34m\u001b[0m\u001b[0m\n\u001b[0m\u001b[1;32m    248\u001b[0m \u001b[0;34m\u001b[0m\u001b[0m\n\u001b[1;32m    249\u001b[0m     \u001b[0;32mdef\u001b[0m \u001b[0m_value_or_default\u001b[0m\u001b[0;34m(\u001b[0m\u001b[0mself\u001b[0m\u001b[0;34m,\u001b[0m \u001b[0mobj\u001b[0m\u001b[0;34m:\u001b[0m \u001b[0mMapping\u001b[0m\u001b[0;34m[\u001b[0m\u001b[0m_KT\u001b[0m\u001b[0;34m,\u001b[0m \u001b[0m_VT\u001b[0m\u001b[0;34m]\u001b[0m\u001b[0;34m,\u001b[0m \u001b[0mkey\u001b[0m\u001b[0;34m:\u001b[0m \u001b[0m_KT\u001b[0m\u001b[0;34m,\u001b[0m \u001b[0mdefault\u001b[0m\u001b[0;34m:\u001b[0m \u001b[0m_VT\u001b[0m\u001b[0;34m)\u001b[0m \u001b[0;34m->\u001b[0m \u001b[0m_VT\u001b[0m\u001b[0;34m:\u001b[0m\u001b[0;34m\u001b[0m\u001b[0;34m\u001b[0m\u001b[0m\n",
      "\u001b[0;31mWebDriverException\u001b[0m: Message: chrome not reachable\n  (Session info: chrome=100.0.4896.60)\nStacktrace:\n#0 0x558954994ad3 <unknown>\n#1 0x5589546f43ff <unknown>\n#2 0x5589546e2b94 <unknown>\n#3 0x5589546e35a9 <unknown>\n#4 0x5589546e5302 <unknown>\n#5 0x5589546dd6f6 <unknown>\n#6 0x5589546f5972 <unknown>\n#7 0x55895475aea1 <unknown>\n#8 0x5589547484e3 <unknown>\n#9 0x55895471dd1a <unknown>\n#10 0x55895471ee75 <unknown>\n#11 0x5589549c2efd <unknown>\n#12 0x5589549dc19b <unknown>\n#13 0x5589549c4c65 <unknown>\n#14 0x5589549dcec8 <unknown>\n#15 0x5589549b8360 <unknown>\n#16 0x5589549f8a68 <unknown>\n#17 0x5589549f8be8 <unknown>\n#18 0x558954a127fd <unknown>\n#19 0x7f0d0be0c609 <unknown>\n"
     ]
    }
   ],
   "source": [
    "url = 'https://nid.naver.com/nidlogin.login?mode=form&url=https%3A%2F%2Fwww.naver.com' \n",
    "uid = ID\n",
    "upw = PASSWORD\n",
    "#네이버 로그인 페이지로 이동 \n",
    "driver.get(url) \n",
    "time.sleep(2) #로딩 대기 \n",
    "\n",
    "#아이디 입력폼 \n",
    "tag_id = driver.find_element_by_name('id') \n",
    "#패스워드 입력폼 \n",
    "tag_pw = driver.find_element_by_name('pw')\n",
    "\n",
    "# id 입력 \n",
    "# 입력폼 클릭 -> paperclip에 선언한 uid 내용 복사 -> 붙여넣기 \n",
    "tag_id.click() \n",
    "pyperclip.copy(uid) \n",
    "tag_id.send_keys(Keys.CONTROL, 'v') \n",
    "time.sleep(1) \n",
    "\n",
    "# pw 입력 # 입력폼 클릭 -> paperclip에 선언한 upw 내용 복사 -> 붙여넣기\n",
    "tag_pw.click() \n",
    "pyperclip.copy(upw) \n",
    "tag_pw.send_keys(Keys.CONTROL, 'v')\n",
    "time.sleep(1) \n",
    "\n",
    "#로그인 버튼 클릭 \n",
    "login_btn = driver.find_element_by_id('log.login') \n",
    "login_btn.click() \n",
    "time.sleep(2)\n",
    "\n"
   ]
  },
  {
   "cell_type": "code",
   "execution_count": 8,
   "id": "c0bdacc1-7072-4d1f-a338-1639e2e2e212",
   "metadata": {
    "execution": {
     "iopub.execute_input": "2022-04-05T13:18:27.763464Z",
     "iopub.status.busy": "2022-04-05T13:18:27.762911Z",
     "iopub.status.idle": "2022-04-05T13:18:29.043956Z",
     "shell.execute_reply": "2022-04-05T13:18:29.042876Z",
     "shell.execute_reply.started": "2022-04-05T13:18:27.763405Z"
    },
    "tags": []
   },
   "outputs": [
    {
     "name": "stderr",
     "output_type": "stream",
     "text": [
      "C:\\Users\\alsdn\\AppData\\Local\\Temp/ipykernel_7224/3563970697.py:2: DeprecationWarning: executable_path has been deprecated, please pass in a Service object\n",
      "  driver = webdriver.Chrome('C:\\\\Users\\\\alsdn\\\\Desktop\\\\chromedriver_win32\\\\chromedriver.exe')\n"
     ]
    }
   ],
   "source": [
    "# driver = webdriver.Chrome(ChromeDriverManager().install()) # 리눅스\n",
    "driver = webdriver.Chrome('C:\\\\Users\\\\alsdn\\\\Desktop\\\\chromedriver_win32\\\\chromedriver.exe')"
   ]
  },
  {
   "cell_type": "code",
   "execution_count": 13,
   "id": "bd80a041-860a-4f31-aa7b-5674cef9d8c3",
   "metadata": {
    "execution": {
     "iopub.execute_input": "2022-04-05T13:19:01.977531Z",
     "iopub.status.busy": "2022-04-05T13:19:01.976940Z",
     "iopub.status.idle": "2022-04-05T13:19:02.811781Z",
     "shell.execute_reply": "2022-04-05T13:19:02.810806Z",
     "shell.execute_reply.started": "2022-04-05T13:19:01.977474Z"
    },
    "tags": []
   },
   "outputs": [],
   "source": [
    "driver.get(f\"https://cafe.naver.com/jejutip?iframe_url=/ArticleSearchList.nhn%3Fsearch.clubid=10456178%26search.media=0%26search.searchdate=all%26search.exact=%26search.include=%26userDisplay=50%26search.exclude=%26search.option=0%26search.sortBy=date%26search.searchBy=0%26search.includeAll=%26search.query=%C1%A6%C1%D6+%BF%A9%C7%E0+%C8%C4%B1%E2%26search.viewtype=title%26search.page=3\")"
   ]
  },
  {
   "cell_type": "code",
   "execution_count": 12,
   "id": "e619e214-8dca-4624-9e9f-464d91cfdc0f",
   "metadata": {
    "execution": {
     "iopub.execute_input": "2022-04-05T13:04:42.370482Z",
     "iopub.status.busy": "2022-04-05T13:04:42.370239Z",
     "iopub.status.idle": "2022-04-05T13:04:42.374967Z",
     "shell.execute_reply": "2022-04-05T13:04:42.374202Z",
     "shell.execute_reply.started": "2022-04-05T13:04:42.370447Z"
    },
    "tags": []
   },
   "outputs": [],
   "source": [
    "def delete_iframe(url):\n",
    "    headers = {\"User-Agent\":\"Mozilla/5.0 (Windows NT 10.0; Win64; x64) AppleWebKit/537.36 (KHTML, like Gecko) Chrome/90.0.4430.93 Safari/537.36\"}\n",
    "    res = requests.get(url, headers=headers)\n",
    "    res.raise_for_status() # 문제시 프로그램 종료\n",
    "    soup = BeautifulSoup(res.text, \"lxml\") \n",
    "\n",
    "#     src_url = \"https://gall.dcinside.com/\" + soup.iframe[\"src\"]\n",
    "    \n",
    "    return soup"
   ]
  },
  {
   "cell_type": "code",
   "execution_count": 14,
   "id": "e68e9f9e-152b-44f5-a434-4b2f3f056b41",
   "metadata": {
    "execution": {
     "iopub.execute_input": "2022-04-05T13:17:55.046886Z",
     "iopub.status.busy": "2022-04-05T13:17:55.046364Z",
     "iopub.status.idle": "2022-04-05T13:18:14.032730Z",
     "shell.execute_reply": "2022-04-05T13:18:14.032392Z",
     "shell.execute_reply.started": "2022-04-05T13:17:55.046820Z"
    },
    "tags": []
   },
   "outputs": [
    {
     "name": "stderr",
     "output_type": "stream",
     "text": [
      "C:\\Users\\alsdn\\AppData\\Local\\Temp/ipykernel_7224/4135062137.py:11: DeprecationWarning: find_element_by_class_name is deprecated. Please use find_element(by=By.CLASS_NAME, value=name) instead\n",
      "  if driver.find_element_by_class_name(\"nodata\").text == '등록된 게시글이 없습니다.':\n",
      "C:\\Users\\alsdn\\AppData\\Local\\Temp/ipykernel_7224/4135062137.py:17: DeprecationWarning: find_element_by_xpath is deprecated. Please use find_element(by=By.XPATH, value=xpath) instead\n",
      "  b = driver.find_element_by_xpath('/html/body/div[1]/div/div[5]/table/tbody')\n",
      "C:\\Users\\alsdn\\anaconda3\\lib\\site-packages\\selenium\\webdriver\\remote\\webelement.py:464: UserWarning: find_elements_by_class_name is deprecated. Please use find_elements(by=By.CLASS_NAME, value=name) instead\n",
      "  warnings.warn(\"find_elements_by_class_name is deprecated. Please use find_elements(by=By.CLASS_NAME, value=name) instead\")\n",
      "C:\\Users\\alsdn\\AppData\\Local\\Temp/ipykernel_7224/4135062137.py:20: DeprecationWarning: find_elements_by_class_name is deprecated. Please use find_elements(by=By.CLASS_NAME, value=name) instead\n",
      "  pops.append(driver.find_elements_by_class_name('td_view')[i].text)\n"
     ]
    }
   ],
   "source": [
    "address=[]\n",
    "pops=[]\n",
    "page= 0\n",
    "#while page < 0:\n",
    "while page < 100:\n",
    "    try:\n",
    "        page+=1\n",
    "        driver.get(f\"https://cafe.naver.com/jejutip?iframe_url=/ArticleSearchList.nhn%3Fsearch.clubid=10456178%26search.media=0%26search.searchdate=all%26search.exact=%26search.include=%26userDisplay=50%26search.exclude=%26search.option=0%26search.sortBy=date%26search.searchBy=0%26search.includeAll=%26search.query=%C1%A6%C1%D6+%BF%A9%C7%E0+%C8%C4%B1%E2%26search.viewtype=title%26search.page={page}\")\n",
    "        driver.switch_to.frame(\"cafe_main\")\n",
    "        try:\n",
    "            if driver.find_element_by_class_name(\"nodata\").text == '등록된 게시글이 없습니다.':\n",
    "            # 무한으로 다음페이지로 넘어가는데 만약에 등록된게시글이 없습니다가 나오면 다음페이지로 넘어가는것을 멈춤\n",
    "                break\n",
    "        except:\n",
    "            pass\n",
    "\n",
    "        b = driver.find_element_by_xpath('/html/body/div[1]/div/div[5]/table/tbody')\n",
    "        for i in range(0,100):\n",
    "            address.append(b.find_elements_by_class_name('article')[i].get_attribute('href'))\n",
    "            pops.append(driver.find_elements_by_class_name('td_view')[i].text)\n",
    "       \n",
    "    except:\n",
    "        pass"
   ]
  },
  {
   "cell_type": "code",
   "execution_count": 17,
   "id": "52d36eb3",
   "metadata": {},
   "outputs": [
    {
     "data": {
      "text/plain": [
       "(5000, 5000)"
      ]
     },
     "execution_count": 17,
     "metadata": {},
     "output_type": "execute_result"
    }
   ],
   "source": [
    "len(address),len(pops)"
   ]
  },
  {
   "cell_type": "code",
   "execution_count": 18,
   "id": "f3001de1",
   "metadata": {},
   "outputs": [],
   "source": [
    "df =pd.DataFrame({\n",
    "  'address' : address ,\n",
    "  'pops' : pops,  \n",
    "})"
   ]
  },
  {
   "cell_type": "code",
   "execution_count": 19,
   "id": "4ec600c3",
   "metadata": {},
   "outputs": [
    {
     "data": {
      "text/html": [
       "<div>\n",
       "<style scoped>\n",
       "    .dataframe tbody tr th:only-of-type {\n",
       "        vertical-align: middle;\n",
       "    }\n",
       "\n",
       "    .dataframe tbody tr th {\n",
       "        vertical-align: top;\n",
       "    }\n",
       "\n",
       "    .dataframe thead th {\n",
       "        text-align: right;\n",
       "    }\n",
       "</style>\n",
       "<table border=\"1\" class=\"dataframe\">\n",
       "  <thead>\n",
       "    <tr style=\"text-align: right;\">\n",
       "      <th></th>\n",
       "      <th>address</th>\n",
       "      <th>pops</th>\n",
       "    </tr>\n",
       "  </thead>\n",
       "  <tbody>\n",
       "    <tr>\n",
       "      <th>0</th>\n",
       "      <td>https://cafe.naver.com/ca-fe/ArticleRead.nhn?c...</td>\n",
       "      <td>130</td>\n",
       "    </tr>\n",
       "    <tr>\n",
       "      <th>1</th>\n",
       "      <td>https://cafe.naver.com/ca-fe/ArticleRead.nhn?c...</td>\n",
       "      <td>149</td>\n",
       "    </tr>\n",
       "  </tbody>\n",
       "</table>\n",
       "</div>"
      ],
      "text/plain": [
       "                                             address pops\n",
       "0  https://cafe.naver.com/ca-fe/ArticleRead.nhn?c...  130\n",
       "1  https://cafe.naver.com/ca-fe/ArticleRead.nhn?c...  149"
      ]
     },
     "execution_count": 19,
     "metadata": {},
     "output_type": "execute_result"
    }
   ],
   "source": [
    "df.head(2)"
   ]
  },
  {
   "cell_type": "code",
   "execution_count": 20,
   "id": "ca614cc6",
   "metadata": {},
   "outputs": [],
   "source": [
    "df.to_csv('G:\\내 드라이브\\Data/주소및조회수(느영나영).csv',index=False)"
   ]
  },
  {
   "cell_type": "code",
   "execution_count": null,
   "id": "d20a5377-b0cc-4bef-87ba-5cb3c52f9cce",
   "metadata": {},
   "outputs": [],
   "source": [
    "titles = []\n",
    "contentss = []\n",
    "link_boards = []\n",
    "commentss = []\n",
    "dates=[]\n",
    "for element in address:\n",
    "    try:\n",
    "        driver.get(element)\n",
    "        time.sleep(2)\n",
    "        driver.switch_to.frame('cafe_main')\n",
    "        try: \n",
    "            if driver.find_element_by_class_name(\"nodata\").text == '삭제되었거나 없는 게시글입니다.':\n",
    "                    break\n",
    "        except:\n",
    "                pass\n",
    "            \n",
    "        ### 제목 \n",
    "        try :\n",
    "            if driver.find_element_by_class_name(\"title_text\").text == None:\n",
    "                title = '제목이없습니다.'\n",
    "                pass\n",
    "            else:\n",
    "                title =driver.find_element_by_class_name(\"title_text\").text\n",
    "        except:\n",
    "            pass\n",
    "        \n",
    "        \n",
    "        ### 내용\n",
    "        if driver.find_elements_by_tag_name('p')[0].text == None:\n",
    "            contents =driver.find_element_by_xpath('/html/body/div/div/div/div[2]/div[2]/div[1]/div/div[1]/div/div').find_elements_by_tag_name('b')\n",
    "        else:\n",
    "            contents =driver.find_element_by_xpath('/html/body/div/div/div/div[2]/div[2]/div[1]/div/div[1]/div/div').find_elements_by_tag_name('p')\n",
    "        content = ''\n",
    "        for j,item in enumerate(contents):\n",
    "            content += contents[j].text+'\\n'\n",
    "        \n",
    "        \n",
    "        ### 댓글\n",
    "        comments=driver.find_elements_by_class_name('text_comment')\n",
    "        comment = ''\n",
    "        for k,com in enumerate(comments):\n",
    "            comment += comments[k].text+'\\n'\n",
    "        \n",
    "        if comment  == '':\n",
    "            comment = '댓글이없습니다.'\n",
    "        ### 추가\n",
    "        titles.append(title) ## 제목\n",
    "        contentss.append(content) ## 내용     \n",
    "        commentss.append(comment) ## 댓글 어펜드\n",
    "        link_boards.append(driver.find_element_by_class_name('link_board').text)### 필터링\n",
    "        dates.append(driver.find_element_by_class_name('date').text)\n",
    "\n",
    "    except:\n",
    "        pass"
   ]
  }
 ],
 "metadata": {
  "kernelspec": {
   "display_name": "Python 3 (ipykernel)",
   "language": "python",
   "name": "python3"
  },
  "language_info": {
   "codemirror_mode": {
    "name": "ipython",
    "version": 3
   },
   "file_extension": ".py",
   "mimetype": "text/x-python",
   "name": "python",
   "nbconvert_exporter": "python",
   "pygments_lexer": "ipython3",
   "version": "3.9.7"
  }
 },
 "nbformat": 4,
 "nbformat_minor": 5
}
