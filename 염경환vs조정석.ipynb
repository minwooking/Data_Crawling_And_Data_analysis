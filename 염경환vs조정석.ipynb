{
 "cells": [
  {
   "cell_type": "code",
   "execution_count": 1,
   "id": "4b35e403-df41-46f4-b1f1-4f668d3276cf",
   "metadata": {
    "execution": {
     "iopub.execute_input": "2022-04-12T01:33:16.799479Z",
     "iopub.status.busy": "2022-04-12T01:33:16.798869Z",
     "iopub.status.idle": "2022-04-12T01:33:17.005211Z",
     "shell.execute_reply": "2022-04-12T01:33:17.004509Z",
     "shell.execute_reply.started": "2022-04-12T01:33:16.799318Z"
    }
   },
   "outputs": [],
   "source": [
    "import  numpy as np\n",
    "import  pandas as pd"
   ]
  },
  {
   "cell_type": "code",
   "execution_count": null,
   "id": "cda92a8a-0e71-4285-b5db-a3b91653827e",
   "metadata": {},
   "outputs": [],
   "source": []
  }
 ],
 "metadata": {
  "kernelspec": {
   "display_name": "Python 3 (ipykernel)",
   "language": "python",
   "name": "python3"
  },
  "language_info": {
   "codemirror_mode": {
    "name": "ipython",
    "version": 3
   },
   "file_extension": ".py",
   "mimetype": "text/x-python",
   "name": "python",
   "nbconvert_exporter": "python",
   "pygments_lexer": "ipython3",
   "version": "3.9.7"
  }
 },
 "nbformat": 4,
 "nbformat_minor": 5
}
