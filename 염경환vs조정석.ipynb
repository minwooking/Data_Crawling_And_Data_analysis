{
 "cells": [
  {
   "cell_type": "markdown",
   "id": "fd38e9c2-5a1f-4fe4-bfc3-1ac8626c981a",
   "metadata": {},
   "source": [
    "# 염경환 vs 조정석 이미지 차이점 확인해보기\n",
    "- 양배추즙 광고모델인 염경환과 조정석의 이미지를 확인해보고 마케팅에 영향을 끼칠 수 있는지 확인해본다."
   ]
  },
  {
   "cell_type": "markdown",
   "id": "0c0fb079-4baa-4e8c-93a2-8134d3f5b4fd",
   "metadata": {},
   "source": [
    "### Use Lib"
   ]
  },
  {
   "cell_type": "code",
   "execution_count": 55,
   "id": "4b35e403-df41-46f4-b1f1-4f668d3276cf",
   "metadata": {
    "execution": {
     "iopub.execute_input": "2022-04-16T05:32:12.164345Z",
     "iopub.status.busy": "2022-04-16T05:32:12.163853Z",
     "iopub.status.idle": "2022-04-16T05:32:12.173975Z",
     "shell.execute_reply": "2022-04-16T05:32:12.173228Z",
     "shell.execute_reply.started": "2022-04-16T05:32:12.164267Z"
    },
    "tags": []
   },
   "outputs": [],
   "source": [
    "import  numpy as np\n",
    "import  pandas as pd\n",
    "import  matplotlib as mpl\n",
    "import  matplotlib.pyplot as plt\n",
    "from selenium import webdriver\n",
    "import time\n",
    "from urllib.parse import quote\n",
    "from datetime import datetime, timedelta\n",
    "from  webdriver_manager.chrome import ChromeDriverManager\n",
    "\n",
    "\n",
    "from bs4 import BeautifulSoup\n",
    "from selenium import webdriver\n",
    "# from webdriver_manager.chrome import ChromeDriverManager\n",
    "import time\n",
    "from time import sleep\n",
    "from tqdm import tqdm\n",
    "from urllib.parse import quote\n",
    "from selenium.webdriver.common.keys import Keys\n",
    "from selenium.common.exceptions import ElementNotInteractableException\n",
    "from selenium.common.exceptions import NoSuchElementException\n",
    "import pyperclip\n",
    "import urllib.request\n",
    "import requests\n",
    "import urllib.parse \n",
    "from urllib import parse\n",
    "import ssl\n",
    "\n",
    "context = ssl._create_unverified_context()\n",
    "\n",
    "mpl.rcParams['axes.unicode_minus'] = False\n",
    "# plt.rcParams['font.family'] = 'Malgun Gothic' # 윈도우 폰트\n",
    "plt.rcParams['font.family'] = 'NanumGothicCoding' # 리눅스 폰트"
   ]
  },
  {
   "cell_type": "markdown",
   "id": "a9a10207-539c-48af-a9aa-5648488a5884",
   "metadata": {
    "tags": []
   },
   "source": [
    "### Use def"
   ]
  },
  {
   "cell_type": "code",
   "execution_count": 245,
   "id": "104cddb9-d6c1-413f-94f6-986599c86e11",
   "metadata": {
    "execution": {
     "iopub.execute_input": "2022-04-16T06:43:36.172086Z",
     "iopub.status.busy": "2022-04-16T06:43:36.170883Z",
     "iopub.status.idle": "2022-04-16T06:43:36.183895Z",
     "shell.execute_reply": "2022-04-16T06:43:36.183095Z",
     "shell.execute_reply.started": "2022-04-16T06:43:36.172013Z"
    },
    "tags": []
   },
   "outputs": [],
   "source": [
    "def convert_date(s):\n",
    "    if len(s) == 11:\n",
    "        return s[:-1]\n",
    "\n",
    "    today = datetime.now()\n",
    "    if '어제' in s:\n",
    "        date = today - timedelta(1)\n",
    "    elif '일' in s:\n",
    "        date = today - timedelta(int(s[:-3]))\n",
    "    elif '시간' in s:\n",
    "        date = today - timedelta(hours=int(s[:-4]))\n",
    "    elif '분' in s:\n",
    "        date = today - timedelta(minutes=int(s[:-3]))\n",
    "\n",
    "    return f'{date.year}.{date.month:02d}.{date.day:02d}'"
   ]
  },
  {
   "cell_type": "code",
   "execution_count": 112,
   "id": "1f600eef-42e9-4605-8d7a-39870387e615",
   "metadata": {
    "execution": {
     "iopub.execute_input": "2022-04-16T05:47:24.115824Z",
     "iopub.status.busy": "2022-04-16T05:47:24.115642Z",
     "iopub.status.idle": "2022-04-16T05:47:24.128477Z",
     "shell.execute_reply": "2022-04-16T05:47:24.128020Z",
     "shell.execute_reply.started": "2022-04-16T05:47:24.115808Z"
    }
   },
   "outputs": [
    {
     "data": {
      "text/html": [
       "<div>\n",
       "<style scoped>\n",
       "    .dataframe tbody tr th:only-of-type {\n",
       "        vertical-align: middle;\n",
       "    }\n",
       "\n",
       "    .dataframe tbody tr th {\n",
       "        vertical-align: top;\n",
       "    }\n",
       "\n",
       "    .dataframe thead tr th {\n",
       "        text-align: left;\n",
       "    }\n",
       "</style>\n",
       "<table border=\"1\" class=\"dataframe\">\n",
       "  <thead>\n",
       "    <tr>\n",
       "      <th></th>\n",
       "      <th>href</th>\n",
       "    </tr>\n",
       "  </thead>\n",
       "  <tbody>\n",
       "    <tr>\n",
       "      <th>0</th>\n",
       "      <td>https://blog.naver.com/gurygury2001/222011887176</td>\n",
       "    </tr>\n",
       "    <tr>\n",
       "      <th>1</th>\n",
       "      <td>https://blog.naver.com/cwmylee/222154538039</td>\n",
       "    </tr>\n",
       "    <tr>\n",
       "      <th>2</th>\n",
       "      <td>https://blog.naver.com/dladidwn8/222345234803</td>\n",
       "    </tr>\n",
       "    <tr>\n",
       "      <th>3</th>\n",
       "      <td>https://post.naver.com/viewer/postView.naver?v...</td>\n",
       "    </tr>\n",
       "    <tr>\n",
       "      <th>4</th>\n",
       "      <td>https://post.naver.com/viewer/postView.nhn?vol...</td>\n",
       "    </tr>\n",
       "    <tr>\n",
       "      <th>...</th>\n",
       "      <td>...</td>\n",
       "    </tr>\n",
       "    <tr>\n",
       "      <th>133</th>\n",
       "      <td>https://cafe.naver.com/momland/322902?art=ZXh0...</td>\n",
       "    </tr>\n",
       "    <tr>\n",
       "      <th>134</th>\n",
       "      <td>https://cafe.naver.com/unjeongnewcity/50837?ar...</td>\n",
       "    </tr>\n",
       "    <tr>\n",
       "      <th>135</th>\n",
       "      <td>https://cafe.naver.com/juvis/151179?art=ZXh0ZX...</td>\n",
       "    </tr>\n",
       "    <tr>\n",
       "      <th>136</th>\n",
       "      <td>https://cafe.naver.com/true8/2123302?art=ZXh0Z...</td>\n",
       "    </tr>\n",
       "    <tr>\n",
       "      <th>137</th>\n",
       "      <td>https://cafe.naver.com/musicstar2/21547127?art...</td>\n",
       "    </tr>\n",
       "  </tbody>\n",
       "</table>\n",
       "<p>138 rows × 1 columns</p>\n",
       "</div>"
      ],
      "text/plain": [
       "                                                  href\n",
       "0     https://blog.naver.com/gurygury2001/222011887176\n",
       "1          https://blog.naver.com/cwmylee/222154538039\n",
       "2        https://blog.naver.com/dladidwn8/222345234803\n",
       "3    https://post.naver.com/viewer/postView.naver?v...\n",
       "4    https://post.naver.com/viewer/postView.nhn?vol...\n",
       "..                                                 ...\n",
       "133  https://cafe.naver.com/momland/322902?art=ZXh0...\n",
       "134  https://cafe.naver.com/unjeongnewcity/50837?ar...\n",
       "135  https://cafe.naver.com/juvis/151179?art=ZXh0ZX...\n",
       "136  https://cafe.naver.com/true8/2123302?art=ZXh0Z...\n",
       "137  https://cafe.naver.com/musicstar2/21547127?art...\n",
       "\n",
       "[138 rows x 1 columns]"
      ]
     },
     "execution_count": 112,
     "metadata": {},
     "output_type": "execute_result"
    }
   ],
   "source": [
    "df_염경환.href"
   ]
  },
  {
   "cell_type": "code",
   "execution_count": 268,
   "id": "bc57f18e-81b9-4dd6-b0e0-b949ea23e828",
   "metadata": {
    "execution": {
     "iopub.execute_input": "2022-04-16T06:50:45.329872Z",
     "iopub.status.busy": "2022-04-16T06:50:45.329235Z",
     "iopub.status.idle": "2022-04-16T06:50:45.338146Z",
     "shell.execute_reply": "2022-04-16T06:50:45.336911Z",
     "shell.execute_reply.started": "2022-04-16T06:50:45.329807Z"
    },
    "tags": []
   },
   "outputs": [],
   "source": [
    "#iframe 제거 후 blog.naver.com 붙이기\n",
    "def delete_iframe(url):\n",
    "    headers = {\"User-Agent\":\"Mozilla/5.0 (Windows NT 10.0; Win64; x64) AppleWebKit/537.36 (KHTML, like Gecko) Chrome/90.0.4430.93 Safari/537.36\"}\n",
    "    res = requests.get(url, headers=headers)\n",
    "    # res.raise_for_status() # 문제시 프로그램 종료\n",
    "    soup = BeautifulSoup(res.text, \"lxml\") \n",
    "\n",
    "    src_url = \"https://blog.naver.com/\" + soup.iframe[\"src\"]\n",
    "    \n",
    "    return src_url\n"
   ]
  },
  {
   "cell_type": "code",
   "execution_count": 260,
   "id": "03cd4b1d-7e17-41e5-aade-98b8fb8eb92d",
   "metadata": {
    "execution": {
     "iopub.execute_input": "2022-04-16T06:48:35.075782Z",
     "iopub.status.busy": "2022-04-16T06:48:35.075282Z",
     "iopub.status.idle": "2022-04-16T06:48:35.084802Z",
     "shell.execute_reply": "2022-04-16T06:48:35.083563Z",
     "shell.execute_reply.started": "2022-04-16T06:48:35.075721Z"
    },
    "tags": []
   },
   "outputs": [
    {
     "data": {
      "text/plain": [
       "'https://blog.naver.com/dladidwn8?Redirect=Log&logNo=222345234803'"
      ]
     },
     "execution_count": 260,
     "metadata": {},
     "output_type": "execute_result"
    }
   ],
   "source": [
    "df_염경환.loc[0,'href'][0]"
   ]
  },
  {
   "cell_type": "code",
   "execution_count": 263,
   "id": "a12b0e5b-b75a-45f3-927e-b17fe081273b",
   "metadata": {
    "execution": {
     "iopub.execute_input": "2022-04-16T06:49:48.466885Z",
     "iopub.status.busy": "2022-04-16T06:49:48.466646Z",
     "iopub.status.idle": "2022-04-16T06:49:48.566651Z",
     "shell.execute_reply": "2022-04-16T06:49:48.565639Z",
     "shell.execute_reply.started": "2022-04-16T06:49:48.466853Z"
    },
    "tags": []
   },
   "outputs": [
    {
     "ename": "AttributeError",
     "evalue": "'str' object has no attribute 'read'",
     "output_type": "error",
     "traceback": [
      "\u001b[0;31m---------------------------------------------------------------------------\u001b[0m",
      "\u001b[0;31mAttributeError\u001b[0m                            Traceback (most recent call last)",
      "\u001b[0;32m/tmp/ipykernel_75148/3844125683.py\u001b[0m in \u001b[0;36m<module>\u001b[0;34m\u001b[0m\n\u001b[0;32m----> 1\u001b[0;31m \u001b[0mdelete_iframe\u001b[0m\u001b[0;34m(\u001b[0m\u001b[0mdf_염경환\u001b[0m\u001b[0;34m.\u001b[0m\u001b[0mloc\u001b[0m\u001b[0;34m[\u001b[0m\u001b[0;36m0\u001b[0m\u001b[0;34m,\u001b[0m\u001b[0;34m'href'\u001b[0m\u001b[0;34m]\u001b[0m\u001b[0;34m[\u001b[0m\u001b[0;36m0\u001b[0m\u001b[0;34m]\u001b[0m\u001b[0;34m)\u001b[0m\u001b[0;34m.\u001b[0m\u001b[0mread\u001b[0m\u001b[0;34m(\u001b[0m\u001b[0;34m)\u001b[0m\u001b[0;34m\u001b[0m\u001b[0;34m\u001b[0m\u001b[0m\n\u001b[0m",
      "\u001b[0;31mAttributeError\u001b[0m: 'str' object has no attribute 'read'"
     ]
    }
   ],
   "source": [
    "delete_iframe(df_염경환.loc[0,'href'][0]).read()"
   ]
  },
  {
   "cell_type": "code",
   "execution_count": 255,
   "id": "633b4554-48fa-4a21-a986-71cc40039247",
   "metadata": {
    "execution": {
     "iopub.execute_input": "2022-04-16T06:47:48.464895Z",
     "iopub.status.busy": "2022-04-16T06:47:48.464498Z",
     "iopub.status.idle": "2022-04-16T06:47:48.471450Z",
     "shell.execute_reply": "2022-04-16T06:47:48.469712Z",
     "shell.execute_reply.started": "2022-04-16T06:47:48.464841Z"
    },
    "tags": []
   },
   "outputs": [],
   "source": [
    "headers = {\"User-Agent\":\"Mozilla/5.0 (Windows NT 10.0; Win64; x64) AppleWebKit/537.36 (KHTML, like Gecko) Chrome/90.0.4430.93 Safari/537.36\"}"
   ]
  },
  {
   "cell_type": "markdown",
   "id": "daf2f855-4baa-4b3e-abb5-b894ccf38cb8",
   "metadata": {},
   "source": [
    "## get driver"
   ]
  },
  {
   "cell_type": "code",
   "execution_count": 15,
   "id": "36f93732-e336-46b0-929e-222262f23a85",
   "metadata": {
    "execution": {
     "iopub.execute_input": "2022-04-16T05:14:17.577237Z",
     "iopub.status.busy": "2022-04-16T05:14:17.576757Z",
     "iopub.status.idle": "2022-04-16T05:14:23.027737Z",
     "shell.execute_reply": "2022-04-16T05:14:23.025752Z",
     "shell.execute_reply.started": "2022-04-16T05:14:17.577161Z"
    }
   },
   "outputs": [
    {
     "name": "stderr",
     "output_type": "stream",
     "text": [
      "\n",
      "\n",
      "====== WebDriver manager ======\n",
      "Current google-chrome version is 100.0.4896\n",
      "Get LATEST chromedriver version for 100.0.4896 google-chrome\n",
      "Trying to download new driver from https://chromedriver.storage.googleapis.com/100.0.4896.60/chromedriver_linux64.zip\n",
      "Driver has been saved in cache [/home/miwoos/.wdm/drivers/chromedriver/linux64/100.0.4896.60]\n",
      "/tmp/ipykernel_75148/4219932781.py:3: DeprecationWarning: executable_path has been deprecated, please pass in a Service object\n",
      "  driver = webdriver.Chrome(ChromeDriverManager().install()) # 리눅스\n"
     ]
    }
   ],
   "source": [
    "url = f'https://search.naver.com/search.naver?where=view&sm=tab_jum&query={quote(\"염경환\")}'\n",
    "# driver = webdriver.Chrome('chromedriver.exe') # 윈도우\n",
    "driver = webdriver.Chrome(ChromeDriverManager().install()) # 리눅스\n",
    "driver.get(url)\n",
    "time.sleep(2)"
   ]
  },
  {
   "cell_type": "markdown",
   "id": "535ee73d-b735-4c51-86b6-84a4448f1584",
   "metadata": {
    "tags": []
   },
   "source": [
    "## 염경환"
   ]
  },
  {
   "cell_type": "code",
   "execution_count": 122,
   "id": "cda92a8a-0e71-4285-b5db-a3b91653827e",
   "metadata": {
    "execution": {
     "iopub.execute_input": "2022-04-16T05:50:28.380507Z",
     "iopub.status.busy": "2022-04-16T05:50:28.380059Z",
     "iopub.status.idle": "2022-04-16T05:50:28.385072Z",
     "shell.execute_reply": "2022-04-16T05:50:28.384532Z",
     "shell.execute_reply.started": "2022-04-16T05:50:28.380416Z"
    },
    "tags": []
   },
   "outputs": [],
   "source": [
    "# url_염경환 = f'https://search.naver.com/search.naver?where=view&sm=tab_jum&query={quote(\"염경환\")}'\n",
    "url_염경환 = f'https://search.naver.com/search.naver?query=%EC%97%BC%EA%B2%BD%ED%99%98&nso=&where=blog&sm=tab_opt'"
   ]
  },
  {
   "cell_type": "code",
   "execution_count": 123,
   "id": "95206961-36d5-4d03-9211-44668d6d956d",
   "metadata": {
    "execution": {
     "iopub.execute_input": "2022-04-16T05:50:36.162723Z",
     "iopub.status.busy": "2022-04-16T05:50:36.162247Z",
     "iopub.status.idle": "2022-04-16T05:50:40.291988Z",
     "shell.execute_reply": "2022-04-16T05:50:40.289884Z",
     "shell.execute_reply.started": "2022-04-16T05:50:36.162630Z"
    },
    "tags": []
   },
   "outputs": [
    {
     "name": "stderr",
     "output_type": "stream",
     "text": [
      "\n",
      "\n",
      "====== WebDriver manager ======\n",
      "Current google-chrome version is 100.0.4896\n",
      "Get LATEST chromedriver version for 100.0.4896 google-chrome\n",
      "Driver [/home/miwoos/.wdm/drivers/chromedriver/linux64/100.0.4896.60/chromedriver] found in cache\n",
      "/tmp/ipykernel_75148/728867933.py:1: DeprecationWarning: executable_path has been deprecated, please pass in a Service object\n",
      "  driver = webdriver.Chrome(ChromeDriverManager().install()) # 리눅스\n"
     ]
    }
   ],
   "source": [
    "driver = webdriver.Chrome(ChromeDriverManager().install()) # 리눅스\n",
    "driver.get(url_염경환)\n",
    "time.sleep(2)"
   ]
  },
  {
   "cell_type": "code",
   "execution_count": 125,
   "id": "e1506880-7668-407b-9dde-5d3df9330670",
   "metadata": {
    "execution": {
     "iopub.execute_input": "2022-04-16T05:52:31.058372Z",
     "iopub.status.busy": "2022-04-16T05:52:31.057888Z",
     "iopub.status.idle": "2022-04-16T06:01:10.416286Z",
     "shell.execute_reply": "2022-04-16T06:01:10.414782Z",
     "shell.execute_reply.started": "2022-04-16T05:52:31.058297Z"
    },
    "tags": []
   },
   "outputs": [
    {
     "name": "stderr",
     "output_type": "stream",
     "text": [
      "/tmp/ipykernel_75148/1281333321.py:1: DeprecationWarning: find_element_by_tag_name is deprecated. Please use find_element(by=By.TAG_NAME, value=name) instead\n",
      "  body = driver.find_element_by_tag_name('body')\n"
     ]
    }
   ],
   "source": [
    "body = driver.find_element_by_tag_name('body')\n",
    "for _ in range(100):\n",
    "    body.send_keys(Keys.PAGE_DOWN)\n",
    "    time.sleep(1)"
   ]
  },
  {
   "cell_type": "markdown",
   "id": "ee0823a3-9e8b-4de7-8c21-4946fde30c96",
   "metadata": {
    "tags": []
   },
   "source": [
    "#### test"
   ]
  },
  {
   "cell_type": "code",
   "execution_count": 242,
   "id": "4d2d1025-39ae-4fcb-a586-b329b0790981",
   "metadata": {
    "execution": {
     "iopub.execute_input": "2022-04-16T06:41:57.312614Z",
     "iopub.status.busy": "2022-04-16T06:41:57.312146Z",
     "iopub.status.idle": "2022-04-16T06:41:57.949062Z",
     "shell.execute_reply": "2022-04-16T06:41:57.948458Z",
     "shell.execute_reply.started": "2022-04-16T06:41:57.312538Z"
    },
    "tags": []
   },
   "outputs": [
    {
     "name": "stderr",
     "output_type": "stream",
     "text": [
      "/tmp/ipykernel_75148/1418382889.py:1: DeprecationWarning: find_elements_by_css_selector is deprecated. Please use find_elements(by=By.CSS_SELECTOR, value=css_selector) instead\n",
      "  lis = driver.find_elements_by_css_selector('#_view_review_body_html > div > more-contents > div > ul > li')\n"
     ]
    },
    {
     "data": {
      "text/plain": [
       "1050"
      ]
     },
     "execution_count": 242,
     "metadata": {},
     "output_type": "execute_result"
    }
   ],
   "source": [
    "lis = driver.find_elements_by_css_selector('#_view_review_body_html > div > more-contents > div > ul > li')\n",
    "len(lis)"
   ]
  },
  {
   "cell_type": "code",
   "execution_count": 168,
   "id": "777c8e70-82a3-4ee2-b606-5da7ab1b1647",
   "metadata": {
    "execution": {
     "iopub.execute_input": "2022-04-16T06:22:44.710234Z",
     "iopub.status.busy": "2022-04-16T06:22:44.709746Z",
     "iopub.status.idle": "2022-04-16T06:22:44.716822Z",
     "shell.execute_reply": "2022-04-16T06:22:44.716486Z",
     "shell.execute_reply.started": "2022-04-16T06:22:44.710162Z"
    },
    "tags": []
   },
   "outputs": [
    {
     "data": {
      "text/plain": [
       "<selenium.webdriver.remote.webelement.WebElement (session=\"8e10b159240bc7d41c39c525d6890c8f\", element=\"809391cb-6d07-4e13-9ab0-5186ed530efa\")>"
      ]
     },
     "execution_count": 168,
     "metadata": {},
     "output_type": "execute_result"
    }
   ],
   "source": [
    "lis[0]"
   ]
  },
  {
   "cell_type": "code",
   "execution_count": 238,
   "id": "59578c03-189a-45ed-a0ce-85e5f8e0bcbc",
   "metadata": {
    "execution": {
     "iopub.execute_input": "2022-04-16T06:39:21.292117Z",
     "iopub.status.busy": "2022-04-16T06:39:21.291716Z",
     "iopub.status.idle": "2022-04-16T06:39:21.335769Z",
     "shell.execute_reply": "2022-04-16T06:39:21.335158Z",
     "shell.execute_reply.started": "2022-04-16T06:39:21.292049Z"
    },
    "tags": []
   },
   "outputs": [
    {
     "data": {
      "text/plain": [
       "'하노이 러우 하노이맛집 배틀트립에 나온 염경환 러우식당'"
      ]
     },
     "execution_count": 238,
     "metadata": {},
     "output_type": "execute_result"
    }
   ],
   "source": [
    "title = lis[0].find_element_by_css_selector('li > div > div > a').text.strip()\n",
    "#sp_blog_1 > div > div > a\n",
    "title"
   ]
  },
  {
   "cell_type": "code",
   "execution_count": 226,
   "id": "160ab71a-c1f4-42af-9d25-51f5f0994519",
   "metadata": {
    "execution": {
     "iopub.execute_input": "2022-04-16T06:34:19.819653Z",
     "iopub.status.busy": "2022-04-16T06:34:19.819175Z",
     "iopub.status.idle": "2022-04-16T06:34:19.860566Z",
     "shell.execute_reply": "2022-04-16T06:34:19.859910Z",
     "shell.execute_reply.started": "2022-04-16T06:34:19.819587Z"
    },
    "tags": []
   },
   "outputs": [
    {
     "name": "stderr",
     "output_type": "stream",
     "text": [
      "/home/miwoos/anaconda3/lib/python3.9/site-packages/selenium/webdriver/remote/webelement.py:484: UserWarning: find_element_by_css_selector is deprecated. Please use find_element(by=By.CSS_SELECTOR, value=css_selector) instead\n",
      "  warnings.warn(\"find_element_by_css_selector is deprecated. Please use find_element(by=By.CSS_SELECTOR, value=css_selector) instead\")\n"
     ]
    },
    {
     "data": {
      "text/plain": [
       "'2021.05.10.'"
      ]
     },
     "execution_count": 226,
     "metadata": {},
     "output_type": "execute_result"
    }
   ],
   "source": [
    "date = lis[0].find_element_by_css_selector('.sub_time.sub_txt').text.strip()\n",
    "date"
   ]
  },
  {
   "cell_type": "code",
   "execution_count": 27,
   "id": "2a8a1764-0c90-4bd6-9b80-cf67fd6282b8",
   "metadata": {
    "execution": {
     "iopub.execute_input": "2022-04-16T05:20:42.582217Z",
     "iopub.status.busy": "2022-04-16T05:20:42.581646Z",
     "iopub.status.idle": "2022-04-16T05:20:42.623743Z",
     "shell.execute_reply": "2022-04-16T05:20:42.623200Z",
     "shell.execute_reply.started": "2022-04-16T05:20:42.582150Z"
    },
    "tags": []
   },
   "outputs": [
    {
     "name": "stderr",
     "output_type": "stream",
     "text": [
      "/home/miwoos/anaconda3/lib/python3.9/site-packages/selenium/webdriver/remote/webelement.py:484: UserWarning: find_element_by_css_selector is deprecated. Please use find_element(by=By.CSS_SELECTOR, value=css_selector) instead\n",
      "  warnings.warn(\"find_element_by_css_selector is deprecated. Please use find_element(by=By.CSS_SELECTOR, value=css_selector) instead\")\n"
     ]
    },
    {
     "data": {
      "text/plain": [
       "'2020.06.25.'"
      ]
     },
     "execution_count": 27,
     "metadata": {},
     "output_type": "execute_result"
    }
   ],
   "source": [
    "lis[0].find_element_by_css_selector('.sub_time.sub_txt').text.strip()"
   ]
  },
  {
   "cell_type": "code",
   "execution_count": 241,
   "id": "1620c7be-979d-4aa6-8caf-e8f265c6d2d9",
   "metadata": {
    "execution": {
     "iopub.execute_input": "2022-04-16T06:40:19.190943Z",
     "iopub.status.busy": "2022-04-16T06:40:19.190349Z",
     "iopub.status.idle": "2022-04-16T06:40:19.232798Z",
     "shell.execute_reply": "2022-04-16T06:40:19.232463Z",
     "shell.execute_reply.started": "2022-04-16T06:40:19.190873Z"
    },
    "tags": []
   },
   "outputs": [
    {
     "name": "stderr",
     "output_type": "stream",
     "text": [
      "/home/miwoos/anaconda3/lib/python3.9/site-packages/selenium/webdriver/remote/webelement.py:484: UserWarning: find_element_by_css_selector is deprecated. Please use find_element(by=By.CSS_SELECTOR, value=css_selector) instead\n",
      "  warnings.warn(\"find_element_by_css_selector is deprecated. Please use find_element(by=By.CSS_SELECTOR, value=css_selector) instead\")\n"
     ]
    },
    {
     "data": {
      "text/plain": [
       "'이름이 염경환 러우식당이라고 치면 나오는게 너무 웃기면서도 염경환씨 식당인줄.. ㅋㅋㅋㅋㅋㅋㅋㅋㅋㅋㅋㅋ 영업시간 10:00 ~ 21:30 (휴무 없음, 전요일 영업시간 동일)...'"
      ]
     },
     "execution_count": 241,
     "metadata": {},
     "output_type": "execute_result"
    }
   ],
   "source": [
    "desc = lis[0].find_element_by_css_selector('li > div > div > div.total_group > div > a > div').text.strip()\n",
    "#li > div > div > div.total_group > div > a > div\n",
    "desc"
   ]
  },
  {
   "cell_type": "code",
   "execution_count": 236,
   "id": "ba21776d-78aa-400a-ae8e-72b9a68513ef",
   "metadata": {
    "execution": {
     "iopub.execute_input": "2022-04-16T06:37:30.226295Z",
     "iopub.status.busy": "2022-04-16T06:37:30.225845Z",
     "iopub.status.idle": "2022-04-16T06:37:30.260337Z",
     "shell.execute_reply": "2022-04-16T06:37:30.259641Z",
     "shell.execute_reply.started": "2022-04-16T06:37:30.226214Z"
    },
    "tags": []
   },
   "outputs": [
    {
     "data": {
      "text/plain": [
       "'https://blog.naver.com/dladidwn8?Redirect=Log&logNo=222345234803'"
      ]
     },
     "execution_count": 236,
     "metadata": {},
     "output_type": "execute_result"
    }
   ],
   "source": [
    "href = lis[0].find_element_by_css_selector('li > div > div > a').get_attribute('href')\n",
    "href"
   ]
  },
  {
   "cell_type": "markdown",
   "id": "3659e1fe-2b68-4754-9c0c-6bdfab36be9d",
   "metadata": {},
   "source": [
    "#### 반복문으로 수집"
   ]
  },
  {
   "cell_type": "code",
   "execution_count": 243,
   "id": "ad1e5464-5239-4271-ade7-78237b2b48ec",
   "metadata": {
    "execution": {
     "iopub.execute_input": "2022-04-16T06:42:02.487647Z",
     "iopub.status.busy": "2022-04-16T06:42:02.487191Z",
     "iopub.status.idle": "2022-04-16T06:42:02.496703Z",
     "shell.execute_reply": "2022-04-16T06:42:02.495277Z",
     "shell.execute_reply.started": "2022-04-16T06:42:02.487584Z"
    },
    "tags": []
   },
   "outputs": [
    {
     "data": {
      "text/plain": [
       "1050"
      ]
     },
     "execution_count": 243,
     "metadata": {},
     "output_type": "execute_result"
    }
   ],
   "source": [
    "len(lis)"
   ]
  },
  {
   "cell_type": "code",
   "execution_count": 247,
   "id": "dca0bf75-3cde-49e9-a147-1face5a0fafb",
   "metadata": {
    "execution": {
     "iopub.execute_input": "2022-04-16T06:44:36.076645Z",
     "iopub.status.busy": "2022-04-16T06:44:36.076224Z",
     "iopub.status.idle": "2022-04-16T06:46:13.192311Z",
     "shell.execute_reply": "2022-04-16T06:46:13.191888Z",
     "shell.execute_reply.started": "2022-04-16T06:44:36.076602Z"
    },
    "tags": []
   },
   "outputs": [
    {
     "name": "stderr",
     "output_type": "stream",
     "text": [
      "1050it [01:37, 10.81it/s]\n"
     ]
    }
   ],
   "source": [
    "lines = []\n",
    "for i,li in tqdm(enumerate(lis)):\n",
    "    title = li.find_element_by_css_selector('li > div > div > a').text.strip()\n",
    "    date = li.find_element_by_css_selector('.sub_time.sub_txt').text.strip()\n",
    "    desc = li.find_element_by_css_selector('li > div > div > div.total_group > div > a > div').text.strip()\n",
    "    href = li.find_element_by_css_selector('li > div > div > a').get_attribute('href')\n",
    "    lines.append([title,date,desc,href])"
   ]
  },
  {
   "cell_type": "code",
   "execution_count": 248,
   "id": "62201c76-a64e-4a27-9953-dc59e24cb6bc",
   "metadata": {
    "execution": {
     "iopub.execute_input": "2022-04-16T06:46:15.173711Z",
     "iopub.status.busy": "2022-04-16T06:46:15.173094Z",
     "iopub.status.idle": "2022-04-16T06:46:15.182944Z",
     "shell.execute_reply": "2022-04-16T06:46:15.181902Z",
     "shell.execute_reply.started": "2022-04-16T06:46:15.173650Z"
    },
    "tags": []
   },
   "outputs": [
    {
     "data": {
      "text/plain": [
       "1050"
      ]
     },
     "execution_count": 248,
     "metadata": {},
     "output_type": "execute_result"
    }
   ],
   "source": [
    "len(lines)"
   ]
  },
  {
   "cell_type": "code",
   "execution_count": 249,
   "id": "5c4658bf-ec62-40df-8af0-01db49923e2a",
   "metadata": {
    "execution": {
     "iopub.execute_input": "2022-04-16T06:46:17.554549Z",
     "iopub.status.busy": "2022-04-16T06:46:17.554115Z",
     "iopub.status.idle": "2022-04-16T06:46:17.566720Z",
     "shell.execute_reply": "2022-04-16T06:46:17.565112Z",
     "shell.execute_reply.started": "2022-04-16T06:46:17.554472Z"
    },
    "tags": []
   },
   "outputs": [],
   "source": [
    "df_염경환 = pd.DataFrame(lines, columns=['제목 날짜 내용 href'.split()])"
   ]
  },
  {
   "cell_type": "code",
   "execution_count": 250,
   "id": "b638c14b-c2e8-4bbc-82b2-129b1c8c1911",
   "metadata": {
    "execution": {
     "iopub.execute_input": "2022-04-16T06:46:18.665237Z",
     "iopub.status.busy": "2022-04-16T06:46:18.664797Z",
     "iopub.status.idle": "2022-04-16T06:46:18.680772Z",
     "shell.execute_reply": "2022-04-16T06:46:18.680459Z",
     "shell.execute_reply.started": "2022-04-16T06:46:18.665193Z"
    },
    "tags": []
   },
   "outputs": [
    {
     "data": {
      "text/html": [
       "<div>\n",
       "<style scoped>\n",
       "    .dataframe tbody tr th:only-of-type {\n",
       "        vertical-align: middle;\n",
       "    }\n",
       "\n",
       "    .dataframe tbody tr th {\n",
       "        vertical-align: top;\n",
       "    }\n",
       "\n",
       "    .dataframe thead tr th {\n",
       "        text-align: left;\n",
       "    }\n",
       "</style>\n",
       "<table border=\"1\" class=\"dataframe\">\n",
       "  <thead>\n",
       "    <tr>\n",
       "      <th></th>\n",
       "      <th>제목</th>\n",
       "      <th>날짜</th>\n",
       "      <th>내용</th>\n",
       "      <th>href</th>\n",
       "    </tr>\n",
       "  </thead>\n",
       "  <tbody>\n",
       "    <tr>\n",
       "      <th>0</th>\n",
       "      <td>하노이 러우 하노이맛집 배틀트립에 나온 염경환 러우식당</td>\n",
       "      <td>2021.05.10.</td>\n",
       "      <td>이름이 염경환 러우식당이라고 치면 나오는게 너무 웃기면서도 염경환씨 식당인줄.. ㅋ...</td>\n",
       "      <td>https://blog.naver.com/dladidwn8?Redirect=Log&amp;...</td>\n",
       "    </tr>\n",
       "    <tr>\n",
       "      <th>1</th>\n",
       "      <td>직업 심수창 아내 염경환 부인 서현정 이혼이유 재혼 라스 696회</td>\n",
       "      <td>2020.11.25.</td>\n",
       "      <td>염경환 나이 키 학력 출생 1970년 12월 16일 (49세) 인천광역시 중구 신체...</td>\n",
       "      <td>https://blog.naver.com/cwmylee?Redirect=Log&amp;lo...</td>\n",
       "    </tr>\n",
       "  </tbody>\n",
       "</table>\n",
       "</div>"
      ],
      "text/plain": [
       "                                     제목           날짜  \\\n",
       "0        하노이 러우 하노이맛집 배틀트립에 나온 염경환 러우식당  2021.05.10.   \n",
       "1  직업 심수창 아내 염경환 부인 서현정 이혼이유 재혼 라스 696회  2020.11.25.   \n",
       "\n",
       "                                                  내용  \\\n",
       "0  이름이 염경환 러우식당이라고 치면 나오는게 너무 웃기면서도 염경환씨 식당인줄.. ㅋ...   \n",
       "1  염경환 나이 키 학력 출생 1970년 12월 16일 (49세) 인천광역시 중구 신체...   \n",
       "\n",
       "                                                href  \n",
       "0  https://blog.naver.com/dladidwn8?Redirect=Log&...  \n",
       "1  https://blog.naver.com/cwmylee?Redirect=Log&lo...  "
      ]
     },
     "execution_count": 250,
     "metadata": {},
     "output_type": "execute_result"
    }
   ],
   "source": [
    "df_염경환.head(2)"
   ]
  },
  {
   "cell_type": "code",
   "execution_count": 253,
   "id": "4b2b7598-80ec-4c5b-ad77-a867a52c07dd",
   "metadata": {
    "execution": {
     "iopub.execute_input": "2022-04-16T06:47:01.381237Z",
     "iopub.status.busy": "2022-04-16T06:47:01.380816Z",
     "iopub.status.idle": "2022-04-16T06:47:01.392638Z",
     "shell.execute_reply": "2022-04-16T06:47:01.391390Z",
     "shell.execute_reply.started": "2022-04-16T06:47:01.381195Z"
    },
    "tags": []
   },
   "outputs": [
    {
     "data": {
      "text/plain": [
       "'https://blog.naver.com/suckj0989?Redirect=Log&logNo=221271909120'"
      ]
     },
     "execution_count": 253,
     "metadata": {},
     "output_type": "execute_result"
    }
   ],
   "source": [
    "df_염경환.loc[100,'href'][0]"
   ]
  },
  {
   "cell_type": "code",
   "execution_count": 276,
   "id": "6fedfa86-c56d-4464-b7be-d2313f3a313d",
   "metadata": {
    "execution": {
     "iopub.execute_input": "2022-04-16T06:51:24.753512Z",
     "iopub.status.busy": "2022-04-16T06:51:24.752919Z",
     "iopub.status.idle": "2022-04-16T06:51:24.766068Z",
     "shell.execute_reply": "2022-04-16T06:51:24.765429Z",
     "shell.execute_reply.started": "2022-04-16T06:51:24.753403Z"
    },
    "tags": []
   },
   "outputs": [
    {
     "name": "stderr",
     "output_type": "stream",
     "text": [
      "1it [00:00, 1640.32it/s]\n"
     ]
    }
   ],
   "source": [
    "contentss_염경환 = []\n",
    "for i,link in tqdm(enumerate(df_염경환.href)):\n",
    "    try:\n",
    "        html = urllib.request.urlopen(delete_iframe(link))\n",
    "        soup = BeautifulSoup(html,'html.parser') \n",
    "        contents=  ''\n",
    "        content=list(soup.find_all('div',class_='se-module se-module-text'))\n",
    "        for i,item in enumerate(list(soup.find_all('div',class_='se-module se-module-text'))):\n",
    "            contents += item.text\n",
    "    except :\n",
    "        pass\n",
    "    contentss_염경환.append(contents)"
   ]
  },
  {
   "cell_type": "code",
   "execution_count": 277,
   "id": "652376bf-3458-4a24-b69f-8bcc91ecb184",
   "metadata": {
    "execution": {
     "iopub.execute_input": "2022-04-16T06:51:51.607128Z",
     "iopub.status.busy": "2022-04-16T06:51:51.606626Z",
     "iopub.status.idle": "2022-04-16T06:51:51.616031Z",
     "shell.execute_reply": "2022-04-16T06:51:51.615360Z",
     "shell.execute_reply.started": "2022-04-16T06:51:51.607018Z"
    },
    "tags": []
   },
   "outputs": [
    {
     "data": {
      "text/plain": [
       "1"
      ]
     },
     "execution_count": 277,
     "metadata": {},
     "output_type": "execute_result"
    }
   ],
   "source": [
    "len(contentss_염경환)"
   ]
  },
  {
   "cell_type": "code",
   "execution_count": 288,
   "id": "7b2dde46-28c4-44c9-b5ea-ce6a1077ca67",
   "metadata": {
    "execution": {
     "iopub.execute_input": "2022-04-16T06:54:01.015297Z",
     "iopub.status.busy": "2022-04-16T06:54:01.015081Z",
     "iopub.status.idle": "2022-04-16T06:54:01.020045Z",
     "shell.execute_reply": "2022-04-16T06:54:01.019652Z",
     "shell.execute_reply.started": "2022-04-16T06:54:01.015250Z"
    },
    "tags": []
   },
   "outputs": [
    {
     "name": "stdout",
     "output_type": "stream",
     "text": [
      "/home/miwoos/WorkSpace/GoogleDrive/Data/내일프로젝트(홀푸드코리아)\n"
     ]
    }
   ],
   "source": [
    "cd ~/WorkSpace/GoogleDrive/Data/내일프로젝트(홀푸드코리아)"
   ]
  },
  {
   "cell_type": "code",
   "execution_count": 289,
   "id": "ae1252c5-9f04-4ee7-8625-adbc893cd901",
   "metadata": {
    "execution": {
     "iopub.execute_input": "2022-04-16T06:54:24.773312Z",
     "iopub.status.busy": "2022-04-16T06:54:24.772899Z",
     "iopub.status.idle": "2022-04-16T06:54:28.565034Z",
     "shell.execute_reply": "2022-04-16T06:54:28.563148Z",
     "shell.execute_reply.started": "2022-04-16T06:54:24.773240Z"
    },
    "tags": []
   },
   "outputs": [],
   "source": [
    "df_염경환.to_csv('염경환관련데이터.csv',index=False)"
   ]
  },
  {
   "cell_type": "code",
   "execution_count": 285,
   "id": "9fa68f9e-cd10-4630-91fa-13d3e65a4b46",
   "metadata": {
    "execution": {
     "iopub.execute_input": "2022-04-16T06:53:05.463581Z",
     "iopub.status.busy": "2022-04-16T06:53:05.463302Z",
     "iopub.status.idle": "2022-04-16T06:53:05.468338Z",
     "shell.execute_reply": "2022-04-16T06:53:05.467758Z",
     "shell.execute_reply.started": "2022-04-16T06:53:05.463550Z"
    },
    "tags": []
   },
   "outputs": [
    {
     "name": "stdout",
     "output_type": "stream",
     "text": [
      "('href',)\n"
     ]
    }
   ],
   "source": [
    "for i,link in enumerate(df_염경환.href):\n",
    "    print(link,)"
   ]
  },
  {
   "cell_type": "code",
   "execution_count": 58,
   "id": "53cbf869-2e58-4bf0-beaf-4b5cd20f3eed",
   "metadata": {
    "execution": {
     "iopub.execute_input": "2022-04-16T05:34:58.402900Z",
     "iopub.status.busy": "2022-04-16T05:34:58.402373Z",
     "iopub.status.idle": "2022-04-16T05:34:58.435220Z",
     "shell.execute_reply": "2022-04-16T05:34:58.434263Z",
     "shell.execute_reply.started": "2022-04-16T05:34:58.402833Z"
    },
    "tags": []
   },
   "outputs": [
    {
     "ename": "KeyError",
     "evalue": "0",
     "output_type": "error",
     "traceback": [
      "\u001b[0;31m---------------------------------------------------------------------------\u001b[0m",
      "\u001b[0;31mKeyError\u001b[0m                                  Traceback (most recent call last)",
      "\u001b[0;32m~/anaconda3/lib/python3.9/site-packages/pandas/core/indexes/base.py\u001b[0m in \u001b[0;36mget_loc\u001b[0;34m(self, key, method, tolerance)\u001b[0m\n\u001b[1;32m   3360\u001b[0m             \u001b[0;32mtry\u001b[0m\u001b[0;34m:\u001b[0m\u001b[0;34m\u001b[0m\u001b[0;34m\u001b[0m\u001b[0m\n\u001b[0;32m-> 3361\u001b[0;31m                 \u001b[0;32mreturn\u001b[0m \u001b[0mself\u001b[0m\u001b[0;34m.\u001b[0m\u001b[0m_engine\u001b[0m\u001b[0;34m.\u001b[0m\u001b[0mget_loc\u001b[0m\u001b[0;34m(\u001b[0m\u001b[0mcasted_key\u001b[0m\u001b[0;34m)\u001b[0m\u001b[0;34m\u001b[0m\u001b[0;34m\u001b[0m\u001b[0m\n\u001b[0m\u001b[1;32m   3362\u001b[0m             \u001b[0;32mexcept\u001b[0m \u001b[0mKeyError\u001b[0m \u001b[0;32mas\u001b[0m \u001b[0merr\u001b[0m\u001b[0;34m:\u001b[0m\u001b[0;34m\u001b[0m\u001b[0;34m\u001b[0m\u001b[0m\n",
      "\u001b[0;32m~/anaconda3/lib/python3.9/site-packages/pandas/_libs/index.pyx\u001b[0m in \u001b[0;36mpandas._libs.index.IndexEngine.get_loc\u001b[0;34m()\u001b[0m\n",
      "\u001b[0;32m~/anaconda3/lib/python3.9/site-packages/pandas/_libs/index.pyx\u001b[0m in \u001b[0;36mpandas._libs.index.IndexEngine.get_loc\u001b[0;34m()\u001b[0m\n",
      "\u001b[0;32mpandas/_libs/hashtable_class_helper.pxi\u001b[0m in \u001b[0;36mpandas._libs.hashtable.PyObjectHashTable.get_item\u001b[0;34m()\u001b[0m\n",
      "\u001b[0;32mpandas/_libs/hashtable_class_helper.pxi\u001b[0m in \u001b[0;36mpandas._libs.hashtable.PyObjectHashTable.get_item\u001b[0;34m()\u001b[0m\n",
      "\u001b[0;31mKeyError\u001b[0m: 0",
      "\nThe above exception was the direct cause of the following exception:\n",
      "\u001b[0;31mKeyError\u001b[0m                                  Traceback (most recent call last)",
      "\u001b[0;32m/tmp/ipykernel_75148/388055676.py\u001b[0m in \u001b[0;36m<module>\u001b[0;34m\u001b[0m\n\u001b[0;32m----> 1\u001b[0;31m \u001b[0mhtml\u001b[0m \u001b[0;34m=\u001b[0m \u001b[0murllib\u001b[0m\u001b[0;34m.\u001b[0m\u001b[0mrequest\u001b[0m\u001b[0;34m.\u001b[0m\u001b[0murlopen\u001b[0m\u001b[0;34m(\u001b[0m\u001b[0mdelete_iframe\u001b[0m\u001b[0;34m(\u001b[0m\u001b[0mdf_염경환\u001b[0m\u001b[0;34m.\u001b[0m\u001b[0mhref\u001b[0m\u001b[0;34m[\u001b[0m\u001b[0;36m0\u001b[0m\u001b[0;34m]\u001b[0m\u001b[0;34m)\u001b[0m\u001b[0;34m)\u001b[0m\u001b[0;34m.\u001b[0m\u001b[0mread\u001b[0m\u001b[0;34m(\u001b[0m\u001b[0;34m)\u001b[0m\u001b[0;34m\u001b[0m\u001b[0;34m\u001b[0m\u001b[0m\n\u001b[0m\u001b[1;32m      2\u001b[0m \u001b[0msoup\u001b[0m \u001b[0;34m=\u001b[0m \u001b[0mBeautifulSoup\u001b[0m\u001b[0;34m(\u001b[0m\u001b[0mhtml\u001b[0m\u001b[0;34m,\u001b[0m\u001b[0;34m'html.parser'\u001b[0m\u001b[0;34m)\u001b[0m\u001b[0;34m\u001b[0m\u001b[0;34m\u001b[0m\u001b[0m\n\u001b[1;32m      3\u001b[0m \u001b[0mcontents\u001b[0m\u001b[0;34m=\u001b[0m  \u001b[0;34m''\u001b[0m\u001b[0;34m\u001b[0m\u001b[0;34m\u001b[0m\u001b[0m\n\u001b[1;32m      4\u001b[0m \u001b[0mcontent\u001b[0m\u001b[0;34m=\u001b[0m\u001b[0mlist\u001b[0m\u001b[0;34m(\u001b[0m\u001b[0msoup\u001b[0m\u001b[0;34m.\u001b[0m\u001b[0mfind_all\u001b[0m\u001b[0;34m(\u001b[0m\u001b[0;34m'div'\u001b[0m\u001b[0;34m,\u001b[0m\u001b[0mclass_\u001b[0m\u001b[0;34m=\u001b[0m\u001b[0;34m'se-module se-module-text'\u001b[0m\u001b[0;34m)\u001b[0m\u001b[0;34m)\u001b[0m\u001b[0;34m\u001b[0m\u001b[0;34m\u001b[0m\u001b[0m\n\u001b[1;32m      5\u001b[0m \u001b[0;32mfor\u001b[0m \u001b[0mi\u001b[0m\u001b[0;34m,\u001b[0m\u001b[0mitem\u001b[0m \u001b[0;32min\u001b[0m \u001b[0menumerate\u001b[0m\u001b[0;34m(\u001b[0m\u001b[0mlist\u001b[0m\u001b[0;34m(\u001b[0m\u001b[0msoup\u001b[0m\u001b[0;34m.\u001b[0m\u001b[0mfind_all\u001b[0m\u001b[0;34m(\u001b[0m\u001b[0;34m'div'\u001b[0m\u001b[0;34m,\u001b[0m\u001b[0mclass_\u001b[0m\u001b[0;34m=\u001b[0m\u001b[0;34m'se-module se-module-text'\u001b[0m\u001b[0;34m)\u001b[0m\u001b[0;34m)\u001b[0m\u001b[0;34m)\u001b[0m\u001b[0;34m:\u001b[0m\u001b[0;34m\u001b[0m\u001b[0;34m\u001b[0m\u001b[0m\n",
      "\u001b[0;32m~/anaconda3/lib/python3.9/site-packages/pandas/core/frame.py\u001b[0m in \u001b[0;36m__getitem__\u001b[0;34m(self, key)\u001b[0m\n\u001b[1;32m   3456\u001b[0m             \u001b[0;32mif\u001b[0m \u001b[0mself\u001b[0m\u001b[0;34m.\u001b[0m\u001b[0mcolumns\u001b[0m\u001b[0;34m.\u001b[0m\u001b[0mnlevels\u001b[0m \u001b[0;34m>\u001b[0m \u001b[0;36m1\u001b[0m\u001b[0;34m:\u001b[0m\u001b[0;34m\u001b[0m\u001b[0;34m\u001b[0m\u001b[0m\n\u001b[1;32m   3457\u001b[0m                 \u001b[0;32mreturn\u001b[0m \u001b[0mself\u001b[0m\u001b[0;34m.\u001b[0m\u001b[0m_getitem_multilevel\u001b[0m\u001b[0;34m(\u001b[0m\u001b[0mkey\u001b[0m\u001b[0;34m)\u001b[0m\u001b[0;34m\u001b[0m\u001b[0;34m\u001b[0m\u001b[0m\n\u001b[0;32m-> 3458\u001b[0;31m             \u001b[0mindexer\u001b[0m \u001b[0;34m=\u001b[0m \u001b[0mself\u001b[0m\u001b[0;34m.\u001b[0m\u001b[0mcolumns\u001b[0m\u001b[0;34m.\u001b[0m\u001b[0mget_loc\u001b[0m\u001b[0;34m(\u001b[0m\u001b[0mkey\u001b[0m\u001b[0;34m)\u001b[0m\u001b[0;34m\u001b[0m\u001b[0;34m\u001b[0m\u001b[0m\n\u001b[0m\u001b[1;32m   3459\u001b[0m             \u001b[0;32mif\u001b[0m \u001b[0mis_integer\u001b[0m\u001b[0;34m(\u001b[0m\u001b[0mindexer\u001b[0m\u001b[0;34m)\u001b[0m\u001b[0;34m:\u001b[0m\u001b[0;34m\u001b[0m\u001b[0;34m\u001b[0m\u001b[0m\n\u001b[1;32m   3460\u001b[0m                 \u001b[0mindexer\u001b[0m \u001b[0;34m=\u001b[0m \u001b[0;34m[\u001b[0m\u001b[0mindexer\u001b[0m\u001b[0;34m]\u001b[0m\u001b[0;34m\u001b[0m\u001b[0;34m\u001b[0m\u001b[0m\n",
      "\u001b[0;32m~/anaconda3/lib/python3.9/site-packages/pandas/core/indexes/multi.py\u001b[0m in \u001b[0;36mget_loc\u001b[0;34m(self, key, method)\u001b[0m\n\u001b[1;32m   2920\u001b[0m \u001b[0;34m\u001b[0m\u001b[0m\n\u001b[1;32m   2921\u001b[0m         \u001b[0;32mif\u001b[0m \u001b[0;32mnot\u001b[0m \u001b[0misinstance\u001b[0m\u001b[0;34m(\u001b[0m\u001b[0mkey\u001b[0m\u001b[0;34m,\u001b[0m \u001b[0mtuple\u001b[0m\u001b[0;34m)\u001b[0m\u001b[0;34m:\u001b[0m\u001b[0;34m\u001b[0m\u001b[0;34m\u001b[0m\u001b[0m\n\u001b[0;32m-> 2922\u001b[0;31m             \u001b[0mloc\u001b[0m \u001b[0;34m=\u001b[0m \u001b[0mself\u001b[0m\u001b[0;34m.\u001b[0m\u001b[0m_get_level_indexer\u001b[0m\u001b[0;34m(\u001b[0m\u001b[0mkey\u001b[0m\u001b[0;34m,\u001b[0m \u001b[0mlevel\u001b[0m\u001b[0;34m=\u001b[0m\u001b[0;36m0\u001b[0m\u001b[0;34m)\u001b[0m\u001b[0;34m\u001b[0m\u001b[0;34m\u001b[0m\u001b[0m\n\u001b[0m\u001b[1;32m   2923\u001b[0m             \u001b[0;32mreturn\u001b[0m \u001b[0m_maybe_to_slice\u001b[0m\u001b[0;34m(\u001b[0m\u001b[0mloc\u001b[0m\u001b[0;34m)\u001b[0m\u001b[0;34m\u001b[0m\u001b[0;34m\u001b[0m\u001b[0m\n\u001b[1;32m   2924\u001b[0m \u001b[0;34m\u001b[0m\u001b[0m\n",
      "\u001b[0;32m~/anaconda3/lib/python3.9/site-packages/pandas/core/indexes/multi.py\u001b[0m in \u001b[0;36m_get_level_indexer\u001b[0;34m(self, key, level, indexer)\u001b[0m\n\u001b[1;32m   3202\u001b[0m         \u001b[0;32melse\u001b[0m\u001b[0;34m:\u001b[0m\u001b[0;34m\u001b[0m\u001b[0;34m\u001b[0m\u001b[0m\n\u001b[1;32m   3203\u001b[0m \u001b[0;34m\u001b[0m\u001b[0m\n\u001b[0;32m-> 3204\u001b[0;31m             \u001b[0midx\u001b[0m \u001b[0;34m=\u001b[0m \u001b[0mself\u001b[0m\u001b[0;34m.\u001b[0m\u001b[0m_get_loc_single_level_index\u001b[0m\u001b[0;34m(\u001b[0m\u001b[0mlevel_index\u001b[0m\u001b[0;34m,\u001b[0m \u001b[0mkey\u001b[0m\u001b[0;34m)\u001b[0m\u001b[0;34m\u001b[0m\u001b[0;34m\u001b[0m\u001b[0m\n\u001b[0m\u001b[1;32m   3205\u001b[0m \u001b[0;34m\u001b[0m\u001b[0m\n\u001b[1;32m   3206\u001b[0m             \u001b[0;32mif\u001b[0m \u001b[0mlevel\u001b[0m \u001b[0;34m>\u001b[0m \u001b[0;36m0\u001b[0m \u001b[0;32mor\u001b[0m \u001b[0mself\u001b[0m\u001b[0;34m.\u001b[0m\u001b[0m_lexsort_depth\u001b[0m \u001b[0;34m==\u001b[0m \u001b[0;36m0\u001b[0m\u001b[0;34m:\u001b[0m\u001b[0;34m\u001b[0m\u001b[0;34m\u001b[0m\u001b[0m\n",
      "\u001b[0;32m~/anaconda3/lib/python3.9/site-packages/pandas/core/indexes/multi.py\u001b[0m in \u001b[0;36m_get_loc_single_level_index\u001b[0;34m(self, level_index, key)\u001b[0m\n\u001b[1;32m   2853\u001b[0m             \u001b[0;32mreturn\u001b[0m \u001b[0;34m-\u001b[0m\u001b[0;36m1\u001b[0m\u001b[0;34m\u001b[0m\u001b[0;34m\u001b[0m\u001b[0m\n\u001b[1;32m   2854\u001b[0m         \u001b[0;32melse\u001b[0m\u001b[0;34m:\u001b[0m\u001b[0;34m\u001b[0m\u001b[0;34m\u001b[0m\u001b[0m\n\u001b[0;32m-> 2855\u001b[0;31m             \u001b[0;32mreturn\u001b[0m \u001b[0mlevel_index\u001b[0m\u001b[0;34m.\u001b[0m\u001b[0mget_loc\u001b[0m\u001b[0;34m(\u001b[0m\u001b[0mkey\u001b[0m\u001b[0;34m)\u001b[0m\u001b[0;34m\u001b[0m\u001b[0;34m\u001b[0m\u001b[0m\n\u001b[0m\u001b[1;32m   2856\u001b[0m \u001b[0;34m\u001b[0m\u001b[0m\n\u001b[1;32m   2857\u001b[0m     \u001b[0;32mdef\u001b[0m \u001b[0mget_loc\u001b[0m\u001b[0;34m(\u001b[0m\u001b[0mself\u001b[0m\u001b[0;34m,\u001b[0m \u001b[0mkey\u001b[0m\u001b[0;34m,\u001b[0m \u001b[0mmethod\u001b[0m\u001b[0;34m=\u001b[0m\u001b[0;32mNone\u001b[0m\u001b[0;34m)\u001b[0m\u001b[0;34m:\u001b[0m\u001b[0;34m\u001b[0m\u001b[0;34m\u001b[0m\u001b[0m\n",
      "\u001b[0;32m~/anaconda3/lib/python3.9/site-packages/pandas/core/indexes/base.py\u001b[0m in \u001b[0;36mget_loc\u001b[0;34m(self, key, method, tolerance)\u001b[0m\n\u001b[1;32m   3361\u001b[0m                 \u001b[0;32mreturn\u001b[0m \u001b[0mself\u001b[0m\u001b[0;34m.\u001b[0m\u001b[0m_engine\u001b[0m\u001b[0;34m.\u001b[0m\u001b[0mget_loc\u001b[0m\u001b[0;34m(\u001b[0m\u001b[0mcasted_key\u001b[0m\u001b[0;34m)\u001b[0m\u001b[0;34m\u001b[0m\u001b[0;34m\u001b[0m\u001b[0m\n\u001b[1;32m   3362\u001b[0m             \u001b[0;32mexcept\u001b[0m \u001b[0mKeyError\u001b[0m \u001b[0;32mas\u001b[0m \u001b[0merr\u001b[0m\u001b[0;34m:\u001b[0m\u001b[0;34m\u001b[0m\u001b[0;34m\u001b[0m\u001b[0m\n\u001b[0;32m-> 3363\u001b[0;31m                 \u001b[0;32mraise\u001b[0m \u001b[0mKeyError\u001b[0m\u001b[0;34m(\u001b[0m\u001b[0mkey\u001b[0m\u001b[0;34m)\u001b[0m \u001b[0;32mfrom\u001b[0m \u001b[0merr\u001b[0m\u001b[0;34m\u001b[0m\u001b[0;34m\u001b[0m\u001b[0m\n\u001b[0m\u001b[1;32m   3364\u001b[0m \u001b[0;34m\u001b[0m\u001b[0m\n\u001b[1;32m   3365\u001b[0m         \u001b[0;32mif\u001b[0m \u001b[0mis_scalar\u001b[0m\u001b[0;34m(\u001b[0m\u001b[0mkey\u001b[0m\u001b[0;34m)\u001b[0m \u001b[0;32mand\u001b[0m \u001b[0misna\u001b[0m\u001b[0;34m(\u001b[0m\u001b[0mkey\u001b[0m\u001b[0;34m)\u001b[0m \u001b[0;32mand\u001b[0m \u001b[0;32mnot\u001b[0m \u001b[0mself\u001b[0m\u001b[0;34m.\u001b[0m\u001b[0mhasnans\u001b[0m\u001b[0;34m:\u001b[0m\u001b[0;34m\u001b[0m\u001b[0;34m\u001b[0m\u001b[0m\n",
      "\u001b[0;31mKeyError\u001b[0m: 0"
     ]
    }
   ],
   "source": [
    "html = urllib.request.urlopen(delete_iframe(df_염경환.href[0])).read()\n",
    "soup = BeautifulSoup(html,'html.parser') \n",
    "contents=  ''\n",
    "content=list(soup.find_all('div',class_='se-module se-module-text'))\n",
    "for i,item in enumerate(list(soup.find_all('div',class_='se-module se-module-text'))):\n",
    "    contents += item.text"
   ]
  },
  {
   "cell_type": "markdown",
   "id": "86814d2b-1693-4866-b406-19dafdd4f51e",
   "metadata": {},
   "source": [
    "## 조정석"
   ]
  },
  {
   "cell_type": "code",
   "execution_count": 10,
   "id": "1cf97c15-59e6-4d24-95fa-59b196b2c803",
   "metadata": {
    "execution": {
     "iopub.execute_input": "2022-04-16T05:10:35.772066Z",
     "iopub.status.busy": "2022-04-16T05:10:35.771503Z",
     "iopub.status.idle": "2022-04-16T05:10:35.776850Z",
     "shell.execute_reply": "2022-04-16T05:10:35.776521Z",
     "shell.execute_reply.started": "2022-04-16T05:10:35.771994Z"
    },
    "tags": []
   },
   "outputs": [],
   "source": [
    "url_조정석 = f'https://search.naver.com/search.naver?where=view&sm=tab_jum&query={quote(\"조정석\")}'"
   ]
  },
  {
   "cell_type": "code",
   "execution_count": null,
   "id": "1d75c7f1-690c-4f19-a129-f28d1d83c3a6",
   "metadata": {},
   "outputs": [],
   "source": []
  }
 ],
 "metadata": {
  "kernelspec": {
   "display_name": "Python 3 (ipykernel)",
   "language": "python",
   "name": "python3"
  },
  "language_info": {
   "codemirror_mode": {
    "name": "ipython",
    "version": 3
   },
   "file_extension": ".py",
   "mimetype": "text/x-python",
   "name": "python",
   "nbconvert_exporter": "python",
   "pygments_lexer": "ipython3",
   "version": "3.9.7"
  }
 },
 "nbformat": 4,
 "nbformat_minor": 5
}
