{
 "cells": [
  {
   "cell_type": "code",
   "execution_count": 29,
   "metadata": {},
   "outputs": [],
   "source": [
    "import numpy\n",
    "import pandas as pd\n",
    "import matplotlib.pyplot as plt\n",
    "import matplotlib as mpl\n",
    "from konlpy.tag import Okt\n",
    "from PIL import Image\n",
    "from wordcloud import WordCloud\n",
    "okt = Okt()\n",
    "import konlpy\n",
    "import os\n",
    "import copy\n",
    "import re\n",
    "import nltk\n",
    "import seaborn as sns\n",
    "from tqdm import tqdm\n",
    "\n",
    "mpl.rcParams['axes.unicode_minus'] = False\n",
    "plt.rcParams['font.family'] = 'Malgun Gothic' # 윈도우 폰트\n",
    "# plt.rcParams['font.family'] = 'NanumGothicCoding' # 리눅스 폰트"
   ]
  },
  {
   "cell_type": "code",
   "execution_count": 4,
   "metadata": {},
   "outputs": [],
   "source": [
    "df = pd.read_csv('D:\\\\WorkSpace\\\\navercafecrawling\\\\홀푸드코리아\\\\야채즙리뷰데이터합_3사.csv')"
   ]
  },
  {
   "cell_type": "code",
   "execution_count": 9,
   "metadata": {},
   "outputs": [
    {
     "data": {
      "text/html": [
       "<div>\n",
       "<style scoped>\n",
       "    .dataframe tbody tr th:only-of-type {\n",
       "        vertical-align: middle;\n",
       "    }\n",
       "\n",
       "    .dataframe tbody tr th {\n",
       "        vertical-align: top;\n",
       "    }\n",
       "\n",
       "    .dataframe thead th {\n",
       "        text-align: right;\n",
       "    }\n",
       "</style>\n",
       "<table border=\"1\" class=\"dataframe\">\n",
       "  <thead>\n",
       "    <tr style=\"text-align: right;\">\n",
       "      <th></th>\n",
       "      <th>평점</th>\n",
       "      <th>내용</th>\n",
       "      <th>작성시간</th>\n",
       "      <th>채널</th>\n",
       "      <th>작성년월일</th>\n",
       "      <th>내용정제</th>\n",
       "      <th>회사명</th>\n",
       "      <th>맛이있다없다</th>\n",
       "      <th>선물관련키워드</th>\n",
       "      <th>키워드분류스</th>\n",
       "    </tr>\n",
       "  </thead>\n",
       "  <tbody>\n",
       "    <tr>\n",
       "      <th>0</th>\n",
       "      <td>5</td>\n",
       "      <td>heoo****20.03.14.3번째 주문이네요. 저는 계속 깜빡해서 잘 안 먹지만...</td>\n",
       "      <td>200314333312</td>\n",
       "      <td>제주스</td>\n",
       "      <td>200314</td>\n",
       "      <td>번째 주문이네요 저는 계속 깜빡해서 잘 안 먹지만 외할머니는 달 동안 꾸준히 복용하...</td>\n",
       "      <td>제주스</td>\n",
       "      <td>미분류</td>\n",
       "      <td>조부모</td>\n",
       "      <td>건강</td>\n",
       "    </tr>\n",
       "    <tr>\n",
       "      <th>1</th>\n",
       "      <td>5</td>\n",
       "      <td>adel****21.03.09.안전하게 배송 잘 됐어요원재료 이외에 꿀같은 단 것이...</td>\n",
       "      <td>2103099952860100</td>\n",
       "      <td>제주스</td>\n",
       "      <td>210309</td>\n",
       "      <td>안전하게 배송 잘 됐어요원재료 이외에 꿀같은 단 것이 들어가서 너무 달지 않을까 걱...</td>\n",
       "      <td>제주스</td>\n",
       "      <td>맛이있다</td>\n",
       "      <td>미분류</td>\n",
       "      <td>건강</td>\n",
       "    </tr>\n",
       "  </tbody>\n",
       "</table>\n",
       "</div>"
      ],
      "text/plain": [
       "   평점                                                 내용              작성시간  \\\n",
       "0   5  heoo****20.03.14.3번째 주문이네요. 저는 계속 깜빡해서 잘 안 먹지만...      200314333312   \n",
       "1   5  adel****21.03.09.안전하게 배송 잘 됐어요원재료 이외에 꿀같은 단 것이...  2103099952860100   \n",
       "\n",
       "    채널   작성년월일                                               내용정제  회사명 맛이있다없다  \\\n",
       "0  제주스  200314  번째 주문이네요 저는 계속 깜빡해서 잘 안 먹지만 외할머니는 달 동안 꾸준히 복용하...  제주스    미분류   \n",
       "1  제주스  210309  안전하게 배송 잘 됐어요원재료 이외에 꿀같은 단 것이 들어가서 너무 달지 않을까 걱...  제주스   맛이있다   \n",
       "\n",
       "  선물관련키워드 키워드분류스  \n",
       "0     조부모     건강  \n",
       "1     미분류     건강  "
      ]
     },
     "execution_count": 9,
     "metadata": {},
     "output_type": "execute_result"
    }
   ],
   "source": [
    "df.head(2)"
   ]
  },
  {
   "cell_type": "code",
   "execution_count": 22,
   "metadata": {},
   "outputs": [
    {
     "data": {
      "image/png": "[encoded data removed]",
      "text/plain": [
       "<Figure size 432x288 with 1 Axes>"
      ]
     },
     "metadata": {},
     "output_type": "display_data"
    }
   ],
   "source": [
    "ax = sns.countplot(y=\"회사명\", hue=\"회사명\", data=df)"
   ]
  },
  {
   "cell_type": "code",
   "execution_count": 21,
   "metadata": {},
   "outputs": [
    {
     "data": {
      "image/png": "[encoded data removed]",
      "text/plain": [
       "<Figure size 432x288 with 1 Axes>"
      ]
     },
     "metadata": {},
     "output_type": "display_data"
    }
   ],
   "source": [
    "ax = sns.countplot(y=\"회사명\", hue=\"맛이있다없다\", data=df[df.맛이있다없다 !='미분류'])"
   ]
  },
  {
   "cell_type": "markdown",
   "metadata": {},
   "source": [
    "- 데이터수가 총 2180 2180 1660 이기 때문에 카운트 플랏으로 비교하는게 부적절 할 수 있기 때문에 pie 플랏을 이용한 퍼센테이지 비교를 해야함"
   ]
  },
  {
   "cell_type": "markdown",
   "metadata": {},
   "source": [
    "### 단어 빈도수 확인 후 키워드 분류하기"
   ]
  },
  {
   "cell_type": "code",
   "execution_count": 23,
   "metadata": {},
   "outputs": [
    {
     "data": {
      "text/plain": [
       "0       번째 주문이네요 저는 계속 깜빡해서 잘 안 먹지만 외할머니는 달 동안 꾸준히 복용하...\n",
       "1       안전하게 배송 잘 됐어요원재료 이외에 꿀같은 단 것이 들어가서 너무 달지 않을까 걱...\n",
       "2       신랑의 위장관리에 탁월한 선택이었어요챙겨주지 않아도 스스로 꾸준히 마시더라구요일단 ...\n",
       "3       친정 어머님이 위염진단을 받으셔서 양배추즙이 좋다기에 여기저기 검색해보다 홈쇼핑방송...\n",
       "4       요즘 위랑 식도가 안좋아서 건강관리하는 김에 구매했습니다 배송은 일만에 빨리 왔어요...\n",
       "                              ...                        \n",
       "6015        장건강위해 꾸준히 섭취타사보다 가격차가 있긴한데 마시기에 좋아 계속 구매리뷰펼치기\n",
       "6016                  좋아요배송빠르고 양배추즙 특유에 비릿한맛없이 맛도좋아요리뷰펼치기\n",
       "6017    우리집에서 먹다가 너무 괜찮은것 같아서 장모님께도 보내드렸는데 너무 좋아하시네용 우...\n",
       "6018    좋아요양배추즙브로콜리진액이 위에 좋다고 해서 자주 주문해서 먹는제품이예요맛도 좋아요...\n",
       "6019    가최고예요매번 먹는 제품이에여할인쿠폰으로 착한 가격으로 구매했어여 먹기에도 편하고 ...\n",
       "Name: 내용정제, Length: 6020, dtype: object"
      ]
     },
     "execution_count": 23,
     "metadata": {},
     "output_type": "execute_result"
    }
   ],
   "source": [
    "df.내용정제"
   ]
  },
  {
   "cell_type": "code",
   "execution_count": 30,
   "metadata": {},
   "outputs": [
    {
     "name": "stderr",
     "output_type": "stream",
     "text": [
      "100%|██████████| 6020/6020 [00:45<00:00, 131.99it/s]\n"
     ]
    }
   ],
   "source": [
    "tokens = []\n",
    "for words in tqdm(df.내용정제):\n",
    "    word = okt.nouns(str(words))\n",
    "    tokens.append(word)"
   ]
  },
  {
   "cell_type": "code",
   "execution_count": 48,
   "metadata": {},
   "outputs": [
    {
     "data": {
      "text/plain": [
       "['주문',\n",
       " '요',\n",
       " '저',\n",
       " '계속',\n",
       " '깜빡',\n",
       " '안',\n",
       " '외할머니',\n",
       " '달',\n",
       " '동안',\n",
       " '복용',\n",
       " '식도염',\n",
       " '걸',\n",
       " '고생',\n",
       " '즙',\n",
       " '호전',\n",
       " '가장',\n",
       " '번',\n",
       " '주문',\n",
       " '요',\n",
       " '저',\n",
       " '계속',\n",
       " '깜빡',\n",
       " '안',\n",
       " '외할머니',\n",
       " '달',\n",
       " '동안',\n",
       " '복용',\n",
       " '식도염',\n",
       " '걸',\n",
       " '고생',\n",
       " '즙',\n",
       " '호전',\n",
       " '가장',\n",
       " '요인',\n",
       " '것',\n",
       " '혹시',\n",
       " '주문',\n",
       " '고민',\n",
       " '분',\n",
       " '번',\n",
       " '주문',\n",
       " '생각',\n",
       " '요즘',\n",
       " '바이러스',\n",
       " '기승',\n",
       " '배달',\n",
       " '고민',\n",
       " '주문',\n",
       " '한지',\n",
       " '일만',\n",
       " '도착',\n",
       " '항상',\n",
       " '몸',\n",
       " '마스크',\n",
       " '꼭꼭',\n",
       " '착용',\n",
       " '건강',\n",
       " '식품',\n",
       " '생산',\n",
       " '사시',\n",
       " '동안',\n",
       " '버시',\n",
       " '일',\n",
       " '리뷰']"
      ]
     },
     "execution_count": 48,
     "metadata": {},
     "output_type": "execute_result"
    }
   ],
   "source": [
    "tokens[0]"
   ]
  },
  {
   "cell_type": "code",
   "execution_count": 34,
   "metadata": {},
   "outputs": [
    {
     "name": "stderr",
     "output_type": "stream",
     "text": [
      "100%|██████████| 6020/6020 [00:00<00:00, 406002.64it/s]\n"
     ]
    }
   ],
   "source": [
    "tokenss = []\n",
    "for a in tqdm(tokens):\n",
    "    for b in a:\n",
    "        tokenss.append(b)"
   ]
  },
  {
   "cell_type": "code",
   "execution_count": 35,
   "metadata": {},
   "outputs": [
    {
     "data": {
      "text/plain": [
       "92168"
      ]
     },
     "execution_count": 35,
     "metadata": {},
     "output_type": "execute_result"
    }
   ],
   "source": [
    "len(tokenss)"
   ]
  },
  {
   "cell_type": "code",
   "execution_count": 50,
   "metadata": {},
   "outputs": [],
   "source": [
    "야채즙3사 = nltk.Text(new_tokenss,name='야채즙')"
   ]
  },
  {
   "cell_type": "code",
   "execution_count": 51,
   "metadata": {},
   "outputs": [
    {
     "data": {
      "image/png": "[encoded data removed]",
      "text/plain": [
       "<Figure size 1080x432 with 1 Axes>"
      ]
     },
     "metadata": {},
     "output_type": "display_data"
    }
   ],
   "source": [
    "plt.figure(figsize=(15,6))\n",
    "야채즙3사.plot(50)"
   ]
  },
  {
   "cell_type": "code",
   "execution_count": 52,
   "metadata": {},
   "outputs": [
    {
     "data": {
      "text/plain": [
       "[('양배추', 4933),\n",
       " ('즙', 4353),\n",
       " ('맛', 2798),\n",
       " ('제주', 2665),\n",
       " ('위', 1668),\n",
       " ('주문', 1582),\n",
       " ('배송', 1497),\n",
       " ('구매', 1450),\n",
       " ('먹기', 1374),\n",
       " ('효과', 962),\n",
       " ('제품', 953),\n",
       " ('포장', 873),\n",
       " ('브로콜리', 774),\n",
       " ('것', 706),\n",
       " ('건강', 638),\n",
       " ('또', 609),\n",
       " ('최고', 550),\n",
       " ('좀', 545),\n",
       " ('거', 544),\n",
       " ('계속', 531),\n",
       " ('생각', 530),\n",
       " ('항상', 527),\n",
       " ('포토', 521),\n",
       " ('더', 482),\n",
       " ('개', 449),\n",
       " ('박스', 444),\n",
       " ('때', 431),\n",
       " ('구입', 431),\n",
       " ('가격', 414),\n",
       " ('식도염', 408),\n",
       " ('아침', 406),\n",
       " ('속', 394),\n",
       " ('선물', 392),\n",
       " ('엄마', 355),\n",
       " ('보고', 330),\n",
       " ('달', 326),\n",
       " ('느낌', 323),\n",
       " ('상품', 322),\n",
       " ('이번', 320),\n",
       " ('역류성', 311),\n",
       " ('늘', 301),\n",
       " ('유기농', 293),\n",
       " ('년', 291),\n",
       " ('부모님', 275),\n",
       " ('진액', 270),\n",
       " ('처음', 268),\n",
       " ('아주', 260),\n",
       " ('위장', 257),\n",
       " ('다른', 250),\n",
       " ('자주', 248),\n",
       " ('몸', 246),\n",
       " ('복용', 244),\n",
       " ('위염', 242),\n",
       " ('남편', 242),\n",
       " ('매일', 235),\n",
       " ('조금', 228),\n",
       " ('부담', 225),\n",
       " ('위해', 224),\n",
       " ('때문', 223),\n",
       " ('하루', 222),\n",
       " ('정도', 222),\n",
       " ('저', 219),\n",
       " ('유통', 219),\n",
       " ('매번', 215),\n",
       " ('기한', 213),\n",
       " ('정말', 212),\n",
       " ('다시', 212),\n",
       " ('안', 211),\n",
       " ('하나', 211),\n",
       " ('추천', 205),\n",
       " ('어머니', 203),\n",
       " ('두번째', 203),\n",
       " ('소화', 198),\n",
       " ('도움', 195),\n",
       " ('재', 192),\n",
       " ('번', 190),\n",
       " ('여기', 189),\n",
       " ('신랑', 188),\n",
       " ('그냥', 186),\n",
       " ('냄새', 185),\n",
       " ('속도', 181),\n",
       " ('해', 169),\n",
       " ('사과', 168),\n",
       " ('걱정', 167),\n",
       " ('후기', 163),\n",
       " ('역', 162),\n",
       " ('요', 157),\n",
       " ('수', 155),\n",
       " ('전', 155),\n",
       " ('시작', 155),\n",
       " ('상태', 154),\n",
       " ('다음', 152),\n",
       " ('중', 151),\n",
       " ('후', 150),\n",
       " ('한번', 150),\n",
       " ('고생', 142),\n",
       " ('사', 142),\n",
       " ('이', 141),\n",
       " ('제', 139),\n",
       " ('도착', 136)]"
      ]
     },
     "execution_count": 52,
     "metadata": {},
     "output_type": "execute_result"
    }
   ],
   "source": [
    "data = 야채즙3사.vocab().most_common(300)\n",
    "data[:100]"
   ]
  },
  {
   "cell_type": "markdown",
   "metadata": {},
   "source": [
    "#### stop words 수동"
   ]
  },
  {
   "cell_type": "code",
   "execution_count": 49,
   "metadata": {},
   "outputs": [],
   "source": [
    "stop_words = '''리뷰 농원 포 룡 펼치기''' \n",
    "stop_list = stop_words.split()\n",
    "new_token_list = []\n",
    "for token in tokenss:\n",
    "    if token not in stop_list:\n",
    "        new_token_list.append(token)\n",
    "new_tokens = new_token_list\n",
    "new_tokenss = [token for token in new_tokens if token not in stop_list]"
   ]
  },
  {
   "cell_type": "code",
   "execution_count": 53,
   "metadata": {},
   "outputs": [
    {
     "data": {
      "text/plain": [
       "청룡농원    2180\n",
       "GMM     2180\n",
       "제주스     1660\n",
       "Name: 회사명, dtype: int64"
      ]
     },
     "execution_count": 53,
     "metadata": {},
     "output_type": "execute_result"
    }
   ],
   "source": [
    "df.회사명.value_counts()"
   ]
  },
  {
   "cell_type": "code",
   "execution_count": 55,
   "metadata": {},
   "outputs": [
    {
     "data": {
      "text/html": [
       "<div>\n",
       "<style scoped>\n",
       "    .dataframe tbody tr th:only-of-type {\n",
       "        vertical-align: middle;\n",
       "    }\n",
       "\n",
       "    .dataframe tbody tr th {\n",
       "        vertical-align: top;\n",
       "    }\n",
       "\n",
       "    .dataframe thead th {\n",
       "        text-align: right;\n",
       "    }\n",
       "</style>\n",
       "<table border=\"1\" class=\"dataframe\">\n",
       "  <thead>\n",
       "    <tr style=\"text-align: right;\">\n",
       "      <th></th>\n",
       "      <th>평점</th>\n",
       "      <th>내용</th>\n",
       "      <th>작성시간</th>\n",
       "      <th>채널</th>\n",
       "      <th>작성년월일</th>\n",
       "      <th>내용정제</th>\n",
       "      <th>회사명</th>\n",
       "      <th>맛이있다없다</th>\n",
       "      <th>선물관련키워드</th>\n",
       "      <th>키워드분류스</th>\n",
       "    </tr>\n",
       "  </thead>\n",
       "  <tbody>\n",
       "    <tr>\n",
       "      <th>0</th>\n",
       "      <td>5</td>\n",
       "      <td>heoo****20.03.14.3번째 주문이네요. 저는 계속 깜빡해서 잘 안 먹지만...</td>\n",
       "      <td>200314333312</td>\n",
       "      <td>제주스</td>\n",
       "      <td>200314</td>\n",
       "      <td>번째 주문이네요 저는 계속 깜빡해서 잘 안 먹지만 외할머니는 달 동안 꾸준히 복용하...</td>\n",
       "      <td>제주스</td>\n",
       "      <td>미분류</td>\n",
       "      <td>조부모</td>\n",
       "      <td>건강</td>\n",
       "    </tr>\n",
       "  </tbody>\n",
       "</table>\n",
       "</div>"
      ],
      "text/plain": [
       "   평점                                                 내용          작성시간   채널  \\\n",
       "0   5  heoo****20.03.14.3번째 주문이네요. 저는 계속 깜빡해서 잘 안 먹지만...  200314333312  제주스   \n",
       "\n",
       "    작성년월일                                               내용정제  회사명 맛이있다없다  \\\n",
       "0  200314  번째 주문이네요 저는 계속 깜빡해서 잘 안 먹지만 외할머니는 달 동안 꾸준히 복용하...  제주스    미분류   \n",
       "\n",
       "  선물관련키워드 키워드분류스  \n",
       "0     조부모     건강  "
      ]
     },
     "execution_count": 55,
     "metadata": {},
     "output_type": "execute_result"
    }
   ],
   "source": [
    "df.head(1)"
   ]
  },
  {
   "cell_type": "code",
   "execution_count": 57,
   "metadata": {},
   "outputs": [
    {
     "data": {
      "text/plain": [
       "미분류     5295\n",
       "부모님      558\n",
       "자녀       104\n",
       "친구애인      47\n",
       "조부모       16\n",
       "Name: 선물관련키워드, dtype: int64"
      ]
     },
     "execution_count": 57,
     "metadata": {},
     "output_type": "execute_result"
    }
   ],
   "source": [
    "df.선물관련키워드.value_counts()"
   ]
  },
  {
   "cell_type": "code",
   "execution_count": 63,
   "metadata": {},
   "outputs": [
    {
     "data": {
      "image/png": "[encoded data removed]",
      "text/plain": [
       "<Figure size 432x288 with 1 Axes>"
      ]
     },
     "metadata": {},
     "output_type": "display_data"
    }
   ],
   "source": [
    "explode = [0.05, 0.05, 0.05,0.05]\n",
    "colors = ['#ff9999', '#ffc000', '#8fd9b6','#8fd9b6']\n",
    "wedgeprops={'width': 0.7, 'edgecolor': 'w', 'linewidth': 1}\n",
    "df[df.회사명 == '청룡농원']['선물관련키워드'].value_counts()[1:].plot.pie(autopct='%.1f%%',startangle=260, counterclock=False,shadow=True,explode=explode,colors=colors,wedgeprops=wedgeprops)\n",
    "plt.xticks(rotation=45)\n",
    "plt.grid()\n",
    "plt.title('청룡농원야채즙 선물관련키워드')\n",
    "plt.xlabel('선물관련키워드',size=(13))\n",
    "plt.savefig('청룡농원선물관련키워드.png',dpi=350)"
   ]
  },
  {
   "cell_type": "code",
   "execution_count": 104,
   "metadata": {},
   "outputs": [
    {
     "ename": "SyntaxError",
     "evalue": "unexpected EOF while parsing (Temp/ipykernel_6504/371885454.py, line 5)",
     "output_type": "error",
     "traceback": [
      "\u001b[1;36m  File \u001b[1;32m\"C:\\Users\\alsdn\\AppData\\Local\\Temp/ipykernel_6504/371885454.py\"\u001b[1;36m, line \u001b[1;32m5\u001b[0m\n\u001b[1;33m    '미분류'\u001b[0m\n\u001b[1;37m         ^\u001b[0m\n\u001b[1;31mSyntaxError\u001b[0m\u001b[1;31m:\u001b[0m unexpected EOF while parsing\n"
     ]
    }
   ],
   "source": [
    "df['가족관련키워드'] = df.내용.apply(lambda x: '부모님' if (x.__contains__('어머니') or x.__contains__('엄마')or x.__contains__('아빠') or x.__contains__('아버지') or x.__contains__ ('부모')) else\n",
    "                                            '자녀' if (x.__contains__('애들') or  x.__contains__('아들') or x.__contains__('딸') or x.__contains__('애기')  or x.__contains__('애들')  or x.__contains__('자식'))else\n",
    "                                            '조부모' if (x.__contains__('할머니') or x.__contains__('할아버지') or x.__contains__('조부모') or x.__contains__('시어머니') or x.__contains__('장인') or x.__contains__('장모')) else \n",
    "                                            '친구애인' if (x.__contains__('남자친구') or x.__contains__('여자친구') or x.__contains__('남친') or x.__contains__('여친') or x.__contains__('친구')) else \n",
    "                                            '미분류'"
   ]
  },
  {
   "cell_type": "code",
   "execution_count": 71,
   "metadata": {},
   "outputs": [
    {
     "data": {
      "text/plain": [
       "청룡농원    2180\n",
       "GMM     2180\n",
       "제주스     1660\n",
       "Name: 회사명, dtype: int64"
      ]
     },
     "execution_count": 71,
     "metadata": {},
     "output_type": "execute_result"
    }
   ],
   "source": [
    "df.회사명.value_counts()"
   ]
  },
  {
   "cell_type": "code",
   "execution_count": 83,
   "metadata": {},
   "outputs": [
    {
     "data": {
      "text/plain": [
       "Int64Index([3340, 3341, 3342, 3343, 3344, 3345, 3346, 3347, 3348, 3349,\n",
       "            ...\n",
       "            3830, 3831, 3832, 3833, 3834, 3835, 3836, 3837, 3838, 3839],\n",
       "           dtype='int64', length=500)"
      ]
     },
     "execution_count": 83,
     "metadata": {},
     "output_type": "execute_result"
    }
   ],
   "source": [
    "df[df.회사명=='청룡농원'][-500:].index"
   ]
  },
  {
   "cell_type": "code",
   "execution_count": 85,
   "metadata": {},
   "outputs": [
    {
     "data": {
      "text/plain": [
       "Int64Index([5520, 5521, 5522, 5523, 5524, 5525, 5526, 5527, 5528, 5529,\n",
       "            ...\n",
       "            6010, 6011, 6012, 6013, 6014, 6015, 6016, 6017, 6018, 6019],\n",
       "           dtype='int64', length=500)"
      ]
     },
     "execution_count": 85,
     "metadata": {},
     "output_type": "execute_result"
    }
   ],
   "source": [
    "df[df.회사명=='GMM'][-500:].index"
   ]
  },
  {
   "cell_type": "code",
   "execution_count": 91,
   "metadata": {},
   "outputs": [],
   "source": [
    "df2.drop(df2[df2.회사명=='GMM'][-520:].index,inplace=True)"
   ]
  },
  {
   "cell_type": "code",
   "execution_count": 88,
   "metadata": {},
   "outputs": [],
   "source": [
    "df2 = df.drop(df[df.회사명=='청룡농원'][-520:].index)"
   ]
  },
  {
   "cell_type": "code",
   "execution_count": 92,
   "metadata": {},
   "outputs": [
    {
     "data": {
      "text/plain": [
       "제주스     1660\n",
       "청룡농원    1660\n",
       "GMM     1660\n",
       "Name: 회사명, dtype: int64"
      ]
     },
     "execution_count": 92,
     "metadata": {},
     "output_type": "execute_result"
    }
   ],
   "source": [
    "df2.회사명.value_counts()"
   ]
  },
  {
   "cell_type": "code",
   "execution_count": 94,
   "metadata": {},
   "outputs": [],
   "source": [
    "# df2.reset_index(inplace=True,drop=True)"
   ]
  },
  {
   "cell_type": "code",
   "execution_count": 95,
   "metadata": {},
   "outputs": [
    {
     "data": {
      "text/html": [
       "<div>\n",
       "<style scoped>\n",
       "    .dataframe tbody tr th:only-of-type {\n",
       "        vertical-align: middle;\n",
       "    }\n",
       "\n",
       "    .dataframe tbody tr th {\n",
       "        vertical-align: top;\n",
       "    }\n",
       "\n",
       "    .dataframe thead th {\n",
       "        text-align: right;\n",
       "    }\n",
       "</style>\n",
       "<table border=\"1\" class=\"dataframe\">\n",
       "  <thead>\n",
       "    <tr style=\"text-align: right;\">\n",
       "      <th></th>\n",
       "      <th>평점</th>\n",
       "      <th>내용</th>\n",
       "      <th>작성시간</th>\n",
       "      <th>채널</th>\n",
       "      <th>작성년월일</th>\n",
       "      <th>내용정제</th>\n",
       "      <th>회사명</th>\n",
       "      <th>맛이있다없다</th>\n",
       "      <th>선물관련키워드</th>\n",
       "      <th>키워드분류스</th>\n",
       "    </tr>\n",
       "  </thead>\n",
       "  <tbody>\n",
       "    <tr>\n",
       "      <th>0</th>\n",
       "      <td>5</td>\n",
       "      <td>heoo****20.03.14.3번째 주문이네요. 저는 계속 깜빡해서 잘 안 먹지만...</td>\n",
       "      <td>200314333312</td>\n",
       "      <td>제주스</td>\n",
       "      <td>200314</td>\n",
       "      <td>번째 주문이네요 저는 계속 깜빡해서 잘 안 먹지만 외할머니는 달 동안 꾸준히 복용하...</td>\n",
       "      <td>제주스</td>\n",
       "      <td>미분류</td>\n",
       "      <td>조부모</td>\n",
       "      <td>건강</td>\n",
       "    </tr>\n",
       "    <tr>\n",
       "      <th>1</th>\n",
       "      <td>5</td>\n",
       "      <td>adel****21.03.09.안전하게 배송 잘 됐어요원재료 이외에 꿀같은 단 것이...</td>\n",
       "      <td>2103099952860100</td>\n",
       "      <td>제주스</td>\n",
       "      <td>210309</td>\n",
       "      <td>안전하게 배송 잘 됐어요원재료 이외에 꿀같은 단 것이 들어가서 너무 달지 않을까 걱...</td>\n",
       "      <td>제주스</td>\n",
       "      <td>맛이있다</td>\n",
       "      <td>미분류</td>\n",
       "      <td>건강</td>\n",
       "    </tr>\n",
       "    <tr>\n",
       "      <th>2</th>\n",
       "      <td>5</td>\n",
       "      <td>hoof****21.02.22.신랑의 위장관리에 탁월한 선택이었어요챙겨주지 않아도 ...</td>\n",
       "      <td>21022223</td>\n",
       "      <td>제주스</td>\n",
       "      <td>210222</td>\n",
       "      <td>신랑의 위장관리에 탁월한 선택이었어요챙겨주지 않아도 스스로 꾸준히 마시더라구요일단 ...</td>\n",
       "      <td>제주스</td>\n",
       "      <td>맛이없다</td>\n",
       "      <td>미분류</td>\n",
       "      <td>건강</td>\n",
       "    </tr>\n",
       "    <tr>\n",
       "      <th>3</th>\n",
       "      <td>5</td>\n",
       "      <td>simb****21.01.03.친정 어머님이 위염진단을 받으셔서 양배추즙이 좋다기에...</td>\n",
       "      <td>21010322</td>\n",
       "      <td>제주스</td>\n",
       "      <td>210103</td>\n",
       "      <td>친정 어머님이 위염진단을 받으셔서 양배추즙이 좋다기에 여기저기 검색해보다 홈쇼핑방송...</td>\n",
       "      <td>제주스</td>\n",
       "      <td>맛이없다</td>\n",
       "      <td>미분류</td>\n",
       "      <td>건강</td>\n",
       "    </tr>\n",
       "    <tr>\n",
       "      <th>4</th>\n",
       "      <td>5</td>\n",
       "      <td>astt****21.05.29.요즘 위랑 식도가 안좋아서 건강관리하는 김에 구매했습...</td>\n",
       "      <td>2105292223</td>\n",
       "      <td>제주스</td>\n",
       "      <td>210529</td>\n",
       "      <td>요즘 위랑 식도가 안좋아서 건강관리하는 김에 구매했습니다 배송은 일만에 빨리 왔어요...</td>\n",
       "      <td>제주스</td>\n",
       "      <td>미분류</td>\n",
       "      <td>부모님</td>\n",
       "      <td>건강</td>\n",
       "    </tr>\n",
       "    <tr>\n",
       "      <th>...</th>\n",
       "      <td>...</td>\n",
       "      <td>...</td>\n",
       "      <td>...</td>\n",
       "      <td>...</td>\n",
       "      <td>...</td>\n",
       "      <td>...</td>\n",
       "      <td>...</td>\n",
       "      <td>...</td>\n",
       "      <td>...</td>\n",
       "      <td>...</td>\n",
       "    </tr>\n",
       "    <tr>\n",
       "      <th>4975</th>\n",
       "      <td>5</td>\n",
       "      <td>e*t*****21.03.05.음야채를 골고루 안 먹는 아들땜에 상품평이 좋아서 구...</td>\n",
       "      <td>210305</td>\n",
       "      <td>G마켓</td>\n",
       "      <td>210305</td>\n",
       "      <td>음야채를 골고루 안 먹는 아들땜에 상품평이 좋아서 구매해봅니다리뷰펼치기</td>\n",
       "      <td>GMM</td>\n",
       "      <td>미분류</td>\n",
       "      <td>자녀</td>\n",
       "      <td>건강</td>\n",
       "    </tr>\n",
       "    <tr>\n",
       "      <th>4976</th>\n",
       "      <td>4</td>\n",
       "      <td>d*t*****20.05.07.속쓰림에 주문했어요위에 좋다길래 주문했어요좋아지길 바...</td>\n",
       "      <td>200507</td>\n",
       "      <td>G마켓</td>\n",
       "      <td>200507</td>\n",
       "      <td>속쓰림에 주문했어요위에 좋다길래 주문했어요좋아지길 바라며 열심히 먹어보려구요리뷰펼치기</td>\n",
       "      <td>GMM</td>\n",
       "      <td>미분류</td>\n",
       "      <td>미분류</td>\n",
       "      <td>건강</td>\n",
       "    </tr>\n",
       "    <tr>\n",
       "      <th>4977</th>\n",
       "      <td>4</td>\n",
       "      <td>m*n*****20.02.09.쿠폰 사용하니 가격 괜찮음다른 사이트보다 저렴하게 구...</td>\n",
       "      <td>200209</td>\n",
       "      <td>G마켓</td>\n",
       "      <td>200209</td>\n",
       "      <td>쿠폰 사용하니 가격 괜찮음다른 사이트보다 저렴하게 구매했어요 터키산 사과는 아쉽네요...</td>\n",
       "      <td>GMM</td>\n",
       "      <td>미분류</td>\n",
       "      <td>미분류</td>\n",
       "      <td>건강</td>\n",
       "    </tr>\n",
       "    <tr>\n",
       "      <th>4978</th>\n",
       "      <td>5</td>\n",
       "      <td>sunw****21.12.01.상품종류: 양배추브로콜리 진액 50포 x 1박스위가 ...</td>\n",
       "      <td>211201501</td>\n",
       "      <td>장대리</td>\n",
       "      <td>211201</td>\n",
       "      <td>상품종류 양배추브로콜리 진액 포  박스위가 불편할 때 하루 한 잔 도움이됩니다꾸준하...</td>\n",
       "      <td>GMM</td>\n",
       "      <td>미분류</td>\n",
       "      <td>미분류</td>\n",
       "      <td>건강</td>\n",
       "    </tr>\n",
       "    <tr>\n",
       "      <th>4979</th>\n",
       "      <td>4</td>\n",
       "      <td>가iv******21.04.20.좋아요배송도 빠르고 물건도 잘왔네요 매번 시켜먹지만...</td>\n",
       "      <td>210420</td>\n",
       "      <td>11번</td>\n",
       "      <td>210420</td>\n",
       "      <td>가좋아요배송도 빠르고 물건도 잘왔네요 매번 시켜먹지만 좋은것 같아요리뷰펼치기</td>\n",
       "      <td>GMM</td>\n",
       "      <td>미분류</td>\n",
       "      <td>미분류</td>\n",
       "      <td>건강</td>\n",
       "    </tr>\n",
       "  </tbody>\n",
       "</table>\n",
       "<p>4980 rows × 10 columns</p>\n",
       "</div>"
      ],
      "text/plain": [
       "      평점                                                 내용              작성시간  \\\n",
       "0      5  heoo****20.03.14.3번째 주문이네요. 저는 계속 깜빡해서 잘 안 먹지만...      200314333312   \n",
       "1      5  adel****21.03.09.안전하게 배송 잘 됐어요원재료 이외에 꿀같은 단 것이...  2103099952860100   \n",
       "2      5  hoof****21.02.22.신랑의 위장관리에 탁월한 선택이었어요챙겨주지 않아도 ...          21022223   \n",
       "3      5  simb****21.01.03.친정 어머님이 위염진단을 받으셔서 양배추즙이 좋다기에...          21010322   \n",
       "4      5  astt****21.05.29.요즘 위랑 식도가 안좋아서 건강관리하는 김에 구매했습...        2105292223   \n",
       "...   ..                                                ...               ...   \n",
       "4975   5  e*t*****21.03.05.음야채를 골고루 안 먹는 아들땜에 상품평이 좋아서 구...            210305   \n",
       "4976   4  d*t*****20.05.07.속쓰림에 주문했어요위에 좋다길래 주문했어요좋아지길 바...            200507   \n",
       "4977   4  m*n*****20.02.09.쿠폰 사용하니 가격 괜찮음다른 사이트보다 저렴하게 구...            200209   \n",
       "4978   5  sunw****21.12.01.상품종류: 양배추브로콜리 진액 50포 x 1박스위가 ...         211201501   \n",
       "4979   4  가iv******21.04.20.좋아요배송도 빠르고 물건도 잘왔네요 매번 시켜먹지만...            210420   \n",
       "\n",
       "       채널   작성년월일                                               내용정제  회사명  \\\n",
       "0     제주스  200314  번째 주문이네요 저는 계속 깜빡해서 잘 안 먹지만 외할머니는 달 동안 꾸준히 복용하...  제주스   \n",
       "1     제주스  210309  안전하게 배송 잘 됐어요원재료 이외에 꿀같은 단 것이 들어가서 너무 달지 않을까 걱...  제주스   \n",
       "2     제주스  210222  신랑의 위장관리에 탁월한 선택이었어요챙겨주지 않아도 스스로 꾸준히 마시더라구요일단 ...  제주스   \n",
       "3     제주스  210103  친정 어머님이 위염진단을 받으셔서 양배추즙이 좋다기에 여기저기 검색해보다 홈쇼핑방송...  제주스   \n",
       "4     제주스  210529  요즘 위랑 식도가 안좋아서 건강관리하는 김에 구매했습니다 배송은 일만에 빨리 왔어요...  제주스   \n",
       "...   ...     ...                                                ...  ...   \n",
       "4975  G마켓  210305            음야채를 골고루 안 먹는 아들땜에 상품평이 좋아서 구매해봅니다리뷰펼치기  GMM   \n",
       "4976  G마켓  200507    속쓰림에 주문했어요위에 좋다길래 주문했어요좋아지길 바라며 열심히 먹어보려구요리뷰펼치기  GMM   \n",
       "4977  G마켓  200209  쿠폰 사용하니 가격 괜찮음다른 사이트보다 저렴하게 구매했어요 터키산 사과는 아쉽네요...  GMM   \n",
       "4978  장대리  211201  상품종류 양배추브로콜리 진액 포  박스위가 불편할 때 하루 한 잔 도움이됩니다꾸준하...  GMM   \n",
       "4979  11번  210420         가좋아요배송도 빠르고 물건도 잘왔네요 매번 시켜먹지만 좋은것 같아요리뷰펼치기  GMM   \n",
       "\n",
       "     맛이있다없다 선물관련키워드 키워드분류스  \n",
       "0       미분류     조부모     건강  \n",
       "1      맛이있다     미분류     건강  \n",
       "2      맛이없다     미분류     건강  \n",
       "3      맛이없다     미분류     건강  \n",
       "4       미분류     부모님     건강  \n",
       "...     ...     ...    ...  \n",
       "4975    미분류      자녀     건강  \n",
       "4976    미분류     미분류     건강  \n",
       "4977    미분류     미분류     건강  \n",
       "4978    미분류     미분류     건강  \n",
       "4979    미분류     미분류     건강  \n",
       "\n",
       "[4980 rows x 10 columns]"
      ]
     },
     "execution_count": 95,
     "metadata": {},
     "output_type": "execute_result"
    }
   ],
   "source": [
    "df2"
   ]
  },
  {
   "cell_type": "code",
   "execution_count": 96,
   "metadata": {},
   "outputs": [
    {
     "data": {
      "image/png": "[encoded data removed]",
      "text/plain": [
       "<Figure size 432x288 with 1 Axes>"
      ]
     },
     "metadata": {},
     "output_type": "display_data"
    }
   ],
   "source": [
    "ax = sns.countplot(y=\"회사명\", hue=\"맛이있다없다\", data=df2[df2.맛이있다없다 !='미분류'])"
   ]
  },
  {
   "cell_type": "code",
   "execution_count": 98,
   "metadata": {},
   "outputs": [
    {
     "data": {
      "image/png": "[encoded data removed]",
      "text/plain": [
       "<Figure size 432x288 with 1 Axes>"
      ]
     },
     "metadata": {},
     "output_type": "display_data"
    }
   ],
   "source": [
    "ax = sns.countplot(y=\"회사명\", hue=\"선물관련키워드\", data=df2[df2.선물관련키워드 !='미분류'])"
   ]
  },
  {
   "cell_type": "code",
   "execution_count": 108,
   "metadata": {},
   "outputs": [
    {
     "data": {
      "text/plain": [
       "<seaborn.axisgrid.FacetGrid at 0x187e7a09b80>"
      ]
     },
     "execution_count": 108,
     "metadata": {},
     "output_type": "execute_result"
    },
    {
     "data": {
      "image/png": "[encoded data removed]",
      "text/plain": [
       "<Figure size 1172.8x360 with 3 Axes>"
      ]
     },
     "metadata": {},
     "output_type": "display_data"
    }
   ],
   "source": [
    "sns.displot(data=df2[df2.선물관련키워드 !='미분류'],col='회사명',x='선물관련키워드',hue='선물관련키워드')"
   ]
  },
  {
   "cell_type": "code",
   "execution_count": 107,
   "metadata": {},
   "outputs": [
    {
     "data": {
      "text/plain": [
       "<seaborn.axisgrid.FacetGrid at 0x187e1875be0>"
      ]
     },
     "execution_count": 107,
     "metadata": {},
     "output_type": "execute_result"
    },
    {
     "data": {
      "image/png": "[encoded data removed]",
      "text/plain": [
       "<Figure size 1163.6x360 with 3 Axes>"
      ]
     },
     "metadata": {},
     "output_type": "display_data"
    }
   ],
   "source": [
    "sns.displot(data=df2[df2.맛이있다없다 !='미분류'],col='회사명',x='맛이있다없다',hue='맛이있다없다')"
   ]
  },
  {
   "cell_type": "code",
   "execution_count": 171,
   "metadata": {},
   "outputs": [
    {
     "data": {
      "text/html": [
       "<div>\n",
       "<style scoped>\n",
       "    .dataframe tbody tr th:only-of-type {\n",
       "        vertical-align: middle;\n",
       "    }\n",
       "\n",
       "    .dataframe tbody tr th {\n",
       "        vertical-align: top;\n",
       "    }\n",
       "\n",
       "    .dataframe thead th {\n",
       "        text-align: right;\n",
       "    }\n",
       "</style>\n",
       "<table border=\"1\" class=\"dataframe\">\n",
       "  <thead>\n",
       "    <tr style=\"text-align: right;\">\n",
       "      <th></th>\n",
       "      <th>평점</th>\n",
       "      <th>내용</th>\n",
       "      <th>작성시간</th>\n",
       "      <th>채널</th>\n",
       "      <th>작성년월일</th>\n",
       "      <th>내용정제</th>\n",
       "      <th>회사명</th>\n",
       "      <th>맛이있다없다</th>\n",
       "      <th>선물관련키워드</th>\n",
       "      <th>키워드분류스</th>\n",
       "      <th>지혜스키워드</th>\n",
       "      <th>키워드크게분류</th>\n",
       "    </tr>\n",
       "  </thead>\n",
       "  <tbody>\n",
       "    <tr>\n",
       "      <th>0</th>\n",
       "      <td>5</td>\n",
       "      <td>heoo****20.03.14.3번째 주문이네요. 저는 계속 깜빡해서 잘 안 먹지만...</td>\n",
       "      <td>200314333312</td>\n",
       "      <td>제주스</td>\n",
       "      <td>200314</td>\n",
       "      <td>번째 주문이네요 저는 계속 깜빡해서 잘 안 먹지만 외할머니는 달 동안 꾸준히 복용하...</td>\n",
       "      <td>제주스</td>\n",
       "      <td>미분류</td>\n",
       "      <td>조부모</td>\n",
       "      <td>건강</td>\n",
       "      <td>미분류</td>\n",
       "      <td>건강</td>\n",
       "    </tr>\n",
       "    <tr>\n",
       "      <th>1</th>\n",
       "      <td>5</td>\n",
       "      <td>adel****21.03.09.안전하게 배송 잘 됐어요원재료 이외에 꿀같은 단 것이...</td>\n",
       "      <td>2103099952860100</td>\n",
       "      <td>제주스</td>\n",
       "      <td>210309</td>\n",
       "      <td>안전하게 배송 잘 됐어요원재료 이외에 꿀같은 단 것이 들어가서 너무 달지 않을까 걱...</td>\n",
       "      <td>제주스</td>\n",
       "      <td>맛이있다</td>\n",
       "      <td>미분류</td>\n",
       "      <td>건강</td>\n",
       "      <td>미분류</td>\n",
       "      <td>맛</td>\n",
       "    </tr>\n",
       "  </tbody>\n",
       "</table>\n",
       "</div>"
      ],
      "text/plain": [
       "   평점                                                 내용              작성시간  \\\n",
       "0   5  heoo****20.03.14.3번째 주문이네요. 저는 계속 깜빡해서 잘 안 먹지만...      200314333312   \n",
       "1   5  adel****21.03.09.안전하게 배송 잘 됐어요원재료 이외에 꿀같은 단 것이...  2103099952860100   \n",
       "\n",
       "    채널   작성년월일                                               내용정제  회사명 맛이있다없다  \\\n",
       "0  제주스  200314  번째 주문이네요 저는 계속 깜빡해서 잘 안 먹지만 외할머니는 달 동안 꾸준히 복용하...  제주스    미분류   \n",
       "1  제주스  210309  안전하게 배송 잘 됐어요원재료 이외에 꿀같은 단 것이 들어가서 너무 달지 않을까 걱...  제주스   맛이있다   \n",
       "\n",
       "  선물관련키워드 키워드분류스 지혜스키워드 키워드크게분류  \n",
       "0     조부모     건강    미분류      건강  \n",
       "1     미분류     건강    미분류       맛  "
      ]
     },
     "execution_count": 171,
     "metadata": {},
     "output_type": "execute_result"
    }
   ],
   "source": [
    "df2.head(2)"
   ]
  },
  {
   "cell_type": "code",
   "execution_count": 178,
   "metadata": {},
   "outputs": [
    {
     "data": {
      "text/plain": [
       "<seaborn.axisgrid.FacetGrid at 0x187e7cda1f0>"
      ]
     },
     "execution_count": 178,
     "metadata": {},
     "output_type": "execute_result"
    },
    {
     "data": {
      "image/png": "[encoded data removed]",
      "text/plain": [
       "<Figure size 1172.8x360 with 3 Axes>"
      ]
     },
     "metadata": {},
     "output_type": "display_data"
    }
   ],
   "source": [
    "sns.displot(data=df2[df2.키워드크게분류 !='미분류'],col='회사명',x='키워드크게분류',hue='키워드크게분류')"
   ]
  },
  {
   "cell_type": "code",
   "execution_count": 106,
   "metadata": {},
   "outputs": [],
   "source": [
    "df2['맛이있다없다'] = df2.내용.apply(lambda x: '맛이있다' if (x.__contains__('맛있') or \n",
    "                                                            x.__contains__('맛도좋다') or \n",
    "                                                            x.__contains__('먹을만함') or\n",
    "                                                            x.__contains__('맛좋음') or\n",
    "                                                            x.__contains__('부드러운맛') or\n",
    "                                                            x.__contains__('맛있어서') or\n",
    "                                                            x.__contains__('단맛'))\n",
    "                                                            else '맛이없다' if ( x.__contains__('맛없') or\n",
    "                                                            x.__contains__('없다') or \n",
    "                                                            x.__contains__('비위상함') or \n",
    "                                                            x.__contains__('노맛') or\n",
    "                                                            x.__contains__('역하다') or\n",
    "                                                            x.__contains__('참고') or\n",
    "                                                            x.__contains__('부담스럽') or\n",
    "                                                            x.__contains__('비리다') or\n",
    "                                                            x.__contains__('맛이없다') or\n",
    "                                                            x.__contains__('맛없음'))\n",
    "                                                else '미분류' ) "
   ]
  },
  {
   "cell_type": "code",
   "execution_count": null,
   "metadata": {},
   "outputs": [],
   "source": [
    "구매목적\n",
    "\n",
    "선물"
   ]
  },
  {
   "cell_type": "code",
   "execution_count": null,
   "metadata": {},
   "outputs": [],
   "source": []
  },
  {
   "cell_type": "code",
   "execution_count": null,
   "metadata": {},
   "outputs": [],
   "source": [
    "df['구매목적'] = df.내용정제.apply(lambda x: '맛' if (x.__contains__('맛') or x.__contains__('먹기')) else\n",
    "                                            '선물' if (x.__contains__('선물') or x.__contains__('구매')) else\n",
    "                                            '건강' if x.__contains__ ('주행') else\n",
    "                                            '가격' if x.__contains__('보조금') else\n",
    "                                            '제주' if x.__contains__('제주') else\n",
    "                                            '기타' \n",
    "                                            \n",
    "                                ) "
   ]
  },
  {
   "cell_type": "code",
   "execution_count": 197,
   "metadata": {},
   "outputs": [],
   "source": [
    "맛_list = '맛도, 맛, 목넘김, 제일맛. ,마시기편함,비리지않, 맛과향,맛중요,아이도,달달,거부감 없, 부드러움,진하지않,향이세지않,달콤,먹어본,제일 맛있다,먹을만,맛좋,복용가능,주스처,자주마,섞여있,덜부담,먹기힘들줄,매일먹음,연하,가볍,먹기편함,맛있어서,목넘김,냄새없'.split(',')\n",
    "선물_list = '부모님,어머니,아들,온가족,남자친구,신랑,아버지,동생,'.split(',')\n",
    "건강_list = '속쓰림,역류,식도,속편함,위,건강,속아픔,만성위염,소화불량,생명수,복부팽만,복통,변비,피부트러블'.split(',')\n",
    "재구매_list = ' 2년 , 가정의달, 정기적, 매번, 5박스째, 지인, 매번주문. 일년째, 년넘게 , 주변추천. , 꾸준히, 없으면 안된, 홈쇼핑구매후, 떨어지지않게,꾸준'.split(',')"
   ]
  },
  {
   "cell_type": "code",
   "execution_count": 115,
   "metadata": {},
   "outputs": [
    {
     "name": "stderr",
     "output_type": "stream",
     "text": [
      "100%|██████████| 32/32 [00:00<00:00, 330.99it/s]\n",
      "100%|██████████| 14/14 [00:00<00:00, 342.60it/s]\n",
      "100%|██████████| 15/15 [00:00<00:00, 418.00it/s]\n",
      "100%|██████████| 15/15 [00:00<00:00, 376.14it/s]\n"
     ]
    }
   ],
   "source": [
    "group = [맛_list,선물_list,건강_list,재구매_list]\n",
    "df2['지혜스키워드'] = '미분류'\n",
    "for 리스트 in group:\n",
    "    for 아이템 in tqdm(리스트):\n",
    "        if 리스트 == 맛_list:\n",
    "            df2['지혜스키워드'] = df2.내용.apply(lambda x : '맛' if (x.__contains__(아이템)) \n",
    "            else if (리스트 == 선물_list: df2['지혜스키워드'] = df2.내용.apply(lambda x : '선물' if (x.__contains__(아이템)) else x)\n",
    "                \n",
    "            elif 리스트 == 건강_list:\n",
    "                df2['지혜스키워드'] = df2.내용.apply(lambda x : '건강' if (x.__contains__(아이템)) else x)\n",
    "                \n",
    "            elif 리스트 == 재구매_list:\n",
    "                df2['지혜스키워드'] = df2.내용.apply(lambda x : '재구매' if (x.__contains__(아이템)) else x)"
   ]
  },
  {
   "cell_type": "code",
   "execution_count": 198,
   "metadata": {},
   "outputs": [
    {
     "name": "stderr",
     "output_type": "stream",
     "text": [
      "100%|██████████| 32/32 [00:00<00:00, 524.66it/s]\n"
     ]
    }
   ],
   "source": [
    "group = [맛_list,선물_list,건강_list,재구매_list]\n",
    "df2['키워드크게분류'] = '미분류'\n",
    "for i in tqdm(range(len(맛_list))):\n",
    "    try:\n",
    "        df2['키워드크게분류'] = df2.내용.apply(lambda x: '선물' if (x.__contains__(group[3][i])) else \n",
    "                                        '건강' if (x.__contains__(group[0][i]) )else\n",
    "                                        '재구매' if (x.__contains__(group[2][i])) else\n",
    "                                        '맛' if (x.__contains__(group[1][i])) else x)\n",
    "    except:\n",
    "        pass"
   ]
  },
  {
   "cell_type": "code",
   "execution_count": 199,
   "metadata": {},
   "outputs": [
    {
     "data": {
      "text/plain": [
       "맛      4953\n",
       "재구매      18\n",
       "건강        9\n",
       "Name: 키워드크게분류, dtype: int64"
      ]
     },
     "execution_count": 199,
     "metadata": {},
     "output_type": "execute_result"
    }
   ],
   "source": [
    "df2.키워드크게분류.value_counts()"
   ]
  },
  {
   "cell_type": "code",
   "execution_count": 128,
   "metadata": {},
   "outputs": [
    {
     "data": {
      "text/plain": [
       "'부모님'"
      ]
     },
     "execution_count": 128,
     "metadata": {},
     "output_type": "execute_result"
    }
   ],
   "source": [
    "group[0][0]\n",
    "group[1][0]"
   ]
  },
  {
   "cell_type": "code",
   "execution_count": 124,
   "metadata": {},
   "outputs": [
    {
     "data": {
      "text/plain": [
       "[' 2년 ', ' 가정의달', ' 정기적', ' 매번', ' 5박스째', ' 소개', ' 지인', ' 매번주문. 일년째', ' 년넘게 ', ' 주변추천. ', ' 꾸준히', ' 없으면 안된', ' 홈쇼핑구매후', ' 떨어지지않게', '꾸준']                                         742\n",
       "lej4****21.10.19.속을 편하게 해주어서 장기복용중입니다~  아주좋아요!!속을 편하게 해주어서 장기복용중입니다~  아주좋아요!!리뷰펼치기                                                                                                 2\n",
       "룡농원71bu****21.02.21.제주 빨간양배추즙 75포: 제주 빨간양배추즙 75포조금심심하긴한데 뭔가 첨가된맛은아니라서 좋아요 역류성 식도염이 있어 주문했는데 먹어보고 좋으면 또 주문할께요조금심심하긴한데 뭔가 첨가된맛은아니라서 좋아요 역류성 식도염이 있어 주문했는데 먹어보고 좋으면 또 주문할께요리뷰펼치기      2\n",
       "룡농원koh0****21.07.12.배송빠르고 먹기도 괜찮네요 맛은 밍밍해요 신랑도 잘먹네요 속이쓰려서 시켜봤는데 먹어보고 좋아지면 재주문할께요배송빠르고 먹기도 괜찮네요 맛은 밍밍해요 신랑도 잘먹네요 속이쓰려서 시켜봤는데 먹어보고 좋아지면 재주문할께요리뷰펼치기                                  2\n",
       "룡농원guse****22.01.02.먹던거 다먹어서 다시주문했어요 다른데꺼도 먹어봤는데 물을 너무타서 넘 물맛나던데 이건 찐해요 양배추맛제대로ㅎ먹던거 다먹어서 다시주문했어요 다른데꺼도 먹어봤는데 물을 너무타서 넘 물맛나던데 이건 찐해요 양배추맛제대로ㅎ리뷰펼치기                                  2\n",
       "                                                                                                                                                                                ... \n",
       "몰Vi******20.03.11.잘 받았습니다 좋습니다잘 받았습니다 좋습니다리뷰펼치기                                                                                                                                    1\n",
       "whm8****21.07.06.늘 먹어요 조어요ㅎㅎㅎ늘 먹어요 조어요ㅎㅎㅎ리뷰펼치기                                                                                                                                     1\n",
       "y*u*****20.11.19.영양보조식품정말 고마워요 ㆍㆍㆍ리뷰펼치기                                                                                                                                            1\n",
       "가os******21.08.14.최고예요좋아요 만족스럽습니다 ㅎㅎ 네 알겠습니다 감사합니다 ㅎㅎ리뷰펼치기                                                                                                                         1\n",
       "가iv******21.04.20.좋아요배송도 빠르고 물건도 잘왔네요 매번 시켜먹지만 좋은것 같아요~리뷰펼치기                                                                                                                       1\n",
       "Name: 키워드크게분류, Length: 3850, dtype: int64"
      ]
     },
     "execution_count": 124,
     "metadata": {},
     "output_type": "execute_result"
    }
   ],
   "source": [
    "df2.키워드크게분류.value_counts()"
   ]
  },
  {
   "cell_type": "code",
   "execution_count": 116,
   "metadata": {},
   "outputs": [
    {
     "data": {
      "text/plain": [
       "재구매                                                                                                                                                                              742\n",
       "lej4****21.10.19.속을 편하게 해주어서 장기복용중입니다~  아주좋아요!!속을 편하게 해주어서 장기복용중입니다~  아주좋아요!!리뷰펼치기                                                                                                 2\n",
       "룡농원71bu****21.02.21.제주 빨간양배추즙 75포: 제주 빨간양배추즙 75포조금심심하긴한데 뭔가 첨가된맛은아니라서 좋아요 역류성 식도염이 있어 주문했는데 먹어보고 좋으면 또 주문할께요조금심심하긴한데 뭔가 첨가된맛은아니라서 좋아요 역류성 식도염이 있어 주문했는데 먹어보고 좋으면 또 주문할께요리뷰펼치기      2\n",
       "룡농원koh0****21.07.12.배송빠르고 먹기도 괜찮네요 맛은 밍밍해요 신랑도 잘먹네요 속이쓰려서 시켜봤는데 먹어보고 좋아지면 재주문할께요배송빠르고 먹기도 괜찮네요 맛은 밍밍해요 신랑도 잘먹네요 속이쓰려서 시켜봤는데 먹어보고 좋아지면 재주문할께요리뷰펼치기                                  2\n",
       "룡농원guse****22.01.02.먹던거 다먹어서 다시주문했어요 다른데꺼도 먹어봤는데 물을 너무타서 넘 물맛나던데 이건 찐해요 양배추맛제대로ㅎ먹던거 다먹어서 다시주문했어요 다른데꺼도 먹어봤는데 물을 너무타서 넘 물맛나던데 이건 찐해요 양배추맛제대로ㅎ리뷰펼치기                                  2\n",
       "                                                                                                                                                                                ... \n",
       "몰Vi******20.03.11.잘 받았습니다 좋습니다잘 받았습니다 좋습니다리뷰펼치기                                                                                                                                    1\n",
       "whm8****21.07.06.늘 먹어요 조어요ㅎㅎㅎ늘 먹어요 조어요ㅎㅎㅎ리뷰펼치기                                                                                                                                     1\n",
       "y*u*****20.11.19.영양보조식품정말 고마워요 ㆍㆍㆍ리뷰펼치기                                                                                                                                            1\n",
       "가os******21.08.14.최고예요좋아요 만족스럽습니다 ㅎㅎ 네 알겠습니다 감사합니다 ㅎㅎ리뷰펼치기                                                                                                                         1\n",
       "가iv******21.04.20.좋아요배송도 빠르고 물건도 잘왔네요 매번 시켜먹지만 좋은것 같아요~리뷰펼치기                                                                                                                       1\n",
       "Name: 지혜스키워드, Length: 3850, dtype: int64"
      ]
     },
     "execution_count": 116,
     "metadata": {},
     "output_type": "execute_result"
    }
   ],
   "source": [
    "df2.지혜스키워드.value_counts()"
   ]
  },
  {
   "cell_type": "code",
   "execution_count": 157,
   "metadata": {},
   "outputs": [
    {
     "data": {
      "text/plain": [
       "False    3320\n",
       "True     1660\n",
       "Name: 내용, dtype: int64"
      ]
     },
     "execution_count": 157,
     "metadata": {},
     "output_type": "execute_result"
    }
   ],
   "source": [
    "df2.내용.str.contains('맛').value_counts()"
   ]
  },
  {
   "cell_type": "code",
   "execution_count": null,
   "metadata": {},
   "outputs": [],
   "source": [
    "df2['키워드'] = df2.내용정제.apply(lambda x: '맛' if (x.__contains__('맛') or x.__contains__('먹기')) else\n",
    "                                            '편의성' if (x.__contains__('배송') or x.__contains__('구매')) else\n",
    "                                            '재료' if x.__contains__ ('주행') else\n",
    "                                            '가격' if x.__contains__('보조금') else\n",
    "                                            '제주' if x.__contains__('제주') else\n",
    "                                            '기타' \n",
    "                                            \n",
    "                                ) "
   ]
  }
 ],
 "metadata": {
  "interpreter": {
   "hash": "982c78d920726c4e066517e5f806c5a92239fdf1e257c5744bcc49f815c4d4bb"
  },
  "kernelspec": {
   "display_name": "Python 3.9.7 ('base')",
   "language": "python",
   "name": "python3"
  },
  "language_info": {
   "codemirror_mode": {
    "name": "ipython",
    "version": 3
   },
   "file_extension": ".py",
   "mimetype": "text/x-python",
   "name": "python",
   "nbconvert_exporter": "python",
   "pygments_lexer": "ipython3",
   "version": "3.9.7"
  },
  "orig_nbformat": 4
 },
 "nbformat": 4,
 "nbformat_minor": 2
}
