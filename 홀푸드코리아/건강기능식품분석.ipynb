{
 "cells": [
  {
   "cell_type": "markdown",
   "id": "3c3e3bee-ce3f-4c5a-91ff-1be1bec4d8ca",
   "metadata": {},
   "source": [
    "# 건강기능식품 소비 수요 조사"
   ]
  },
  {
   "cell_type": "code",
   "execution_count": null,
   "id": "53e5cda0-0185-45c1-b076-f7a269093883",
   "metadata": {},
   "outputs": [],
   "source": [
    "import pandas as pd\n",
    "import numpy as np"
   ]
  },
  {
   "cell_type": "code",
   "execution_count": null,
   "id": "02c9f987-21ba-41dd-92d4-4dcae5e4c834",
   "metadata": {},
   "outputs": [],
   "source": []
  }
 ],
 "metadata": {
  "kernelspec": {
   "display_name": "Python 3 (ipykernel)",
   "language": "python",
   "name": "python3"
  },
  "language_info": {
   "codemirror_mode": {
    "name": "ipython",
    "version": 3
   },
   "file_extension": ".py",
   "mimetype": "text/x-python",
   "name": "python",
   "nbconvert_exporter": "python",
   "pygments_lexer": "ipython3",
   "version": "3.9.7"
  }
 },
 "nbformat": 4,
 "nbformat_minor": 5
}
