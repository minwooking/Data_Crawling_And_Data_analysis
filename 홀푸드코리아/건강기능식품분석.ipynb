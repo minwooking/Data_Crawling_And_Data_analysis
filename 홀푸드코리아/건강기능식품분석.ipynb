{
 "cells": [
  {
   "cell_type": "markdown",
   "id": "3c3e3bee-ce3f-4c5a-91ff-1be1bec4d8ca",
   "metadata": {},
   "source": [
    "# 건강기능식품 소비 수요 조사"
   ]
  },
  {
   "cell_type": "code",
   "execution_count": 96,
   "id": "53e5cda0-0185-45c1-b076-f7a269093883",
   "metadata": {},
   "outputs": [],
   "source": [
    "import matplotlib as mpl\n",
    "import matplotlib.pyplot as plt\n",
    "import pandas as pd\n",
    "import numpy as np\n",
    "import copy\n",
    "mpl.rcParams['axes.unicode_minus'] = False\n",
    "plt.rcParams['font.family'] = 'NanumGothicCoding'\n"
   ]
  },
  {
   "cell_type": "code",
   "execution_count": 25,
   "id": "e3c9e461",
   "metadata": {},
   "outputs": [
    {
     "name": "stdout",
     "output_type": "stream",
     "text": [
      "/home/miwoos/WorkSpace/navercafecrawling/홀푸드코리아\n"
     ]
    }
   ],
   "source": [
    "cd ~/WorkSpace/navercafecrawling/홀푸드코리아"
   ]
  },
  {
   "cell_type": "code",
   "execution_count": 26,
   "id": "2114f9b1",
   "metadata": {},
   "outputs": [
    {
     "name": "stdout",
     "output_type": "stream",
     "text": [
      "건강기능식품분석.ipynb      홀푸드코리아.csv\n",
      "업종별성별카드이용정보.csv  홀푸드코리아블로그크롤링.ipynb\n"
     ]
    }
   ],
   "source": [
    "ls"
   ]
  },
  {
   "cell_type": "code",
   "execution_count": 27,
   "id": "cb66fd56",
   "metadata": {},
   "outputs": [],
   "source": [
    "df = pd.read_csv('업종별성별카드이용정보.csv')"
   ]
  },
  {
   "cell_type": "code",
   "execution_count": 82,
   "id": "fad631d1",
   "metadata": {},
   "outputs": [],
   "source": [
    "df2 = pd.read_csv('제주채소류재배현황.csv')"
   ]
  },
  {
   "cell_type": "code",
   "execution_count": 47,
   "id": "c07c268e",
   "metadata": {},
   "outputs": [
    {
     "data": {
      "text/plain": [
       "Index(['연월', '업종명', '이용자구분', '성별', '이용자수', '이용건수', '이용금액'], dtype='object')"
      ]
     },
     "execution_count": 47,
     "metadata": {},
     "output_type": "execute_result"
    }
   ],
   "source": [
    "df.columns"
   ]
  },
  {
   "cell_type": "code",
   "execution_count": 49,
   "id": "2254155c",
   "metadata": {},
   "outputs": [
    {
     "data": {
      "text/plain": [
       "201906    322\n",
       "201911    321\n",
       "201912    320\n",
       "201907    320\n",
       "201905    319\n",
       "201810    318\n",
       "201910    315\n",
       "201807    315\n",
       "201908    314\n",
       "201904    313\n",
       "201811    313\n",
       "201808    312\n",
       "201809    312\n",
       "202001    310\n",
       "201812    308\n",
       "201909    308\n",
       "201805    307\n",
       "201903    305\n",
       "201806    305\n",
       "201902    302\n",
       "201804    301\n",
       "201901    301\n",
       "202002    299\n",
       "201803    290\n",
       "202107    288\n",
       "201801    287\n",
       "202008    283\n",
       "202010    279\n",
       "201802    278\n",
       "202109    277\n",
       "202103    277\n",
       "202106    277\n",
       "202105    277\n",
       "202009    277\n",
       "202011    276\n",
       "202003    274\n",
       "202102    272\n",
       "202005    272\n",
       "202007    271\n",
       "202108    271\n",
       "202004    270\n",
       "202104    270\n",
       "202006    268\n",
       "202012    267\n",
       "202101    265\n",
       "Name: 연월, dtype: int64"
      ]
     },
     "execution_count": 49,
     "metadata": {},
     "output_type": "execute_result"
    }
   ],
   "source": [
    "df.연월.value_counts()"
   ]
  },
  {
   "cell_type": "code",
   "execution_count": 59,
   "id": "b1607b1a",
   "metadata": {},
   "outputs": [
    {
     "data": {
      "text/html": [
       "<div>\n",
       "<style scoped>\n",
       "    .dataframe tbody tr th:only-of-type {\n",
       "        vertical-align: middle;\n",
       "    }\n",
       "\n",
       "    .dataframe tbody tr th {\n",
       "        vertical-align: top;\n",
       "    }\n",
       "\n",
       "    .dataframe thead th {\n",
       "        text-align: right;\n",
       "    }\n",
       "</style>\n",
       "<table border=\"1\" class=\"dataframe\">\n",
       "  <thead>\n",
       "    <tr style=\"text-align: right;\">\n",
       "      <th></th>\n",
       "      <th>연월</th>\n",
       "      <th>업종명</th>\n",
       "      <th>이용자구분</th>\n",
       "      <th>성별</th>\n",
       "      <th>이용자수</th>\n",
       "      <th>이용건수</th>\n",
       "      <th>이용금액</th>\n",
       "    </tr>\n",
       "  </thead>\n",
       "  <tbody>\n",
       "    <tr>\n",
       "      <th>0</th>\n",
       "      <td>201801</td>\n",
       "      <td>건강보조식품 소매업</td>\n",
       "      <td>기타외국</td>\n",
       "      <td>알수없음</td>\n",
       "      <td>65</td>\n",
       "      <td>78</td>\n",
       "      <td>101523250</td>\n",
       "    </tr>\n",
       "    <tr>\n",
       "      <th>1</th>\n",
       "      <td>201801</td>\n",
       "      <td>건강보조식품 소매업</td>\n",
       "      <td>내국인</td>\n",
       "      <td>남성</td>\n",
       "      <td>159</td>\n",
       "      <td>165</td>\n",
       "      <td>25558470</td>\n",
       "    </tr>\n",
       "  </tbody>\n",
       "</table>\n",
       "</div>"
      ],
      "text/plain": [
       "       연월         업종명 이용자구분    성별  이용자수  이용건수       이용금액\n",
       "0  201801  건강보조식품 소매업  기타외국  알수없음    65    78  101523250\n",
       "1  201801  건강보조식품 소매업   내국인    남성   159   165   25558470"
      ]
     },
     "execution_count": 59,
     "metadata": {},
     "output_type": "execute_result"
    }
   ],
   "source": [
    "df.head(2)"
   ]
  },
  {
   "cell_type": "code",
   "execution_count": 64,
   "id": "2edb4eec",
   "metadata": {},
   "outputs": [
    {
     "data": {
      "text/plain": [
       "2018"
      ]
     },
     "execution_count": 64,
     "metadata": {},
     "output_type": "execute_result"
    }
   ],
   "source": [
    "int(df.연월[0]/100)"
   ]
  },
  {
   "cell_type": "code",
   "execution_count": 66,
   "id": "f774c3e7",
   "metadata": {},
   "outputs": [],
   "source": [
    "df['연'] = df['연월'].apply(lambda x : int(x/100))"
   ]
  },
  {
   "cell_type": "code",
   "execution_count": 69,
   "id": "0610a0f7",
   "metadata": {},
   "outputs": [
    {
     "data": {
      "text/plain": [
       "2019    3760\n",
       "2018    3646\n",
       "2020    3346\n",
       "2021    2474\n",
       "Name: 연, dtype: int64"
      ]
     },
     "execution_count": 69,
     "metadata": {},
     "output_type": "execute_result"
    }
   ],
   "source": [
    "df.연.value_counts()"
   ]
  },
  {
   "cell_type": "code",
   "execution_count": 72,
   "id": "e7c4aaa5",
   "metadata": {},
   "outputs": [
    {
     "data": {
      "text/plain": [
       "Index(['연월', '업종명', '이용자구분', '성별', '이용자수', '이용건수', '이용금액', '연'], dtype='object')"
      ]
     },
     "execution_count": 72,
     "metadata": {},
     "output_type": "execute_result"
    }
   ],
   "source": [
    "df.columns"
   ]
  },
  {
   "cell_type": "code",
   "execution_count": 73,
   "id": "7f1b0144",
   "metadata": {},
   "outputs": [
    {
     "data": {
      "text/plain": [
       "array(['건강보조식품 소매업', '골프장 운영업', '과실 및 채소 소매업', '관광 민예품 및 선물용품 소매업',\n",
       "       '그외 기타 분류안된 오락관련 서비스업', '그외 기타 스포츠시설 운영업', '그외 기타 종합 소매업',\n",
       "       '기타 갬블링 및 베팅업', '기타 대형 종합 소매업', '기타 수상오락 서비스업', '기타 외국식 음식점업',\n",
       "       '기타 주점업', '기타음식료품위주종합소매업', '내항 여객 운송업', '마사지업', '면세점', '버스 운송업',\n",
       "       '비알콜 음료점업', '빵 및 과자류 소매업', '서양식 음식점업', '수산물 소매업', '슈퍼마켓',\n",
       "       '스포츠 및 레크레이션 용품 임대업', '여관업', '여행사업', '욕탕업', '육류 소매업', '일반유흥 주점업',\n",
       "       '일식 음식점업', '자동차 임대업', '전시 및 행사 대행업', '정기 항공 운송업', '중식 음식점업',\n",
       "       '차량용 가스 충전업', '차량용 주유소 운영업', '체인화 편의점', '피자, 햄버거, 샌드위치 및 유사 음식점업',\n",
       "       '한식 음식점업', '호텔업', '화장품 및 방향제 소매업', '휴양콘도 운영업', '택시 운송업'],\n",
       "      dtype=object)"
      ]
     },
     "execution_count": 73,
     "metadata": {},
     "output_type": "execute_result"
    }
   ],
   "source": [
    "df.업종명.unique()"
   ]
  },
  {
   "cell_type": "code",
   "execution_count": 78,
   "id": "0eb97842",
   "metadata": {},
   "outputs": [
    {
     "data": {
      "text/plain": [
       "<AxesSubplot:xlabel='연'>"
      ]
     },
     "execution_count": 78,
     "metadata": {},
     "output_type": "execute_result"
    },
    {
     "data": {
      "image/png": "[encoded data removed]",
      "text/plain": [
       "<Figure size 1440x864 with 1 Axes>"
      ]
     },
     "metadata": {
      "needs_background": "light"
     },
     "output_type": "display_data"
    }
   ],
   "source": [
    "plt.figure(figsize=(20,12))\n",
    "df[df.업종명=='건강보조식품 소매업'].groupby([df.연]).연.count().plot.bar()"
   ]
  },
  {
   "cell_type": "code",
   "execution_count": 80,
   "id": "89011e17",
   "metadata": {},
   "outputs": [
    {
     "data": {
      "text/plain": [
       "<AxesSubplot:xlabel='연'>"
      ]
     },
     "execution_count": 80,
     "metadata": {},
     "output_type": "execute_result"
    },
    {
     "data": {
      "image/png": "[encoded data removed]",
      "text/plain": [
       "<Figure size 432x288 with 1 Axes>"
      ]
     },
     "metadata": {
      "needs_background": "light"
     },
     "output_type": "display_data"
    }
   ],
   "source": [
    "df[df.업종명=='기타음식료품위주종합소매업'].groupby([df.연]).연.count().plot.bar()"
   ]
  },
  {
   "cell_type": "markdown",
   "id": "3e556edc",
   "metadata": {},
   "source": [
    "# 결론\n",
    "- 오프라인 기준 건강보조식품과 기타음식료품위주 소매업은 감소하였다"
   ]
  },
  {
   "cell_type": "code",
   "execution_count": 85,
   "id": "fc4451e2",
   "metadata": {},
   "outputs": [
    {
     "data": {
      "text/plain": [
       "Index(['연산', '채소구분대분류', '채소구분소분류', '면적(ha)', '생산량(톤)', '조수입(백만원)', '데이터 기준일'], dtype='object')"
      ]
     },
     "execution_count": 85,
     "metadata": {},
     "output_type": "execute_result"
    }
   ],
   "source": [
    "df2.columns"
   ]
  },
  {
   "cell_type": "code",
   "execution_count": 97,
   "id": "3671d324",
   "metadata": {},
   "outputs": [],
   "source": [
    "df3 = copy.deepcopy(df2[df2.채소구분소분류 =='양배추'])"
   ]
  },
  {
   "cell_type": "code",
   "execution_count": 101,
   "id": "2a08a4dc",
   "metadata": {},
   "outputs": [],
   "source": [
    "df3.reset_index(inplace=True,drop=True)"
   ]
  },
  {
   "cell_type": "code",
   "execution_count": 110,
   "id": "f2fd6723",
   "metadata": {},
   "outputs": [
    {
     "data": {
      "text/html": [
       "<div>\n",
       "<style scoped>\n",
       "    .dataframe tbody tr th:only-of-type {\n",
       "        vertical-align: middle;\n",
       "    }\n",
       "\n",
       "    .dataframe tbody tr th {\n",
       "        vertical-align: top;\n",
       "    }\n",
       "\n",
       "    .dataframe thead th {\n",
       "        text-align: right;\n",
       "    }\n",
       "</style>\n",
       "<table border=\"1\" class=\"dataframe\">\n",
       "  <thead>\n",
       "    <tr style=\"text-align: right;\">\n",
       "      <th></th>\n",
       "      <th>연산</th>\n",
       "      <th>채소구분대분류</th>\n",
       "      <th>채소구분소분류</th>\n",
       "      <th>면적(ha)</th>\n",
       "      <th>생산량(톤)</th>\n",
       "      <th>조수입(백만원)</th>\n",
       "      <th>데이터 기준일</th>\n",
       "    </tr>\n",
       "  </thead>\n",
       "  <tbody>\n",
       "    <tr>\n",
       "      <th>0</th>\n",
       "      <td>20-21</td>\n",
       "      <td>노지채소</td>\n",
       "      <td>양배추</td>\n",
       "      <td>1753.0</td>\n",
       "      <td>103222.0</td>\n",
       "      <td>60116.0</td>\n",
       "      <td>20210809</td>\n",
       "    </tr>\n",
       "    <tr>\n",
       "      <th>1</th>\n",
       "      <td>19-20</td>\n",
       "      <td>노지채소</td>\n",
       "      <td>양배추</td>\n",
       "      <td>1721.0</td>\n",
       "      <td>78005.0</td>\n",
       "      <td>87167.0</td>\n",
       "      <td>20210809</td>\n",
       "    </tr>\n",
       "    <tr>\n",
       "      <th>2</th>\n",
       "      <td>18-19</td>\n",
       "      <td>노지채소</td>\n",
       "      <td>양배추</td>\n",
       "      <td>2038.0</td>\n",
       "      <td>94128.0</td>\n",
       "      <td>37086.0</td>\n",
       "      <td>20210809</td>\n",
       "    </tr>\n",
       "    <tr>\n",
       "      <th>3</th>\n",
       "      <td>17-18</td>\n",
       "      <td>노지채소</td>\n",
       "      <td>양배추</td>\n",
       "      <td>1999.0</td>\n",
       "      <td>93544.0</td>\n",
       "      <td>63610.0</td>\n",
       "      <td>20210809</td>\n",
       "    </tr>\n",
       "    <tr>\n",
       "      <th>4</th>\n",
       "      <td>16-17</td>\n",
       "      <td>노지채소</td>\n",
       "      <td>양배추</td>\n",
       "      <td>1986.0</td>\n",
       "      <td>100879.0</td>\n",
       "      <td>115268.0</td>\n",
       "      <td>20210809</td>\n",
       "    </tr>\n",
       "    <tr>\n",
       "      <th>5</th>\n",
       "      <td>15-16</td>\n",
       "      <td>노지채소</td>\n",
       "      <td>양배추</td>\n",
       "      <td>1910.0</td>\n",
       "      <td>110429.0</td>\n",
       "      <td>76872.0</td>\n",
       "      <td>20210809</td>\n",
       "    </tr>\n",
       "  </tbody>\n",
       "</table>\n",
       "</div>"
      ],
      "text/plain": [
       "      연산 채소구분대분류 채소구분소분류  면적(ha)    생산량(톤)  조수입(백만원)   데이터 기준일\n",
       "0  20-21    노지채소     양배추  1753.0  103222.0   60116.0  20210809\n",
       "1  19-20    노지채소     양배추  1721.0   78005.0   87167.0  20210809\n",
       "2  18-19    노지채소     양배추  2038.0   94128.0   37086.0  20210809\n",
       "3  17-18    노지채소     양배추  1999.0   93544.0   63610.0  20210809\n",
       "4  16-17    노지채소     양배추  1986.0  100879.0  115268.0  20210809\n",
       "5  15-16    노지채소     양배추  1910.0  110429.0   76872.0  20210809"
      ]
     },
     "execution_count": 110,
     "metadata": {},
     "output_type": "execute_result"
    }
   ],
   "source": [
    "df3"
   ]
  },
  {
   "cell_type": "code",
   "execution_count": 120,
   "id": "9d5df2e4",
   "metadata": {},
   "outputs": [
    {
     "data": {
      "text/plain": [
       "<AxesSubplot:>"
      ]
     },
     "execution_count": 120,
     "metadata": {},
     "output_type": "execute_result"
    },
    {
     "data": {
      "image/png": "[encoded data removed]",
      "text/plain": [
       "<Figure size 432x288 with 1 Axes>"
      ]
     },
     "metadata": {
      "needs_background": "light"
     },
     "output_type": "display_data"
    }
   ],
   "source": [
    "df3['생산량(톤)'].plot.bar()"
   ]
  },
  {
   "cell_type": "code",
   "execution_count": 153,
   "id": "aaf2eb6b",
   "metadata": {},
   "outputs": [
    {
     "data": {
      "image/png": "[encoded data removed]",
      "text/plain": [
       "<Figure size 864x432 with 1 Axes>"
      ]
     },
     "metadata": {
      "needs_background": "light"
     },
     "output_type": "display_data"
    }
   ],
   "source": [
    "plt.figure(figsize=(12,6))\n",
    "plt.bar(df3['연산'][::-1],df3['생산량(톤)'][::-1],label = '생산량')\n",
    "plt.legend()\n",
    "plt.plot(df3['연산'][::-1],df3['조수입(백만원)'][::-1],'ro--',label = '조수입')\n",
    "plt.plot(df3['연산'][::-1],df3['면적(ha)'][::-1],'ro-',label = '면적(ha')\n",
    "plt.legend()\n",
    "plt.ylabel('생산량(톤)')\n",
    "plt.xlabel('연간생산년도')\n",
    "plt.title('양배추연간생산량')\n",
    "plt.grid()"
   ]
  },
  {
   "cell_type": "code",
   "execution_count": 154,
   "id": "b883e7e3",
   "metadata": {},
   "outputs": [
    {
     "data": {
      "text/plain": [
       "[<matplotlib.lines.Line2D at 0x7fc2d05da3a0>]"
      ]
     },
     "execution_count": 154,
     "metadata": {},
     "output_type": "execute_result"
    },
    {
     "data": {
      "image/png": "[encoded data removed]",
      "text/plain": [
       "<Figure size 432x288 with 1 Axes>"
      ]
     },
     "metadata": {
      "needs_background": "light"
     },
     "output_type": "display_data"
    }
   ],
   "source": [
    "plt.plot(df3['연산'][::-1],df3['면적(ha)'][::-1],'ro-',label = '면적(ha')"
   ]
  },
  {
   "cell_type": "code",
   "execution_count": null,
   "id": "0a6281f6",
   "metadata": {},
   "outputs": [],
   "source": []
  }
 ],
 "metadata": {
  "kernelspec": {
   "display_name": "Python 3 (ipykernel)",
   "language": "python",
   "name": "python3"
  },
  "language_info": {
   "codemirror_mode": {
    "name": "ipython",
    "version": 3
   },
   "file_extension": ".py",
   "mimetype": "text/x-python",
   "name": "python",
   "nbconvert_exporter": "python",
   "pygments_lexer": "ipython3",
   "version": "3.9.7"
  }
 },
 "nbformat": 4,
 "nbformat_minor": 5
}
