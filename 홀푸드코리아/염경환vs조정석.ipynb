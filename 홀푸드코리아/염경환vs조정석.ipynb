{
 "cells": [
  {
   "cell_type": "markdown",
   "id": "fd38e9c2-5a1f-4fe4-bfc3-1ac8626c981a",
   "metadata": {},
   "source": [
    "# 염경환 vs 조정석 이미지 차이점 확인해보기\n",
    "- 양배추즙 광고모델인 염경환과 조정석의 이미지를 확인해보고 마케팅에 영향을 끼칠 수 있는지 확인해본다."
   ]
  },
  {
   "cell_type": "markdown",
   "id": "0c0fb079-4baa-4e8c-93a2-8134d3f5b4fd",
   "metadata": {},
   "source": [
    "### Use Lib"
   ]
  },
  {
   "cell_type": "code",
   "execution_count": 2,
   "id": "4b35e403-df41-46f4-b1f1-4f668d3276cf",
   "metadata": {
    "execution": {
     "iopub.execute_input": "2022-04-16T05:32:12.164345Z",
     "iopub.status.busy": "2022-04-16T05:32:12.163853Z",
     "iopub.status.idle": "2022-04-16T05:32:12.173975Z",
     "shell.execute_reply": "2022-04-16T05:32:12.173228Z",
     "shell.execute_reply.started": "2022-04-16T05:32:12.164267Z"
    },
    "tags": []
   },
   "outputs": [],
   "source": [
    "import  numpy as np\n",
    "import  pandas as pd\n",
    "import  matplotlib as mpl\n",
    "import  matplotlib.pyplot as plt\n",
    "from selenium import webdriver\n",
    "import time\n",
    "from urllib.parse import quote\n",
    "from datetime import datetime, timedelta\n",
    "\n",
    "from bs4 import BeautifulSoup\n",
    "from selenium import webdriver\n",
    "# from webdriver_manager.chrome import ChromeDriverManager\n",
    "import time\n",
    "from time import sleep\n",
    "from tqdm import tqdm\n",
    "from urllib.parse import quote\n",
    "from selenium.webdriver.common.keys import Keys\n",
    "from selenium.common.exceptions import ElementNotInteractableException\n",
    "from selenium.common.exceptions import NoSuchElementException\n",
    "import pyperclip\n",
    "import urllib.request\n",
    "import requests\n",
    "import urllib.parse \n",
    "from urllib import parse\n",
    "import ssl\n",
    "\n",
    "context = ssl._create_unverified_context()\n",
    "\n",
    "mpl.rcParams['axes.unicode_minus'] = False\n",
    "# plt.rcParams['font.family'] = 'Malgun Gothic' # 윈도우 폰트\n",
    "plt.rcParams['font.family'] = 'NanumGothicCoding' # 리눅스 폰트"
   ]
  },
  {
   "cell_type": "code",
   "execution_count": 5,
   "id": "12504068",
   "metadata": {},
   "outputs": [
    {
     "name": "stdout",
     "output_type": "stream",
     "text": [
      "G:\\내 드라이브\\Data\\내일프로젝트(홀푸드코리아)\n"
     ]
    }
   ],
   "source": [
    "cd G:\\내 드라이브\\Data\\내일프로젝트(홀푸드코리아)"
   ]
  },
  {
   "cell_type": "code",
   "execution_count": 7,
   "id": "8f321c8a",
   "metadata": {},
   "outputs": [],
   "source": [
    "df_염경환 = pd.read_csv('염경환관련데이터.csv')"
   ]
  },
  {
   "cell_type": "code",
   "execution_count": 10,
   "id": "e2500ad1",
   "metadata": {},
   "outputs": [
    {
     "data": {
      "text/plain": [
       "'https://blog.naver.com/dladidwn8?Redirect=Log&logNo=222345234803'"
      ]
     },
     "execution_count": 10,
     "metadata": {},
     "output_type": "execute_result"
    }
   ],
   "source": [
    "df_염경환.href[0]"
   ]
  },
  {
   "cell_type": "markdown",
   "id": "a9a10207-539c-48af-a9aa-5648488a5884",
   "metadata": {
    "tags": []
   },
   "source": [
    "### Use def"
   ]
  },
  {
   "cell_type": "code",
   "execution_count": 3,
   "id": "104cddb9-d6c1-413f-94f6-986599c86e11",
   "metadata": {
    "execution": {
     "iopub.execute_input": "2022-04-16T06:43:36.172086Z",
     "iopub.status.busy": "2022-04-16T06:43:36.170883Z",
     "iopub.status.idle": "2022-04-16T06:43:36.183895Z",
     "shell.execute_reply": "2022-04-16T06:43:36.183095Z",
     "shell.execute_reply.started": "2022-04-16T06:43:36.172013Z"
    },
    "tags": []
   },
   "outputs": [],
   "source": [
    "def convert_date(s):\n",
    "    if len(s) == 11:\n",
    "        return s[:-1]\n",
    "\n",
    "    today = datetime.now()\n",
    "    if '어제' in s:\n",
    "        date = today - timedelta(1)\n",
    "    elif '일' in s:\n",
    "        date = today - timedelta(int(s[:-3]))\n",
    "    elif '시간' in s:\n",
    "        date = today - timedelta(hours=int(s[:-4]))\n",
    "    elif '분' in s:\n",
    "        date = today - timedelta(minutes=int(s[:-3]))\n",
    "\n",
    "    return f'{date.year}.{date.month:02d}.{date.day:02d}'"
   ]
  },
  {
   "cell_type": "code",
   "execution_count": 112,
   "id": "1f600eef-42e9-4605-8d7a-39870387e615",
   "metadata": {
    "execution": {
     "iopub.execute_input": "2022-04-16T05:47:24.115824Z",
     "iopub.status.busy": "2022-04-16T05:47:24.115642Z",
     "iopub.status.idle": "2022-04-16T05:47:24.128477Z",
     "shell.execute_reply": "2022-04-16T05:47:24.128020Z",
     "shell.execute_reply.started": "2022-04-16T05:47:24.115808Z"
    }
   },
   "outputs": [
    {
     "data": {
      "text/html": [
       "<div>\n",
       "<style scoped>\n",
       "    .dataframe tbody tr th:only-of-type {\n",
       "        vertical-align: middle;\n",
       "    }\n",
       "\n",
       "    .dataframe tbody tr th {\n",
       "        vertical-align: top;\n",
       "    }\n",
       "\n",
       "    .dataframe thead tr th {\n",
       "        text-align: left;\n",
       "    }\n",
       "</style>\n",
       "<table border=\"1\" class=\"dataframe\">\n",
       "  <thead>\n",
       "    <tr>\n",
       "      <th></th>\n",
       "      <th>href</th>\n",
       "    </tr>\n",
       "  </thead>\n",
       "  <tbody>\n",
       "    <tr>\n",
       "      <th>0</th>\n",
       "      <td>https://blog.naver.com/gurygury2001/222011887176</td>\n",
       "    </tr>\n",
       "    <tr>\n",
       "      <th>1</th>\n",
       "      <td>https://blog.naver.com/cwmylee/222154538039</td>\n",
       "    </tr>\n",
       "    <tr>\n",
       "      <th>2</th>\n",
       "      <td>https://blog.naver.com/dladidwn8/222345234803</td>\n",
       "    </tr>\n",
       "    <tr>\n",
       "      <th>3</th>\n",
       "      <td>https://post.naver.com/viewer/postView.naver?v...</td>\n",
       "    </tr>\n",
       "    <tr>\n",
       "      <th>4</th>\n",
       "      <td>https://post.naver.com/viewer/postView.nhn?vol...</td>\n",
       "    </tr>\n",
       "    <tr>\n",
       "      <th>...</th>\n",
       "      <td>...</td>\n",
       "    </tr>\n",
       "    <tr>\n",
       "      <th>133</th>\n",
       "      <td>https://cafe.naver.com/momland/322902?art=ZXh0...</td>\n",
       "    </tr>\n",
       "    <tr>\n",
       "      <th>134</th>\n",
       "      <td>https://cafe.naver.com/unjeongnewcity/50837?ar...</td>\n",
       "    </tr>\n",
       "    <tr>\n",
       "      <th>135</th>\n",
       "      <td>https://cafe.naver.com/juvis/151179?art=ZXh0ZX...</td>\n",
       "    </tr>\n",
       "    <tr>\n",
       "      <th>136</th>\n",
       "      <td>https://cafe.naver.com/true8/2123302?art=ZXh0Z...</td>\n",
       "    </tr>\n",
       "    <tr>\n",
       "      <th>137</th>\n",
       "      <td>https://cafe.naver.com/musicstar2/21547127?art...</td>\n",
       "    </tr>\n",
       "  </tbody>\n",
       "</table>\n",
       "<p>138 rows × 1 columns</p>\n",
       "</div>"
      ],
      "text/plain": [
       "                                                  href\n",
       "0     https://blog.naver.com/gurygury2001/222011887176\n",
       "1          https://blog.naver.com/cwmylee/222154538039\n",
       "2        https://blog.naver.com/dladidwn8/222345234803\n",
       "3    https://post.naver.com/viewer/postView.naver?v...\n",
       "4    https://post.naver.com/viewer/postView.nhn?vol...\n",
       "..                                                 ...\n",
       "133  https://cafe.naver.com/momland/322902?art=ZXh0...\n",
       "134  https://cafe.naver.com/unjeongnewcity/50837?ar...\n",
       "135  https://cafe.naver.com/juvis/151179?art=ZXh0ZX...\n",
       "136  https://cafe.naver.com/true8/2123302?art=ZXh0Z...\n",
       "137  https://cafe.naver.com/musicstar2/21547127?art...\n",
       "\n",
       "[138 rows x 1 columns]"
      ]
     },
     "execution_count": 112,
     "metadata": {},
     "output_type": "execute_result"
    }
   ],
   "source": [
    "df_염경환.href"
   ]
  },
  {
   "cell_type": "code",
   "execution_count": 23,
   "id": "bc57f18e-81b9-4dd6-b0e0-b949ea23e828",
   "metadata": {
    "execution": {
     "iopub.execute_input": "2022-04-16T06:50:45.329872Z",
     "iopub.status.busy": "2022-04-16T06:50:45.329235Z",
     "iopub.status.idle": "2022-04-16T06:50:45.338146Z",
     "shell.execute_reply": "2022-04-16T06:50:45.336911Z",
     "shell.execute_reply.started": "2022-04-16T06:50:45.329807Z"
    },
    "tags": []
   },
   "outputs": [],
   "source": [
    "#iframe 제거 후 blog.naver.com 붙이기\n",
    "def delete_iframe(url):\n",
    "    headers = {\"User-Agent\":\"Mozilla/5.0 (Windows NT 10.0; Win64; x64) AppleWebKit/537.36 (KHTML, like Gecko) Chrome/90.0.4430.93 Safari/537.36\"}\n",
    "    res = requests.get(url, headers=headers)\n",
    "    res.raise_for_status() # 문제시 프로그램 종료\n",
    "    soup = BeautifulSoup(res.text, \"lxml\") \n",
    "\n",
    "    src_url = \"https://blog.naver.com/\" + soup.iframe[\"src\"]\n",
    "    \n",
    "    return src_url\n"
   ]
  },
  {
   "cell_type": "code",
   "execution_count": 260,
   "id": "03cd4b1d-7e17-41e5-aade-98b8fb8eb92d",
   "metadata": {
    "execution": {
     "iopub.execute_input": "2022-04-16T06:48:35.075782Z",
     "iopub.status.busy": "2022-04-16T06:48:35.075282Z",
     "iopub.status.idle": "2022-04-16T06:48:35.084802Z",
     "shell.execute_reply": "2022-04-16T06:48:35.083563Z",
     "shell.execute_reply.started": "2022-04-16T06:48:35.075721Z"
    },
    "tags": []
   },
   "outputs": [
    {
     "data": {
      "text/plain": [
       "'https://blog.naver.com/dladidwn8?Redirect=Log&logNo=222345234803'"
      ]
     },
     "execution_count": 260,
     "metadata": {},
     "output_type": "execute_result"
    }
   ],
   "source": [
    "df_염경환.loc[0,'href'][0]"
   ]
  },
  {
   "cell_type": "code",
   "execution_count": 263,
   "id": "a12b0e5b-b75a-45f3-927e-b17fe081273b",
   "metadata": {
    "execution": {
     "iopub.execute_input": "2022-04-16T06:49:48.466885Z",
     "iopub.status.busy": "2022-04-16T06:49:48.466646Z",
     "iopub.status.idle": "2022-04-16T06:49:48.566651Z",
     "shell.execute_reply": "2022-04-16T06:49:48.565639Z",
     "shell.execute_reply.started": "2022-04-16T06:49:48.466853Z"
    },
    "tags": []
   },
   "outputs": [
    {
     "ename": "AttributeError",
     "evalue": "'str' object has no attribute 'read'",
     "output_type": "error",
     "traceback": [
      "\u001b[0;31m---------------------------------------------------------------------------\u001b[0m",
      "\u001b[0;31mAttributeError\u001b[0m                            Traceback (most recent call last)",
      "\u001b[0;32m/tmp/ipykernel_75148/3844125683.py\u001b[0m in \u001b[0;36m<module>\u001b[0;34m\u001b[0m\n\u001b[0;32m----> 1\u001b[0;31m \u001b[0mdelete_iframe\u001b[0m\u001b[0;34m(\u001b[0m\u001b[0mdf_염경환\u001b[0m\u001b[0;34m.\u001b[0m\u001b[0mloc\u001b[0m\u001b[0;34m[\u001b[0m\u001b[0;36m0\u001b[0m\u001b[0;34m,\u001b[0m\u001b[0;34m'href'\u001b[0m\u001b[0;34m]\u001b[0m\u001b[0;34m[\u001b[0m\u001b[0;36m0\u001b[0m\u001b[0;34m]\u001b[0m\u001b[0;34m)\u001b[0m\u001b[0;34m.\u001b[0m\u001b[0mread\u001b[0m\u001b[0;34m(\u001b[0m\u001b[0;34m)\u001b[0m\u001b[0;34m\u001b[0m\u001b[0;34m\u001b[0m\u001b[0m\n\u001b[0m",
      "\u001b[0;31mAttributeError\u001b[0m: 'str' object has no attribute 'read'"
     ]
    }
   ],
   "source": [
    "delete_iframe(df_염경환.loc[0,'href'][0]).read()"
   ]
  },
  {
   "cell_type": "code",
   "execution_count": 11,
   "id": "633b4554-48fa-4a21-a986-71cc40039247",
   "metadata": {
    "execution": {
     "iopub.execute_input": "2022-04-16T06:47:48.464895Z",
     "iopub.status.busy": "2022-04-16T06:47:48.464498Z",
     "iopub.status.idle": "2022-04-16T06:47:48.471450Z",
     "shell.execute_reply": "2022-04-16T06:47:48.469712Z",
     "shell.execute_reply.started": "2022-04-16T06:47:48.464841Z"
    },
    "tags": []
   },
   "outputs": [],
   "source": [
    "headers = {\"User-Agent\":\"Mozilla/5.0 (Windows NT 10.0; Win64; x64) AppleWebKit/537.36 (KHTML, like Gecko) Chrome/90.0.4430.93 Safari/537.36\"}"
   ]
  },
  {
   "cell_type": "markdown",
   "id": "daf2f855-4baa-4b3e-abb5-b894ccf38cb8",
   "metadata": {},
   "source": [
    "## get driver"
   ]
  },
  {
   "cell_type": "code",
   "execution_count": 15,
   "id": "36f93732-e336-46b0-929e-222262f23a85",
   "metadata": {
    "execution": {
     "iopub.execute_input": "2022-04-16T05:14:17.577237Z",
     "iopub.status.busy": "2022-04-16T05:14:17.576757Z",
     "iopub.status.idle": "2022-04-16T05:14:23.027737Z",
     "shell.execute_reply": "2022-04-16T05:14:23.025752Z",
     "shell.execute_reply.started": "2022-04-16T05:14:17.577161Z"
    }
   },
   "outputs": [
    {
     "name": "stderr",
     "output_type": "stream",
     "text": [
      "\n",
      "\n",
      "====== WebDriver manager ======\n",
      "Current google-chrome version is 100.0.4896\n",
      "Get LATEST chromedriver version for 100.0.4896 google-chrome\n",
      "Trying to download new driver from https://chromedriver.storage.googleapis.com/100.0.4896.60/chromedriver_linux64.zip\n",
      "Driver has been saved in cache [/home/miwoos/.wdm/drivers/chromedriver/linux64/100.0.4896.60]\n",
      "/tmp/ipykernel_75148/4219932781.py:3: DeprecationWarning: executable_path has been deprecated, please pass in a Service object\n",
      "  driver = webdriver.Chrome(ChromeDriverManager().install()) # 리눅스\n"
     ]
    }
   ],
   "source": [
    "url = f'https://search.naver.com/search.naver?where=view&sm=tab_jum&query={quote(\"염경환\")}'\n",
    "# driver = webdriver.Chrome('chromedriver.exe') # 윈도우\n",
    "driver = webdriver.Chrome(ChromeDriverManager().install()) # 리눅스\n",
    "driver.get(url)\n",
    "time.sleep(2)"
   ]
  },
  {
   "cell_type": "markdown",
   "id": "535ee73d-b735-4c51-86b6-84a4448f1584",
   "metadata": {
    "tags": []
   },
   "source": [
    "## 염경환"
   ]
  },
  {
   "cell_type": "code",
   "execution_count": 122,
   "id": "cda92a8a-0e71-4285-b5db-a3b91653827e",
   "metadata": {
    "execution": {
     "iopub.execute_input": "2022-04-16T05:50:28.380507Z",
     "iopub.status.busy": "2022-04-16T05:50:28.380059Z",
     "iopub.status.idle": "2022-04-16T05:50:28.385072Z",
     "shell.execute_reply": "2022-04-16T05:50:28.384532Z",
     "shell.execute_reply.started": "2022-04-16T05:50:28.380416Z"
    },
    "tags": []
   },
   "outputs": [],
   "source": [
    "# url_염경환 = f'https://search.naver.com/search.naver?where=view&sm=tab_jum&query={quote(\"염경환\")}'\n",
    "url_염경환 = f'https://search.naver.com/search.naver?query=%EC%97%BC%EA%B2%BD%ED%99%98&nso=&where=blog&sm=tab_opt'"
   ]
  },
  {
   "cell_type": "code",
   "execution_count": 37,
   "id": "95206961-36d5-4d03-9211-44668d6d956d",
   "metadata": {
    "execution": {
     "iopub.execute_input": "2022-04-16T05:50:36.162723Z",
     "iopub.status.busy": "2022-04-16T05:50:36.162247Z",
     "iopub.status.idle": "2022-04-16T05:50:40.291988Z",
     "shell.execute_reply": "2022-04-16T05:50:40.289884Z",
     "shell.execute_reply.started": "2022-04-16T05:50:36.162630Z"
    },
    "tags": []
   },
   "outputs": [
    {
     "name": "stderr",
     "output_type": "stream",
     "text": [
      "C:\\Users\\alsdn\\AppData\\Local\\Temp/ipykernel_21472/1244887903.py:2: DeprecationWarning: executable_path has been deprecated, please pass in a Service object\n",
      "  driver = webdriver.Chrome('D:\\WorkSpace\\Jeju_Electric_Vehicle_analysis\\chromedriver.exe')\n"
     ]
    }
   ],
   "source": [
    "# driver = webdriver.Chrome(ChromeDriverManager().install()) # 리눅스\n",
    "driver = webdriver.Chrome('D:\\WorkSpace\\Jeju_Electric_Vehicle_analysis\\chromedriver.exe')\n",
    "driver.get(url_조정석)\n",
    "time.sleep(2)"
   ]
  },
  {
   "cell_type": "code",
   "execution_count": 57,
   "id": "e1506880-7668-407b-9dde-5d3df9330670",
   "metadata": {
    "execution": {
     "iopub.execute_input": "2022-04-16T05:52:31.058372Z",
     "iopub.status.busy": "2022-04-16T05:52:31.057888Z",
     "iopub.status.idle": "2022-04-16T06:01:10.416286Z",
     "shell.execute_reply": "2022-04-16T06:01:10.414782Z",
     "shell.execute_reply.started": "2022-04-16T05:52:31.058297Z"
    },
    "tags": []
   },
   "outputs": [
    {
     "name": "stderr",
     "output_type": "stream",
     "text": [
      "C:\\Users\\alsdn\\AppData\\Local\\Temp/ipykernel_21472/3830347187.py:1: DeprecationWarning: find_element_by_tag_name is deprecated. Please use find_element(by=By.TAG_NAME, value=name) instead\n",
      "  body = driver.find_element_by_tag_name('body')\n"
     ]
    }
   ],
   "source": [
    "body = driver.find_element_by_tag_name('body')\n",
    "for _ in range(100):\n",
    "    body.send_keys(Keys.PAGE_DOWN)\n",
    "    time.sleep(1)"
   ]
  },
  {
   "cell_type": "markdown",
   "id": "ee0823a3-9e8b-4de7-8c21-4946fde30c96",
   "metadata": {
    "tags": []
   },
   "source": [
    "#### test"
   ]
  },
  {
   "cell_type": "code",
   "execution_count": 242,
   "id": "4d2d1025-39ae-4fcb-a586-b329b0790981",
   "metadata": {
    "execution": {
     "iopub.execute_input": "2022-04-16T06:41:57.312614Z",
     "iopub.status.busy": "2022-04-16T06:41:57.312146Z",
     "iopub.status.idle": "2022-04-16T06:41:57.949062Z",
     "shell.execute_reply": "2022-04-16T06:41:57.948458Z",
     "shell.execute_reply.started": "2022-04-16T06:41:57.312538Z"
    },
    "tags": []
   },
   "outputs": [
    {
     "name": "stderr",
     "output_type": "stream",
     "text": [
      "/tmp/ipykernel_75148/1418382889.py:1: DeprecationWarning: find_elements_by_css_selector is deprecated. Please use find_elements(by=By.CSS_SELECTOR, value=css_selector) instead\n",
      "  lis = driver.find_elements_by_css_selector('#_view_review_body_html > div > more-contents > div > ul > li')\n"
     ]
    },
    {
     "data": {
      "text/plain": [
       "1050"
      ]
     },
     "execution_count": 242,
     "metadata": {},
     "output_type": "execute_result"
    }
   ],
   "source": [
    "lis = driver.find_elements_by_css_selector('#_view_review_body_html > div > more-contents > div > ul > li')\n",
    "len(lis)"
   ]
  },
  {
   "cell_type": "code",
   "execution_count": 168,
   "id": "777c8e70-82a3-4ee2-b606-5da7ab1b1647",
   "metadata": {
    "execution": {
     "iopub.execute_input": "2022-04-16T06:22:44.710234Z",
     "iopub.status.busy": "2022-04-16T06:22:44.709746Z",
     "iopub.status.idle": "2022-04-16T06:22:44.716822Z",
     "shell.execute_reply": "2022-04-16T06:22:44.716486Z",
     "shell.execute_reply.started": "2022-04-16T06:22:44.710162Z"
    },
    "tags": []
   },
   "outputs": [
    {
     "data": {
      "text/plain": [
       "<selenium.webdriver.remote.webelement.WebElement (session=\"8e10b159240bc7d41c39c525d6890c8f\", element=\"809391cb-6d07-4e13-9ab0-5186ed530efa\")>"
      ]
     },
     "execution_count": 168,
     "metadata": {},
     "output_type": "execute_result"
    }
   ],
   "source": [
    "lis[0]"
   ]
  },
  {
   "cell_type": "code",
   "execution_count": 238,
   "id": "59578c03-189a-45ed-a0ce-85e5f8e0bcbc",
   "metadata": {
    "execution": {
     "iopub.execute_input": "2022-04-16T06:39:21.292117Z",
     "iopub.status.busy": "2022-04-16T06:39:21.291716Z",
     "iopub.status.idle": "2022-04-16T06:39:21.335769Z",
     "shell.execute_reply": "2022-04-16T06:39:21.335158Z",
     "shell.execute_reply.started": "2022-04-16T06:39:21.292049Z"
    },
    "tags": []
   },
   "outputs": [
    {
     "data": {
      "text/plain": [
       "'하노이 러우 하노이맛집 배틀트립에 나온 염경환 러우식당'"
      ]
     },
     "execution_count": 238,
     "metadata": {},
     "output_type": "execute_result"
    }
   ],
   "source": [
    "title = lis[0].find_element_by_css_selector('li > div > div > a').text.strip()\n",
    "#sp_blog_1 > div > div > a\n",
    "title"
   ]
  },
  {
   "cell_type": "code",
   "execution_count": 226,
   "id": "160ab71a-c1f4-42af-9d25-51f5f0994519",
   "metadata": {
    "execution": {
     "iopub.execute_input": "2022-04-16T06:34:19.819653Z",
     "iopub.status.busy": "2022-04-16T06:34:19.819175Z",
     "iopub.status.idle": "2022-04-16T06:34:19.860566Z",
     "shell.execute_reply": "2022-04-16T06:34:19.859910Z",
     "shell.execute_reply.started": "2022-04-16T06:34:19.819587Z"
    },
    "tags": []
   },
   "outputs": [
    {
     "name": "stderr",
     "output_type": "stream",
     "text": [
      "/home/miwoos/anaconda3/lib/python3.9/site-packages/selenium/webdriver/remote/webelement.py:484: UserWarning: find_element_by_css_selector is deprecated. Please use find_element(by=By.CSS_SELECTOR, value=css_selector) instead\n",
      "  warnings.warn(\"find_element_by_css_selector is deprecated. Please use find_element(by=By.CSS_SELECTOR, value=css_selector) instead\")\n"
     ]
    },
    {
     "data": {
      "text/plain": [
       "'2021.05.10.'"
      ]
     },
     "execution_count": 226,
     "metadata": {},
     "output_type": "execute_result"
    }
   ],
   "source": [
    "date = lis[0].find_element_by_css_selector('.sub_time.sub_txt').text.strip()\n",
    "date"
   ]
  },
  {
   "cell_type": "code",
   "execution_count": 27,
   "id": "2a8a1764-0c90-4bd6-9b80-cf67fd6282b8",
   "metadata": {
    "execution": {
     "iopub.execute_input": "2022-04-16T05:20:42.582217Z",
     "iopub.status.busy": "2022-04-16T05:20:42.581646Z",
     "iopub.status.idle": "2022-04-16T05:20:42.623743Z",
     "shell.execute_reply": "2022-04-16T05:20:42.623200Z",
     "shell.execute_reply.started": "2022-04-16T05:20:42.582150Z"
    },
    "tags": []
   },
   "outputs": [
    {
     "name": "stderr",
     "output_type": "stream",
     "text": [
      "/home/miwoos/anaconda3/lib/python3.9/site-packages/selenium/webdriver/remote/webelement.py:484: UserWarning: find_element_by_css_selector is deprecated. Please use find_element(by=By.CSS_SELECTOR, value=css_selector) instead\n",
      "  warnings.warn(\"find_element_by_css_selector is deprecated. Please use find_element(by=By.CSS_SELECTOR, value=css_selector) instead\")\n"
     ]
    },
    {
     "data": {
      "text/plain": [
       "'2020.06.25.'"
      ]
     },
     "execution_count": 27,
     "metadata": {},
     "output_type": "execute_result"
    }
   ],
   "source": [
    "lis[0].find_element_by_css_selector('.sub_time.sub_txt').text.strip()"
   ]
  },
  {
   "cell_type": "code",
   "execution_count": 241,
   "id": "1620c7be-979d-4aa6-8caf-e8f265c6d2d9",
   "metadata": {
    "execution": {
     "iopub.execute_input": "2022-04-16T06:40:19.190943Z",
     "iopub.status.busy": "2022-04-16T06:40:19.190349Z",
     "iopub.status.idle": "2022-04-16T06:40:19.232798Z",
     "shell.execute_reply": "2022-04-16T06:40:19.232463Z",
     "shell.execute_reply.started": "2022-04-16T06:40:19.190873Z"
    },
    "tags": []
   },
   "outputs": [
    {
     "name": "stderr",
     "output_type": "stream",
     "text": [
      "/home/miwoos/anaconda3/lib/python3.9/site-packages/selenium/webdriver/remote/webelement.py:484: UserWarning: find_element_by_css_selector is deprecated. Please use find_element(by=By.CSS_SELECTOR, value=css_selector) instead\n",
      "  warnings.warn(\"find_element_by_css_selector is deprecated. Please use find_element(by=By.CSS_SELECTOR, value=css_selector) instead\")\n"
     ]
    },
    {
     "data": {
      "text/plain": [
       "'이름이 염경환 러우식당이라고 치면 나오는게 너무 웃기면서도 염경환씨 식당인줄.. ㅋㅋㅋㅋㅋㅋㅋㅋㅋㅋㅋㅋ 영업시간 10:00 ~ 21:30 (휴무 없음, 전요일 영업시간 동일)...'"
      ]
     },
     "execution_count": 241,
     "metadata": {},
     "output_type": "execute_result"
    }
   ],
   "source": [
    "desc = lis[0].find_element_by_css_selector('li > div > div > div.total_group > div > a > div').text.strip()\n",
    "#li > div > div > div.total_group > div > a > div\n",
    "desc"
   ]
  },
  {
   "cell_type": "code",
   "execution_count": 236,
   "id": "ba21776d-78aa-400a-ae8e-72b9a68513ef",
   "metadata": {
    "execution": {
     "iopub.execute_input": "2022-04-16T06:37:30.226295Z",
     "iopub.status.busy": "2022-04-16T06:37:30.225845Z",
     "iopub.status.idle": "2022-04-16T06:37:30.260337Z",
     "shell.execute_reply": "2022-04-16T06:37:30.259641Z",
     "shell.execute_reply.started": "2022-04-16T06:37:30.226214Z"
    },
    "tags": []
   },
   "outputs": [
    {
     "data": {
      "text/plain": [
       "'https://blog.naver.com/dladidwn8?Redirect=Log&logNo=222345234803'"
      ]
     },
     "execution_count": 236,
     "metadata": {},
     "output_type": "execute_result"
    }
   ],
   "source": [
    "href = lis[0].find_element_by_css_selector('li > div > div > a').get_attribute('href')\n",
    "href"
   ]
  },
  {
   "cell_type": "markdown",
   "id": "3659e1fe-2b68-4754-9c0c-6bdfab36be9d",
   "metadata": {},
   "source": [
    "#### 반복문으로 수집"
   ]
  },
  {
   "cell_type": "code",
   "execution_count": 243,
   "id": "ad1e5464-5239-4271-ade7-78237b2b48ec",
   "metadata": {
    "execution": {
     "iopub.execute_input": "2022-04-16T06:42:02.487647Z",
     "iopub.status.busy": "2022-04-16T06:42:02.487191Z",
     "iopub.status.idle": "2022-04-16T06:42:02.496703Z",
     "shell.execute_reply": "2022-04-16T06:42:02.495277Z",
     "shell.execute_reply.started": "2022-04-16T06:42:02.487584Z"
    },
    "tags": []
   },
   "outputs": [
    {
     "data": {
      "text/plain": [
       "1050"
      ]
     },
     "execution_count": 243,
     "metadata": {},
     "output_type": "execute_result"
    }
   ],
   "source": [
    "len(lis)"
   ]
  },
  {
   "cell_type": "code",
   "execution_count": 247,
   "id": "dca0bf75-3cde-49e9-a147-1face5a0fafb",
   "metadata": {
    "execution": {
     "iopub.execute_input": "2022-04-16T06:44:36.076645Z",
     "iopub.status.busy": "2022-04-16T06:44:36.076224Z",
     "iopub.status.idle": "2022-04-16T06:46:13.192311Z",
     "shell.execute_reply": "2022-04-16T06:46:13.191888Z",
     "shell.execute_reply.started": "2022-04-16T06:44:36.076602Z"
    },
    "tags": []
   },
   "outputs": [
    {
     "name": "stderr",
     "output_type": "stream",
     "text": [
      "1050it [01:37, 10.81it/s]\n"
     ]
    }
   ],
   "source": [
    "lines = []\n",
    "for i,li in tqdm(enumerate(lis)):\n",
    "    title = li.find_element_by_css_selector('li > div > div > a').text.strip()\n",
    "    date = li.find_element_by_css_selector('.sub_time.sub_txt').text.strip()\n",
    "    desc = li.find_element_by_css_selector('li > div > div > div.total_group > div > a > div').text.strip()\n",
    "    href = li.find_element_by_css_selector('li > div > div > a').get_attribute('href')\n",
    "    lines.append([title,date,desc,href])"
   ]
  },
  {
   "cell_type": "code",
   "execution_count": 248,
   "id": "62201c76-a64e-4a27-9953-dc59e24cb6bc",
   "metadata": {
    "execution": {
     "iopub.execute_input": "2022-04-16T06:46:15.173711Z",
     "iopub.status.busy": "2022-04-16T06:46:15.173094Z",
     "iopub.status.idle": "2022-04-16T06:46:15.182944Z",
     "shell.execute_reply": "2022-04-16T06:46:15.181902Z",
     "shell.execute_reply.started": "2022-04-16T06:46:15.173650Z"
    },
    "tags": []
   },
   "outputs": [
    {
     "data": {
      "text/plain": [
       "1050"
      ]
     },
     "execution_count": 248,
     "metadata": {},
     "output_type": "execute_result"
    }
   ],
   "source": [
    "len(lines)"
   ]
  },
  {
   "cell_type": "code",
   "execution_count": 249,
   "id": "5c4658bf-ec62-40df-8af0-01db49923e2a",
   "metadata": {
    "execution": {
     "iopub.execute_input": "2022-04-16T06:46:17.554549Z",
     "iopub.status.busy": "2022-04-16T06:46:17.554115Z",
     "iopub.status.idle": "2022-04-16T06:46:17.566720Z",
     "shell.execute_reply": "2022-04-16T06:46:17.565112Z",
     "shell.execute_reply.started": "2022-04-16T06:46:17.554472Z"
    },
    "tags": []
   },
   "outputs": [],
   "source": [
    "df_염경환 = pd.DataFrame(lines, columns=['제목 날짜 내용 href'.split()])"
   ]
  },
  {
   "cell_type": "code",
   "execution_count": 250,
   "id": "b638c14b-c2e8-4bbc-82b2-129b1c8c1911",
   "metadata": {
    "execution": {
     "iopub.execute_input": "2022-04-16T06:46:18.665237Z",
     "iopub.status.busy": "2022-04-16T06:46:18.664797Z",
     "iopub.status.idle": "2022-04-16T06:46:18.680772Z",
     "shell.execute_reply": "2022-04-16T06:46:18.680459Z",
     "shell.execute_reply.started": "2022-04-16T06:46:18.665193Z"
    },
    "tags": []
   },
   "outputs": [
    {
     "data": {
      "text/html": [
       "<div>\n",
       "<style scoped>\n",
       "    .dataframe tbody tr th:only-of-type {\n",
       "        vertical-align: middle;\n",
       "    }\n",
       "\n",
       "    .dataframe tbody tr th {\n",
       "        vertical-align: top;\n",
       "    }\n",
       "\n",
       "    .dataframe thead tr th {\n",
       "        text-align: left;\n",
       "    }\n",
       "</style>\n",
       "<table border=\"1\" class=\"dataframe\">\n",
       "  <thead>\n",
       "    <tr>\n",
       "      <th></th>\n",
       "      <th>제목</th>\n",
       "      <th>날짜</th>\n",
       "      <th>내용</th>\n",
       "      <th>href</th>\n",
       "    </tr>\n",
       "  </thead>\n",
       "  <tbody>\n",
       "    <tr>\n",
       "      <th>0</th>\n",
       "      <td>하노이 러우 하노이맛집 배틀트립에 나온 염경환 러우식당</td>\n",
       "      <td>2021.05.10.</td>\n",
       "      <td>이름이 염경환 러우식당이라고 치면 나오는게 너무 웃기면서도 염경환씨 식당인줄.. ㅋ...</td>\n",
       "      <td>https://blog.naver.com/dladidwn8?Redirect=Log&amp;...</td>\n",
       "    </tr>\n",
       "    <tr>\n",
       "      <th>1</th>\n",
       "      <td>직업 심수창 아내 염경환 부인 서현정 이혼이유 재혼 라스 696회</td>\n",
       "      <td>2020.11.25.</td>\n",
       "      <td>염경환 나이 키 학력 출생 1970년 12월 16일 (49세) 인천광역시 중구 신체...</td>\n",
       "      <td>https://blog.naver.com/cwmylee?Redirect=Log&amp;lo...</td>\n",
       "    </tr>\n",
       "  </tbody>\n",
       "</table>\n",
       "</div>"
      ],
      "text/plain": [
       "                                     제목           날짜  \\\n",
       "0        하노이 러우 하노이맛집 배틀트립에 나온 염경환 러우식당  2021.05.10.   \n",
       "1  직업 심수창 아내 염경환 부인 서현정 이혼이유 재혼 라스 696회  2020.11.25.   \n",
       "\n",
       "                                                  내용  \\\n",
       "0  이름이 염경환 러우식당이라고 치면 나오는게 너무 웃기면서도 염경환씨 식당인줄.. ㅋ...   \n",
       "1  염경환 나이 키 학력 출생 1970년 12월 16일 (49세) 인천광역시 중구 신체...   \n",
       "\n",
       "                                                href  \n",
       "0  https://blog.naver.com/dladidwn8?Redirect=Log&...  \n",
       "1  https://blog.naver.com/cwmylee?Redirect=Log&lo...  "
      ]
     },
     "execution_count": 250,
     "metadata": {},
     "output_type": "execute_result"
    }
   ],
   "source": [
    "df_염경환.head(2)"
   ]
  },
  {
   "cell_type": "code",
   "execution_count": 253,
   "id": "4b2b7598-80ec-4c5b-ad77-a867a52c07dd",
   "metadata": {
    "execution": {
     "iopub.execute_input": "2022-04-16T06:47:01.381237Z",
     "iopub.status.busy": "2022-04-16T06:47:01.380816Z",
     "iopub.status.idle": "2022-04-16T06:47:01.392638Z",
     "shell.execute_reply": "2022-04-16T06:47:01.391390Z",
     "shell.execute_reply.started": "2022-04-16T06:47:01.381195Z"
    },
    "tags": []
   },
   "outputs": [
    {
     "data": {
      "text/plain": [
       "'https://blog.naver.com/suckj0989?Redirect=Log&logNo=221271909120'"
      ]
     },
     "execution_count": 253,
     "metadata": {},
     "output_type": "execute_result"
    }
   ],
   "source": [
    "df_염경환.loc[100,'href'][0]"
   ]
  },
  {
   "cell_type": "code",
   "execution_count": null,
   "id": "d9532ab5",
   "metadata": {},
   "outputs": [],
   "source": [
    "soup=BeautifulSoup(urllib.request.urlopen(delete_iframe(df_염경환.href[0])).read(),'html.parser')\n",
    "soup.find_all('div',class_='se-module se-module-text')"
   ]
  },
  {
   "cell_type": "code",
   "execution_count": 24,
   "id": "6fedfa86-c56d-4464-b7be-d2313f3a313d",
   "metadata": {
    "execution": {
     "iopub.execute_input": "2022-04-16T06:51:24.753512Z",
     "iopub.status.busy": "2022-04-16T06:51:24.752919Z",
     "iopub.status.idle": "2022-04-16T06:51:24.766068Z",
     "shell.execute_reply": "2022-04-16T06:51:24.765429Z",
     "shell.execute_reply.started": "2022-04-16T06:51:24.753403Z"
    },
    "tags": []
   },
   "outputs": [
    {
     "name": "stderr",
     "output_type": "stream",
     "text": [
      "1050it [12:58,  1.35it/s]\n"
     ]
    }
   ],
   "source": [
    "contentss_염경환 = []\n",
    "for i,link in tqdm(enumerate(df_염경환.href)):\n",
    "    try:\n",
    "        html = urllib.request.urlopen(delete_iframe(link)).read()\n",
    "        soup = BeautifulSoup(html,'html.parser') \n",
    "        contents=  ''\n",
    "        content=list(soup.find_all('div',class_='se-module se-module-text'))\n",
    "        for i,item in enumerate(list(soup.find_all('div',class_='se-module se-module-text'))):\n",
    "            contents += item.text\n",
    "    except :\n",
    "        pass\n",
    "    contentss_염경환.append(contents)"
   ]
  },
  {
   "cell_type": "code",
   "execution_count": 25,
   "id": "652376bf-3458-4a24-b69f-8bcc91ecb184",
   "metadata": {
    "execution": {
     "iopub.execute_input": "2022-04-16T06:51:51.607128Z",
     "iopub.status.busy": "2022-04-16T06:51:51.606626Z",
     "iopub.status.idle": "2022-04-16T06:51:51.616031Z",
     "shell.execute_reply": "2022-04-16T06:51:51.615360Z",
     "shell.execute_reply.started": "2022-04-16T06:51:51.607018Z"
    },
    "tags": []
   },
   "outputs": [
    {
     "data": {
      "text/plain": [
       "1050"
      ]
     },
     "execution_count": 25,
     "metadata": {},
     "output_type": "execute_result"
    }
   ],
   "source": [
    "len(contentss_염경환)"
   ]
  },
  {
   "cell_type": "code",
   "execution_count": 28,
   "id": "247e20e7",
   "metadata": {},
   "outputs": [
    {
     "name": "stdout",
     "output_type": "stream",
     "text": [
      "\n",
      "얼마전 구준엽씨가 두피문신 받고 너무 만족해하는 모습이 유투브와 매스컴에 나오고 나서인지 요즘 새로운 탈모솔루션으로 두피문신에 대한 관심이 더 커지고 있는것 같습니다.\n",
      "\n",
      "​🔳문신/타투를 머리에?? ​문신/타투와 두피문신/SMP는 문신이란 기법에선 같지만 추구하는 결이 좀 다르답니다.​▪️문신/타투는 장르도 너무 많고 타투이스트분들의 스킬이나 추구하는 바도 각각 달라 함부로 일반화는 어렵겠지만 일반적으로 몸에 하는 문신은 색감이 선명하고 예쁘고 멋지고 또 스타일리쉬해야하는게 지향하는 바라면,​▪️두피문신/SMP는 모발에 단면 모근(머리카락의 가장 하단을 잘랐을때 보이는 점)을 미세한 점으로 표현하기에 내 모근과 어우러지고 티가 나지않고 자연스럽다는 점에서 결이 좀 다르다고 생각합니다.​사용되는 니들의 두께도 종류가 많지만 보통문신은 5p, 7p, 9p등을 주로 사용한다면,SMP는 1p, 3p만을 사용하는것이 가장 다른점입니다. ​추가로 설명하자면 1p란 두께 0.35mm 니들 1개, 3p란 두께 0.25mm 니들 3개를 하나처럼 뭉쳐놓은 바늘이라 생각하시면 됩니다.1p는 얇은바늘 1개, 9p는 얇은바늘 9개를 하나에 바늘처럼 사용하는..이렇게요(단, 두께는 종류가 많아 조금씩 다를순 있습니다)​🔳 SMP란? ​Scalp Micro Pigmentation의 약자로 ‘두피/미세한/색소' 즉, 미세한 니들을 이용해 두피에 색소를  주입해 모근을 표현하는 탈모 솔루션입니다.그렇기에 구준엽 염경환씨가 받은 시술이 단순히 문신이라기보단 두피문신/SMP라고 하는게 맞겠지요.​요즘은 타투이스트분들의 스킬이 정말 너무나도 정교해지고 발전됐다는 생각이 듭니다.또 타투머신 니들 잉크 모든부분에서 안정적으로 진화되고 발전되어 왔고 개인적으론 smp전용색소(잉크)가 국내인증 받으면서 안정성면에서도 좋은것 같습니다.​🔳영구? 반영구? 지속기간은?​▪️국내 인증받은 smp전용 색소와 니들 사용으로 안전하고 영구적입니다.단, 시간이 지남에 따라 미세하게 색이 바랄수는 있어 본인에 느낌이나 필요에 따라2~5년 후 리터치가 필요할수도 있습니다.​그렇기에 작업자의 테크닉과 노하우가 매우 중요하겠죠. 어떤 샾에서 누구에게 받느냐가 추후 문제없이 예쁘게 영구적으로 유지되느냐를 결정합니다.탈모로 스트레스받고 마음에 무거움이 있으신분들은 잘 알아보시고 좋은샵에서 시술 받으시길 바랍니다.​🔳 부작용은?​▪️미세하고 아주 얇은 니들로 두피의 진피층 최상단에 색소를 주입하므로 모낭손상이 없고, 작업 후 바로 일상생활이 가능합니다.​🔳 시술기간 ​시술기간은 ▶삭발디자인 1회 작업시간은 3~4시간/ 4~8회▶부위별터치 1회 작업시간은 2~3시간/ 2~5회▶모든작업은 일주일(주1회) 간격으로 진행됩니다.​미세한점을 섬세하게 찍으며 점을 쌓아가고 밀도와 점에 크기로, 두피에 내 모근을 자연스럽게 표현해야하기에 주 1회씩 시술합니다.​마지막으로 궁금하신분들위해 시술영상 첨부합니다:)​\n",
      "\n",
      "​#두피문신#은평두피문신#은평두피타투#삭발#삭발디자인#smp#은평smp#연신내두피문신#일산두피문신#고양두피문신#헤어라인#M자탈모#구준엽머리#구준엽두피문신#구준엽머리문신#염경환#염경환두피문신\n",
      "\n"
     ]
    }
   ],
   "source": [
    "print(contentss_염경환[5])"
   ]
  },
  {
   "cell_type": "code",
   "execution_count": 29,
   "id": "4009572e",
   "metadata": {},
   "outputs": [],
   "source": [
    "df_염경환['본문내용'] = contentss_염경환"
   ]
  },
  {
   "cell_type": "code",
   "execution_count": 30,
   "id": "e4214a55",
   "metadata": {},
   "outputs": [
    {
     "data": {
      "text/html": [
       "<div>\n",
       "<style scoped>\n",
       "    .dataframe tbody tr th:only-of-type {\n",
       "        vertical-align: middle;\n",
       "    }\n",
       "\n",
       "    .dataframe tbody tr th {\n",
       "        vertical-align: top;\n",
       "    }\n",
       "\n",
       "    .dataframe thead th {\n",
       "        text-align: right;\n",
       "    }\n",
       "</style>\n",
       "<table border=\"1\" class=\"dataframe\">\n",
       "  <thead>\n",
       "    <tr style=\"text-align: right;\">\n",
       "      <th></th>\n",
       "      <th>제목</th>\n",
       "      <th>날짜</th>\n",
       "      <th>내용</th>\n",
       "      <th>href</th>\n",
       "      <th>본문내용</th>\n",
       "    </tr>\n",
       "  </thead>\n",
       "  <tbody>\n",
       "    <tr>\n",
       "      <th>0</th>\n",
       "      <td>하노이 러우 하노이맛집 배틀트립에 나온 염경환 러우식당</td>\n",
       "      <td>2021.05.10.</td>\n",
       "      <td>이름이 염경환 러우식당이라고 치면 나오는게 너무 웃기면서도 염경환씨 식당인줄.. ㅋ...</td>\n",
       "      <td>https://blog.naver.com/dladidwn8?Redirect=Log&amp;...</td>\n",
       "      <td>\\n​​여행하는 동안짠내투어나 배틀트립원나잇푸드트립 등.. 여행프로그램을 섭렵하는 ...</td>\n",
       "    </tr>\n",
       "    <tr>\n",
       "      <th>1</th>\n",
       "      <td>직업 심수창 아내 염경환 부인 서현정 이혼이유 재혼 라스 696회</td>\n",
       "      <td>2020.11.25.</td>\n",
       "      <td>염경환 나이 키 학력 출생 1970년 12월 16일 (49세) 인천광역시 중구 신체...</td>\n",
       "      <td>https://blog.naver.com/cwmylee?Redirect=Log&amp;lo...</td>\n",
       "      <td>\\n​​\\n\\n세인트루이스 카디널스 No.33김광현 나이 키 학력 연봉 아내 이상희...</td>\n",
       "    </tr>\n",
       "  </tbody>\n",
       "</table>\n",
       "</div>"
      ],
      "text/plain": [
       "                                     제목           날짜  \\\n",
       "0        하노이 러우 하노이맛집 배틀트립에 나온 염경환 러우식당  2021.05.10.   \n",
       "1  직업 심수창 아내 염경환 부인 서현정 이혼이유 재혼 라스 696회  2020.11.25.   \n",
       "\n",
       "                                                  내용  \\\n",
       "0  이름이 염경환 러우식당이라고 치면 나오는게 너무 웃기면서도 염경환씨 식당인줄.. ㅋ...   \n",
       "1  염경환 나이 키 학력 출생 1970년 12월 16일 (49세) 인천광역시 중구 신체...   \n",
       "\n",
       "                                                href  \\\n",
       "0  https://blog.naver.com/dladidwn8?Redirect=Log&...   \n",
       "1  https://blog.naver.com/cwmylee?Redirect=Log&lo...   \n",
       "\n",
       "                                                본문내용  \n",
       "0  \\n​​여행하는 동안짠내투어나 배틀트립원나잇푸드트립 등.. 여행프로그램을 섭렵하는 ...  \n",
       "1  \\n​​\\n\\n세인트루이스 카디널스 No.33김광현 나이 키 학력 연봉 아내 이상희...  "
      ]
     },
     "execution_count": 30,
     "metadata": {},
     "output_type": "execute_result"
    }
   ],
   "source": [
    "df_염경환.head(2)"
   ]
  },
  {
   "cell_type": "code",
   "execution_count": 288,
   "id": "7b2dde46-28c4-44c9-b5ea-ce6a1077ca67",
   "metadata": {
    "execution": {
     "iopub.execute_input": "2022-04-16T06:54:01.015297Z",
     "iopub.status.busy": "2022-04-16T06:54:01.015081Z",
     "iopub.status.idle": "2022-04-16T06:54:01.020045Z",
     "shell.execute_reply": "2022-04-16T06:54:01.019652Z",
     "shell.execute_reply.started": "2022-04-16T06:54:01.015250Z"
    },
    "tags": []
   },
   "outputs": [
    {
     "name": "stdout",
     "output_type": "stream",
     "text": [
      "/home/miwoos/WorkSpace/GoogleDrive/Data/내일프로젝트(홀푸드코리아)\n"
     ]
    }
   ],
   "source": [
    "cd ~/WorkSpace/GoogleDrive/Data/내일프로젝트(홀푸드코리아)"
   ]
  },
  {
   "cell_type": "code",
   "execution_count": 31,
   "id": "98244331",
   "metadata": {},
   "outputs": [
    {
     "data": {
      "text/plain": [
       "'G:\\\\내 드라이브\\\\Data\\\\내일프로젝트(홀푸드코리아)'"
      ]
     },
     "execution_count": 31,
     "metadata": {},
     "output_type": "execute_result"
    }
   ],
   "source": [
    "pwd"
   ]
  },
  {
   "cell_type": "code",
   "execution_count": 32,
   "id": "ae1252c5-9f04-4ee7-8625-adbc893cd901",
   "metadata": {
    "execution": {
     "iopub.execute_input": "2022-04-16T06:54:24.773312Z",
     "iopub.status.busy": "2022-04-16T06:54:24.772899Z",
     "iopub.status.idle": "2022-04-16T06:54:28.565034Z",
     "shell.execute_reply": "2022-04-16T06:54:28.563148Z",
     "shell.execute_reply.started": "2022-04-16T06:54:24.773240Z"
    },
    "tags": []
   },
   "outputs": [],
   "source": [
    "df_염경환.to_csv('염경환관련데이터.csv',index=False)"
   ]
  },
  {
   "cell_type": "markdown",
   "id": "86814d2b-1693-4866-b406-19dafdd4f51e",
   "metadata": {},
   "source": [
    "## 조정석"
   ]
  },
  {
   "cell_type": "code",
   "execution_count": 36,
   "id": "1cf97c15-59e6-4d24-95fa-59b196b2c803",
   "metadata": {
    "execution": {
     "iopub.execute_input": "2022-04-16T05:10:35.772066Z",
     "iopub.status.busy": "2022-04-16T05:10:35.771503Z",
     "iopub.status.idle": "2022-04-16T05:10:35.776850Z",
     "shell.execute_reply": "2022-04-16T05:10:35.776521Z",
     "shell.execute_reply.started": "2022-04-16T05:10:35.771994Z"
    },
    "tags": []
   },
   "outputs": [],
   "source": [
    "url_조정석 = 'https://search.naver.com/search.naver?query=%EC%A1%B0%EC%A0%95%EC%84%9D&nso=&where=blog&sm=tab_opt'"
   ]
  },
  {
   "cell_type": "code",
   "execution_count": 58,
   "id": "1d75c7f1-690c-4f19-a129-f28d1d83c3a6",
   "metadata": {},
   "outputs": [
    {
     "name": "stderr",
     "output_type": "stream",
     "text": [
      "C:\\Users\\alsdn\\AppData\\Local\\Temp/ipykernel_21472/1418382889.py:1: DeprecationWarning: find_elements_by_css_selector is deprecated. Please use find_elements(by=By.CSS_SELECTOR, value=css_selector) instead\n",
      "  lis = driver.find_elements_by_css_selector('#_view_review_body_html > div > more-contents > div > ul > li')\n"
     ]
    },
    {
     "data": {
      "text/plain": [
       "1050"
      ]
     },
     "execution_count": 58,
     "metadata": {},
     "output_type": "execute_result"
    }
   ],
   "source": [
    "lis = driver.find_elements_by_css_selector('#_view_review_body_html > div > more-contents > div > ul > li')\n",
    "len(lis)"
   ]
  },
  {
   "cell_type": "code",
   "execution_count": 59,
   "id": "e9f3a27b",
   "metadata": {},
   "outputs": [
    {
     "name": "stderr",
     "output_type": "stream",
     "text": [
      "0it [00:00, ?it/s]C:\\Users\\alsdn\\anaconda3\\lib\\site-packages\\selenium\\webdriver\\remote\\webelement.py:484: UserWarning: find_element_by_css_selector is deprecated. Please use find_element(by=By.CSS_SELECTOR, value=css_selector) instead\n",
      "  warnings.warn(\"find_element_by_css_selector is deprecated. Please use find_element(by=By.CSS_SELECTOR, value=css_selector) instead\")\n",
      "1050it [01:15, 13.87it/s]\n"
     ]
    }
   ],
   "source": [
    "lines = []\n",
    "for i,li in tqdm(enumerate(lis)):\n",
    "    title = li.find_element_by_css_selector('li > div > div > a').text.strip()\n",
    "    date = li.find_element_by_css_selector('.sub_time.sub_txt').text.strip()\n",
    "    desc = li.find_element_by_css_selector('li > div > div > div.total_group > div > a > div').text.strip()\n",
    "    href = li.find_element_by_css_selector('li > div > div > a').get_attribute('href')\n",
    "    lines.append([title,date,desc,href])"
   ]
  },
  {
   "cell_type": "code",
   "execution_count": null,
   "id": "2a6a2b6b",
   "metadata": {},
   "outputs": [],
   "source": []
  },
  {
   "cell_type": "code",
   "execution_count": 60,
   "id": "5cc3e555",
   "metadata": {},
   "outputs": [],
   "source": [
    "df_조정석 = pd.DataFrame(lines, columns=['제목 날짜 내용 href'.split()])"
   ]
  },
  {
   "cell_type": "code",
   "execution_count": 62,
   "id": "7104e420",
   "metadata": {},
   "outputs": [
    {
     "data": {
      "text/html": [
       "<div>\n",
       "<style scoped>\n",
       "    .dataframe tbody tr th:only-of-type {\n",
       "        vertical-align: middle;\n",
       "    }\n",
       "\n",
       "    .dataframe tbody tr th {\n",
       "        vertical-align: top;\n",
       "    }\n",
       "\n",
       "    .dataframe thead tr th {\n",
       "        text-align: left;\n",
       "    }\n",
       "</style>\n",
       "<table border=\"1\" class=\"dataframe\">\n",
       "  <thead>\n",
       "    <tr>\n",
       "      <th></th>\n",
       "      <th>제목</th>\n",
       "      <th>날짜</th>\n",
       "      <th>내용</th>\n",
       "      <th>href</th>\n",
       "    </tr>\n",
       "  </thead>\n",
       "  <tbody>\n",
       "    <tr>\n",
       "      <th>0</th>\n",
       "      <td>조정석 자담치킨 맵슐랭 생그라나 두가지 먹어본 후기</td>\n",
       "      <td>2020.12.31.</td>\n",
       "      <td>특히 조정석이 광고 모델이여서 더 호감이 극대화 되기도 했네요. 내가 좋아하는 배우...</td>\n",
       "      <td>https://blog.naver.com/00sweetlove?Redirect=Lo...</td>\n",
       "    </tr>\n",
       "    <tr>\n",
       "      <th>1</th>\n",
       "      <td>에어데이즈 KF94 조정석 마스크 내돈내산 찐후기!</td>\n",
       "      <td>2021.09.03.</td>\n",
       "      <td>조정석 마스크 로 유명한 에어데이즈 KF94 를 #내돈내산 으로 구매해주었는데요.....</td>\n",
       "      <td>https://blog.naver.com/qmfosej?Redirect=Log&amp;lo...</td>\n",
       "    </tr>\n",
       "    <tr>\n",
       "      <th>2</th>\n",
       "      <td>조정석 마스크(에어데이즈 KF94 새부리형 마스크) 내돈내산...</td>\n",
       "      <td>2022.03.09.</td>\n",
       "      <td>일명 조정석 마스크로 불리면서 인터넷에서 평이 좋길래 한번 구입해 봤어요 여기서는 ...</td>\n",
       "      <td>https://blog.naver.com/1115hq?Redirect=Log&amp;log...</td>\n",
       "    </tr>\n",
       "    <tr>\n",
       "      <th>3</th>\n",
       "      <td>조정석 새부리형 마스크 에어데이즈 마스크 대형, 중형, 컬러...</td>\n",
       "      <td>2022.01.10.</td>\n",
       "      <td>광고를 통해 많이 접하게 된 조정석 마스크가 눈에 들어오더라고요! 특히나 저희......</td>\n",
       "      <td>https://blog.naver.com/gtedhsdo?Redirect=Log&amp;l...</td>\n",
       "    </tr>\n",
       "    <tr>\n",
       "      <th>4</th>\n",
       "      <td>백종원 오삼불고기 슬기로운 산촌생활 조정석 오삼불고기</td>\n",
       "      <td>2021.11.09.</td>\n",
       "      <td>오삼불고기로 조정석 씨가 만드셨더라고요. 이름하여 #조정석오삼불고기~~!!! 여기에...</td>\n",
       "      <td>https://blog.naver.com/kimhy004?Redirect=Log&amp;l...</td>\n",
       "    </tr>\n",
       "    <tr>\n",
       "      <th>...</th>\n",
       "      <td>...</td>\n",
       "      <td>...</td>\n",
       "      <td>...</td>\n",
       "      <td>...</td>\n",
       "    </tr>\n",
       "    <tr>\n",
       "      <th>1045</th>\n",
       "      <td>질투의화신 22화 조정석 댄스!! 배해선과 박진주도 함께해요~</td>\n",
       "      <td>2016.11.04.</td>\n",
       "      <td>2호가 울었어요~ 흙흙 멋쟁이 조정석이 공효진을 위해서... 자신이 유방암 환자임을...</td>\n",
       "      <td>https://blog.naver.com/jshong0220?Redirect=Log...</td>\n",
       "    </tr>\n",
       "    <tr>\n",
       "      <th>1046</th>\n",
       "      <td>드라마 슬기로운 의사생활 첫방 유연석 정경호 조정석이라니!</td>\n",
       "      <td>2020.03.12.</td>\n",
       "      <td>응답하라 시리즈 신원호 연출, 이우정 극본 유연석, 정경호, 조정석, 김대명... ...</td>\n",
       "      <td>https://blog.naver.com/waterbluey?Redirect=Log...</td>\n",
       "    </tr>\n",
       "    <tr>\n",
       "      <th>1047</th>\n",
       "      <td>인생술집 조정석 패션 타임옴므 남자 트렌치코트</td>\n",
       "      <td>2018.03.06.</td>\n",
       "      <td>인생술집 조정석 패션 타임옴므 남자 트렌치코트 Edited by TAESIGI 실제...</td>\n",
       "      <td>https://blog.naver.com/taesigi_?Redirect=Log&amp;l...</td>\n",
       "    </tr>\n",
       "    <tr>\n",
       "      <th>1048</th>\n",
       "      <td>조정석 한밤의TV연예(160127), 헤드윅 4인방 1</td>\n",
       "      <td>2016.01.28.</td>\n",
       "      <td>4인방~ 조정석 조승우 윤도현 정문성 너무나 완벽하고 멋진 조합 방송도 얼마나 재미...</td>\n",
       "      <td>https://blog.naver.com/nursebae?Redirect=Log&amp;l...</td>\n",
       "    </tr>\n",
       "    <tr>\n",
       "      <th>1049</th>\n",
       "      <td>사람들에게 생기는 경우가 있다] 조정석 정경호 김대명 전미도</td>\n",
       "      <td>2021.07.04.</td>\n",
       "      <td>같은 시간대에 이익준 (조정석)에게도 마음이 아픈 상황이 발생하죠 딸들이 간이식을 ...</td>\n",
       "      <td>https://blog.naver.com/rkflrl789?Redirect=Log&amp;...</td>\n",
       "    </tr>\n",
       "  </tbody>\n",
       "</table>\n",
       "<p>1050 rows × 4 columns</p>\n",
       "</div>"
      ],
      "text/plain": [
       "                                        제목           날짜  \\\n",
       "0             조정석 자담치킨 맵슐랭 생그라나 두가지 먹어본 후기  2020.12.31.   \n",
       "1             에어데이즈 KF94 조정석 마스크 내돈내산 찐후기!  2021.09.03.   \n",
       "2     조정석 마스크(에어데이즈 KF94 새부리형 마스크) 내돈내산...  2022.03.09.   \n",
       "3     조정석 새부리형 마스크 에어데이즈 마스크 대형, 중형, 컬러...  2022.01.10.   \n",
       "4            백종원 오삼불고기 슬기로운 산촌생활 조정석 오삼불고기  2021.11.09.   \n",
       "...                                    ...          ...   \n",
       "1045    질투의화신 22화 조정석 댄스!! 배해선과 박진주도 함께해요~  2016.11.04.   \n",
       "1046      드라마 슬기로운 의사생활 첫방 유연석 정경호 조정석이라니!  2020.03.12.   \n",
       "1047             인생술집 조정석 패션 타임옴므 남자 트렌치코트  2018.03.06.   \n",
       "1048        조정석 한밤의TV연예(160127), 헤드윅 4인방 1  2016.01.28.   \n",
       "1049     사람들에게 생기는 경우가 있다] 조정석 정경호 김대명 전미도  2021.07.04.   \n",
       "\n",
       "                                                     내용  \\\n",
       "0     특히 조정석이 광고 모델이여서 더 호감이 극대화 되기도 했네요. 내가 좋아하는 배우...   \n",
       "1     조정석 마스크 로 유명한 에어데이즈 KF94 를 #내돈내산 으로 구매해주었는데요.....   \n",
       "2     일명 조정석 마스크로 불리면서 인터넷에서 평이 좋길래 한번 구입해 봤어요 여기서는 ...   \n",
       "3     광고를 통해 많이 접하게 된 조정석 마스크가 눈에 들어오더라고요! 특히나 저희......   \n",
       "4     오삼불고기로 조정석 씨가 만드셨더라고요. 이름하여 #조정석오삼불고기~~!!! 여기에...   \n",
       "...                                                 ...   \n",
       "1045  2호가 울었어요~ 흙흙 멋쟁이 조정석이 공효진을 위해서... 자신이 유방암 환자임을...   \n",
       "1046  응답하라 시리즈 신원호 연출, 이우정 극본 유연석, 정경호, 조정석, 김대명... ...   \n",
       "1047  인생술집 조정석 패션 타임옴므 남자 트렌치코트 Edited by TAESIGI 실제...   \n",
       "1048  4인방~ 조정석 조승우 윤도현 정문성 너무나 완벽하고 멋진 조합 방송도 얼마나 재미...   \n",
       "1049  같은 시간대에 이익준 (조정석)에게도 마음이 아픈 상황이 발생하죠 딸들이 간이식을 ...   \n",
       "\n",
       "                                                   href  \n",
       "0     https://blog.naver.com/00sweetlove?Redirect=Lo...  \n",
       "1     https://blog.naver.com/qmfosej?Redirect=Log&lo...  \n",
       "2     https://blog.naver.com/1115hq?Redirect=Log&log...  \n",
       "3     https://blog.naver.com/gtedhsdo?Redirect=Log&l...  \n",
       "4     https://blog.naver.com/kimhy004?Redirect=Log&l...  \n",
       "...                                                 ...  \n",
       "1045  https://blog.naver.com/jshong0220?Redirect=Log...  \n",
       "1046  https://blog.naver.com/waterbluey?Redirect=Log...  \n",
       "1047  https://blog.naver.com/taesigi_?Redirect=Log&l...  \n",
       "1048  https://blog.naver.com/nursebae?Redirect=Log&l...  \n",
       "1049  https://blog.naver.com/rkflrl789?Redirect=Log&...  \n",
       "\n",
       "[1050 rows x 4 columns]"
      ]
     },
     "execution_count": 62,
     "metadata": {},
     "output_type": "execute_result"
    }
   ],
   "source": [
    "df_조정석"
   ]
  },
  {
   "cell_type": "code",
   "execution_count": 63,
   "id": "a5bd2ffb",
   "metadata": {},
   "outputs": [
    {
     "data": {
      "text/html": [
       "<div>\n",
       "<style scoped>\n",
       "    .dataframe tbody tr th:only-of-type {\n",
       "        vertical-align: middle;\n",
       "    }\n",
       "\n",
       "    .dataframe tbody tr th {\n",
       "        vertical-align: top;\n",
       "    }\n",
       "\n",
       "    .dataframe thead tr th {\n",
       "        text-align: left;\n",
       "    }\n",
       "</style>\n",
       "<table border=\"1\" class=\"dataframe\">\n",
       "  <thead>\n",
       "    <tr>\n",
       "      <th></th>\n",
       "      <th>제목</th>\n",
       "      <th>날짜</th>\n",
       "      <th>내용</th>\n",
       "      <th>href</th>\n",
       "    </tr>\n",
       "  </thead>\n",
       "  <tbody>\n",
       "    <tr>\n",
       "      <th>0</th>\n",
       "      <td>조정석 자담치킨 맵슐랭 생그라나 두가지 먹어본 후기</td>\n",
       "      <td>2020.12.31.</td>\n",
       "      <td>특히 조정석이 광고 모델이여서 더 호감이 극대화 되기도 했네요. 내가 좋아하는 배우...</td>\n",
       "      <td>https://blog.naver.com/00sweetlove?Redirect=Lo...</td>\n",
       "    </tr>\n",
       "    <tr>\n",
       "      <th>1</th>\n",
       "      <td>에어데이즈 KF94 조정석 마스크 내돈내산 찐후기!</td>\n",
       "      <td>2021.09.03.</td>\n",
       "      <td>조정석 마스크 로 유명한 에어데이즈 KF94 를 #내돈내산 으로 구매해주었는데요.....</td>\n",
       "      <td>https://blog.naver.com/qmfosej?Redirect=Log&amp;lo...</td>\n",
       "    </tr>\n",
       "  </tbody>\n",
       "</table>\n",
       "</div>"
      ],
      "text/plain": [
       "                             제목           날짜  \\\n",
       "0  조정석 자담치킨 맵슐랭 생그라나 두가지 먹어본 후기  2020.12.31.   \n",
       "1  에어데이즈 KF94 조정석 마스크 내돈내산 찐후기!  2021.09.03.   \n",
       "\n",
       "                                                  내용  \\\n",
       "0  특히 조정석이 광고 모델이여서 더 호감이 극대화 되기도 했네요. 내가 좋아하는 배우...   \n",
       "1  조정석 마스크 로 유명한 에어데이즈 KF94 를 #내돈내산 으로 구매해주었는데요.....   \n",
       "\n",
       "                                                href  \n",
       "0  https://blog.naver.com/00sweetlove?Redirect=Lo...  \n",
       "1  https://blog.naver.com/qmfosej?Redirect=Log&lo...  "
      ]
     },
     "execution_count": 63,
     "metadata": {},
     "output_type": "execute_result"
    }
   ],
   "source": [
    "df_조정석.head(2)"
   ]
  },
  {
   "cell_type": "code",
   "execution_count": 56,
   "id": "3d1af9ca",
   "metadata": {},
   "outputs": [
    {
     "data": {
      "text/plain": [
       "'https://blog.naver.com/1115hq?Redirect=Log&logNo=222667940338'"
      ]
     },
     "execution_count": 56,
     "metadata": {},
     "output_type": "execute_result"
    }
   ],
   "source": [
    "df_조정석.href.loc[][0]"
   ]
  },
  {
   "cell_type": "code",
   "execution_count": 66,
   "id": "a02b193e",
   "metadata": {},
   "outputs": [
    {
     "name": "stderr",
     "output_type": "stream",
     "text": [
      "100%|██████████| 1050/1050 [13:37<00:00,  1.28it/s]\n"
     ]
    }
   ],
   "source": [
    "contentss_조정석 = []\n",
    "for i in tqdm(range(len(df_조정석.href))):\n",
    "    try:\n",
    "        html = urllib.request.urlopen(delete_iframe(df_조정석.href.loc[i][0])).read()\n",
    "        soup = BeautifulSoup(html,'html.parser') \n",
    "        contents=  ''\n",
    "        content=list(soup.find_all('div',class_='se-module se-module-text'))\n",
    "        for i,item in enumerate(list(soup.find_all('div',class_='se-module se-module-text'))):\n",
    "            contents += item.text\n",
    "    except :\n",
    "        pass\n",
    "    contentss_조정석.append(contents)"
   ]
  },
  {
   "cell_type": "code",
   "execution_count": 67,
   "id": "a7cb4535",
   "metadata": {},
   "outputs": [
    {
     "data": {
      "text/plain": [
       "'\\n\\u200b\\n\\n매일 집에서 삼시세끼 먹으려니 요즘 고민중 하나가 뭐먹을까? 예요. 아마 많은 주부님들도 저와 같지 않나 싶어요. 아침은 대충 빵이나 과일로 떼우고 점심은 간단하게 밥과 국 찌개를 끓여먹고 저녁은 고기 구워먹거나 배달 시켜먹을때가 참 많습니다. 배달음식중에는 배달의 꽃 치킨을 자주 시켜 먹으면서 간단하게 맥주 한잔 하며 영화나 예능 프로 보는게 즐거움 중 하나예요. \\u200b\\n\\n\\u200b\\u200b요즘 티비 광고에 참 많이 나오는 꼭한번 먹어봐야겠다는 생각을 했어요. 특히 조정석이 광고 모델이여서 더 호감이 극대화 되기도 했네요. 내가 좋아하는 배우님 조정석 광고 보고 예전에 야나두 하고 한달도 못하고 기간끝난 건 안비밀!! ㅋㅋ \\u200b자담 맵슐랭 치킨 이름 한번 잘 지었네요. 맵고 단맛의 맛은 어떨까 궁금했습니다. 그런데 맵기가 8살 딸은 먹기 힘들것 같더라고요. \\u200b\\u200b\\n\\n\\u200b\\u200b신제품 출시 한지 얼마 안된 자담치킨 생그라나  또한엄청 나오더라고요. 우리딸은 피자도 고르곤졸라만 먹어요. 치즈와 꿀의 조합때문에요. 이거 보는 순간 이 메뉴는 내딸을 위해 만들어졌구나 싶었어요. 꿀과 고메버터 치즈의 마무리! 진짜 핵 조합이구나 싶었네요. \\u200b\\n\\n\\u200b\\n\\n\\u200b\\n\\n\\u200b\\u200b저는 배달의민족에서 주문을 했습니다. 가까운 지점을 선택하니 대표메뉴와 금액이 쭈욱 나오더라고요. 메뉴들중에 2가지 메뉴를 시킬수 있는것과 3반세트 메뉴라고 세가지맛을 한번에 시킬수 있는것도 있더라고요. 맵슐랭반, 핫후라이드양념반, 파닭반 세트가 금액도 그렇고 구성도 그렇고 살짝 고민을 하게 만들었지만 먹고 싶었던 자담치킨 생그라나는 없어서 그냥 각각 시키고 아이가 먹기 좋게 순살\\u200b\\u200b로 시켰어요. \\n\\n\\u200b\\n\\n\\u200b\\u200b맵슐랭치킨 19000원, 생그라나 순살치킨 2만원, 배달비 3천원까지 하니 4만2천원이 나왔네요. 포장하면 2천원 할인 되지만 편안하게 집앞까지 배달하는걸로 시켰습니다. 서비스 콜라와 스프라이트와 함께 배달 예상시간은 45분에서 50분 나왔는데 35분정도만에 도착했습니다. \\u200b\\u200b\\n\\n\\u200b\\n\\n\\u200b\\u200b외식을 못하고 배달을 많이 먹게 되니 배민에서 좋은 이벤트를 하네요. 12월29일부터 예산 소진시까지라고 하니 배달 많이 시켜먹으시는 분들 참고 하세요.!! \\u200b\\u200b\\n\\n\\u200b\\u200b자담치킨은 건강과 맛을 위해 동물복지 인증한 닭을 이용한다고 하는 것도 마음에 들었습니다. 사실 항생제로 키운 닭을 과다 복용할때 문제가 생긴다는 점은 매스컴 통해 많이 들어서 신경쓰였는데 좋은 닭으로 건강한 먹거리를 제공한다니 믿음이 생기더라고요.물티슈와 무와 함께 구성이 되어 있습니다. 브러셔도 넣어주셨으면 참 좋았을텐데 그런건 안넣어주셨더라고요. \\u200b\\u200b\\n\\n\\u200b\\u200b\\n\\n\\u200b\\u200b너무 배고프니 예쁘게 꾸미거나 하지 않고 현실 그대로 찍었습니다. 위에 청양고추가 솔솔솔 뿌려져 있고 검정 깨소금까지 솔솔 뿌려져 있으니 맛있어 보이더라고요. 윤기도 좔좔 흐르더라고요. \\n\\n\\u200b\\n\\n\\u200b\\u200b냄새도 일단 마음에 들었어요. 같이 온 피클에 오이와 당근까지 섞여 있으니 뭔가 더 신경쓴 느낌이 들었네요. 사실 치킨무 재료가 빙초산이 들어 있어 여러가지 안좋다고 하던데, 여기는 빙초산, 사카린, 방무제등을 이용하지 않고 누구나 먹을수 있는 안심 먹거리라고 하더라고요. 그래서 그런지 일반 먹었던 시큼한 무와는 다르게 상큼한 무맛이였어요. \\n\\n\\u200b\\u200b\\n\\n\\u200b\\u200b광고에서 조정석이 들고 있을때에는 치킨은 마요소스가 뿌려져 있게 보였는데 치킨안으로 스며서 그런지 보이지는 않았습니다. \\u200b\\u200b\\n\\n\\u200b한입 먹어보니 정말 부드러운 맛이 먼저 입안에 쏵 퍼지더라고요. 씹다 보니 뒷맛은 청량고추 맛으로 확 매운맛이 느껴진다고 하면 될까요? \\u200b\\u200b\\n\\n\\u200b\\u200b사실 저는 매운걸 아주 잘 먹는 편은 아니지만 기분 좋게 매움이 느껴졌습니다. 매운것 좋아하는 우리 신랑은 요거 괜찮다! 라는 말을 하더라고요. 블러거인 우리 신랑도 사진을 열심히 찍더라고요. \\u200b\\u200b\\n\\n\\u200b\\u200b치킨과 맥주는 환상 조합이지만 또 건강에는 좋지 않다고 하잖아요. 그래도 맥주가 확 땡기는 맛이예요. 매운기를 탄산으로 잡고 무하나 먹어주니 딱이로구나~ 라고 말하고 싶어요. \\n\\n\\u200b\\u200b\\n\\n\\u200b\\u200b마요소스와 청양고추의 달고 맵고 이런 맵단치킨의 조화 꽤나 만족 스러운 맛이였습니다. \\u200b\\u200b\\u200b\\n\\n\\u200b\\u200b조정석은 벽이 느껴진다. 완벽! 이런 말을 하죠.  마요네즈로 충분히 매운것을 잡으니 매운것 아주 못먹는 사람 외에는 먹을 수 있고요. 살짝 꼬소한 맛도 느껴지는 맛 조화 괜찮습니다. 8살 내딸 아이는 못먹을 맛이긴 해요. 아이와 함께 먹어야한다 하시면 패스해주세요! \\n\\n\\u200b\\n\\n\\u200b\\u200b\\n\\n\\u200b\\u200b배달 왔을때, 처음 우리딸 이런말을 했어요. \" 엄마 냄새가 이상해 \" ㅋㅋㅋㅋㅋ 그 냄새의 원인은 바로 생그라나 치킨이예요. 꿀, 치즈 모두 좋아하나 치즈 냄새는 썩 땡기지 않은것은 사실이잖아요. 치즈가 녹은 냄새은 살짝 꼬릿(?) 한 냄새랄까요? 아무튼 저는 괜찮은데, 신랑과 딸은 일단 냄새에서는 좋지 않다라는 말을 했습니다. \\u200b\\n\\n\\u200b\\n\\n\\u200b\\u200b순살치킨에는 이렇게 떡이 있고 닭다리살로만 만들었다고 해서 더욱 좋았는데요. 떡도 사실 아이와 신랑은 싫어해요. 저는 떡꼬치도 좋아하고 호떡, 찰떡, 떡볶이등 다 좋아하는데 나 외에는 떡도 싫어해요. 먼저 떡하나 먹어보았는데요. 떡은 살짝 딱딱했어요. 어떤 집은 튀겨도 부드럽던데, 떡은 살짝 별로였어요. 근데 떡 비율이 많았어요. \\u200b\\u200b\\n\\n\\u200b\\u200b아이에게는 작게 썰어서 주니 몇개 집어 먹네요. 완전 잘 먹지는 않고 의무감으로 좀 먹었습니다. \\u200b\\u200b\\n\\n\\u200b\\u200b신랑은 내 스타일은 아닌데, 이러면서 맵슐랭을 차지 하더라고요. 저는 워낙 치즈 꼬릿한것도 좋아하는데 요게 그런 리얼 치즈맛이 잘 표현 되었더라고요. 그러면서 꿀이 섞여 달콤해요. 그리고 견과류등도 솔솔 뿌려져서 고소 하고 괜찮더라고요. 같이 온 소스를 찍어먹어보니 매콤까지 했습니다. 고소하고 달콤하고 식감도 괜찮았어요. 처음 뿌링클 먹었을때의 느낌도 들고 허니버터칩 느낌의 업그레이드된 맛 같기도 했습니다. \\n\\n\\u200b\\u200b\\n\\n\\u200b\\u200b조금씩 먹고 싶은거 덜어서 먹기로 했네요. 맵슐랭은 호불호 많지 않을 맛이고 생그라나는 호불호가 갈릴 맛이더라고요. \\u200b신랑은 별로라고 했고, 저는 맛있었으니까요. 초딩 입맛에는 진짜 잘 맞을것 같아요. 치킨 좋아하는 초등학생 조카들 생각이 나더라고요. \\u200b이웃님들 선택은 어떻게 하실건가요? \\u200b\\n\\n\\u200b\\n\\n\\u200b\\u200b신랑은 거의 생그라나는 안먹어서 제가 먹다 남았어요. 저는 또 다음날 식은닭 먹기도 참 좋아하거든요. 치킨이 식으면 좀더 고소하면서 깊은맛이 나는것 같아요. 식은닭 점심으로 먹을까 하다가 신랑이랑 같이 먹기 위해 치킨마요 해서 먹었답니다. 음식 못하는 저지만 남은 치킨으로 치킨마요 하니 먹을만하더라고요. 아주 남김없이 잘 먹었네요. 치킨 두마리 사서 다음날까지 두끼 먹은 후기 였습니다. \\u200b\\n\\n\\u200b\\u200b\\n\\n\\u200b\\n\\n\\u200b\\n'"
      ]
     },
     "execution_count": 67,
     "metadata": {},
     "output_type": "execute_result"
    }
   ],
   "source": [
    "contentss_조정석[0]"
   ]
  },
  {
   "cell_type": "code",
   "execution_count": 68,
   "id": "63eab577",
   "metadata": {},
   "outputs": [],
   "source": [
    "df_조정석['본문내용'] = contentss_조정석"
   ]
  },
  {
   "cell_type": "code",
   "execution_count": 69,
   "id": "28a70189",
   "metadata": {},
   "outputs": [
    {
     "data": {
      "text/plain": [
       "'G:\\\\내 드라이브\\\\Data\\\\내일프로젝트(홀푸드코리아)'"
      ]
     },
     "execution_count": 69,
     "metadata": {},
     "output_type": "execute_result"
    }
   ],
   "source": [
    "pwd"
   ]
  },
  {
   "cell_type": "code",
   "execution_count": 70,
   "id": "c0bfe76b",
   "metadata": {},
   "outputs": [],
   "source": [
    "df_조정석.to_csv('조정석관련데이터.csv',index=False)"
   ]
  },
  {
   "cell_type": "code",
   "execution_count": 75,
   "id": "1d2e433b",
   "metadata": {},
   "outputs": [
    {
     "data": {
      "text/plain": [
       "'https://blog.naver.com/00sweetlove?Redirect=Log&logNo=222191678049'"
      ]
     },
     "execution_count": 75,
     "metadata": {},
     "output_type": "execute_result"
    }
   ],
   "source": [
    "df_조정석.href.iloc[0][0]"
   ]
  },
  {
   "cell_type": "code",
   "execution_count": 78,
   "id": "e3cabcf1",
   "metadata": {},
   "outputs": [
    {
     "data": {
      "text/plain": [
       "제목                         하노이 러우 하노이맛집 배틀트립에 나온 염경환 러우식당\n",
       "날짜                                            2021.05.10.\n",
       "내용      이름이 염경환 러우식당이라고 치면 나오는게 너무 웃기면서도 염경환씨 식당인줄.. ㅋ...\n",
       "href    https://blog.naver.com/dladidwn8?Redirect=Log&...\n",
       "본문내용    \\n​​여행하는 동안짠내투어나 배틀트립원나잇푸드트립 등.. 여행프로그램을 섭렵하는 ...\n",
       "Name: 0, dtype: object"
      ]
     },
     "execution_count": 78,
     "metadata": {},
     "output_type": "execute_result"
    }
   ],
   "source": [
    "df_염경환.loc[0]"
   ]
  },
  {
   "cell_type": "code",
   "execution_count": null,
   "id": "58598056",
   "metadata": {},
   "outputs": [],
   "source": []
  }
 ],
 "metadata": {
  "kernelspec": {
   "display_name": "Python 3 (ipykernel)",
   "language": "python",
   "name": "python3"
  },
  "language_info": {
   "codemirror_mode": {
    "name": "ipython",
    "version": 3
   },
   "file_extension": ".py",
   "mimetype": "text/x-python",
   "name": "python",
   "nbconvert_exporter": "python",
   "pygments_lexer": "ipython3",
   "version": "3.9.7"
  }
 },
 "nbformat": 4,
 "nbformat_minor": 5
}
