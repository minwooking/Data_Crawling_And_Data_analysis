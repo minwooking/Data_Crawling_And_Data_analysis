{
 "cells": [
  {
   "cell_type": "markdown",
   "id": "f5250db4-b427-4e84-98e1-cdc403a3880b",
   "metadata": {},
   "source": [
    "# 홀푸드 코리아 뉴스 관련기사 크롤링하기"
   ]
  },
  {
   "cell_type": "code",
   "execution_count": 15,
   "id": "28bd301e-3d4b-4a6d-b8ad-7230838d1b12",
   "metadata": {
    "execution": {
     "iopub.execute_input": "2022-04-13T15:49:40.638751Z",
     "iopub.status.busy": "2022-04-13T15:49:40.638550Z",
     "iopub.status.idle": "2022-04-13T15:49:40.648252Z",
     "shell.execute_reply": "2022-04-13T15:49:40.647707Z",
     "shell.execute_reply.started": "2022-04-13T15:49:40.638729Z"
    },
    "tags": []
   },
   "outputs": [],
   "source": [
    "import pandas as pd\n",
    "import numpy as np\n",
    "import matplotlib.pyplot as plt\n",
    "import seaborn as sns\n",
    "import copy\n",
    "import matplotlib as mpl\n",
    "import datetime\n",
    "from datetime import timedelta\n",
    "# from datetime import datetime, date\n",
    "mpl.rcParams['axes.unicode_minus'] = False\n",
    "plt.rcParams['font.family'] = 'Malgun Gothic'\n",
    "import os\n",
    "import re\n",
    "\n",
    "\n",
    "from bs4 import BeautifulSoup\n",
    "from selenium import webdriver\n",
    "# from webdriver_manager.chrome import ChromeDriverManager\n",
    "import time\n",
    "from time import sleep\n",
    "\n",
    "from urllib.parse import quote\n",
    "from selenium.webdriver.common.keys import Keys\n",
    "from selenium.common.exceptions import ElementNotInteractableException\n",
    "from selenium.common.exceptions import NoSuchElementException\n",
    "import time\n",
    "import pyperclip\n",
    "import urllib.request\n",
    "import requests\n",
    "import urllib.parse \n",
    "from urllib import parse\n",
    "import ssl\n",
    "\n",
    "context = ssl._create_unverified_context()\n"
   ]
  },
  {
   "cell_type": "code",
   "execution_count": 10,
   "id": "2a1e4d10-7b87-407d-b136-f86b08ee6fc6",
   "metadata": {
    "execution": {
     "iopub.execute_input": "2022-04-13T15:47:23.910941Z",
     "iopub.status.busy": "2022-04-13T15:47:23.910527Z",
     "iopub.status.idle": "2022-04-13T15:47:23.919772Z",
     "shell.execute_reply": "2022-04-13T15:47:23.918363Z",
     "shell.execute_reply.started": "2022-04-13T15:47:23.910885Z"
    },
    "tags": []
   },
   "outputs": [
    {
     "data": {
      "text/plain": [
       "datetime.datetime(2022, 4, 14, 0, 47, 23, 912304)"
      ]
     },
     "execution_count": 10,
     "metadata": {},
     "output_type": "execute_result"
    }
   ],
   "source": [
    "from datetime import datetime, timedelta\n",
    "today = datetime.now()          # datetime.today()\n",
    "today"
   ]
  },
  {
   "cell_type": "code",
   "execution_count": 11,
   "id": "2dfdb47f-ce3b-4640-be91-c721222496d7",
   "metadata": {
    "execution": {
     "iopub.execute_input": "2022-04-13T15:47:27.045576Z",
     "iopub.status.busy": "2022-04-13T15:47:27.045230Z",
     "iopub.status.idle": "2022-04-13T15:47:27.051430Z",
     "shell.execute_reply": "2022-04-13T15:47:27.050894Z",
     "shell.execute_reply.started": "2022-04-13T15:47:27.045528Z"
    },
    "tags": []
   },
   "outputs": [
    {
     "data": {
      "text/plain": [
       "'/home/miwoos/WorkSpace/navercafecrawling/홀푸드코리아'"
      ]
     },
     "execution_count": 11,
     "metadata": {},
     "output_type": "execute_result"
    }
   ],
   "source": [
    "pwd"
   ]
  },
  {
   "cell_type": "code",
   "execution_count": 16,
   "id": "bca8fe4f-36e9-4e29-9667-496934413bfa",
   "metadata": {
    "execution": {
     "iopub.execute_input": "2022-04-13T15:49:41.853570Z",
     "iopub.status.busy": "2022-04-13T15:49:41.852802Z",
     "iopub.status.idle": "2022-04-13T15:49:43.068803Z",
     "shell.execute_reply": "2022-04-13T15:49:43.068428Z",
     "shell.execute_reply.started": "2022-04-13T15:49:41.853529Z"
    },
    "tags": []
   },
   "outputs": [
    {
     "name": "stderr",
     "output_type": "stream",
     "text": [
      "\n",
      "\n",
      "====== WebDriver manager ======\n",
      "Current google-chrome version is 100.0.4896\n",
      "Get LATEST chromedriver version for 100.0.4896 google-chrome\n",
      "Driver [/home/miwoos/.wdm/drivers/chromedriver/linux64/100.0.4896.60/chromedriver] found in cache\n",
      "/tmp/ipykernel_418056/2286245328.py:1: DeprecationWarning: executable_path has been deprecated, please pass in a Service object\n",
      "  driver = webdriver.Chrome(ChromeDriverManager().install()) # 리눅스\n"
     ]
    }
   ],
   "source": [
    "driver = webdriver.Chrome(ChromeDriverManager().install()) # 리눅스"
   ]
  },
  {
   "cell_type": "code",
   "execution_count": 17,
   "id": "3a30fdc4-0955-48d4-a9fb-3316d35b3741",
   "metadata": {
    "execution": {
     "iopub.execute_input": "2022-04-13T15:49:44.046743Z",
     "iopub.status.busy": "2022-04-13T15:49:44.046487Z",
     "iopub.status.idle": "2022-04-13T15:49:44.052549Z",
     "shell.execute_reply": "2022-04-13T15:49:44.051485Z",
     "shell.execute_reply.started": "2022-04-13T15:49:44.046721Z"
    },
    "tags": []
   },
   "outputs": [],
   "source": [
    "headers = {\"User-Agent\":\"Mozilla/5.0 (Windows NT 10.0; Win64; x64) AppleWebKit/537.36 (KHTML, like Gecko) Chrome/90.0.4430.93 Safari/537.36\"}"
   ]
  },
  {
   "cell_type": "code",
   "execution_count": 6,
   "id": "7dd43612-7769-468e-bb3e-e2bafdefe4cf",
   "metadata": {
    "execution": {
     "iopub.execute_input": "2022-04-13T12:55:09.646933Z",
     "iopub.status.busy": "2022-04-13T12:55:09.646324Z",
     "iopub.status.idle": "2022-04-13T12:55:09.656093Z",
     "shell.execute_reply": "2022-04-13T12:55:09.654608Z",
     "shell.execute_reply.started": "2022-04-13T12:55:09.646837Z"
    }
   },
   "outputs": [],
   "source": [
    "## 리눅스\n",
    "with open('/home/miwoos/WorkSpace/mykey/Naver_pw.txt') as file: \n",
    "    PASSWORD = file.read()\n",
    "with open('/home/miwoos/WorkSpace/mykey/Naver_ID.txt') as file:\n",
    "    ID = file.read()"
   ]
  },
  {
   "cell_type": "code",
   "execution_count": 18,
   "id": "7844bb41-8f28-4b97-a1f6-2c82996ffe25",
   "metadata": {
    "execution": {
     "iopub.execute_input": "2022-04-13T15:49:46.359903Z",
     "iopub.status.busy": "2022-04-13T15:49:46.359204Z",
     "iopub.status.idle": "2022-04-13T15:49:46.364951Z",
     "shell.execute_reply": "2022-04-13T15:49:46.364305Z",
     "shell.execute_reply.started": "2022-04-13T15:49:46.359844Z"
    },
    "tags": []
   },
   "outputs": [],
   "source": [
    "hallname = ['홀푸드코리아','홀리브','홀핏','제주스']"
   ]
  },
  {
   "cell_type": "code",
   "execution_count": 25,
   "id": "8f6518ca-34b5-4d20-9bf9-b48268c53311",
   "metadata": {
    "execution": {
     "iopub.execute_input": "2022-04-14T00:21:14.913357Z",
     "iopub.status.busy": "2022-04-14T00:21:14.912863Z",
     "iopub.status.idle": "2022-04-14T00:25:56.817794Z",
     "shell.execute_reply": "2022-04-14T00:25:56.817053Z",
     "shell.execute_reply.started": "2022-04-14T00:21:14.913283Z"
    },
    "tags": []
   },
   "outputs": [
    {
     "name": "stderr",
     "output_type": "stream",
     "text": [
      "0it [00:00, ?it/s]\n",
      "\n",
      "====== WebDriver manager ======\n",
      "Current google-chrome version is 100.0.4896\n",
      "Get LATEST chromedriver version for 100.0.4896 google-chrome\n",
      "Driver [/home/miwoos/.wdm/drivers/chromedriver/linux64/100.0.4896.60/chromedriver] found in cache\n",
      "/tmp/ipykernel_418056/440817211.py:6: DeprecationWarning: executable_path has been deprecated, please pass in a Service object\n",
      "  driver = webdriver.Chrome(ChromeDriverManager().install())\n",
      "/tmp/ipykernel_418056/440817211.py:9: DeprecationWarning: find_element_by_tag_name is deprecated. Please use find_element(by=By.TAG_NAME, value=name) instead\n",
      "  body = driver.find_element_by_tag_name('body')\n",
      "1it [01:07, 67.02s/it]\n",
      "\n",
      "====== WebDriver manager ======\n",
      "Current google-chrome version is 100.0.4896\n",
      "Get LATEST chromedriver version for 100.0.4896 google-chrome\n",
      "Driver [/home/miwoos/.wdm/drivers/chromedriver/linux64/100.0.4896.60/chromedriver] found in cache\n",
      "2it [02:18, 69.48s/it]\n",
      "\n",
      "====== WebDriver manager ======\n",
      "Current google-chrome version is 100.0.4896\n",
      "Get LATEST chromedriver version for 100.0.4896 google-chrome\n",
      "Driver [/home/miwoos/.wdm/drivers/chromedriver/linux64/100.0.4896.60/chromedriver] found in cache\n",
      "4it [04:41, 70.47s/it]\n"
     ]
    }
   ],
   "source": [
    "url = []\n",
    "lines = []\n",
    "for i,names in tqdm(enumerate(hallname)):\n",
    "    try:   \n",
    "        url.append(f'https://search.naver.com/search.naver?where=view&sm=tab_jum&query={quote(hallname[i])}')\n",
    "        driver = webdriver.Chrome(ChromeDriverManager().install())\n",
    "        driver.get(url[i])\n",
    "        time.sleep(2)\n",
    "        body = driver.find_element_by_tag_name('body')\n",
    "        for _ in range(50):\n",
    "            body.send_keys(Keys.PAGE_DOWN)\n",
    "            time.sleep(1)\n",
    "            soup = BeautifulSoup(driver.page_source)\n",
    "            lis = soup.select('li.bx._svp_item')\n",
    "            len(lis)\n",
    "        for li in lis:\n",
    "            try:\n",
    "                title = li.select_one('a.api_txt_lines.total_tit._cross_trigger').get_text().strip()\n",
    "                date = li.select_one('.sub_time.sub_txt').get_text().strip()\n",
    "                desc = li.select_one('.api_txt_lines.dsc_txt').get_text().strip()\n",
    "                href = li.select_one('a.api_txt_lines.total_tit._cross_trigger')['href']\n",
    "                name = hallname[i]\n",
    "                lines.append([title,convert_date(date),desc,href,name])\n",
    "            except:\n",
    "                 if li.select_one('a.api_txt_lines.total_tit._cross_trigger').get_text().strip() == None:\n",
    "                        title = '내용이없습니다.'\n",
    "                 if li.select_one('.api_txt_lines.dsc_txt').get_text()==None:\n",
    "                        desc == '내용이없습니다.'\n",
    "    except:\n",
    "        pass"
   ]
  },
  {
   "cell_type": "code",
   "execution_count": 26,
   "id": "a7a0152a-e781-495a-a228-fc1edee97c54",
   "metadata": {
    "execution": {
     "iopub.execute_input": "2022-04-14T00:36:19.918195Z",
     "iopub.status.busy": "2022-04-14T00:36:19.917601Z",
     "iopub.status.idle": "2022-04-14T00:36:19.925161Z",
     "shell.execute_reply": "2022-04-14T00:36:19.924621Z",
     "shell.execute_reply.started": "2022-04-14T00:36:19.918113Z"
    },
    "tags": []
   },
   "outputs": [
    {
     "data": {
      "text/plain": [
       "[]"
      ]
     },
     "execution_count": 26,
     "metadata": {},
     "output_type": "execute_result"
    }
   ],
   "source": [
    "lines"
   ]
  },
  {
   "cell_type": "code",
   "execution_count": 20,
   "id": "3a8f28ee-2a75-4d7e-967a-4078679a1d28",
   "metadata": {
    "execution": {
     "iopub.execute_input": "2022-04-13T15:54:25.265024Z",
     "iopub.status.busy": "2022-04-13T15:54:25.264733Z",
     "iopub.status.idle": "2022-04-13T15:54:25.278073Z",
     "shell.execute_reply": "2022-04-13T15:54:25.277693Z",
     "shell.execute_reply.started": "2022-04-13T15:54:25.264983Z"
    }
   },
   "outputs": [
    {
     "data": {
      "text/html": [
       "<div>\n",
       "<style scoped>\n",
       "    .dataframe tbody tr th:only-of-type {\n",
       "        vertical-align: middle;\n",
       "    }\n",
       "\n",
       "    .dataframe tbody tr th {\n",
       "        vertical-align: top;\n",
       "    }\n",
       "\n",
       "    .dataframe thead th {\n",
       "        text-align: right;\n",
       "    }\n",
       "</style>\n",
       "<table border=\"1\" class=\"dataframe\">\n",
       "  <thead>\n",
       "    <tr style=\"text-align: right;\">\n",
       "      <th></th>\n",
       "      <th>제목</th>\n",
       "      <th>날짜</th>\n",
       "      <th>내용</th>\n",
       "      <th>href</th>\n",
       "      <th>제품명</th>\n",
       "    </tr>\n",
       "  </thead>\n",
       "  <tbody>\n",
       "  </tbody>\n",
       "</table>\n",
       "</div>"
      ],
      "text/plain": [
       "Empty DataFrame\n",
       "Columns: [제목, 날짜, 내용, href, 제품명]\n",
       "Index: []"
      ]
     },
     "execution_count": 20,
     "metadata": {},
     "output_type": "execute_result"
    }
   ],
   "source": [
    "df = pd.DataFrame(lines, columns=['제목','날짜','내용','href','제품명'])\n",
    "df[['제목','날짜','내용','href','제품명']].head()"
   ]
  },
  {
   "cell_type": "code",
   "execution_count": 21,
   "id": "f128ba2c-5bb9-4fad-841d-3059bb9f0d10",
   "metadata": {
    "execution": {
     "iopub.execute_input": "2022-04-13T15:54:25.278837Z",
     "iopub.status.busy": "2022-04-13T15:54:25.278706Z",
     "iopub.status.idle": "2022-04-13T15:54:25.297160Z",
     "shell.execute_reply": "2022-04-13T15:54:25.295711Z",
     "shell.execute_reply.started": "2022-04-13T15:54:25.278824Z"
    }
   },
   "outputs": [
    {
     "data": {
      "text/html": [
       "<div>\n",
       "<style scoped>\n",
       "    .dataframe tbody tr th:only-of-type {\n",
       "        vertical-align: middle;\n",
       "    }\n",
       "\n",
       "    .dataframe tbody tr th {\n",
       "        vertical-align: top;\n",
       "    }\n",
       "\n",
       "    .dataframe thead th {\n",
       "        text-align: right;\n",
       "    }\n",
       "</style>\n",
       "<table border=\"1\" class=\"dataframe\">\n",
       "  <thead>\n",
       "    <tr style=\"text-align: right;\">\n",
       "      <th></th>\n",
       "      <th>제목</th>\n",
       "      <th>날짜</th>\n",
       "      <th>내용</th>\n",
       "      <th>href</th>\n",
       "      <th>제품명</th>\n",
       "    </tr>\n",
       "  </thead>\n",
       "  <tbody>\n",
       "  </tbody>\n",
       "</table>\n",
       "</div>"
      ],
      "text/plain": [
       "Empty DataFrame\n",
       "Columns: [제목, 날짜, 내용, href, 제품명]\n",
       "Index: []"
      ]
     },
     "execution_count": 21,
     "metadata": {},
     "output_type": "execute_result"
    }
   ],
   "source": [
    "df.head(2)"
   ]
  },
  {
   "cell_type": "code",
   "execution_count": 22,
   "id": "089e7edc-a401-4bf1-9501-3ae84a0889da",
   "metadata": {
    "execution": {
     "iopub.execute_input": "2022-04-13T15:54:25.300195Z",
     "iopub.status.busy": "2022-04-13T15:54:25.299788Z",
     "iopub.status.idle": "2022-04-13T15:54:25.305634Z",
     "shell.execute_reply": "2022-04-13T15:54:25.305170Z",
     "shell.execute_reply.started": "2022-04-13T15:54:25.300125Z"
    }
   },
   "outputs": [],
   "source": [
    "df.to_csv('홀푸드코리아.csv',index=False)"
   ]
  },
  {
   "cell_type": "code",
   "execution_count": null,
   "id": "393b66d0-a2b1-4ea5-a121-0e32fd9ef468",
   "metadata": {},
   "outputs": [],
   "source": []
  }
 ],
 "metadata": {
  "kernelspec": {
   "display_name": "Python 3 (ipykernel)",
   "language": "python",
   "name": "python3"
  },
  "language_info": {
   "codemirror_mode": {
    "name": "ipython",
    "version": 3
   },
   "file_extension": ".py",
   "mimetype": "text/x-python",
   "name": "python",
   "nbconvert_exporter": "python",
   "pygments_lexer": "ipython3",
   "version": "3.9.7"
  }
 },
 "nbformat": 4,
 "nbformat_minor": 5
}
