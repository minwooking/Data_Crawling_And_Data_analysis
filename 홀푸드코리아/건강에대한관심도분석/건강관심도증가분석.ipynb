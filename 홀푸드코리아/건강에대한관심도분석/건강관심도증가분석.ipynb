{
 "cells": [
  {
   "cell_type": "code",
   "execution_count": 105,
   "id": "db4b79d7-7406-4224-946c-c1e324154fb8",
   "metadata": {
    "execution": {
     "iopub.execute_input": "2022-04-18T06:11:37.942766Z",
     "iopub.status.busy": "2022-04-18T06:11:37.940429Z",
     "iopub.status.idle": "2022-04-18T06:11:37.947935Z",
     "shell.execute_reply": "2022-04-18T06:11:37.947501Z",
     "shell.execute_reply.started": "2022-04-18T06:11:37.942673Z"
    },
    "tags": []
   },
   "outputs": [],
   "source": [
    "import matplotlib as mpl\n",
    "import matplotlib.pyplot as plt\n",
    "import pandas as pd\n",
    "import numpy as np\n",
    "import copy\n",
    "mpl.rcParams['axes.unicode_minus'] = False\n",
    "plt.rcParams['font.family'] = 'NanumGothicCoding'\n"
   ]
  },
  {
   "cell_type": "code",
   "execution_count": 3,
   "id": "d4579a10-2197-42cc-812d-3c077fe79f0a",
   "metadata": {
    "execution": {
     "iopub.execute_input": "2022-04-18T05:41:57.767021Z",
     "iopub.status.busy": "2022-04-18T05:41:57.766540Z",
     "iopub.status.idle": "2022-04-18T05:41:57.774442Z",
     "shell.execute_reply": "2022-04-18T05:41:57.773088Z",
     "shell.execute_reply.started": "2022-04-18T05:41:57.766936Z"
    },
    "tags": []
   },
   "outputs": [
    {
     "name": "stdout",
     "output_type": "stream",
     "text": [
      "/home/miwoos/WorkSpace/GoogleDrive/Data/내일프로젝트(홀푸드코리아)\n"
     ]
    }
   ],
   "source": [
    "cd ~/WorkSpace/GoogleDrive/Data/내일프로젝트(홀푸드코리아)/"
   ]
  },
  {
   "cell_type": "code",
   "execution_count": 4,
   "id": "d2d21d56-95f8-4579-9b15-1ae3fd78ed49",
   "metadata": {
    "execution": {
     "iopub.execute_input": "2022-04-18T05:41:59.555839Z",
     "iopub.status.busy": "2022-04-18T05:41:59.555591Z",
     "iopub.status.idle": "2022-04-18T05:41:59.680524Z",
     "shell.execute_reply": "2022-04-18T05:41:59.678449Z",
     "shell.execute_reply.started": "2022-04-18T05:41:59.555799Z"
    }
   },
   "outputs": [
    {
     "name": "stdout",
     "output_type": "stream",
     "text": [
      " multiTimeline.csv               제주채소류재배현황.csv\n",
      " 건강기능식품.csv                \u001b[0m\u001b[01;35m조정석.jpeg\u001b[0m\n",
      " 업종별성별카드이용정보.csv      \u001b[01;35m조정석.jpg\u001b[0m\n",
      " \u001b[01;35m염경환.jpg\u001b[0m                      조정석관련데이터.csv\n",
      " 염경환관련데이터.csv            홀푸드코리아.csv\n",
      "\u001b[01;35m'제주스 양배추 관련키워드.png'\u001b[0m\n"
     ]
    }
   ],
   "source": [
    "ls"
   ]
  },
  {
   "cell_type": "code",
   "execution_count": 71,
   "id": "52da32cd-0d9b-49ed-8a49-d3aa3f3720ec",
   "metadata": {
    "execution": {
     "iopub.execute_input": "2022-04-18T06:03:56.032174Z",
     "iopub.status.busy": "2022-04-18T06:03:56.030949Z",
     "iopub.status.idle": "2022-04-18T06:03:56.040366Z",
     "shell.execute_reply": "2022-04-18T06:03:56.039698Z",
     "shell.execute_reply.started": "2022-04-18T06:03:56.032101Z"
    },
    "tags": []
   },
   "outputs": [],
   "source": [
    "df = pd.read_csv('multiTimeline.csv',skiprows=3,header=None)"
   ]
  },
  {
   "cell_type": "code",
   "execution_count": 72,
   "id": "a100daff-1d60-4c49-a812-1caf631e3118",
   "metadata": {
    "execution": {
     "iopub.execute_input": "2022-04-18T06:03:57.287010Z",
     "iopub.status.busy": "2022-04-18T06:03:57.286757Z",
     "iopub.status.idle": "2022-04-18T06:03:57.295137Z",
     "shell.execute_reply": "2022-04-18T06:03:57.294307Z",
     "shell.execute_reply.started": "2022-04-18T06:03:57.286972Z"
    },
    "tags": []
   },
   "outputs": [
    {
     "data": {
      "text/plain": [
       "Int64Index([0, 1], dtype='int64')"
      ]
     },
     "execution_count": 72,
     "metadata": {},
     "output_type": "execute_result"
    }
   ],
   "source": [
    "df.columns"
   ]
  },
  {
   "cell_type": "code",
   "execution_count": 73,
   "id": "07ea1c3b-78b9-4053-af98-514049781a80",
   "metadata": {
    "execution": {
     "iopub.execute_input": "2022-04-18T06:03:58.440544Z",
     "iopub.status.busy": "2022-04-18T06:03:58.440326Z",
     "iopub.status.idle": "2022-04-18T06:03:58.454169Z",
     "shell.execute_reply": "2022-04-18T06:03:58.452960Z",
     "shell.execute_reply.started": "2022-04-18T06:03:58.440527Z"
    },
    "tags": []
   },
   "outputs": [
    {
     "data": {
      "text/html": [
       "<div>\n",
       "<style scoped>\n",
       "    .dataframe tbody tr th:only-of-type {\n",
       "        vertical-align: middle;\n",
       "    }\n",
       "\n",
       "    .dataframe tbody tr th {\n",
       "        vertical-align: top;\n",
       "    }\n",
       "\n",
       "    .dataframe thead th {\n",
       "        text-align: right;\n",
       "    }\n",
       "</style>\n",
       "<table border=\"1\" class=\"dataframe\">\n",
       "  <thead>\n",
       "    <tr style=\"text-align: right;\">\n",
       "      <th></th>\n",
       "      <th>0</th>\n",
       "      <th>1</th>\n",
       "    </tr>\n",
       "  </thead>\n",
       "  <tbody>\n",
       "    <tr>\n",
       "      <th>0</th>\n",
       "      <td>2017-04-23</td>\n",
       "      <td>43</td>\n",
       "    </tr>\n",
       "    <tr>\n",
       "      <th>1</th>\n",
       "      <td>2017-04-30</td>\n",
       "      <td>31</td>\n",
       "    </tr>\n",
       "  </tbody>\n",
       "</table>\n",
       "</div>"
      ],
      "text/plain": [
       "            0   1\n",
       "0  2017-04-23  43\n",
       "1  2017-04-30  31"
      ]
     },
     "execution_count": 73,
     "metadata": {},
     "output_type": "execute_result"
    }
   ],
   "source": [
    "df.head(2)"
   ]
  },
  {
   "cell_type": "code",
   "execution_count": 29,
   "id": "1285cf00-9078-4453-801f-ad96f664b1d8",
   "metadata": {
    "execution": {
     "iopub.execute_input": "2022-04-18T05:47:03.624126Z",
     "iopub.status.busy": "2022-04-18T05:47:03.623700Z",
     "iopub.status.idle": "2022-04-18T05:47:03.632615Z",
     "shell.execute_reply": "2022-04-18T05:47:03.631996Z",
     "shell.execute_reply.started": "2022-04-18T05:47:03.624068Z"
    },
    "tags": []
   },
   "outputs": [
    {
     "data": {
      "text/plain": [
       "'2017-04'"
      ]
     },
     "execution_count": 29,
     "metadata": {},
     "output_type": "execute_result"
    }
   ],
   "source": []
  },
  {
   "cell_type": "code",
   "execution_count": 36,
   "id": "16d7a0b1-49bb-4363-b2d2-1b6d8b1da305",
   "metadata": {
    "execution": {
     "iopub.execute_input": "2022-04-18T05:48:14.286036Z",
     "iopub.status.busy": "2022-04-18T05:48:14.285834Z",
     "iopub.status.idle": "2022-04-18T05:48:14.294652Z",
     "shell.execute_reply": "2022-04-18T05:48:14.293817Z",
     "shell.execute_reply.started": "2022-04-18T05:48:14.285996Z"
    },
    "tags": []
   },
   "outputs": [],
   "source": [
    "df['시간'] = df.주.apply(lambda x: x[:7])"
   ]
  },
  {
   "cell_type": "code",
   "execution_count": 43,
   "id": "eafbf7a4-f6a2-472e-a193-c22b559032f6",
   "metadata": {
    "execution": {
     "iopub.execute_input": "2022-04-18T05:49:37.044731Z",
     "iopub.status.busy": "2022-04-18T05:49:37.044568Z",
     "iopub.status.idle": "2022-04-18T05:49:37.052941Z",
     "shell.execute_reply": "2022-04-18T05:49:37.052146Z",
     "shell.execute_reply.started": "2022-04-18T05:49:37.044716Z"
    },
    "tags": []
   },
   "outputs": [],
   "source": [
    "df.시간 = df.시간.apply(lambda  x:int(x.replace('-','')))"
   ]
  },
  {
   "cell_type": "code",
   "execution_count": 94,
   "id": "d9ffbe48-981f-48d6-81f2-7f9c37825981",
   "metadata": {
    "execution": {
     "iopub.execute_input": "2022-04-18T06:09:38.224396Z",
     "iopub.status.busy": "2022-04-18T06:09:38.224180Z",
     "iopub.status.idle": "2022-04-18T06:09:38.231526Z",
     "shell.execute_reply": "2022-04-18T06:09:38.231149Z",
     "shell.execute_reply.started": "2022-04-18T06:09:38.224357Z"
    },
    "tags": []
   },
   "outputs": [],
   "source": [
    "df['년'] = df[0].apply(lambda x:x[:4])"
   ]
  },
  {
   "cell_type": "code",
   "execution_count": 83,
   "id": "e476654f-0079-4303-a048-606cc40137fe",
   "metadata": {
    "execution": {
     "iopub.execute_input": "2022-04-18T06:07:56.496637Z",
     "iopub.status.busy": "2022-04-18T06:07:56.495813Z",
     "iopub.status.idle": "2022-04-18T06:07:56.502227Z",
     "shell.execute_reply": "2022-04-18T06:07:56.500737Z",
     "shell.execute_reply.started": "2022-04-18T06:07:56.496597Z"
    }
   },
   "outputs": [],
   "source": [
    "df.rename(columns={1:'조회수'},inplace=True)"
   ]
  },
  {
   "cell_type": "code",
   "execution_count": 114,
   "id": "23d9dd6b-352f-4184-806b-e6904267340f",
   "metadata": {
    "execution": {
     "iopub.execute_input": "2022-04-18T06:14:42.198607Z",
     "iopub.status.busy": "2022-04-18T06:14:42.198388Z",
     "iopub.status.idle": "2022-04-18T06:14:47.579548Z",
     "shell.execute_reply": "2022-04-18T06:14:47.578999Z",
     "shell.execute_reply.started": "2022-04-18T06:14:42.198562Z"
    },
    "tags": []
   },
   "outputs": [
    {
     "data": {
      "image/png": "[encoded data removed]",
      "text/plain": [
       "<Figure size 864x576 with 1 Axes>"
      ]
     },
     "metadata": {
      "needs_background": "light"
     },
     "output_type": "display_data"
    }
   ],
   "source": [
    "plt.figure(figsize=(12,8))\n",
    "df.groupby([df.년월]).조회수.sum().plot()\n",
    "plt.grid()\n",
    "plt.title('건강관심도증가율')\n",
    "plt.ylabel('건수')\n",
    "plt.savefig('건강관심도증가율.png',dpi=300)"
   ]
  },
  {
   "cell_type": "code",
   "execution_count": 112,
   "id": "9e498624-3258-4b18-96e9-73a648482652",
   "metadata": {
    "execution": {
     "iopub.execute_input": "2022-04-18T06:13:40.694009Z",
     "iopub.status.busy": "2022-04-18T06:13:40.693802Z",
     "iopub.status.idle": "2022-04-18T06:13:40.821995Z",
     "shell.execute_reply": "2022-04-18T06:13:40.821006Z",
     "shell.execute_reply.started": "2022-04-18T06:13:40.693966Z"
    }
   },
   "outputs": [
    {
     "name": "stdout",
     "output_type": "stream",
     "text": [
      " multiTimeline.csv               제주채소류재배현황.csv\n",
      " 건강기능식품.csv                \u001b[0m\u001b[01;35m조정석.jpeg\u001b[0m\n",
      " 업종별성별카드이용정보.csv      \u001b[01;35m조정석.jpg\u001b[0m\n",
      " \u001b[01;35m염경환.jpg\u001b[0m                      조정석관련데이터.csv\n",
      " 염경환관련데이터.csv            홀푸드코리아.csv\n",
      "\u001b[01;35m'제주스 양배추 관련키워드.png'\u001b[0m\n"
     ]
    }
   ],
   "source": [
    "ls"
   ]
  },
  {
   "cell_type": "code",
   "execution_count": 103,
   "id": "583db4d0-5b76-4a96-962a-b58b861b5af2",
   "metadata": {
    "execution": {
     "iopub.execute_input": "2022-04-18T06:11:04.977110Z",
     "iopub.status.busy": "2022-04-18T06:11:04.976651Z",
     "iopub.status.idle": "2022-04-18T06:11:05.070463Z",
     "shell.execute_reply": "2022-04-18T06:11:05.070000Z",
     "shell.execute_reply.started": "2022-04-18T06:11:04.977042Z"
    },
    "tags": []
   },
   "outputs": [
    {
     "data": {
      "text/plain": [
       "<AxesSubplot:xlabel='년'>"
      ]
     },
     "execution_count": 103,
     "metadata": {},
     "output_type": "execute_result"
    },
    {
     "name": "stderr",
     "output_type": "stream",
     "text": [
      "/home/miwoos/anaconda3/lib/python3.9/site-packages/matplotlib/backends/backend_agg.py:240: RuntimeWarning: Glyph 45380 missing from current font.\n",
      "  font.set_text(s, 0.0, flags=flags)\n",
      "/home/miwoos/anaconda3/lib/python3.9/site-packages/matplotlib/backends/backend_agg.py:203: RuntimeWarning: Glyph 45380 missing from current font.\n",
      "  font.set_text(s, 0, flags=flags)\n"
     ]
    },
    {
     "data": {
      "image/png": "[encoded data removed]",
      "text/plain": [
       "<Figure size 432x288 with 1 Axes>"
      ]
     },
     "metadata": {
      "needs_background": "light"
     },
     "output_type": "display_data"
    }
   ],
   "source": [
    "df.groupby([df.년]).조회수.sum().plot()"
   ]
  },
  {
   "cell_type": "code",
   "execution_count": 56,
   "id": "9b52e891-5fe7-4874-8031-ed3cc37990f8",
   "metadata": {
    "execution": {
     "iopub.execute_input": "2022-04-18T05:59:14.039296Z",
     "iopub.status.busy": "2022-04-18T05:59:14.039032Z",
     "iopub.status.idle": "2022-04-18T05:59:14.043802Z",
     "shell.execute_reply": "2022-04-18T05:59:14.043312Z",
     "shell.execute_reply.started": "2022-04-18T05:59:14.039260Z"
    },
    "tags": []
   },
   "outputs": [],
   "source": [
    "df['년도'] = df.주.apply(lambda x: int(x[:4]))"
   ]
  },
  {
   "cell_type": "code",
   "execution_count": 57,
   "id": "fa71145d-0f8b-49e9-9ab7-1e2bcb8b33e9",
   "metadata": {
    "execution": {
     "iopub.execute_input": "2022-04-18T05:59:15.451346Z",
     "iopub.status.busy": "2022-04-18T05:59:15.451150Z",
     "iopub.status.idle": "2022-04-18T05:59:15.458606Z",
     "shell.execute_reply": "2022-04-18T05:59:15.457925Z",
     "shell.execute_reply.started": "2022-04-18T05:59:15.451301Z"
    },
    "tags": []
   },
   "outputs": [
    {
     "data": {
      "text/plain": [
       "2018    52\n",
       "2019    52\n",
       "2020    52\n",
       "2021    52\n",
       "2017    37\n",
       "2022    15\n",
       "Name: 년도, dtype: int64"
      ]
     },
     "execution_count": 57,
     "metadata": {},
     "output_type": "execute_result"
    }
   ],
   "source": [
    "df.년도.value_counts()"
   ]
  },
  {
   "cell_type": "code",
   "execution_count": 65,
   "id": "664f56e9-802e-4972-8993-6354e408bd3a",
   "metadata": {
    "execution": {
     "iopub.execute_input": "2022-04-18T06:00:03.623569Z",
     "iopub.status.busy": "2022-04-18T06:00:03.622135Z",
     "iopub.status.idle": "2022-04-18T06:00:03.716723Z",
     "shell.execute_reply": "2022-04-18T06:00:03.716039Z",
     "shell.execute_reply.started": "2022-04-18T06:00:03.623488Z"
    },
    "tags": []
   },
   "outputs": [
    {
     "data": {
      "text/plain": [
       "<AxesSubplot:>"
      ]
     },
     "execution_count": 65,
     "metadata": {},
     "output_type": "execute_result"
    },
    {
     "data": {
      "image/png": "[encoded data removed]",
      "text/plain": [
       "<Figure size 432x288 with 1 Axes>"
      ]
     },
     "metadata": {
      "needs_background": "light"
     },
     "output_type": "display_data"
    }
   ],
   "source": [
    "df.년도.value_counts().plot.bar()"
   ]
  },
  {
   "cell_type": "code",
   "execution_count": null,
   "id": "5f2d408e-a0f3-4316-a8bd-99ca61c1b9f7",
   "metadata": {
    "execution": {
     "iopub.execute_input": "2022-04-18T06:03:32.251967Z",
     "iopub.status.busy": "2022-04-18T06:03:32.251540Z",
     "iopub.status.idle": "2022-04-18T06:03:32.258860Z",
     "shell.execute_reply": "2022-04-18T06:03:32.257709Z",
     "shell.execute_reply.started": "2022-04-18T06:03:32.251893Z"
    },
    "tags": []
   },
   "outputs": [],
   "source": [
    "df.groupby[[df.년도,df['건강: (대한민국)']]"
   ]
  }
 ],
 "metadata": {
  "kernelspec": {
   "display_name": "Python 3 (ipykernel)",
   "language": "python",
   "name": "python3"
  },
  "language_info": {
   "codemirror_mode": {
    "name": "ipython",
    "version": 3
   },
   "file_extension": ".py",
   "mimetype": "text/x-python",
   "name": "python",
   "nbconvert_exporter": "python",
   "pygments_lexer": "ipython3",
   "version": "3.9.7"
  }
 },
 "nbformat": 4,
 "nbformat_minor": 5
}
